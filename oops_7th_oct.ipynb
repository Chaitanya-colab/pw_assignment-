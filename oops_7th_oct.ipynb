{
  "cells": [
    {
      "cell_type": "markdown",
      "source": [
        "# Problems"
      ],
      "metadata": {
        "id": "QjJtHF5iaUQB"
      }
    },
    {
      "cell_type": "markdown",
      "source": [
        "Problem 1: Bank Account Create a class representing a bank account with attributes like account number, account holder name, and balance. Implement methods to deposit and withdraw money from the account."
      ],
      "metadata": {
        "id": "tmS3FSRsaccB"
      }
    },
    {
      "cell_type": "code",
      "source": [
        "class BankAccount:\n",
        "    def __init__(self, acc_num, acc_holder_name,balance=0):\n",
        "        self.account_number = acc_num\n",
        "        self.acc_holder_name = acc_holder_name\n",
        "        self.balance = balance\n",
        "\n",
        "    def deposit(self, amount):\n",
        "        if amount > 0:\n",
        "            self.balance += amount\n",
        "            print(f\"Deposited ₹{amount}. New balance:₹{self.balance}\")\n",
        "        else:\n",
        "            print(\"invalid deposit amount.\")\n",
        "\n",
        "    def withdraw(self, amount):\n",
        "        if 0 < amount <= self.balance:\n",
        "            self.balance -= amount\n",
        "            print(f\"withdrew ₹ {amount}.new balance:₹{self.balance}\")\n",
        "        else:\n",
        "            print(\"insufficient funds or invalid withdrawal amount.\")\n",
        "\n",
        "def __str__(self):\n",
        "    return f\"account number: {self.account_number},account holder:{self.acc_holder_name}, Balance: ₹{self.balance}\"\n",
        "\n",
        "account = BankAccount(\"123456789\",\"Omprakash\",1000)\n",
        "print(account)\n",
        "account.deposit(500)\n",
        "account.withdraw(200)\n",
        "account.withdraw(2000)\n"
      ],
      "metadata": {
        "id": "ixo-mCBla0El",
        "outputId": "d4c6657f-f6ab-492b-eb2f-82b9dced9cfd",
        "colab": {
          "base_uri": "https://localhost:8080/"
        }
      },
      "execution_count": null,
      "outputs": [
        {
          "output_type": "stream",
          "name": "stdout",
          "text": [
            "<__main__.BankAccount object at 0x7fed199457e0>\n",
            "Deposited ₹500. New balance:₹1500\n",
            "withdrew ₹ 200.new balance:₹1300\n",
            "insufficient funds or invalid withdrawal amount.\n"
          ]
        }
      ]
    },
    {
      "cell_type": "markdown",
      "source": [
        "Problem 2: Employee Management Create a class representing an employee with attributes like employee ID, name, and salary. Implement methods to calculate the yearly bonus and display employee details"
      ],
      "metadata": {
        "id": "DmgGxGf_aeIp"
      }
    },
    {
      "cell_type": "code",
      "source": [
        "class Employee:\n",
        "    def __init__(self,employee_id,name,salary):\n",
        "        self.employee_id = employee_id\n",
        "        self.name = name\n",
        "        self.salary = salary\n",
        "    def calculate_yearly_bonus(self, bonus_percentage):\n",
        "        if 0 <= bonus_percentage <= 100:\n",
        "            bonus_amount = (bonus_percentage / 100) *self.salary\n",
        "            return bonus_amount\n",
        "        else:\n",
        "            print(\"invalid bonus percentage.\")\n",
        "            return 0\n",
        "    def display_employee_details(self):\n",
        "        print(f\"Employee ID: {self.employee_id}\")\n",
        "        print(f\"Name: {self.name}\")\n",
        "        print(f\"Salary: ₹{self.salary}\")\n",
        "\n",
        "employee1 = Employee(1001,\"Omprakash\", 50000)\n",
        "employee1.display_employee_details()\n",
        "bonus_percentage = 10\n",
        "yearly_bonus = employee1.calculate_yearly_bonus(bonus_percentage)\n",
        "print(f\"yearly bonus: ₹{yearly_bonus}\")"
      ],
      "metadata": {
        "id": "H4q3G6OidEWa",
        "outputId": "d8bb32bd-2556-4351-dbe6-f1c71f165c81",
        "colab": {
          "base_uri": "https://localhost:8080/"
        }
      },
      "execution_count": null,
      "outputs": [
        {
          "output_type": "stream",
          "name": "stdout",
          "text": [
            "Employee ID: 1001\n",
            "Name: Omprakash\n",
            "Salary: ₹50000\n",
            "yearly bonus: ₹5000.0\n"
          ]
        }
      ]
    },
    {
      "cell_type": "markdown",
      "source": [
        "Problem 3: Vehicle Rental Create a class representing a vehicle rental system. Implement methods to rent a vehicle, return a vehicle, and display available vehicles."
      ],
      "metadata": {
        "id": "5aCsWeQQafL-"
      }
    },
    {
      "cell_type": "code",
      "source": [
        "class VehicleRental:\n",
        "    def __init__(self):\n",
        "        self.available_vehicles = []\n",
        "        self.rented_vehicles = []\n",
        "\n",
        "    def rent_vehicle(self, vehicle):\n",
        "        if vehicle in self.available_vehicles:\n",
        "            self.available_vehicles.remove(vehicle)\n",
        "            self.rented_vehicles.append(vehicle)\n",
        "            print(f\"{vehicle} has been rented.\")\n",
        "        else:\n",
        "            print(f\"{vehicle} is not available for rental.\")\n",
        "\n",
        "    def return_vehicle(self, vehicle):\n",
        "        if vehicle in self.rented_vehicles:\n",
        "            self.rented_vehicles.remove(vehicle)\n",
        "            self.available_vehicles.append(vehicle)\n",
        "            print(f\"{vehicle} has been returned.\")\n",
        "        else:\n",
        "            print(f\"{vehicle} is not currently rented.\")\n",
        "\n",
        "    def display_available_vehicles(self):\n",
        "        print(\"Available vehicles:\")\n",
        "        for vehicle in self.available_vehicles:\n",
        "            print(vehicle)\n",
        "\n",
        "\n",
        "rental_system = VehicleRental()\n",
        "rental_system.available_vehicles = [\"car 1\", \"car 2\", \"car 3\"]\n",
        "rental_system.rent_vehicle(\"car 1\")\n",
        "rental_system.return_vehicle(\"car 2\")\n",
        "rental_system.display_available_vehicles()"
      ],
      "metadata": {
        "id": "2guEjwNTeEnY",
        "outputId": "b43d71a0-d19f-47c1-d7a3-f09bede43f75",
        "colab": {
          "base_uri": "https://localhost:8080/"
        }
      },
      "execution_count": null,
      "outputs": [
        {
          "output_type": "stream",
          "name": "stdout",
          "text": [
            "car 1 has been rented.\n",
            "car 2 is not currently rented.\n",
            "Available vehicles:\n",
            "car 2\n",
            "car 3\n"
          ]
        }
      ]
    },
    {
      "cell_type": "markdown",
      "source": [
        "Problem 4: Library Catalog Create classes representing a library and a book. Implement methods to add books to the library, borrow books, and display available books."
      ],
      "metadata": {
        "id": "MK0MiY4aafIk"
      }
    },
    {
      "cell_type": "code",
      "source": [
        "class Book:\n",
        "    def __init__(self, title, author, is_borrowed=False):\n",
        "        self.title = title\n",
        "        self.author = author\n",
        "        self.is_borrowed = is_borrowed\n",
        "\n",
        "    def borrow(self):\n",
        "        self.is_borrowed = True\n",
        "\n",
        "    def return_book(self):\n",
        "        self.is_borrowed = False\n",
        "\n",
        "    def __str__(self):\n",
        "        return f\"{self.title} by {self.author} ({'borrowed' if self.is_borrowed else 'available'})\"\n",
        "\n",
        "\n",
        "class Library:\n",
        "    def __init__(self):\n",
        "        self.books = []\n",
        "\n",
        "    def add_book(self, book):\n",
        "        self.books.append(book)\n",
        "\n",
        "    def borrow_book(self, title):\n",
        "        for book in self.books:\n",
        "            if book.title == title and not book.is_borrowed:\n",
        "                book.borrow()\n",
        "                print(f\"Borrowed: {book}\")\n",
        "                return\n",
        "        print(f\"Sorry,'{title}'is not available for borrowing.\")\n",
        "\n",
        "    def return_book(self, title):\n",
        "        for book in self.books:\n",
        "            if book.title == title and book.is_borrowed:\n",
        "                book.return_book()\n",
        "                print(f\"Returned: {book}\")\n",
        "                return\n",
        "        print(f\"Sorry, '{title}' is not currently borrowed.\")\n",
        "\n",
        "    def available_books(self):\n",
        "        print(\"Available books:\")\n",
        "        for book in self.books:\n",
        "            if not book.is_borrowed:\n",
        "                print(book)\n",
        "library = Library()\n",
        "library.add_book(Book(\"Don Quixote\",\"Miguel de Cervantes\"))\n",
        "library.add_book(Book(\"Moby-Dick\",\"Herman Melville\"))\n",
        "library.add_book(Book(\"A Suitable Boy\", \" Vikram Seth\", True))\n",
        "library.borrow_book(\"Pride and Prejudice\")\n",
        "library.available_books()\n"
      ],
      "metadata": {
        "id": "MpMrlW4WhuH4",
        "outputId": "bcc43aad-79cc-4488-8653-0cef20abbfff",
        "colab": {
          "base_uri": "https://localhost:8080/"
        }
      },
      "execution_count": null,
      "outputs": [
        {
          "output_type": "stream",
          "name": "stdout",
          "text": [
            "Sorry,'Pride and Prejudice'is not available for borrowing.\n",
            "Available books:\n",
            "Don Quixote by Miguel de Cervantes (available)\n",
            "Moby-Dick by Herman Melville (available)\n"
          ]
        }
      ]
    },
    {
      "cell_type": "markdown",
      "source": [
        "Problem 5: Product Inventory Create classes representing a product and an inventory system. Implement methods to add products to the inventory, update product quantity, and display available products."
      ],
      "metadata": {
        "id": "SQEXKX2uafFL"
      }
    },
    {
      "cell_type": "code",
      "source": [
        "class Product:\n",
        "    def __init__(self, name, price, quantity):\n",
        "        self.name = name\n",
        "        self.price = price\n",
        "        self.quantity = quantity\n",
        "\n",
        "    def __str__(self):\n",
        "        return f\"{self.name} (Price: ₹{self.price:.2f}, Quantity: {self.quantity})\"\n",
        "\n",
        "\n",
        "class Inventory:\n",
        "\n",
        "    def __init__(self):\n",
        "        self.products = {}\n",
        "\n",
        "    def add_product(self, product):\n",
        "\n",
        "        if product.name in self.products:\n",
        "            self.products[product.name].quantity += product.quantity\n",
        "            print(f\"Product '{product.name}' already exists. Updated quantity.\")\n",
        "        else:\n",
        "            self.products[product.name] = product\n",
        "            print(f\"Added product: {product}\")\n",
        "\n",
        "    def update_quantity(self, name, new_quantity):\n",
        "        if name in self.products:\n",
        "            self.products[name].quantity = new_quantity\n",
        "            print(f\"Updated quantity of '{name}' to {new_quantity}\")\n",
        "        else:\n",
        "            print(f\"Product '{name}' not found in inventory.\")\n",
        "\n",
        "    def display_available_products(self):\n",
        "        if self.products:\n",
        "            print(\"Available products:\")\n",
        "            for product in self.products.values():\n",
        "                print(product)\n",
        "        else:\n",
        "            print(\"Inventory is empty.\")\n",
        "inventory = Inventory()\n",
        "inventory.add_product(Product(\"t-shirt\",400,10))\n",
        "inventory.add_product(Product(\"coffee mug\",500, 5))\n",
        "inventory.update_quantity(\"coffee mug\",2)\n",
        "inventory.display_available_products()\n"
      ],
      "metadata": {
        "id": "uwX851TOjDMb",
        "outputId": "b5adfc7a-1eb9-42f5-e5ac-a29879231db5",
        "colab": {
          "base_uri": "https://localhost:8080/"
        }
      },
      "execution_count": null,
      "outputs": [
        {
          "output_type": "stream",
          "name": "stdout",
          "text": [
            "Added product: t-shirt (Price: ₹400.00, Quantity: 10)\n",
            "Added product: coffee mug (Price: ₹500.00, Quantity: 5)\n",
            "Updated quantity of 'coffee mug' to 2\n",
            "Available products:\n",
            "t-shirt (Price: ₹400.00, Quantity: 10)\n",
            "coffee mug (Price: ₹500.00, Quantity: 2)\n"
          ]
        }
      ]
    },
    {
      "cell_type": "markdown",
      "source": [
        "Problem 6: Shape Calculation Create a class representing a shape with attributes like length, width, and height. Implement methods to calculate the area and perimeter of the shape.\n"
      ],
      "metadata": {
        "id": "vWG2Wd-GafCT"
      }
    },
    {
      "cell_type": "code",
      "source": [
        "class Shape:\n",
        "\n",
        "    def __init__(self, length=0, width=0, height=0):\n",
        "\n",
        "        self.length = length\n",
        "        self.width = width\n",
        "        self.height = height\n",
        "\n",
        "    def calculate_area(self):\n",
        "\n",
        "        raise NotImplementedError(\"Area calculation not implemented\")\n",
        "\n",
        "    def calculate_perimeter(self):\n",
        "\n",
        "        raise NotImplementedError(\"Perimeter calculation not implemented \")\n",
        "\n",
        "\n",
        "class Rectangle(Shape):\n",
        "\n",
        "    def __init__(self, length, width):\n",
        "\n",
        "        super().__init__(length, width)\n",
        "\n",
        "    def calculate_area(self):\n",
        "\n",
        "        return self.length * self.width\n",
        "\n",
        "    def calculate_perimeter(self):\n",
        "\n",
        "        return 2 * (self.length + self.width)\n",
        "\n",
        "\n",
        "rectangle = Rectangle(5, 4)\n",
        "print(\"area\",rectangle.calculate_area())\n",
        "print(\"perimeter\",rectangle.calculate_perimeter())"
      ],
      "metadata": {
        "id": "TWq39pV7kHO-",
        "outputId": "da15130e-9d81-4aa0-b18b-c07a53e3970b",
        "colab": {
          "base_uri": "https://localhost:8080/"
        }
      },
      "execution_count": null,
      "outputs": [
        {
          "output_type": "stream",
          "name": "stdout",
          "text": [
            "area 20\n",
            "perimeter 18\n"
          ]
        }
      ]
    },
    {
      "cell_type": "markdown",
      "source": [
        "Problem 7: Student Management Create a class representing a student with attributes like student ID, name, and grades. Implement methods to calculate the average grade and display student details."
      ],
      "metadata": {
        "id": "m_npier_ae_R"
      }
    },
    {
      "cell_type": "code",
      "source": [
        "class Student:\n",
        "\n",
        "    def __init__(self, student_id, name, grades):\n",
        "\n",
        "        self.student_id = student_id\n",
        "        self.name = name\n",
        "        self.grades = grades\n",
        "\n",
        "    def average_grade(self):\n",
        "\n",
        "        if not self.grades:\n",
        "            return None\n",
        "        return sum(self.grades) / len(self.grades)\n",
        "\n",
        "    def display_details(self):\n",
        "\n",
        "        average_grade = self.average_grade()\n",
        "        print(f\"Student ID: {self.student_id}\")\n",
        "        print(f\"Name: {self.name}\")\n",
        "        if average_grade is not None:\n",
        "            print(f\"average Grade: {average_grade:.2f}\")\n",
        "        else:\n",
        "            print(\"no grades available.\")\n",
        "\n",
        "student1 = Student(1234, \"mohit \", [85,90,78])\n",
        "student2 = Student(5678, \"rohit\", [])\n",
        "student1.display_details()\n",
        "print(\"\\n\")\n",
        "student2.display_details()\n"
      ],
      "metadata": {
        "id": "3KUTvsHlkpkh",
        "outputId": "2b90b921-5ee4-4f29-8c44-9c7410c67ac2",
        "colab": {
          "base_uri": "https://localhost:8080/"
        }
      },
      "execution_count": null,
      "outputs": [
        {
          "output_type": "stream",
          "name": "stdout",
          "text": [
            "Student ID: 1234\n",
            "Name: mohit \n",
            "average Grade: 84.33\n",
            "\n",
            "\n",
            "Student ID: 5678\n",
            "Name: rohit\n",
            "no grades available.\n"
          ]
        }
      ]
    },
    {
      "cell_type": "markdown",
      "source": [
        "Problem 8: Email Management Create a class representing an email with attributes like sender, recipient, and subject. Implement methods to send an email and display email details."
      ],
      "metadata": {
        "id": "zwzTsZrAae7J"
      }
    },
    {
      "cell_type": "code",
      "source": [
        "class Email:\n",
        "\n",
        "    def __init__(self, sender, recipient, subject, body):\n",
        "\n",
        "        self.sender = sender\n",
        "        self.recipient = recipient\n",
        "        self.subject = subject\n",
        "        self.body = body\n",
        "\n",
        "    def display_details(self):\n",
        "\n",
        "        print(f\"From: {self.sender}\")\n",
        "        print(f\"to: {self.recipient}\")\n",
        "        print(f\"subject: {self.subject}\")\n",
        "        print(f\"\\nBody:\\n{self.body}\")\n",
        "\n",
        "    def send(self):\n",
        "\n",
        "        print(f\"Simulating sending email{self.subject} to {self.recipient}\")\n",
        "\n",
        "email = Email(\"Omprakash@gmail.com\", \"sahilash@321.com\", \"Meeting Reminder\",\n",
        "             \" reminder meeting at 2 PM today.\")\n",
        "\n",
        "email.display_details()\n",
        "email.send()"
      ],
      "metadata": {
        "id": "n6vZb9UDmM1B",
        "outputId": "3dab48c1-478f-4580-ab3b-dbbd70dd0ea4",
        "colab": {
          "base_uri": "https://localhost:8080/"
        }
      },
      "execution_count": null,
      "outputs": [
        {
          "output_type": "stream",
          "name": "stdout",
          "text": [
            "From: Omprakash@gmail.com\n",
            "to: sahilash@321.com\n",
            "subject: Meeting Reminder\n",
            "\n",
            "Body:\n",
            " reminder meeting at 2 PM today.\n",
            "Simulating sending emailMeeting Reminder to sahilash@321.com\n"
          ]
        }
      ]
    },
    {
      "cell_type": "markdown",
      "source": [
        "Problem 9: Social Media Profile Create a class representing a social media profile with attributes like username and posts. Implement methods to add posts, display posts, and search for posts by keyword."
      ],
      "metadata": {
        "id": "oCezp8sTae4x"
      }
    },
    {
      "cell_type": "code",
      "source": [
        "class SocialMediaProfile:\n",
        "    def __init__(self, username):\n",
        "        self.username = username\n",
        "        self.posts = []\n",
        "\n",
        "    def add_post(self, content):\n",
        "        self.posts.append(content)\n",
        "        print(f\"new post added to {self.username}'s profile.\")\n",
        "\n",
        "    def display_posts(self):\n",
        "        print(f\"posts by {self.username}:\")\n",
        "        if self.posts:\n",
        "            for i, post in enumerate(self.posts, start=1):\n",
        "                print(f\"{i}. {post}\")\n",
        "        else:\n",
        "            print(\"no posts available.\")\n",
        "\n",
        "    def search_posts(self, keyword):\n",
        "        found_posts = [post for post in self.posts if keyword in post]\n",
        "        if found_posts:\n",
        "            print(f\"posts containing'{keyword}':\")\n",
        "            for i, post in enumerate(found_posts, start=1):\n",
        "                print(f\"{i}. {post}\")\n",
        "        else:\n",
        "            print(f\"no posts containing'{keyword}'found.\")\n",
        "\n",
        "profile = SocialMediaProfile(\"nala boy\")\n",
        "\n",
        "profile.add_post(\"please give me some work\")\n",
        "profile.display_posts()\n",
        "profile.search_posts(\"pokemon\")\n"
      ],
      "metadata": {
        "id": "xYmthhabm4FT",
        "outputId": "4ff53406-9bc0-4063-8a18-139eb1422922",
        "colab": {
          "base_uri": "https://localhost:8080/"
        }
      },
      "execution_count": null,
      "outputs": [
        {
          "output_type": "stream",
          "name": "stdout",
          "text": [
            "new post added to nala boy's profile.\n",
            "posts by nala boy:\n",
            "1. please give me some work\n",
            "no posts containing'pokemon'found.\n"
          ]
        }
      ]
    },
    {
      "cell_type": "markdown",
      "source": [
        "Problem 10: ToDo List Create a class representing a ToDo list with attributes like tasks and due dates. Implement methods to add tasks, mark tasks as completed, and display pending tasks."
      ],
      "metadata": {
        "id": "GtTjyRgeaedC"
      }
    },
    {
      "cell_type": "code",
      "source": [
        "class ToDoList:\n",
        "    def __init__(self):\n",
        "        self.tasks = []\n",
        "\n",
        "    def add_task(self, task):\n",
        "        self.tasks.append({\"task\":task,\"completed\":False})\n",
        "\n",
        "    def mark_task_completed(self, task):\n",
        "        for t in self.tasks:\n",
        "            if t[\"task\"] == task:\n",
        "                t[\"completed\"] = True\n",
        "                break\n",
        "\n",
        "    def display_pending_tasks(self):\n",
        "        pending_tasks = [t[\"task\"] for t in self.tasks if not t[\"completed\"]]\n",
        "        print(\"Pending\")\n",
        "        for task in pending_tasks:\n",
        "            print(task)\n",
        "\n",
        "todo_list = ToDoList()\n",
        "todo_list.add_task(\"eating food\")\n",
        "todo_list.add_task(\"eating food again after eating food\")\n",
        "todo_list.mark_task_completed(\"eating food\")\n",
        "todo_list.display_pending_tasks()"
      ],
      "metadata": {
        "id": "vpwSlCj6nxhh",
        "outputId": "c9b274ae-8fc1-4d35-cfdb-1c5edd214cf6",
        "colab": {
          "base_uri": "https://localhost:8080/"
        }
      },
      "execution_count": null,
      "outputs": [
        {
          "output_type": "stream",
          "name": "stdout",
          "text": [
            "Pending\n",
            "eating food again after eating food\n"
          ]
        }
      ]
    }
  ],
  "metadata": {
    "colab": {
      "toc_visible": true,
      "provenance": []
    },
    "kernelspec": {
      "display_name": "Python 3",
      "name": "python3"
    }
  },
  "nbformat": 4,
  "nbformat_minor": 0
}