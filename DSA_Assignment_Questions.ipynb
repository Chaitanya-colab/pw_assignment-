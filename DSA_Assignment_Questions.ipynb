{
  "nbformat": 4,
  "nbformat_minor": 0,
  "metadata": {
    "colab": {
      "private_outputs": true,
      "provenance": [],
      "toc_visible": true
    },
    "kernelspec": {
      "name": "python3",
      "display_name": "Python 3"
    },
    "language_info": {
      "name": "python"
    }
  },
  "cells": [
    {
      "cell_type": "markdown",
      "source": [
        "# DSA\n",
        "\n"
      ],
      "metadata": {
        "id": "MllucCefqkkK"
      }
    },
    {
      "cell_type": "markdown",
      "source": [
        "Problem 1: Reverse a singly linked list\n",
        "\n",
        "Input:->2-13-24->5\n",
        "\n",
        "Output: :5->4->3->2->1\n"
      ],
      "metadata": {
        "id": "dRCKqYi9hJir"
      }
    },
    {
      "cell_type": "code",
      "source": [
        "class ListNode:\n",
        "    def __init__(self, val=0, next=None):\n",
        "        self.val = val\n",
        "        self.next = next\n",
        "\n",
        "class Solution:\n",
        "    def reverseList(self, head: ListNode) -> ListNode:\n",
        "        prev = None\n",
        "        curr = head\n",
        "        while curr:\n",
        "            nextTemp = curr.next\n",
        "            curr.next = prev\n",
        "            prev = curr\n",
        "            curr = nextTemp\n",
        "        return prev\n",
        "\n",
        "head = ListNode(1)\n",
        "head.next = ListNode(2)\n",
        "head.next.next = ListNode(3)\n",
        "head.next.next.next = ListNode(4)\n",
        "head.next.next.next.next = ListNode(5)\n",
        "\n",
        "result = Solution().reverseList(head)\n",
        "\n",
        "while result:\n",
        "  print(result.val, end=\"->\")\n",
        "  result = result.next"
      ],
      "metadata": {
        "id": "HVmyfLt6lVzU"
      },
      "execution_count": null,
      "outputs": []
    },
    {
      "cell_type": "markdown",
      "source": [
        "Problem 2: Merge two sorted linked lists into one sorted linked list.\n",
        "\n",
        "Input: List 1:1 1-> 3-> 5, List :2:2->4->6 6\n",
        "\n",
        "Output: 1 -> 2 -> 3 -> 4 -> 5 -> 6\n"
      ],
      "metadata": {
        "id": "VmxtcY1zhJfl"
      }
    },
    {
      "cell_type": "code",
      "source": [
        "class ListNode:\n",
        "    def __init__(self, val=0, next=None):\n",
        "        self.val = val\n",
        "        self.next = next\n",
        "\n",
        "class solution:\n",
        "    def mergeTwoLists(self, list1: ListNode, list2: ListNode) -> ListNode:\n",
        "        dummy = head = ListNode(0)\n",
        "\n",
        "        while list1 and list2:\n",
        "            if list1.val < list2.val:\n",
        "                head.next = list1\n",
        "                list1 = list1.next\n",
        "            else:\n",
        "                head.next = list2\n",
        "                list2 = list2.next\n",
        "            head = head.next\n",
        "\n",
        "        head.next = list1 or list2\n",
        "\n",
        "        return dummy.next\n",
        "list1 = ListNode(1)\n",
        "list1.next = ListNode(3)\n",
        "list1.next.next = ListNode(5)\n",
        "\n",
        "list2 = ListNode(2)\n",
        "list2.next = ListNode(4)\n",
        "list2.next.next = ListNode(6)\n",
        "\n",
        "merged_list = solution().mergeTwoLists(list1, list2)\n",
        "\n",
        "while merged_list:\n",
        "  print(merged_list.val, end=\"->\")\n",
        "  merged_list = merged_list.next"
      ],
      "metadata": {
        "id": "YNztU9irmh_F"
      },
      "execution_count": null,
      "outputs": []
    },
    {
      "cell_type": "markdown",
      "source": [
        "Problem 3: Remove the nth node from the end of a linked list.\n",
        "\n",
        "Input: 1 -> 2 -> 3 -> 4 -> 5, n = 2\n",
        "\n",
        "Output: 1 -> 2 -> 3 -> 5"
      ],
      "metadata": {
        "id": "B-INYJ2JhJc2"
      }
    },
    {
      "cell_type": "code",
      "source": [
        "class ListNode:\n",
        "    def __init__(self, val=0, next=None):\n",
        "        self.val = val\n",
        "        self.next = next\n",
        "\n",
        "class Solution:\n",
        "    def removeNthFromEnd(self, head: ListNode, n: int) -> ListNode:\n",
        "        length = 0\n",
        "        curr = head\n",
        "        while curr:\n",
        "            length += 1\n",
        "            curr = curr.next\n",
        "\n",
        "        if length == n:\n",
        "            return head.next\n",
        "        if length == 0:\n",
        "            return None\n",
        "\n",
        "        prev = None\n",
        "        curr = head\n",
        "        for _ in range(length - n):\n",
        "            prev = curr\n",
        "            curr = curr.next\n",
        "\n",
        "        prev.next = curr.next\n",
        "        return head\n",
        "\n",
        "head = ListNode(1)\n",
        "head.next = ListNode(2)\n",
        "head.next.next = ListNode(3)\n",
        "head.next.next.next = ListNode(4)\n",
        "head.next.next.next.next = ListNode(5)\n",
        "\n",
        "n = 2\n",
        "removenth = Solution().removeNthFromEnd(head, n)\n",
        "\n",
        "while removenth:\n",
        "  print(removenth.val, end=\"->\")\n",
        "  removenth = removenth.next"
      ],
      "metadata": {
        "id": "6zjhpRT9nE4c"
      },
      "execution_count": null,
      "outputs": []
    },
    {
      "cell_type": "markdown",
      "source": [
        "Problem 4: Find the intersection point of two linked lists.\n",
        "\n",
        "Input: List 1: 1 -> 2 -> 3 -> 4, List 2: 9 -> 8 -> 3 -> 4\n",
        "\n",
        "Output: Node with value 3"
      ],
      "metadata": {
        "id": "3d3gff2phJZu"
      }
    },
    {
      "cell_type": "code",
      "source": [
        "class ListNode:\n",
        "    def __init__(self, value=0, next=None):\n",
        "        self.value = value\n",
        "        self.next = next\n",
        "\n",
        "def get_length(head):\n",
        "    length = 0\n",
        "    current = head\n",
        "    while current:\n",
        "        length += 1\n",
        "        current = current.next\n",
        "    return length\n",
        "\n",
        "def advance_list_by_k(head, k):\n",
        "    current = head\n",
        "    for _ in range(k):\n",
        "        if current:\n",
        "            current = current.next\n",
        "    return current\n",
        "\n",
        "def find_intersection_node(head1, head2):\n",
        "    if not head1 or not head2:\n",
        "        return None\n",
        "\n",
        "\n",
        "    length1 = get_length(head1)\n",
        "    length2 = get_length(head2)\n",
        "\n",
        "\n",
        "    if length1 > length2:\n",
        "        head1 = advance_list_by_k(head1, length1 - length2)\n",
        "    else:\n",
        "        head2 = advance_list_by_k(head2, length2 - length1)\n",
        "\n",
        "    while head1 and head2:\n",
        "        if head1 == head2:\n",
        "            return head1\n",
        "        head1 = head1.next\n",
        "        head2 = head2.next\n",
        "\n",
        "    return None\n",
        "\n",
        "def print_list(head):\n",
        "    current = head\n",
        "    while current:\n",
        "        print(current.value, end=\" -> \")\n",
        "        current = current.next\n",
        "    print(\"none\")\n",
        "\n",
        "\n",
        "node4 = ListNode(4)\n",
        "node3 = ListNode(3, node4)\n",
        "node2_list1 = ListNode(2,node3)\n",
        "node1_list1 = ListNode(1,node2_list1)\n",
        "node2_list2 = ListNode(8,node3)\n",
        "node1_list2 = ListNode(9,node2_list2)\n",
        "\n",
        "intersection = find_intersection_node(node1_list1, node1_list2)\n",
        "\n",
        "\n",
        "if intersection:\n",
        "    print(f\"intersection value{intersection.value}\")\n",
        "else:\n",
        "    print(\"no intersection\")\n"
      ],
      "metadata": {
        "id": "LuMnm68ioV4x"
      },
      "execution_count": null,
      "outputs": []
    },
    {
      "cell_type": "markdown",
      "source": [
        "Problem 5: Remove duplicates from a sorted linked list.\n",
        "\n",
        "Input: 1 -> 1 -> 2 -> 3 -> 3\n",
        "\n",
        "Output: 1 -> 2 -> 3"
      ],
      "metadata": {
        "id": "os4TM5kahJWW"
      }
    },
    {
      "cell_type": "code",
      "source": [
        "class Node:\n",
        "  def __init__(self, data):\n",
        "    self.data = data\n",
        "    self.next = None\n",
        "\n",
        "class LinkedList:\n",
        "  def __init__(self):\n",
        "    self.head = None\n",
        "\n",
        "  def push(self, new_data):\n",
        "    new_node = Node(new_data)\n",
        "    new_node.next = self.head\n",
        "    self.head = new_node\n",
        "\n",
        "  def removeDuplicates(self):\n",
        "    current = self.head\n",
        "    while current is not None and current.next is not None:\n",
        "      if current.data == current.next.data:\n",
        "        current.next = current.next.next\n",
        "      else:\n",
        "        current = current.next\n",
        "    return self.head\n",
        "  def printList(self):\n",
        "    temp = self.head\n",
        "    while temp:\n",
        "      print(temp.data, end=\" -> \")\n",
        "      temp = temp.next\n",
        "    print(\"None\")\n",
        "\n",
        "llist = LinkedList()\n",
        "llist.push(3)\n",
        "llist.push(3)\n",
        "llist.push(2)\n",
        "llist.push(1)\n",
        "llist.push(1)\n",
        "\n",
        "llist.printList()\n",
        "\n",
        "llist.removeDuplicates()\n",
        "print(\"\\nlinked list afer removing duplictes: \")\n",
        "llist.printList()\n"
      ],
      "metadata": {
        "id": "O5rO4el5XPf_"
      },
      "execution_count": null,
      "outputs": []
    },
    {
      "cell_type": "markdown",
      "source": [
        "Problem 6: Add two numbers represented by linked lists (where each node contains a single digit).\n",
        "\n",
        "Input: List 1: 2 -> 4 -> 3, List 2: 5 -> 6 -> 4 (represents 342 + 465)\n",
        "\n",
        "Output: 7 -> 0 -> 8 (represents 807)"
      ],
      "metadata": {
        "id": "HAJnyEDWhJTV"
      }
    },
    {
      "cell_type": "code",
      "source": [
        "class Node:\n",
        "  def __init__(self, data):\n",
        "    self.data = data\n",
        "    self.next = None\n",
        "\n",
        "class LinkedList:\n",
        "  def __init__(self):\n",
        "    self.head = None\n",
        "\n",
        "  def push(self, new_data):\n",
        "    new_node = Node(new_data)\n",
        "    new_node.next = self.head\n",
        "    self.head = new_node\n",
        "\n",
        "  def addNumbers(self, list1, list2):\n",
        "    list1 = self.reverseList(list1)\n",
        "    list2 = self.reverseList(list2)\n",
        "\n",
        "    result_head = None\n",
        "    carry = 0\n",
        "    current1 = list1\n",
        "    current2 = list2\n",
        "\n",
        "    while current1 or current2 or carry:\n",
        "      sum = carry\n",
        "      if current1:\n",
        "        sum += current1.data\n",
        "        current1 = current1.next\n",
        "      if current2:\n",
        "        sum += current2.data\n",
        "        current2 = current2.next\n",
        "      new_node = Node(sum % 10)\n",
        "      carry = sum // 10\n",
        "\n",
        "      new_node.next = result_head\n",
        "      result_head = new_node\n",
        "    return self.reverseList(result_head)\n",
        "\n",
        "\n",
        "  def reverseList(self, head):\n",
        "    prev = None\n",
        "    current = head\n",
        "    while current:\n",
        "      next = current.next\n",
        "      current.next = prev\n",
        "      prev = current\n",
        "      current = next\n",
        "    return prev\n",
        "\n",
        "  def printList(self, node):\n",
        "    while node:\n",
        "      print(node.data, end=\" -> \")\n",
        "      node = node.next\n",
        "    print(\"None\")\n",
        "\n",
        "llist1 = LinkedList()\n",
        "llist2 = LinkedList()\n",
        "\n",
        "llist1.push(3)\n",
        "llist1.push(4)\n",
        "llist1.push(2)\n",
        "print(\"List 1: \")\n",
        "llist1.printList(llist1.head)\n",
        "\n",
        "llist2.push(4)\n",
        "llist2.push(6)\n",
        "llist2.push(5)\n",
        "print(\"\\nList 2: \")\n",
        "llist2.printList(llist2.head)\n",
        "\n",
        "result = llist1.addNumbers(llist1.head, llist2.head)\n",
        "print(\"\\nSum of lists: \")\n",
        "llist1.printList(result)\n"
      ],
      "metadata": {
        "id": "5-bc3zR4XYjX"
      },
      "execution_count": null,
      "outputs": []
    },
    {
      "cell_type": "markdown",
      "source": [
        "Problem 7: Swap nodes in pairs in a linked list.\n",
        "\n",
        "Input: 1 -> 2 -> 3 -> 4\n",
        "\n",
        "Output: 2 -> 1 -> 4 -> 3"
      ],
      "metadata": {
        "id": "GM7uZBiPhJQl"
      }
    },
    {
      "cell_type": "code",
      "source": [
        "class ListNode:\n",
        "    def __init__(self, value=0, next=None):\n",
        "        self.value = value\n",
        "        self.next = next\n",
        "\n",
        "def swapPairs(head):\n",
        "    dummy = ListNode(0)\n",
        "    dummy.next = head\n",
        "    current = dummy\n",
        "\n",
        "    while current.next and current.next.next:\n",
        "        first = current.next\n",
        "        second = current.next.next\n",
        "\n",
        "        # Swap the nodes\n",
        "        first.next = second.next\n",
        "        second.next = first\n",
        "        current.next = second\n",
        "\n",
        "        # Move to the next pair\n",
        "        current = first\n",
        "\n",
        "    return dummy.next\n",
        "\n",
        "# Helper function to build a list from Python list (for testing)\n",
        "def build_list(values):\n",
        "    if not values:\n",
        "        return None\n",
        "    head = ListNode(values[0])\n",
        "    current = head\n",
        "    for value in values[1:]:\n",
        "        current.next = ListNode(value)\n",
        "        current = current.next\n",
        "    return head\n",
        "\n",
        "# Helper function to print the list\n",
        "def print_list(head):\n",
        "    current = head\n",
        "    while current:\n",
        "        print(current.value, end=\" -> \")\n",
        "        current = current.next\n",
        "    print(\"None\")\n",
        "\n",
        "values = [1, 2, 3, 4]\n",
        "head = build_list(values)\n",
        "print_list(head)\n",
        "\n",
        "new_head = swapPairs(head)\n",
        "print(\"swapping pairs\")\n",
        "print_list(new_head)"
      ],
      "metadata": {
        "id": "t6CCukMYXqJ-"
      },
      "execution_count": null,
      "outputs": []
    },
    {
      "cell_type": "markdown",
      "source": [
        "Problem 8: Reverse nodes in a linked list in groups of k.\n",
        "\n",
        "Input: 1 -> 2 -> 3 -> 4 -> 5, k = 3\n",
        "\n",
        "Output: 3 -> 2 -> 1 -> 4 -> 5"
      ],
      "metadata": {
        "id": "J0g-mfqKhJNk"
      }
    },
    {
      "cell_type": "code",
      "source": [
        "class Node:\n",
        "  def __init__(self, data):\n",
        "    self.data = data\n",
        "    self.next = None\n",
        "\n",
        "class LinkedList:\n",
        "  def __init__(self):\n",
        "    self.head = None\n",
        "\n",
        "  def push(self, new_data):\n",
        "    new_node = Node(new_data)\n",
        "    new_node.next = self.head\n",
        "    self.head = new_node\n",
        "\n",
        "  def reverseKGroup(self, head, k):\n",
        "    if not head or k == 1:\n",
        "      return head\n",
        "\n",
        "    count = 0\n",
        "    prev = None\n",
        "    current = head\n",
        "    while current and count < k:\n",
        "      next = current.next\n",
        "      current.next = prev\n",
        "      prev = current\n",
        "      current = next\n",
        "      count += 1\n",
        "\n",
        "    head.next = self.reverseKGroup(current, k)\n",
        "\n",
        "    return prev\n",
        "\n",
        "  def printList(self, node):\n",
        "    while node:\n",
        "      print(node.data, end=\" -> \")\n",
        "      node = node.next\n",
        "    print(\"None\")\n",
        "\n",
        "llist = LinkedList()\n",
        "llist.push(5)\n",
        "llist.push(4)\n",
        "llist.push(3)\n",
        "llist.push(2)\n",
        "llist.push(1)\n",
        "\n",
        "llist.printList(llist.head)\n",
        "\n",
        "k = 3\n",
        "head = llist.reverseKGroup(llist.head, k)\n",
        "\n",
        "print(\"reversing nodes in groups of\",k,\":\")\n",
        "llist.printList(head)"
      ],
      "metadata": {
        "id": "Jx0Rto8gYAIS"
      },
      "execution_count": null,
      "outputs": []
    },
    {
      "cell_type": "markdown",
      "source": [
        "Problem 9: Determine if a linked list is a palindrome.\n",
        "\n",
        "Input: 1 -> 2 -> 2 -> 1\n",
        "\n",
        "Output: True"
      ],
      "metadata": {
        "id": "RW6UmW9JhJKV"
      }
    },
    {
      "cell_type": "code",
      "source": [
        "class Node:\n",
        "  def __init__(self, data):\n",
        "    self.data = data\n",
        "    self.next = None\n",
        "\n",
        "class LinkedList:\n",
        "  def __init__(self):\n",
        "    self.head = None\n",
        "\n",
        "  def push(self, new_data):\n",
        "    new_node = Node(new_data)\n",
        "    new_node.next = self.head\n",
        "    self.head = new_node\n",
        "  def isPalindrome(self):\n",
        "    slow = self.head\n",
        "    fast = self.head\n",
        "\n",
        "    stack = []\n",
        "    while slow:\n",
        "      stack.append(slow.data)\n",
        "      slow = slow.next\n",
        "\n",
        "    if fast and fast.next:\n",
        "      fast = fast.next\n",
        "\n",
        "    while fast:\n",
        "      data = stack.pop()\n",
        "      if data != fast.data:\n",
        "        return False\n",
        "      fast = fast.next\n",
        "\n",
        "    return True\n",
        "\n",
        "  def printList(self, node):\n",
        "    while node:\n",
        "      print(node.data, end=\" -> \")\n",
        "      node = node.next\n",
        "    print(\"None\")\n",
        "\n",
        "llist = LinkedList()\n",
        "llist.push(1)\n",
        "llist.push(2)\n",
        "llist.push(2)\n",
        "llist.push(1)\n",
        "\n",
        "llist.printList(llist.head)\n",
        "\n",
        "result = llist.isPalindrome()\n",
        "\n",
        "if result:\n",
        "  print(\"\\nis a Palindrome\")\n",
        "else:\n",
        "  print(\"\\nnot a Palindrome\")"
      ],
      "metadata": {
        "id": "XxIbo_uyYMW2"
      },
      "execution_count": null,
      "outputs": []
    },
    {
      "cell_type": "markdown",
      "source": [
        "Problem 10: Rotate a linked list to the right by k places.\n",
        "\n",
        "Input: 1 -> 2 -> 3 -> 4 -> 5, k = 2\n",
        "\n",
        "Output: 4 -> 5 -> 1 -> 2 -> 3"
      ],
      "metadata": {
        "id": "T3c5GqzQhJHJ"
      }
    },
    {
      "cell_type": "code",
      "source": [
        "class Node:\n",
        "  def __init__(self, data):\n",
        "    self.data = data\n",
        "    self.next = None\n",
        "\n",
        "class LinkedList:\n",
        "  def __init__(self):\n",
        "    self.head = None\n",
        "\n",
        "\n",
        "  def push(self, new_data):\n",
        "    new_node = Node(new_data)\n",
        "    new_node.next = self.head\n",
        "    self.head = new_node\n",
        "\n",
        "  def rotate(self, k):\n",
        "    if k == 0 or not self.head or not self.head.next:\n",
        "      return\n",
        "\n",
        "    length = 1\n",
        "    temp = self.head\n",
        "    while temp.next:\n",
        "      length += 1\n",
        "      temp = temp.next\n",
        "\n",
        "    k = k % length\n",
        "\n",
        "\n",
        "    current = self.head\n",
        "    for i in range(length - k - 1):\n",
        "      current = current.next\n",
        "\n",
        "    new_head = current.next\n",
        "    current.next = None\n",
        "    temp.next = self.head\n",
        "    self.head = new_head\n",
        "\n",
        "\n",
        "  def printList(self, node):\n",
        "    while node:\n",
        "      print(node.data, end=\" -> \")\n",
        "      node = node.next\n",
        "    print(\"None\")\n",
        "\n",
        "\n",
        "llist = LinkedList()\n",
        "llist.push(5)\n",
        "llist.push(4)\n",
        "llist.push(3)\n",
        "llist.push(2)\n",
        "llist.push(1)\n",
        "\n",
        "llist.printList(llist.head)\n",
        "k = 2\n",
        "llist.rotate(k)\n",
        "\n",
        "print(\"\\nlinked list after rotation by\",k,\"places:\")\n",
        "llist.printList(llist.head)\n"
      ],
      "metadata": {
        "id": "xrxc7RyTYjAf"
      },
      "execution_count": null,
      "outputs": []
    },
    {
      "cell_type": "markdown",
      "source": [
        "Problem 11: Flatten a multilevel doubly linked list.\n",
        "\n",
        "Input: 1 <-> 2 <-> 3 <-> 7 <-> 8 <-> 11 -> 12, 4 <-> 5 -> 9 -> 10, 6 -> 13\n",
        "\n",
        "Output: 1 <-> 2 <-> 3 <-> 4 <-> 5 <-> 6 <-> 7 <-> 8 <-> 9 <-> 10 <-> 11 <-> 12 <-> 13"
      ],
      "metadata": {
        "id": "cntsywcEhJD5"
      }
    },
    {
      "cell_type": "code",
      "source": [
        "class Node:\n",
        "  def __init__(self, data):\n",
        "    self.data = data\n",
        "    self.next = None\n",
        "    self.prev = None\n",
        "    self.child = None\n",
        "\n",
        "class LinkedList:\n",
        "  def __init__(self):\n",
        "    self.head = None\n",
        "\n",
        "  def flatten(self):\n",
        "    curr = self.head\n",
        "    tail = curr\n",
        "\n",
        "    while curr:\n",
        "      if curr.child:\n",
        "        tail = self.flattenList(curr.child, tail)\n",
        "        curr.next = curr.child\n",
        "        curr.child.prev = curr\n",
        "        curr.child = None\n",
        "\n",
        "      tail = curr\n",
        "      curr = curr.next\n",
        "\n",
        "    return tail\n",
        "\n",
        "  def flattenList(self, child, tail):\n",
        "    temp = child\n",
        "    while temp.next:\n",
        "      temp = temp.next\n",
        "    tail.next = child\n",
        "    child.prev = tail\n",
        "    return temp\n",
        "\n",
        "  def printList(self, node):\n",
        "    while node:\n",
        "      print(node.data, end=\" <-> \")\n",
        "      node = node.next\n",
        "    print(\"None\")\n",
        "\n",
        "llist = LinkedList()\n",
        "llist.head = Node(1)\n",
        "llist.head.next = Node(2)\n",
        "llist.head.next.next = Node(3)\n",
        "llist.head.next.child = Node(7)\n",
        "llist.head.next.child.next = Node(8)\n",
        "llist.head.next.child.next.next = Node(11)\n",
        "llist.head.next.next.next = Node(4)\n",
        "llist.head.next.next.next.next = Node(5)\n",
        "llist.head.next.next.next.next.next = Node(6)\n",
        "llist.head.next.next.next.next.next.next = Node(9)\n",
        "llist.head.next.next.next.next.next.next.next = Node(10)\n",
        "llist.head.next.next.next.next.next.next.next.next = Node(12)\n",
        "llist.head.next.next.next.next.next.next.next.next.next = Node(13)\n",
        "\n",
        "llist.printList(llist.head)\n",
        "\n",
        "llist.head = llist.flatten()\n",
        "\n",
        "print(\"\\nflattened\")\n",
        "llist.printList(llist.head)\n"
      ],
      "metadata": {
        "id": "8K10fzzUYzmg"
      },
      "execution_count": null,
      "outputs": []
    },
    {
      "cell_type": "markdown",
      "source": [
        "Problem 12: Rearrange a linked list such that all even positioned nodes are placed at the end.\n",
        "\n",
        "Input: 1 -> 2 -> 3 -> 4 -> 5\n",
        "\n",
        "Output: 1 -> 3 -> 5 -> 2 -> 4"
      ],
      "metadata": {
        "id": "boo7N1n2hJAp"
      }
    },
    {
      "cell_type": "code",
      "source": [
        "class Node:\n",
        "  def __init__(self, data):\n",
        "    self.data = data\n",
        "    self.next = None\n",
        "\n",
        "class LinkedList:\n",
        "  def __init__(self):\n",
        "    self.head = None\n",
        "\n",
        "  def push(self, new_data):\n",
        "    new_node = Node(new_data)\n",
        "    new_node.next = self.head\n",
        "    self.head = new_node\n",
        "\n",
        "  def rearrange(self):\n",
        "    odd = self.head\n",
        "    even = None\n",
        "    evenHead = None\n",
        "\n",
        "\n",
        "    curr = self.head\n",
        "    count = 1\n",
        "    while curr:\n",
        "\n",
        "      if count % 2 != 0:\n",
        "        odd = curr\n",
        "      else:\n",
        "\n",
        "        if even is None:\n",
        "          even = curr\n",
        "          evenHead = curr\n",
        "        else:\n",
        "          even.next = curr\n",
        "          even = even.next\n",
        "      curr = curr.next\n",
        "      count += 1\n",
        "    if even:\n",
        "      even.next = None\n",
        "      odd.next = evenHead\n",
        "\n",
        "  def printList(self, node):\n",
        "    while node:\n",
        "      print(node.data, end=\" -> \")\n",
        "      node = node.next\n",
        "    print(\"None\")\n",
        "\n",
        "llist = LinkedList()\n",
        "llist.push(5)\n",
        "llist.push(4)\n",
        "llist.push(3)\n",
        "llist.push(2)\n",
        "llist.push(1)\n",
        "llist.printList(llist.head)\n",
        "\n",
        "llist.rearrange()\n",
        "\n",
        "print(\"\\n rearranging\")\n",
        "\n",
        "llist.printList(llist.head)"
      ],
      "metadata": {
        "id": "C0kF1xxGggQH"
      },
      "execution_count": null,
      "outputs": []
    },
    {
      "cell_type": "markdown",
      "source": [
        "Problem 13: Given a non-negative number represented as a linked list, add one to it.\n",
        "\n",
        "Input: 1 -> 2 -> 3 (represents the number 123)\n",
        "\n",
        "Output: 1 -> 2 -> 4 (represents the number 124)"
      ],
      "metadata": {
        "id": "D4PaUciohI9j"
      }
    },
    {
      "cell_type": "code",
      "source": [
        "class Node:\n",
        "  def __init__(self, data):\n",
        "    self.data = data\n",
        "    self.next = None\n",
        "\n",
        "class LinkedList:\n",
        "  def __init__(self):\n",
        "    self.head = None\n",
        "\n",
        "  def push(self, new_data):\n",
        "    new_node = Node(new_data)\n",
        "    new_node.next = self.head\n",
        "    self.head = new_node\n",
        "  def addNumbers(self, list1, list2):\n",
        "\n",
        "    list1 = self.reverseList(list1)\n",
        "    list2 = self.reverseList(list2)\n",
        "\n",
        "    result_head = None\n",
        "    carry = 0\n",
        "    current1 = list1\n",
        "    current2 = list2\n",
        "\n",
        "    while current1 or current2 or carry:\n",
        "\n",
        "      sum = carry\n",
        "      if current1:\n",
        "        sum += current1.data\n",
        "        current1 = current1.next\n",
        "      if current2:\n",
        "        sum += current2.data\n",
        "        current2 = current2.next\n",
        "\n",
        "\n",
        "      new_node = Node(sum % 10)\n",
        "      carry = sum // 10\n",
        "\n",
        "\n",
        "      new_node.next = result_head\n",
        "      result_head = new_node\n",
        "\n",
        "\n",
        "    return self.reverseList(result_head)\n",
        "\n",
        "\n",
        "  def reverseList(self, head):\n",
        "    prev = None\n",
        "    current = head\n",
        "    while current:\n",
        "      next = current.next\n",
        "      current.next = prev\n",
        "      prev = current\n",
        "      current = next\n",
        "    return prev\n",
        "\n",
        "\n",
        "  def printList(self, node):\n",
        "    while node:\n",
        "      print(node.data, end=\" -> \")\n",
        "      node = node.next\n",
        "    print(\"None\")\n",
        "\n",
        "\n",
        "llist = LinkedList()\n",
        "llist.push(3)\n",
        "llist.push(4)\n",
        "llist.push(2)\n",
        "llist.printList(llist.head)\n",
        "\n",
        "result = llist.addNumbers(llist.head, None)\n",
        "print(\"\\n after adding 1: \")\n",
        "llist.printList(result)"
      ],
      "metadata": {
        "id": "iHE2BafJgshl"
      },
      "execution_count": null,
      "outputs": []
    },
    {
      "cell_type": "markdown",
      "source": [
        "Problem 14: Given a sorted array and a target value, return the index if the target is found. If not, return the\n",
        "index where it would be inserted.\n",
        "\n",
        "Input: nums = [1, 3, 5, 6], target = 5\n",
        "\n",
        "Output: 2"
      ],
      "metadata": {
        "id": "6aDjD92zhI6T"
      }
    },
    {
      "cell_type": "code",
      "source": [
        "def searchInsert(nums, target):\n",
        "  low = 0\n",
        "  high = len(nums) - 1\n",
        "\n",
        "  while low <= high:\n",
        "    mid = (low + high) // 2\n",
        "\n",
        "    if nums[mid] == target:\n",
        "      return mid\n",
        "    elif nums[mid] < target:\n",
        "      low = mid + 1\n",
        "    else:\n",
        "      high = mid - 1\n",
        "\n",
        "  return low\n",
        "\n",
        "nums = [1,3,5,6]\n",
        "target =5\n",
        "index = searchInsert(nums, target)\n",
        "print(f\"target {target} found at index: {index}\")\n"
      ],
      "metadata": {
        "id": "JGXi9fz0hEH3"
      },
      "execution_count": null,
      "outputs": []
    },
    {
      "cell_type": "markdown",
      "source": [
        "Problem 15: Find the minimum element in a rotated sorted array.\n",
        "\n",
        "Input: [4, 5, 6, 7, 0, 1, 2]\n",
        "\n",
        "Output: 0"
      ],
      "metadata": {
        "id": "gOuZg9_fhI3C"
      }
    },
    {
      "cell_type": "code",
      "source": [
        "def findMin(nums):\n",
        "  low = 0\n",
        "  high = len(nums) - 1\n",
        "\n",
        "  if nums[low] <= nums[high]:\n",
        "    return nums[low]\n",
        "\n",
        "  while low < high:\n",
        "    mid = low + (high - low) // 2\n",
        "\n",
        "\n",
        "    if nums[mid] < nums[mid + 1]:\n",
        "      return nums[mid]\n",
        "\n",
        "\n",
        "    elif nums[mid] > nums[low]:\n",
        "      low = mid + 1\n",
        "    else:\n",
        "      low += 1\n",
        "      high -= 1\n",
        "\n",
        "  return nums[low]\n",
        "\n",
        "nums = [4, 5, 6, 7, 0, 1, 2]\n",
        "min_element = findMin(nums)\n",
        "print(f\"minimum element in the array: {min_element}\")\n"
      ],
      "metadata": {
        "id": "lhyBq9-xhZVA"
      },
      "execution_count": null,
      "outputs": []
    },
    {
      "cell_type": "markdown",
      "source": [
        "Problem 16: Search for a target value in a rotated sorted array.\n",
        "\n",
        "Input: nums = [4, 5, 6, 7, 0, 1, 2], target = 0\n",
        "\n",
        "Output: 4"
      ],
      "metadata": {
        "id": "6Ic25YbyhIz_"
      }
    },
    {
      "cell_type": "code",
      "source": [
        "def search(nums,target):\n",
        "\n",
        "  low = 0\n",
        "  high = len(nums) - 1\n",
        "\n",
        "  if nums[low] <= nums[high]:\n",
        "    return binarySearch(nums, low, high, target)\n",
        "  pivot = findMin(nums)\n",
        "\n",
        "  if target >= nums[low] and target <= nums[pivot - 1]:\n",
        "    return binarySearch(nums, low, pivot - 1, target)\n",
        "  else:\n",
        "    return binarySearch(nums, pivot, high, target)\n",
        "\n",
        "def binarySearch(nums, low, high, target):\n",
        "\n",
        "  while low <= high:\n",
        "    mid = (low + high) // 2\n",
        "\n",
        "    if nums[mid] == target:\n",
        "      return mid\n",
        "    elif nums[mid] < target:\n",
        "      low = mid + 1\n",
        "    else:\n",
        "      high = mid - 1\n",
        "\n",
        "  return -1\n",
        "\n",
        "nums = [4,5,6,7,0,1,2]\n",
        "target = 0\n",
        "index = search(nums, target)\n",
        "\n",
        "if index != -1:\n",
        "  print(f\"Target {target} found at index: {index}\")\n",
        "else:\n",
        "  print(f\"Target {target} not found in the array.\")\n"
      ],
      "metadata": {
        "id": "DY1EDOj5hjlq"
      },
      "execution_count": null,
      "outputs": []
    },
    {
      "cell_type": "markdown",
      "source": [
        "Problem 17: Find the peak element in an array. A peak element is greater than its neighbors.\n",
        "\n",
        "Input: nums = [1, 2, 3, 1]\n",
        "\n",
        "Output: 2 (index of peak element)"
      ],
      "metadata": {
        "id": "Peq2xaSEhIxE"
      }
    },
    {
      "cell_type": "code",
      "source": [
        "def findPeak(nums):\n",
        "  n = len(nums)\n",
        "  if n < 2:\n",
        "    return -1\n",
        "  if nums[0] > nums[1]:\n",
        "    return 0\n",
        "  if nums[n - 1] > nums[n - 2]:\n",
        "    return n - 1\n",
        "\n",
        "  for i in range(1, n - 1):\n",
        "    if nums[i] > nums[i - 1] and nums[i] > nums[i + 1]:\n",
        "      return i\n",
        "\n",
        "  return -1\n",
        "\n",
        "nums = [1,2,3,1]\n",
        "findPeak(nums)"
      ],
      "metadata": {
        "id": "YVNpAoMQh1yF"
      },
      "execution_count": null,
      "outputs": []
    },
    {
      "cell_type": "markdown",
      "source": [
        "Problem 18: Given a m x n matrix where each row and column is sorted in ascending order, count the number\n",
        "of negative numbers.\n",
        "\n",
        "Input: grid = [[4, 3, 2, -1], [3, 2, 1, -1], [1, 1, -1, -2], [-1, -1, -2, -3]]\n",
        "\n",
        "Output: 8"
      ],
      "metadata": {
        "id": "t2wxrgT-hIt9"
      }
    },
    {
      "cell_type": "code",
      "source": [
        "def countNegatives(grid):\n",
        "\n",
        "  m = len(grid)\n",
        "  n = len(grid[0])\n",
        "  count = 0\n",
        "\n",
        "  i = 0\n",
        "  j = n - 1\n",
        "  while i < m and j >= 0:\n",
        "    if grid[i][j] < 0:\n",
        "      count += n - j\n",
        "      i += 1\n",
        "    else:\n",
        "      j -= 1\n",
        "\n",
        "  return count\n",
        "\n",
        "grid = [[4,3,2,-1],[3,2,1,-1],[1,1,-1,-2],[-1,-1,-2,-3]]\n",
        "countNegatives(grid)"
      ],
      "metadata": {
        "id": "VW_3MiH5iJMx"
      },
      "execution_count": null,
      "outputs": []
    },
    {
      "cell_type": "markdown",
      "source": [
        "Problem 19: Given a 2D matrix sorted in ascending order in each row, and the first integer of each row is\n",
        "greater than the last integer of the previous row, determine if a target value is present in the matrix.\n",
        "\n",
        "Input: matrix = [[1, 3, 5, 7], [10, 11, 16, 20], [23, 30, 34, 60]], target = 3\n",
        "\n",
        "Output: True"
      ],
      "metadata": {
        "id": "nnpv97mFhIq0"
      }
    },
    {
      "cell_type": "code",
      "source": [
        "def searchMatrix(matrix, target):\n",
        "\n",
        "  m = len(matrix)\n",
        "  n = len(matrix[0])\n",
        "\n",
        "  i = 0\n",
        "  j = n - 1\n",
        "\n",
        "  while i < m and j >= 0:\n",
        "    if matrix[i][j] == target:\n",
        "      return True\n",
        "    elif matrix[i][j] < target:\n",
        "      i += 1\n",
        "    else:\n",
        "      j -= 1\n",
        "\n",
        "  return False\n",
        "\n",
        "matrix = [[1,3,5,7],[10,11,16,20],[23,30,34,60]]\n",
        "target = 3\n",
        "found = searchMatrix(matrix, target)\n",
        "print(f\"target {target} found in the matrix:{found}\")\n"
      ],
      "metadata": {
        "id": "-PWv6ln5ijcK"
      },
      "execution_count": null,
      "outputs": []
    },
    {
      "cell_type": "markdown",
      "source": [
        "Problem 20: Find Median in Two Sorted Arrays\n",
        "Problem: Given two sorted arrays, find the median of the combined sorted array.\n",
        "\n",
        "Input: nums1 = [1, 3], nums2 = [2]\n",
        "\n",
        "Output: 2.0"
      ],
      "metadata": {
        "id": "y-MhGHeMhIoC"
      }
    },
    {
      "cell_type": "code",
      "source": [
        "def find_median(nums1, nums2):\n",
        "\n",
        "  m = len(nums1)\n",
        "  n = len(nums2)\n",
        "  if m == 0:\n",
        "    return (nums2[n // 2] + nums2[(n - 1) // 2]) / 2 if n % 2 == 0 else nums2[n // 2]\n",
        "  if n == 0:\n",
        "    return (nums1[m // 2] + nums1[(m - 1) // 2]) / 2 if m % 2 == 0 else nums1[m // 2]\n",
        "\n",
        "  i = 0\n",
        "  j = 0\n",
        "  median = 0.0\n",
        "\n",
        "  count = 0\n",
        "  while count <= (m + n) // 2:\n",
        "    if i < m and (j >= n or nums1[i] <= nums2[j]):\n",
        "      median = nums1[i]\n",
        "      i += 1\n",
        "    else:\n",
        "      median = nums2[j]\n",
        "      j += 1\n",
        "    count += 1\n",
        "\n",
        "  if (m + n) % 2 != 0:\n",
        "    return median\n",
        "\n",
        "  return (median +(nums1[i] if i < m else nums2[j])) / 2\n",
        "\n",
        "nums1 = [1,3]\n",
        "nums2 = [2]\n",
        "find_median(nums1,nums2)"
      ],
      "metadata": {
        "id": "iTEmcgKPitzf"
      },
      "execution_count": null,
      "outputs": []
    },
    {
      "cell_type": "markdown",
      "source": [
        "\n",
        "Problem 21: Given a sorted character array and a target letter, find the smallest letter in the array that is\n",
        "greater than the target.\n",
        "\n",
        "Input: letters = ['c', 'f', 'j'], target = a\n",
        "\n",
        "Output: 'c'"
      ],
      "metadata": {
        "id": "LKJKD3HdhIlI"
      }
    },
    {
      "cell_type": "code",
      "source": [
        "def f_s_l_g_t_t(letters, target):\n",
        "\n",
        "  n = len(letters)\n",
        "  start = 0\n",
        "  end = n - 1\n",
        "\n",
        "  if target >= letters[end]:\n",
        "    return letters[0]\n",
        "\n",
        "  while start <= end:\n",
        "    mid = (start + end) // 2\n",
        "    if letters[mid] == target:\n",
        "      return letters[(mid + 1) % n]\n",
        "    elif letters[mid] < target:\n",
        "      start = mid + 1\n",
        "    else:\n",
        "      end = mid - 1\n",
        "\n",
        "  return letters[0]\n",
        "\n",
        "letters = ['c', 'f', 'j']\n",
        "target = 'a'\n",
        "f_s_l_g_t_t(letters, target)"
      ],
      "metadata": {
        "id": "O5xeWwfKjFKK"
      },
      "execution_count": null,
      "outputs": []
    },
    {
      "cell_type": "markdown",
      "source": [
        "Problem 22: Given an array with n objects colored red, white, or blue, sort them in-place so that objects of\n",
        "the same color are adjacent, with the colors in the order red, white, and blue.\n",
        "\n",
        "Input: nums = [2, 0, 2, 1, 1, 0]\n",
        "\n",
        "Output: [0, 0, 1, 1, 2, 2]"
      ],
      "metadata": {
        "id": "u8OkFK7LhIhz"
      }
    },
    {
      "cell_type": "code",
      "source": [
        "def sort_colors(nums):\n",
        "\n",
        "  n = len(nums)\n",
        "  p0 = 0\n",
        "  p1 = 0\n",
        "\n",
        "  for i in range(n):\n",
        "    if nums[i] == 0:\n",
        "      nums[i], nums[p0] = nums[p0], nums[i]\n",
        "\n",
        "      p0 += 1\n",
        "      p1 += 1\n",
        "    elif nums[i] == 1:\n",
        "\n",
        "      if p0 < i:\n",
        "        nums[i], nums[p1] = nums[p1], nums[i]\n",
        "      p1 += 1\n",
        "\n",
        "nums = [2,0,2,1,1,0]\n",
        "sort_colors(nums)\n",
        "print(nums)\n"
      ],
      "metadata": {
        "id": "LXw3fkH5jV89"
      },
      "execution_count": null,
      "outputs": []
    },
    {
      "cell_type": "markdown",
      "source": [
        "Problem 23: Find the kth largest element in an unsorted array.\n",
        "\n",
        "Input: nums = [3, 2, 1, 5, 6, 4], k = 2\n",
        "\n",
        "Output: 5"
      ],
      "metadata": {
        "id": "sq3HZddUhIe7"
      }
    },
    {
      "cell_type": "code",
      "source": [
        "def find_kth_largest_sorting(nums, k):\n",
        "\n",
        "  nums.sort(reverse=True)\n",
        "\n",
        "  return nums[k - 1]\n",
        "\n",
        "nums = [3,2,1,5,6,4]\n",
        "k = 2\n",
        "find_kth_largest_sorting(nums.copy(), k)"
      ],
      "metadata": {
        "id": "ghrviApmjlOQ"
      },
      "execution_count": null,
      "outputs": []
    },
    {
      "cell_type": "markdown",
      "source": [
        "Problem 24: Given an unsorted array, reorder it in-place such that nums[0] <= nums[1] >= nums[2] <=\n",
        "nums[3]...\n",
        "\n",
        "Input: nums = [3, 5, 2, 1, 6, 4]\n",
        "\n",
        "Output: [3, 5, 1, 6, 2, 4]"
      ],
      "metadata": {
        "id": "3D0_ERILhIbi"
      }
    },
    {
      "cell_type": "code",
      "source": [
        "def wave_sort(nums):\n",
        "\n",
        "  n = len(nums)\n",
        "  for i in range(1, n, 2):\n",
        "    if nums[i - 1] > nums[i]:\n",
        "      nums[i - 1], nums[i] = nums[i], nums[i - 1]\n",
        "\n",
        "nums = [3,5,2,1,6,4]\n",
        "wave_sort(nums)\n",
        "print(nums)"
      ],
      "metadata": {
        "id": "vXRzAoFqj2Bs"
      },
      "execution_count": null,
      "outputs": []
    },
    {
      "cell_type": "markdown",
      "source": [
        "Problem 25: Given an array of integers, calculate the sum of all its elements.\n",
        "\n",
        "Input: [1, 2, 3, 4, 5]\n",
        "\n",
        "Output: 15"
      ],
      "metadata": {
        "id": "XzOEmaPwhIX7"
      }
    },
    {
      "cell_type": "code",
      "source": [
        "def sum_of_elements(nums):\n",
        "\n",
        "  total_sum = 0\n",
        "  for num in nums:\n",
        "    total_sum += num\n",
        "  return total_sum\n",
        "\n",
        "nums = [1,2,3,4,5]\n",
        "sum_of_elements(nums)"
      ],
      "metadata": {
        "id": "WSlRVcIYkON5"
      },
      "execution_count": null,
      "outputs": []
    },
    {
      "cell_type": "markdown",
      "source": [
        "Problem 26: Find the maximum element in an array of integers.\n",
        "\n",
        "Input: [3, 7, 2, 9, 4, 1]\n",
        "\n",
        "Output: 9"
      ],
      "metadata": {
        "id": "s_PzmXtRhHOD"
      }
    },
    {
      "cell_type": "code",
      "source": [
        "def find_max(nums):\n",
        "\n",
        "  max_element = nums[0]\n",
        "  for num in nums:\n",
        "\n",
        "    if num > max_element:\n",
        "      max_element = num\n",
        "  return max_element\n",
        "\n",
        "nums = [3, 7, 2, 9, 4, 1]\n",
        "find_max(nums)"
      ],
      "metadata": {
        "id": "gJGKu-vZkWcs"
      },
      "execution_count": null,
      "outputs": []
    },
    {
      "cell_type": "markdown",
      "source": [
        "Problem 27: Implement linear search to find the index of a target element in an array.\n",
        "\n",
        "Input: [5, 3, 8, 2, 7, 4], target = 8\n",
        "\n",
        "Output: 2"
      ],
      "metadata": {
        "id": "pBsGd5Bdk9Tc"
      }
    },
    {
      "cell_type": "code",
      "source": [
        "def linear_search(nums, target):\n",
        "\n",
        "  for i, num in enumerate(nums):\n",
        "    if num == target:\n",
        "      return i\n",
        "  return -1\n",
        "\n",
        "nums = [5, 3, 8, 2, 7, 4]\n",
        "target = 8\n",
        "linear_search(nums, target)"
      ],
      "metadata": {
        "id": "NgB-DnOkkgP4"
      },
      "execution_count": null,
      "outputs": []
    },
    {
      "cell_type": "markdown",
      "source": [
        "Problem 28 Calculate the factorial of a given number.\n",
        "\n",
        "Input: 5\n",
        "\n",
        "Output: 120 (as 5! = 5 * 4 * 3 * 2 * 1 = 120)"
      ],
      "metadata": {
        "id": "eKkLScy0k9Qj"
      }
    },
    {
      "cell_type": "code",
      "source": [
        "def factorial(n):\n",
        "  if n < 0:\n",
        "    return None\n",
        "  elif n == 0:\n",
        "    return 1#base case 0! =1\n",
        "  else:\n",
        "    factorial = 1\n",
        "    for i in range(1, n + 1):\n",
        "      factorial *= i\n",
        "    return factorial\n",
        "\n",
        "number = 5\n",
        "result = factorial(number)\n",
        "print(result)"
      ],
      "metadata": {
        "id": "epvY7OlHkk3Y"
      },
      "execution_count": null,
      "outputs": []
    },
    {
      "cell_type": "markdown",
      "source": [
        "\n",
        "Problem 29: Check if a given number is a prime number.\n",
        "\n",
        "Input: 7\n",
        "\n",
        "Output: True"
      ],
      "metadata": {
        "id": "skTdrFofk9Nl"
      }
    },
    {
      "cell_type": "code",
      "source": [
        "def is_prime(num):\n",
        "\n",
        "  if num <= 1:\n",
        "    return False\n",
        "  elif num <= 3:\n",
        "    return True\n",
        "  elif num % 2 == 0 or num % 3 == 0:\n",
        "    return False\n",
        "\n",
        "  i = 5\n",
        "  while i * i <= num:\n",
        "    if num % i == 0 or num % (i + 2) == 0:\n",
        "      return False\n",
        "    i += 6\n",
        "\n",
        "  return True\n",
        "\n",
        "number = 7\n",
        "if is_prime(number):\n",
        "  print(number, \"is a prime number\")\n",
        "else:\n",
        "  print(number, \"is not a prime number\")"
      ],
      "metadata": {
        "id": "2RXVTtdMk5hf"
      },
      "execution_count": null,
      "outputs": []
    },
    {
      "cell_type": "markdown",
      "source": [
        "Problem 30: Generate the Fibonacci series up to a given number n.\n",
        "\n",
        "Input: 8\n",
        "\n",
        "Output: [0, 1, 1, 2, 3, 5, 8, 13]"
      ],
      "metadata": {
        "id": "vEXe1yaDk9Ke"
      }
    },
    {
      "cell_type": "code",
      "source": [
        "def fibonacci(n):\n",
        "  if n < 0:\n",
        "    return []\n",
        "  elif n == 0:\n",
        "    return [0]\n",
        "  elif n == 1:\n",
        "    return [0, 1]\n",
        "\n",
        "  fibonacci_series = [0, 1]\n",
        "  for i in range(2, n + 1):\n",
        "    next_number = fibonacci_series[i - 1] + fibonacci_series[i - 2]\n",
        "    fibonacci_series.append(next_number)\n",
        "\n",
        "  return fibonacci_series\n",
        "n = 8\n",
        "fibonacci(n)"
      ],
      "metadata": {
        "id": "WTakJgv0k_7X"
      },
      "execution_count": null,
      "outputs": []
    },
    {
      "cell_type": "markdown",
      "source": [
        "Problem 31: Calculate the power of a number using recursion.\n",
        "\n",
        "Input: base = 3, exponent = 4\n",
        "\n",
        "Output: 81 (as 3^4 = 3 * 3 * 3 * 3 = 81)"
      ],
      "metadata": {
        "id": "zR-JqePmk9Hs"
      }
    },
    {
      "cell_type": "code",
      "source": [
        "def power(base, exponent):\n",
        "  if exponent == 0:\n",
        "    return 1\n",
        "  else:\n",
        "    return base * power(base, exponent - 1)\n",
        "\n",
        "base = 3\n",
        "exponent = 4\n",
        "power(base, exponent)"
      ],
      "metadata": {
        "id": "F9GZp28ElNKP"
      },
      "execution_count": null,
      "outputs": []
    },
    {
      "cell_type": "markdown",
      "source": [
        "Problem 32: Reverse a given string.\n",
        "\n",
        "Input: \"hello\"\n",
        "\n",
        "Output: \"olleh\""
      ],
      "metadata": {
        "id": "wMxPRL__k9ES"
      }
    },
    {
      "cell_type": "code",
      "source": [
        "def reverse_string(text):\n",
        "  return text[::-1]\n",
        "\n",
        "text = \"hello\"\n",
        "reversed_text = reverse_string(text)\n",
        "print(reversed_text)"
      ],
      "metadata": {
        "id": "YK1EdVCjlSg_"
      },
      "execution_count": null,
      "outputs": []
    }
  ]
}