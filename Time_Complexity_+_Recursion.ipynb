{
  "nbformat": 4,
  "nbformat_minor": 0,
  "metadata": {
    "colab": {
      "private_outputs": true,
      "provenance": [],
      "toc_visible": true
    },
    "kernelspec": {
      "name": "python3",
      "display_name": "Python 3"
    },
    "language_info": {
      "name": "python"
    }
  },
  "cells": [
    {
      "cell_type": "markdown",
      "source": [
        "#Practice Question - Creating Classes"
      ],
      "metadata": {
        "id": "7whp16O7wkPA"
      }
    },
    {
      "cell_type": "markdown",
      "source": [
        "Find time complexity of below code blocks :\n",
        "\n",
        "Problem 1 :\n",
        "\n",
        "def quicksort(arr):\n",
        "\n",
        "if len(arr) <= 1:\n",
        "\n",
        "return arr\n",
        "\n",
        "pivot = arr[len(arr) // 2]\n",
        "\n",
        "left = [x for x in arr if x < pivot]\n",
        "\n",
        "middle = [x for x in arr if x == pivot]\n",
        "\n",
        "right = [x for x in arr if x > pivot]\n",
        "\n",
        "return quicksort(left) + middle + quicksort(right)\n"
      ],
      "metadata": {
        "id": "O6VstUH-wr6R"
      }
    },
    {
      "cell_type": "code",
      "source": [
        "\"\"\"\n",
        "\n",
        "time complexity\n",
        "average case: O(n log n)\n",
        "worst case: O(n^2)\n",
        "\n",
        "\"\"\""
      ],
      "metadata": {
        "id": "7hS6WiLcwm8M"
      },
      "execution_count": null,
      "outputs": []
    },
    {
      "cell_type": "markdown",
      "source": [
        "Problem 2 :\n",
        "\n",
        "def nested_loop_example(matrix):\n",
        "\n",
        "rows, cols = len(matrix), len(matrix[0])\n",
        "\n",
        "total = 0\n",
        "\n",
        "for i in range(rows):\n",
        "\n",
        "for j in range(cols):\n",
        "\n",
        "total += matrix[i][j]\n",
        "\n",
        "return total"
      ],
      "metadata": {
        "id": "M1uo6x-hydob"
      }
    },
    {
      "cell_type": "code",
      "source": [
        "\"\"\"\n",
        "\n",
        "Time Complexity\n",
        "                O(n^2)\n",
        "\n",
        "\"\"\""
      ],
      "metadata": {
        "id": "7WYhYy-7yP_3"
      },
      "execution_count": null,
      "outputs": []
    },
    {
      "cell_type": "markdown",
      "source": [
        "Problem 3 :\n",
        "\n",
        "def example_function(arr):\n",
        "\n",
        "result = 0\n",
        "\n",
        "for element in arr:\n",
        "\n",
        "result += element\n",
        "\n",
        "return result\n"
      ],
      "metadata": {
        "id": "Kpb4hhiazTqu"
      }
    },
    {
      "cell_type": "code",
      "source": [
        "\"\"\"\n",
        "\n",
        "Time Complexity\n",
        "                O(n)\n",
        "\n",
        "\"\"\""
      ],
      "metadata": {
        "id": "-D8DiEdnzvwv"
      },
      "execution_count": null,
      "outputs": []
    },
    {
      "cell_type": "markdown",
      "source": [
        "Problem 4 :\n",
        "\n",
        "def longest_increasing_subsequence(nums):\n",
        "\n",
        "n = len(nums)\n",
        "\n",
        "lis = [1] * n\n",
        "\n",
        "for i in range(1, n):\n",
        "\n",
        "for j in range(0, i):\n",
        "\n",
        "if nums[i] > nums[j] and lis[i] < lis[j] + 1:\n",
        "\n",
        "lis[i] = lis[j] + 1\n",
        "\n",
        "return max(lis)\n"
      ],
      "metadata": {
        "id": "PjEaPNmszXLG"
      }
    },
    {
      "cell_type": "code",
      "source": [
        "\"\"\"\n",
        "\n",
        "Time Complexity: O(n^2)\n",
        "\n",
        "\"\"\"\n"
      ],
      "metadata": {
        "id": "7e5ia6Ejz36U"
      },
      "execution_count": null,
      "outputs": []
    },
    {
      "cell_type": "markdown",
      "source": [
        "Problem 5 :\n",
        "\n",
        "def mysterious_function(arr):\n",
        "\n",
        "n = len(arr)\n",
        "\n",
        "result = 0\n",
        "\n",
        "for i in range(n):\n",
        "\n",
        "for j in range(i, n):\n",
        "\n",
        "result += arr[i] * arr[j]\n",
        "\n",
        "return result\n"
      ],
      "metadata": {
        "id": "pbURlpCYzY5N"
      }
    },
    {
      "cell_type": "code",
      "source": [
        "\"\"\"\n",
        "\n",
        "Time complexity : O(n^2)\n",
        "\n",
        "\"\"\""
      ],
      "metadata": {
        "id": "TK7IsWRm0Ecj"
      },
      "execution_count": null,
      "outputs": []
    },
    {
      "cell_type": "markdown",
      "source": [
        "# Solve the following problems on recursion"
      ],
      "metadata": {
        "id": "c6ulfoGJ0cDR"
      }
    },
    {
      "cell_type": "markdown",
      "source": [
        "Problem 6 :\n",
        "\n",
        "Sum of Digits\n",
        "    Write a recursive function to calculate the sum of digits of a given positive integer.\n",
        "    sum_of_digits(123) -> 6"
      ],
      "metadata": {
        "id": "cQJI4Zhr0gMg"
      }
    },
    {
      "cell_type": "code",
      "source": [
        "def sum_of_digits(n):\n",
        "    # base case\n",
        "    if n < 10:\n",
        "        return n\n",
        "    else:\n",
        "        # recursive case\n",
        "        return n % 10 + sum_of_digits(n // 10)\n",
        "\n",
        "sum_of_digits(123)"
      ],
      "metadata": {
        "id": "XoWF9v2E069l"
      },
      "execution_count": null,
      "outputs": []
    },
    {
      "cell_type": "markdown",
      "source": [
        "Problem 7:\n",
        "\n",
        "Fibonacci Series\n",
        "Write a recursive function to generate the first n numbers of the Fibonacci series.\n",
        "fibonacci_series(6) -> [0, 1, 1, 2, 3, 5]"
      ],
      "metadata": {
        "id": "jxarTHP90iCv"
      }
    },
    {
      "cell_type": "code",
      "source": [
        "def fibonacci_series(n):\n",
        "    # base case\n",
        "  if n <= 1:\n",
        "    return n\n",
        "  else:\n",
        "      # recursive case\n",
        "    return fibonacci_series(n-1) + fibonacci_series(n-2)\n",
        "\n",
        "fibonacci_series(6)"
      ],
      "metadata": {
        "id": "R4bWa7rY1VCs"
      },
      "execution_count": null,
      "outputs": []
    },
    {
      "cell_type": "markdown",
      "source": [
        "Problem 8 :\n",
        "\n",
        "Subset Sum\n",
        "Given a set of positive integers and a target sum, write a recursive function to determine if there exists a subset\n",
        "of the integers that adds up to the target sum.\n",
        "subset_sum([3, 34, 4, 12, 5, 2], 9) -> True"
      ],
      "metadata": {
        "id": "d0v6VD3Q0joC"
      }
    },
    {
      "cell_type": "code",
      "source": [
        "def subset_sum(numbers, target_sum):\n",
        "  # base case\n",
        "  if target_sum == 0:\n",
        "    return True\n",
        "\n",
        "  # base case\n",
        "  if not numbers:\n",
        "    return False\n",
        "\n",
        "  # recursive case\n",
        "  first_number = numbers[0]\n",
        "  return subset_sum(numbers[1:], target_sum) or subset_sum(numbers[1:], target_sum - first_number)\n",
        "\n",
        "subset_sum([3,34,4,12,5,2],9)\n"
      ],
      "metadata": {
        "id": "GQVdo4-c2DXf"
      },
      "execution_count": null,
      "outputs": []
    },
    {
      "cell_type": "markdown",
      "source": [
        "Problem 9:\n",
        "\n",
        "Word Break\n",
        "Given a non-empty string and a dictionary of words, write a recursive function to determine if the string can be\n",
        "segmented into a space-separated sequence of dictionary words.\n",
        "word_break( leetcode , [ leet , code ]) -> True"
      ],
      "metadata": {
        "id": "KXvPMbo90lTm"
      }
    },
    {
      "cell_type": "code",
      "source": [
        "def word_break(s, word_dict):\n",
        "    # base case\n",
        "    if s == \"\":\n",
        "        return True\n",
        "\n",
        "    for i in range(1, len(s) + 1):\n",
        "        prefix = s[:i]\n",
        "        # recursive case\n",
        "        if prefix in word_dict and word_break(s[i:], word_dict):\n",
        "            return True\n",
        "\n",
        "    return False\n",
        "\n",
        "word_break(\"leetcode\",set([\"leet\", \"code\"]))"
      ],
      "metadata": {
        "id": "TdpKD-k72iQ4"
      },
      "execution_count": null,
      "outputs": []
    },
    {
      "cell_type": "markdown",
      "source": [
        "Problem 10 :\n",
        "\n",
        "N-Queens\n",
        "Implement a recursive function to solve the N Queens problem, where you have to place N queens on an N×N\n",
        "chessboard in such a way that no two queens threaten each other.\n",
        "n_queens(4)\n",
        "\n",
        "[\n",
        "[\".Q..\",\n",
        "\"...Q\",\n",
        "\"Q...\",\n",
        "\"..Q.\"],\n",
        "[\"..Q.\",\n",
        "\"Q...\",\n",
        "\"...Q\",\n",
        "\".Q..\"]\n",
        "]"
      ],
      "metadata": {
        "id": "40H71u7g0ngu"
      }
    },
    {
      "cell_type": "code",
      "source": [
        "def n_queens(n):\n",
        "    def solve(board, row):\n",
        "        if row == n:\n",
        "            result.append([\"\".join(row) for row in board])\n",
        "            return\n",
        "        for col in range(n):\n",
        "            if is_safe(board, row, col):\n",
        "                board[row][col] = 'Q'\n",
        "                solve(board, row + 1)\n",
        "                board[row][col] = '.'\n",
        "\n",
        "    def is_safe(board, row, col):\n",
        "        for i in range(row):\n",
        "            if board[i][col] == 'Q':\n",
        "                return False\n",
        "        for i, j in zip(range(row - 1, -1, -1), range(col - 1, -1, -1)):\n",
        "            if board[i][j] == 'Q':\n",
        "                return False\n",
        "        for i, j in zip(range(row - 1, -1, -1), range(col + 1, n)):\n",
        "            if board[i][j] == 'Q':\n",
        "                return False\n",
        "        return True\n",
        "\n",
        "    result = []\n",
        "    board = [['.' for _ in range(n)] for _ in range(n)]\n",
        "    solve(board, 0)\n",
        "    return result\n",
        "\n",
        "print(n_queens(4))"
      ],
      "metadata": {
        "id": "oa-yfJrS4vqo"
      },
      "execution_count": null,
      "outputs": []
    }
  ]
}