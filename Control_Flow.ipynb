{
  "nbformat": 4,
  "nbformat_minor": 0,
  "metadata": {
    "colab": {
      "private_outputs": true,
      "provenance": [],
      "toc_visible": true
    },
    "kernelspec": {
      "name": "python3",
      "display_name": "Python 3"
    },
    "language_info": {
      "name": "python"
    }
  },
  "cells": [
    {
      "cell_type": "markdown",
      "source": [
        "# Basic If-Else Statements:"
      ],
      "metadata": {
        "id": "3qvYtgz2n9Rl"
      }
    },
    {
      "cell_type": "markdown",
      "source": [
        "1. Write a Python program to check if a given number is positive or negative."
      ],
      "metadata": {
        "id": "Q-ZTRTsqoEF9"
      }
    },
    {
      "cell_type": "code",
      "source": [
        "def check_number(num):\n",
        "    if num > 0:\n",
        "        return \"positive\"\n",
        "    elif num < 0:\n",
        "        return \"negative\"\n",
        "    else:\n",
        "        return \"zero\"\n",
        "number = (-3)\n",
        "result = check_number(number)\n",
        "print(result)\n"
      ],
      "metadata": {
        "id": "qiMfkhgmsQVO"
      },
      "execution_count": null,
      "outputs": []
    },
    {
      "cell_type": "markdown",
      "source": [
        "2. Create a program that determines if a person is eligible to vote based on their age."
      ],
      "metadata": {
        "id": "nNcS4xxooEC9"
      }
    },
    {
      "cell_type": "code",
      "source": [
        "def eligibility(age):\n",
        "    if age >= 18:\n",
        "        return \"eligible\"\n",
        "    else:\n",
        "        return \"not eligible\"\n",
        "age = (34)\n",
        "eligibility(age)\n",
        "\n"
      ],
      "metadata": {
        "id": "BTmgYGlXskW3"
      },
      "execution_count": null,
      "outputs": []
    },
    {
      "cell_type": "markdown",
      "source": [
        "3. Develop a program to find the maximum of two numbers using if-else statements."
      ],
      "metadata": {
        "id": "st1YlkhUoEAV"
      }
    },
    {
      "cell_type": "code",
      "source": [
        "def maximum(num1, num2):\n",
        "    if num1 > num2:\n",
        "        return num1\n",
        "    elif num2 > num1:\n",
        "        return num2\n",
        "    else:\n",
        "        return \"equal\"\n",
        "num1 = (23)\n",
        "num2 = (32)\n",
        "maximum(num1, num2)"
      ],
      "metadata": {
        "id": "Zy-3PWKKtCCf"
      },
      "execution_count": null,
      "outputs": []
    },
    {
      "cell_type": "markdown",
      "source": [
        "4. Write a Python script to classify a given year as a leap year or not."
      ],
      "metadata": {
        "id": "aJpklq-3oD59"
      }
    },
    {
      "cell_type": "code",
      "source": [
        "def leap_year(year):\n",
        "    if (year % 4 == 0):\n",
        "        if (year % 100 == 0):\n",
        "            if (year % 400 == 0):\n",
        "                return True\n",
        "            else:\n",
        "                return False\n",
        "        else:\n",
        "            return True\n",
        "    else:\n",
        "        return False\n",
        "year = (2050)\n",
        "if leap_year(year):\n",
        "    print(\"is a leap year.\")\n",
        "else:\n",
        "    print(\"is leap not leap year\")\n"
      ],
      "metadata": {
        "id": "uc1iTFNPtij_"
      },
      "execution_count": null,
      "outputs": []
    },
    {
      "cell_type": "markdown",
      "source": [
        "5. Create a program that checks whether a character is a vowel or a consonant."
      ],
      "metadata": {
        "id": "5G6y2zCYoD21"
      }
    },
    {
      "cell_type": "code",
      "source": [
        "def check_(char):\n",
        "    char = char.lower()\n",
        "    if char in 'aeiou':\n",
        "        print(\"Vowel\")\n",
        "    elif char.isalpha():\n",
        "        print(\"Consonant\")\n",
        "    else:\n",
        "        print(\"false\")\n",
        "char = (\"dfgdfg\")\n",
        "check_(char)"
      ],
      "metadata": {
        "id": "9UEIF4d8uEpF"
      },
      "execution_count": null,
      "outputs": []
    },
    {
      "cell_type": "markdown",
      "source": [
        "6. Implement a program to determine whether a given number is even or odd."
      ],
      "metadata": {
        "id": "KFMon0XboDz1"
      }
    },
    {
      "cell_type": "code",
      "source": [
        "def even_odd(num):\n",
        "    if num % 2 == 0:\n",
        "        print(\"even\")\n",
        "    else:\n",
        "        print(\"odd\")\n",
        "num = (1)\n",
        "even_odd(num)"
      ],
      "metadata": {
        "id": "9xT1yn2mu5Xn"
      },
      "execution_count": null,
      "outputs": []
    },
    {
      "cell_type": "markdown",
      "source": [
        "7. Write a Python function to calculate the absolute value of a number without using the `abs()` function."
      ],
      "metadata": {
        "id": "7eJCWittoDxG"
      }
    },
    {
      "cell_type": "code",
      "source": [
        "def abs_value(num):\n",
        "    if number < 0:\n",
        "        return -num\n",
        "    else:\n",
        "        return num\n",
        "\n",
        "abs_value(num)\n"
      ],
      "metadata": {
        "id": "0ij8-IXPvnVF"
      },
      "execution_count": null,
      "outputs": []
    },
    {
      "cell_type": "markdown",
      "source": [
        "8. Develop a program that determines the largest of three given numbers using if-else statements."
      ],
      "metadata": {
        "id": "TK92TriXoDuF"
      }
    },
    {
      "cell_type": "code",
      "source": [
        "def largest(a, b, c):\n",
        "    if a >= b and a >= c:\n",
        "        return a\n",
        "    elif b >= a and b >= c:\n",
        "        return b\n",
        "    else:\n",
        "        return c\n",
        "a = (1)\n",
        "b = (6)\n",
        "c = (5)\n",
        "largest(a,b,c)"
      ],
      "metadata": {
        "id": "PtvMeWLewGqj"
      },
      "execution_count": null,
      "outputs": []
    },
    {
      "cell_type": "markdown",
      "source": [
        "9. Create a program that checks if a given string is a palindrome."
      ],
      "metadata": {
        "id": "fbelDdAUoDq9"
      }
    },
    {
      "cell_type": "code",
      "source": [
        "def palindrome(s):\n",
        "    s = s.replace(\" \", \"\").lower()\n",
        "    return s == s[::-1]\n",
        "\n",
        "str1 = (\"abba\")\n",
        "if palindrome(str1):\n",
        "    print(\"is palindrome\")\n",
        "else:\n",
        "    print(\"is not palindrome.\")"
      ],
      "metadata": {
        "id": "zavRPuYPw8PV"
      },
      "execution_count": null,
      "outputs": []
    },
    {
      "cell_type": "markdown",
      "source": [
        "10. Write a Python program to calculate the grade based on a student's score."
      ],
      "metadata": {
        "id": "H453zYI6oDn0"
      }
    },
    {
      "cell_type": "code",
      "source": [
        "def cal_grade(score):\n",
        "    if score >= 90:\n",
        "        return 'A'\n",
        "    elif score >= 80:\n",
        "        return 'B'\n",
        "    elif score >= 70:\n",
        "        return 'C'\n",
        "    elif score >= 60:\n",
        "        return 'D'\n",
        "    else:\n",
        "        return 'F'\n",
        "score = (45)\n",
        "cal_grade(score)"
      ],
      "metadata": {
        "id": "y_1oPnKNxlpx"
      },
      "execution_count": null,
      "outputs": []
    },
    {
      "cell_type": "markdown",
      "source": [
        "# Nested If-Else Statements:"
      ],
      "metadata": {
        "id": "rjbNPicgoW5h"
      }
    },
    {
      "cell_type": "markdown",
      "source": [
        "11. Write a program to find the largest among three numbers using nested if-else statements."
      ],
      "metadata": {
        "id": "aaDR-E6SoDg8"
      }
    },
    {
      "cell_type": "code",
      "source": [
        "def largest_(a,b,c):\n",
        "    if a >= b:\n",
        "        if a >= c:\n",
        "            largest = a\n",
        "        else:\n",
        "            largest = c\n",
        "    else:\n",
        "        if num2 >= c:\n",
        "            largest = b\n",
        "        else:\n",
        "            largest = c\n",
        "    return largest\n",
        "a =(7)\n",
        "b =(2)\n",
        "c =(3)\n",
        "largest = largest_(a,b,c)\n",
        "print(largest)"
      ],
      "metadata": {
        "id": "q8RM3S28x7wI"
      },
      "execution_count": null,
      "outputs": []
    },
    {
      "cell_type": "markdown",
      "source": [
        "12. Implement a program to determine if a triangle is equilateral, isosceles, or scalene."
      ],
      "metadata": {
        "id": "LJIY8vz8oDbk"
      }
    },
    {
      "cell_type": "code",
      "source": [
        "def triangle(s1, s2, s3):\n",
        "    if s1 == s2 == s3:\n",
        "        return \"Equilateral\"\n",
        "    elif s1 == s2 or s1 == s3 or s2 == s3:\n",
        "        return \"Isosceles\"\n",
        "    else:\n",
        "        return \"Scalene\"\n",
        "side1 =()\n",
        "side2 =()\n",
        "side3 =()\n",
        "triangle(side1, side2, side3)"
      ],
      "metadata": {
        "id": "EltKknoF0SoM"
      },
      "execution_count": null,
      "outputs": []
    },
    {
      "cell_type": "markdown",
      "source": [
        "13. Develop a program that checks if a year is a leap year and also if it is a century year."
      ],
      "metadata": {
        "id": "9Hw5j3FsoDYm"
      }
    },
    {
      "cell_type": "code",
      "source": [
        "def is_leap_year(year):\n",
        "    if (year % 4 == 0 and year % 100 != 0) or (year % 400 == 0):\n",
        "        print(\"leap year.\")\n",
        "    else:\n",
        "        print(\"not a leap year.\")\n",
        "\n",
        "year = 2004\n",
        "is_leap_year(year)"
      ],
      "metadata": {
        "id": "t2AY_JCM0sfY"
      },
      "execution_count": null,
      "outputs": []
    },
    {
      "cell_type": "markdown",
      "source": [
        "14. Write a Python script to determine if a number is positive, negative, or zero."
      ],
      "metadata": {
        "id": "2pgwlAogoDVm"
      }
    },
    {
      "cell_type": "code",
      "source": [
        "def check_num(num):\n",
        "    if num > 0:\n",
        "        return \"Positive\"\n",
        "    elif num < 0:\n",
        "        return \"Negative\"\n",
        "    else:\n",
        "        return \"Zero\"\n",
        "num = (12)\n",
        "check_num(num)"
      ],
      "metadata": {
        "id": "2piM_IaT3cJe"
      },
      "execution_count": null,
      "outputs": []
    },
    {
      "cell_type": "markdown",
      "source": [
        "15. Create a program to check if a person is a teenager (between 13 and 19 years old)."
      ],
      "metadata": {
        "id": "Z7GMLvipoDS2"
      }
    },
    {
      "cell_type": "code",
      "source": [
        "def is_teen(age):\n",
        "    if 13<= age <= 19:\n",
        "        print(\"True\")\n",
        "    else:\n",
        "        print('False')\n",
        "is_teen(34)"
      ],
      "metadata": {
        "id": "FOWQ22jv377s"
      },
      "execution_count": null,
      "outputs": []
    },
    {
      "cell_type": "markdown",
      "source": [
        "16. Develop a program that determines the type of angle based on its measure (acute, obtuse, or right)."
      ],
      "metadata": {
        "id": "xYYH9dWFokzz"
      }
    },
    {
      "cell_type": "code",
      "source": [
        "def angle_of_type(angle):\n",
        "    if 0 < angle < 90:\n",
        "        return \"acute angle\"\n",
        "    elif angle == 90:\n",
        "        return \"right angle\"\n",
        "    elif 90 < angle < 180:\n",
        "        return \"obtuse angle\"\n",
        "    else:\n",
        "        return \"invalid angle\"\n",
        "angle_of_type(34)"
      ],
      "metadata": {
        "id": "Ah0-fd_c7X0C"
      },
      "execution_count": null,
      "outputs": []
    },
    {
      "cell_type": "markdown",
      "source": [
        "17. Write a Python program to calculate the roots of a quadratic equation."
      ],
      "metadata": {
        "id": "90rtukh6olkB"
      }
    },
    {
      "cell_type": "code",
      "source": [
        "import cmath\n",
        "def roots(a, b, c):\n",
        "    x = b**2 - 4*a*c\n",
        "    root1 =(-b+cmath.sqrt(x))/(2*a)\n",
        "    root2 =(-b-cmath.sqrt(x))/(2*a)\n",
        "    return root1, root2\n",
        "a = 1\n",
        "b = -3\n",
        "c = 2\n",
        "roots(a,b,c)"
      ],
      "metadata": {
        "id": "GhqMWYW38JXJ"
      },
      "execution_count": null,
      "outputs": []
    },
    {
      "cell_type": "markdown",
      "source": [
        "18. Implement a program to determine the day of the week based on a user-provided number (1 for Monday, 2\n",
        "for Tuesday, etc.)."
      ],
      "metadata": {
        "id": "WOBs7Au8olg0"
      }
    },
    {
      "cell_type": "code",
      "source": [
        "def day_(day):\n",
        "  x= {1:\"monday\",2:\"tuesday\",3:\"wednesday\",4:\"thursday\",5:\"friday\",6:\"saturday\",7: \"Sunday\"}\n",
        "  if 1 <= day<= 7:\n",
        "    return x[day]\n",
        "  else:\n",
        "    return \"false\"\n",
        "day_(4)"
      ],
      "metadata": {
        "id": "2JGhEXtD-iFe"
      },
      "execution_count": null,
      "outputs": []
    },
    {
      "cell_type": "markdown",
      "source": [
        "19. Create a program that determines if a year is a leap year and also if it is evenly divisible by 400."
      ],
      "metadata": {
        "id": "PwJckFQbold1"
      }
    },
    {
      "cell_type": "code",
      "source": [
        "def leap_year(year):\n",
        "  leap_year = (year % 4 == 0 and year % 100 != 0) or year % 400 == 0\n",
        "  x = year % 400 == 0\n",
        "\n",
        "  return leap_year, x\n",
        "leap_year(2020)"
      ],
      "metadata": {
        "id": "78Fo0TIc_qD5"
      },
      "execution_count": null,
      "outputs": []
    },
    {
      "cell_type": "markdown",
      "source": [
        "20. Develop a program that checks if a given number is prime or not using nested if-else statements."
      ],
      "metadata": {
        "id": "J04Dar-4olat"
      }
    },
    {
      "cell_type": "code",
      "source": [
        "def is_prime(num):\n",
        "  if num <= 1:\n",
        "    return False\n",
        "  if num % 2 == 0:\n",
        "    return num == 2\n",
        "  for i in range(3, int(num**0.5) + 1, 2):\n",
        "    if num % i == 0:\n",
        "      return False\n",
        "  return True\n",
        "is_prime(2)"
      ],
      "metadata": {
        "id": "KbFY-T7iAJcu"
      },
      "execution_count": null,
      "outputs": []
    },
    {
      "cell_type": "markdown",
      "source": [
        "# Elif Statements:"
      ],
      "metadata": {
        "id": "Kta5qc4ZouVk"
      }
    },
    {
      "cell_type": "markdown",
      "source": [
        "21. Write a Python program to assign grades based on different ranges of scores using elif statements."
      ],
      "metadata": {
        "id": "n5XRjEL6olX8"
      }
    },
    {
      "cell_type": "code",
      "source": [
        "def grade_(score):\n",
        "  if not 0 <= score <= 100:\n",
        "    return False\n",
        "  if score >= 90:\n",
        "    grade = 'a'\n",
        "  elif score >= 80:\n",
        "    grade = 'b'\n",
        "  elif score >= 70:\n",
        "    grade = 'c'\n",
        "  elif score >= 60:\n",
        "    grade = 'd'\n",
        "  else:\n",
        "    grade = 'f'\n",
        "  return grade\n",
        "grade_(90)"
      ],
      "metadata": {
        "id": "zaS27UrUApMi"
      },
      "execution_count": null,
      "outputs": []
    },
    {
      "cell_type": "markdown",
      "source": [
        "22. Implement a program to determine the type of a triangle based on its angles."
      ],
      "metadata": {
        "id": "gepQYtYhox-2"
      }
    },
    {
      "cell_type": "code",
      "source": [
        "def triangle_type(a,b,c):\n",
        "  if all(angle < 90 for angle in [a,b,c]):\n",
        "    return 'acute'\n",
        "  elif any(angle == 90 for angle in [a,b,c]):\n",
        "    return 'right'\n",
        "  else:\n",
        "    return 'obtuse'\n",
        "a,b,c= [60, 60, 60]\n",
        "triangle_type(a,b,c)"
      ],
      "metadata": {
        "id": "SKe0jpAiFrbK"
      },
      "execution_count": null,
      "outputs": []
    },
    {
      "cell_type": "markdown",
      "source": [
        "23. Develop a program to categorize a given person's BMI into underweight, normal, overweight, or obese using\n",
        "elif statements."
      ],
      "metadata": {
        "id": "tuPc-60sox5d"
      }
    },
    {
      "cell_type": "code",
      "source": [
        "def bmi_(w,h):\n",
        "  bmi = w/ (h * h)\n",
        "\n",
        "  if bmi < 18.5:\n",
        "    return 'underweight'\n",
        "  elif 18.5 <= bmi < 25:\n",
        "    return 'normal'\n",
        "  elif 25 <= bmi < 30:\n",
        "    return 'overweight'\n",
        "  else:\n",
        "    return 'obese'\n",
        "w,h = [69,6]\n",
        "bmi_(w,h)\n"
      ],
      "metadata": {
        "id": "HEAUkxD7Glvq"
      },
      "execution_count": null,
      "outputs": []
    },
    {
      "cell_type": "markdown",
      "source": [
        "24. Create a program that determines whether a given number is positive, negative, or zero using elif\n",
        "statements."
      ],
      "metadata": {
        "id": "d2tLaLAuox2e"
      }
    },
    {
      "cell_type": "code",
      "source": [
        "def num_type(num):\n",
        "  if num > 0:\n",
        "    return 'positive'\n",
        "  elif number < 0:\n",
        "    return 'negative'\n",
        "  else:\n",
        "    return 'zero'\n",
        "num= (3)\n",
        "num_type(num)"
      ],
      "metadata": {
        "id": "JShbbNaYHQ3H"
      },
      "execution_count": null,
      "outputs": []
    },
    {
      "cell_type": "markdown",
      "source": [
        "25. Write a Python script to determine the type of a character (uppercase, lowercase, or special) using elif\n",
        "statements."
      ],
      "metadata": {
        "id": "jdl0WmFNoxzk"
      }
    },
    {
      "cell_type": "code",
      "source": [
        "def char_type(x):\n",
        "  if x.isupper():\n",
        "    return 'uppercase'\n",
        "  elif x.islower():\n",
        "    return 'lowercase'\n",
        "  else:\n",
        "    return 'special'\n",
        "x= \"fdf\"\n",
        "char_type(x)\n"
      ],
      "metadata": {
        "id": "e2By4UcqHx0L"
      },
      "execution_count": null,
      "outputs": []
    },
    {
      "cell_type": "markdown",
      "source": [
        "26. Implement a program to calculate the discounted price based on different purchase amounts using elif\n",
        "statements."
      ],
      "metadata": {
        "id": "yTUgPIAlolVG"
      }
    },
    {
      "cell_type": "code",
      "source": [
        "def discount_(price, amount):\n",
        "  discount = 0\n",
        "  if amount >= 1000:\n",
        "    discount = 0.15\n",
        "  elif amount >= 500:\n",
        "    discount = 0.1\n",
        "  elif amount >= 100:\n",
        "    discount = 0.05\n",
        "  discounted_price = price * (1 - discount)\n",
        "  return discounted_price, discount * 100\n",
        "price = 100\n",
        "amount = 750\n",
        "discounted_price, discount_percent = discount_(price,amount)\n",
        "discount_(price, amount)"
      ],
      "metadata": {
        "id": "Hc3h_XnoIUp5"
      },
      "execution_count": null,
      "outputs": []
    },
    {
      "cell_type": "markdown",
      "source": [
        "27. Develop a program to calculate the electricity bill based on different consumption slabs using elif\n",
        "statements."
      ],
      "metadata": {
        "id": "PKbZQAaNolR7"
      }
    },
    {
      "cell_type": "code",
      "source": [
        "def bill_(units):\n",
        "  charges = 200\n",
        "  r1 = 3\n",
        "  r2 = 5\n",
        "  r3 = 7\n",
        "  bill = charges\n",
        "  if units <= 100:\n",
        "    bill += units * r1\n",
        "  elif units <= 250:\n",
        "    bill += 100 * r1 + (units - 100) * r2\n",
        "  else:\n",
        "    bill += 100 * r1 + 150 * r2 + (units - 250) * r3\n",
        "  return bill\n",
        "bill_(200)"
      ],
      "metadata": {
        "id": "cjZ9asMpMcqL"
      },
      "execution_count": null,
      "outputs": []
    },
    {
      "cell_type": "markdown",
      "source": [
        "28. Create a program to determine the type of quadrilateral based on its angles and sides using elif\n",
        "statements."
      ],
      "metadata": {
        "id": "Eccw5-KFolPO"
      }
    },
    {
      "cell_type": "code",
      "source": [
        "def quadrilateralz_(a,b,c,d):\n",
        "    if a + b + c + d == 360:\n",
        "        if a == b == c == d:\n",
        "            return \"rectangle\"\n",
        "        elif a == b == c or a == b == d or a == c == d or b == c == d:\n",
        "            return \"equilateral\"\n",
        "        elif a == 90 and b ==90 and c ==90 and d ==90:\n",
        "            return \"Square\"\n",
        "        elif a == 90 or b ==90 or c ==90 or d ==90:\n",
        "            return \"rectangle\"\n",
        "        else:\n",
        "            return \"unknown\"\n",
        "    else:\n",
        "        return \"not a quadrilateral\"\n",
        "a =30\n",
        "b =60\n",
        "c =90\n",
        "d =120\n",
        "quadrilateralz_(a,b,c,d)"
      ],
      "metadata": {
        "id": "j5dq8TVINW8-"
      },
      "execution_count": null,
      "outputs": []
    },
    {
      "cell_type": "markdown",
      "source": [
        "29. Write a Python script to determine the season based on a user-provided month using elif statements."
      ],
      "metadata": {
        "id": "kcaiMUhoolMD"
      }
    },
    {
      "cell_type": "code",
      "source": [
        "def season(n):\n",
        "    month = n.lower()\n",
        "\n",
        "    if month in ['december','january','february']:\n",
        "        return \"Winter\"\n",
        "    elif month in ['march','april','may']:\n",
        "        return \"Spring\"\n",
        "    elif month in ['june', 'july', 'august']:\n",
        "        return \"Summer\"\n",
        "    elif month in ['september','october','november']:\n",
        "        return \"Fall\"\n",
        "    else:\n",
        "        return \"invalid month\"\n",
        "n = \"september\"\n",
        "season(n)"
      ],
      "metadata": {
        "id": "DRxKMxptZUV6"
      },
      "execution_count": null,
      "outputs": []
    },
    {
      "cell_type": "markdown",
      "source": [
        "30. Implement a program to determine the type of a year (leap or common) and month (30 or 31 days) using\n",
        "elif statements."
      ],
      "metadata": {
        "id": "K0LYbvjMpDOy"
      }
    },
    {
      "cell_type": "code",
      "source": [
        "def year(year):\n",
        "    if year % 4 ==0:\n",
        "        if year % 100 ==0:\n",
        "            if year % 400 ==0:\n",
        "                return \"Leap\"\n",
        "            else:\n",
        "                return \"Commom\"\n",
        "        else:\n",
        "            return \"Leap\"\n",
        "    else:\n",
        "        return \"Common\"\n",
        "year = 2025\n",
        "year(year)"
      ],
      "metadata": {
        "id": "c0i_u9lgZr45"
      },
      "execution_count": null,
      "outputs": []
    },
    {
      "cell_type": "markdown",
      "source": [
        "# Basic Level:"
      ],
      "metadata": {
        "id": "yCO9QPOPpHAe"
      }
    },
    {
      "cell_type": "markdown",
      "source": [
        "1. Write a Python program that checks if a given number is positive, negative, or zero."
      ],
      "metadata": {
        "id": "vANY-_f3pEby"
      }
    },
    {
      "cell_type": "code",
      "source": [
        "def check_num(num):\n",
        "    if num > 0:\n",
        "        return \"positive.\"\n",
        "    elif num < 0:\n",
        "        return \"negative.\"\n",
        "    else:\n",
        "        return \"zero.\"\n",
        "num = 34\n",
        "check_num(num)"
      ],
      "metadata": {
        "id": "oEf6_0i0bOpg"
      },
      "execution_count": null,
      "outputs": []
    },
    {
      "cell_type": "markdown",
      "source": [
        "2. Create a program to determine if a person is eligible to vote based on their age."
      ],
      "metadata": {
        "id": "8rYHbl-spFP2"
      }
    },
    {
      "cell_type": "code",
      "source": [
        "def eligibil(age):\n",
        "    if age >= 18:\n",
        "        return \"eligible to vote.\"\n",
        "    else:\n",
        "        return \"not eligible \"\n",
        "age = 3\n",
        "eligibil(age)"
      ],
      "metadata": {
        "id": "OgpdnNwabXwo"
      },
      "execution_count": null,
      "outputs": []
    },
    {
      "cell_type": "markdown",
      "source": [
        "3. Write a program to find the maximum of two given numbers using conditional statements."
      ],
      "metadata": {
        "id": "9mdKXhc2pFND"
      }
    },
    {
      "cell_type": "code",
      "source": [
        "def maxi(num1, num2):\n",
        "    if num1 > num2:\n",
        "        return num1\n",
        "    elif num2 > num1:\n",
        "        return num2\n",
        "    else:\n",
        "        return \"equal.\"\n",
        "num1,num2 = 2,3\n",
        "maxi(num1,num2)"
      ],
      "metadata": {
        "id": "LyUIV2Dhbm3G"
      },
      "execution_count": null,
      "outputs": []
    },
    {
      "cell_type": "markdown",
      "source": [
        "4. Develop a program that calculates the grade of a student based on their exam score."
      ],
      "metadata": {
        "id": "aatzZtpGpFJ2"
      }
    },
    {
      "cell_type": "code",
      "source": [
        "def grade(score):\n",
        "  if not 0 <= score <= 100:\n",
        "    raise ValueError(\"Score must be between 0 and 100.\")\n",
        "\n",
        "  if score >= 90:\n",
        "    grade = 'A'\n",
        "  elif score >= 80:\n",
        "    grade = 'B'\n",
        "  elif score >= 70:\n",
        "    grade = 'C'\n",
        "  elif score >= 60:\n",
        "    grade = 'D'\n",
        "  else:\n",
        "    grade = 'F'\n",
        "  return grade\n",
        "score= 34\n",
        "grade(score)\n"
      ],
      "metadata": {
        "id": "DKI0Gdfjb7ri"
      },
      "execution_count": null,
      "outputs": []
    },
    {
      "cell_type": "markdown",
      "source": [
        "5. Create a program that checks if a year is a leap year or not."
      ],
      "metadata": {
        "id": "OPpFjD1fpFGj"
      }
    },
    {
      "cell_type": "code",
      "source": [
        "def leap_year(year):\n",
        "  if year % 4 == 0:\n",
        "    if year % 100 == 0:\n",
        "      if year % 400 == 0:\n",
        "        return True\n",
        "      else:\n",
        "        return False\n",
        "    else:\n",
        "      return True\n",
        "  else:\n",
        "    return False\n",
        "year= 2000\n",
        "leap_year(year)"
      ],
      "metadata": {
        "id": "q3V2A3GSckdK"
      },
      "execution_count": null,
      "outputs": []
    },
    {
      "cell_type": "markdown",
      "source": [
        "6. Write a program to classify a triangle based on its sides' lengths."
      ],
      "metadata": {
        "id": "buEZ_7V4pFCN"
      }
    },
    {
      "cell_type": "code",
      "source": [
        "def classify(side1, side2, side3):\n",
        "  if (side1 + side2 <= side3) or (side2 + side3 <= side1) or (side1 + side3 <= side2):\n",
        "    return None\n",
        "  if side1 == side2 == side3:\n",
        "    return \"equilateral Triangle\"\n",
        "  elif side1 == side2 or side2 == side3 or side1 == side3:\n",
        "    return \"isosceles Triangle\"\n",
        "  else:\n",
        "    return \"scalene Triangle\"\n",
        "side1, side2, side3=3,4,5\n",
        "classify(side1, side2, side3)"
      ],
      "metadata": {
        "id": "xJ7oE0Ytc0-p"
      },
      "execution_count": null,
      "outputs": []
    },
    {
      "cell_type": "markdown",
      "source": [
        "7. Build a program that determines the largest of three given numbers."
      ],
      "metadata": {
        "id": "-5WonWP5pZDW"
      }
    },
    {
      "cell_type": "code",
      "source": [
        "def larges_(num1,num2,num3):\n",
        "  largest = max(num1,num2,num3)\n",
        "  return larges_\n",
        "num1,num2,num3  = 1,2,3\n",
        "larges_(num1,num2,num3)"
      ],
      "metadata": {
        "id": "6dIRyG1fdV-Y"
      },
      "execution_count": null,
      "outputs": []
    },
    {
      "cell_type": "markdown",
      "source": [
        "8. Develop a program that checks whether a character is a vowel or a consonant."
      ],
      "metadata": {
        "id": "ghZ1I_zZpE-0"
      }
    },
    {
      "cell_type": "code",
      "source": [
        "def vowel_(char):\n",
        "  char = char.lower()\n",
        "  vowels = 'aeiou'\n",
        "  return char in vowels\n",
        "char = 'a'\n",
        "vowel_(char)\n"
      ],
      "metadata": {
        "id": "qSwYFFwddifz"
      },
      "execution_count": null,
      "outputs": []
    },
    {
      "cell_type": "markdown",
      "source": [
        "9. Create a program to calculate the total cost of a shopping cart based on discounts."
      ],
      "metadata": {
        "id": "Kx1yZeGlpE72"
      }
    },
    {
      "cell_type": "markdown",
      "source": [
        "10. Write a program that checks if a given number is even or odd."
      ],
      "metadata": {
        "id": "LfQckyKgpE4z"
      }
    },
    {
      "cell_type": "code",
      "source": [
        "def is_even(num):\n",
        "  return num % 2 == 0\n",
        "num = 10\n",
        "if is_even(num):\n",
        "  print(\"is even\")\n",
        "else:\n",
        "  print(\"is odd\")\n",
        "num = 34\n",
        "is_even(num)"
      ],
      "metadata": {
        "id": "5RhEXcnJgPEz"
      },
      "execution_count": null,
      "outputs": []
    },
    {
      "cell_type": "markdown",
      "source": [
        "# Intermediate Level:"
      ],
      "metadata": {
        "id": "eC8FZjcfpbag"
      }
    },
    {
      "cell_type": "markdown",
      "source": [
        "11. Write a program that calculates the roots of a quadratic equation ."
      ],
      "metadata": {
        "id": "GKjJmgCcpgnb"
      }
    },
    {
      "cell_type": "code",
      "source": [],
      "metadata": {
        "id": "cnqK27WOYMax"
      },
      "execution_count": null,
      "outputs": []
    },
    {
      "cell_type": "markdown",
      "source": [
        "12. Create a program that determines the day of the week based on the day number (1-7)."
      ],
      "metadata": {
        "id": "39aiZcKxpgg8"
      }
    },
    {
      "cell_type": "code",
      "source": [
        "def _week(day):\n",
        "  days = {1: \"Monday\",2: \"Tuesday\",3: \"Wednesday\",4: \"Thursday\",5: \"Friday\",6: \"Saturday\",7: \"Sunday\"\n",
        "  }\n",
        "  if 1 <= day <= 7:\n",
        "    return days[day]\n",
        "  else:\n",
        "    return \"invalid day\"\n",
        "day = 3\n",
        "_week(day)"
      ],
      "metadata": {
        "id": "QRv8epZDgd9J"
      },
      "execution_count": null,
      "outputs": []
    },
    {
      "cell_type": "markdown",
      "source": [
        "13. Develop a program that calculates the factorial of a given number using recursion."
      ],
      "metadata": {
        "id": "sXy-mJcrpgb1"
      }
    },
    {
      "cell_type": "code",
      "source": [
        "def factorial(n):\n",
        "  if n == 0:\n",
        "    return 1\n",
        "  else:\n",
        "    return n * factorial(n-1)\n",
        "num = 5\n",
        "factorial(num)"
      ],
      "metadata": {
        "id": "aDU1fruZg19t"
      },
      "execution_count": null,
      "outputs": []
    },
    {
      "cell_type": "markdown",
      "source": [
        "14. Write a program to find the largest among three numbers without using the `max()` function."
      ],
      "metadata": {
        "id": "vpFMK-ggpgY3"
      }
    },
    {
      "cell_type": "code",
      "source": [
        "def _largest(num1, num2, num3):\n",
        "  largest = num1 if num1 >= num2 else num2\n",
        "  return largest if largest >= num3 else num3\n",
        "num1 = 10\n",
        "num2 = 15\n",
        "num3 = 5\n",
        "_largest(num1, num2, num3)"
      ],
      "metadata": {
        "id": "BoKzRbV1hLA9"
      },
      "execution_count": null,
      "outputs": []
    },
    {
      "cell_type": "markdown",
      "source": [
        "15. Create a program that simulates a basic ATM transaction menu."
      ],
      "metadata": {
        "id": "IIw72I0HpgWG"
      }
    },
    {
      "cell_type": "code",
      "source": [
        "def check_balance(balance):\n",
        "    print(balance)\n",
        "\n",
        "def deposit(balance):\n",
        "    amount = float(input(\"Enter amount to deposit: \"))\n",
        "    balance += amount\n",
        "    print(\"Deposit successful.\",balance)\n",
        "    return balance\n",
        "\n",
        "def withdraw(balance):\n",
        "    amount = float(input(\"Enter amount to withdraw: \"))\n",
        "    if amount > balance:\n",
        "        print(\"insufficient funds.\")\n",
        "    else:\n",
        "        balance -= amount\n",
        "        print(\"Withdrawal successful\", balance)\n",
        "    return balance\n",
        "\n",
        "def atm_menu(balance):\n",
        "    while True:\n",
        "        print(\"ATM Menu:\")\n",
        "        print(\"1-->Check Balance\")\n",
        "        print(\"2-->Deposit\")\n",
        "        print(\"3-->Withdraw\")\n",
        "        print(\"4-->Exit\")\n",
        "        choice = input()\n",
        "\n",
        "        if choice == '1':\n",
        "            check_balance(balance)\n",
        "        elif choice == '2':\n",
        "            balance = deposit(balance)\n",
        "        elif choice == '3':\n",
        "            balance = withdraw(balance)\n",
        "        elif choice == '4':\n",
        "            print(\"Thank you\")\n",
        "            break\n",
        "        else:\n",
        "            print(\"invalid\")\n",
        "initial_balance = 1000\n",
        "atm_menu(initial_balance)"
      ],
      "metadata": {
        "id": "TDwZ6uh6hayp"
      },
      "execution_count": null,
      "outputs": []
    },
    {
      "cell_type": "markdown",
      "source": [
        "16. Build a program that checks if a given string is a palindrome or not."
      ],
      "metadata": {
        "id": "TZqMFfH2pgS1"
      }
    },
    {
      "cell_type": "code",
      "source": [
        "def palindrome(text):\n",
        "    cleaned_text = \"\".join(char.lower() for char in text if char.isalnum())\n",
        "    return cleaned_text == cleaned_text[::-1]\n",
        "string1 = \"Race car\"\n",
        "palindrome(string1)\n"
      ],
      "metadata": {
        "id": "5z91x9Gxh4_W"
      },
      "execution_count": null,
      "outputs": []
    },
    {
      "cell_type": "markdown",
      "source": [
        "17. Write a program that calculates the average of a list of numbers, excluding the smallest and largest values."
      ],
      "metadata": {
        "id": "ztsb_DpLpgP1"
      }
    },
    {
      "cell_type": "code",
      "source": [
        "def _average(numbers):\n",
        "    numbers.remove(min(numbers))\n",
        "    numbers.remove(max(numbers))\n",
        "    total = sum(numbers)\n",
        "    average = total / (len(numbers) - 2)\n",
        "    print(average)\n",
        "numbers = [5,10,15,20,25]\n",
        "average = _average(numbers)"
      ],
      "metadata": {
        "id": "ND4gU3x-iZva"
      },
      "execution_count": null,
      "outputs": []
    },
    {
      "cell_type": "markdown",
      "source": [
        "18. Develop a program that converts a given temperature from Celsius to Fahrenheit."
      ],
      "metadata": {
        "id": "h5F-ya9lpgMm"
      }
    },
    {
      "cell_type": "code",
      "source": [
        "celsius_temp = float(input(\"Celsius\"))\n",
        "temp = (celsius_temp * 9/5) + 32\n",
        "print(temp)"
      ],
      "metadata": {
        "id": "k1D7-TfWilbT"
      },
      "execution_count": null,
      "outputs": []
    },
    {
      "cell_type": "markdown",
      "source": [
        "19. Create a program that simulates a basic calculator for addition, subtraction, multiplication, and division."
      ],
      "metadata": {
        "id": "HpNcWiWLpe3_"
      }
    },
    {
      "cell_type": "code",
      "source": [
        "def calculate(num1, operator, num2):\n",
        "  if operator == \"+\":\n",
        "    return num1 + num2\n",
        "  elif operator == \"-\":\n",
        "    return num1 - num2\n",
        "  elif operator == \"*\":\n",
        "    return num1 * num2\n",
        "  elif operator == \"/\" and num2 != 0:\n",
        "    return num1 / num2\n",
        "  else:\n",
        "    return None\n",
        "num1,operator,num2 = 12,\"+\",43\n",
        "calculate(num1,operator,num2)"
      ],
      "metadata": {
        "id": "caGmKXVlj8bp"
      },
      "execution_count": null,
      "outputs": []
    },
    {
      "cell_type": "markdown",
      "source": [
        "20. Write a program that determines the roots of a cubic equation using the Cardano formula."
      ],
      "metadata": {
        "id": "mDjsuEoGpE19"
      }
    },
    {
      "cell_type": "code",
      "source": [],
      "metadata": {
        "id": "nZKXEk4IkVE2"
      },
      "execution_count": null,
      "outputs": []
    },
    {
      "cell_type": "markdown",
      "source": [
        "#Advanced Level:\n"
      ],
      "metadata": {
        "id": "96iPdMvQqM1Z"
      }
    },
    {
      "cell_type": "markdown",
      "source": [
        "21. Create a program that calculates the income tax based on the user's income and tax brackets."
      ],
      "metadata": {
        "id": "P0IaUZ4OpEy0"
      }
    },
    {
      "cell_type": "code",
      "source": [
        "def calculate_tax(income,rate, deduction):\n",
        "  taxable = income -deduction\n",
        "  if taxable <= 0:\n",
        "    return 0\n",
        "  else:\n",
        "    return taxable * rate\n",
        "income = float(700000)\n",
        "rate = 0.5\n",
        "deduction = 50000\n",
        "tax = calculate_tax(income,rate,deduction)\n",
        "print(tax)"
      ],
      "metadata": {
        "id": "cu0IJnxfkx7g"
      },
      "execution_count": null,
      "outputs": []
    },
    {
      "cell_type": "markdown",
      "source": [
        "22. Write a program that simulates a rock-paper-scissors game against the computer."
      ],
      "metadata": {
        "id": "naOgKG0hqPt8"
      }
    },
    {
      "cell_type": "code",
      "source": [
        "import random\n",
        "def rps_game(choice):\n",
        "  choices = ['rock', 'paper', 'scissors']\n",
        "  computer = random.choice(choices)\n",
        "  if choice == computer:\n",
        "    return \"It's a tie!\"\n",
        "  elif (choice == 'rock' and computer == 'scissors') or \\\n",
        "       (choice == 'scissors' and computer == 'paper') or \\\n",
        "       (choice == 'paper' and computer == 'rock'):\n",
        "    return \"You win!\", f\"user --> {choice}\", f\"computer --> {computer}\"\n",
        "  else:\n",
        "    return \"You lose\", f\"user --> {choice}\", f\"computer --> {computer}\"\n",
        "choice = \"paper\"\n",
        "rps_game(choice)"
      ],
      "metadata": {
        "id": "0A1XfhCYzoNn"
      },
      "execution_count": null,
      "outputs": []
    },
    {
      "cell_type": "markdown",
      "source": [
        "23. Develop a program that generates a random password based on user preferences (length, complexity)."
      ],
      "metadata": {
        "id": "Vl_w_xbdqPq8"
      }
    },
    {
      "cell_type": "code",
      "source": [
        "import random\n",
        "\n",
        "def generate_pw(length, complexity):\n",
        "\n",
        "  set1 = {\"low\": \"abcdefghijklmnopqrstuvwxyz\",\"medium\": \"abcdefghijklmnopqrstuvwxyzABCDEFGHIJKLMNOPQRSTUVWXYZ0123456789\",\"high\": \"abcdefghijklmnopqrstuvwxyzABCDEFGHIJKLMNOPQRSTUVWXYZ0123456789!@#$%^&*()\"}\n",
        "  if k not in set1:\n",
        "    return (\"Invalid complexity\")\n",
        "  password = ''.join(random.choice(set1[k]) for _ in range(n))\n",
        "  return password\n",
        "n = 5\n",
        "k = \"high\"\n",
        "generate_pw(n,k)"
      ],
      "metadata": {
        "id": "O4JcDIq21cGw"
      },
      "execution_count": null,
      "outputs": []
    },
    {
      "cell_type": "markdown",
      "source": [
        "24. Create a program that implements a simple text-based adventure game with branching scenarios."
      ],
      "metadata": {
        "id": "rqg5g6nAqPn_"
      }
    },
    {
      "cell_type": "code",
      "source": [],
      "metadata": {
        "id": "nxC9EiG03K1_"
      },
      "execution_count": null,
      "outputs": []
    },
    {
      "cell_type": "markdown",
      "source": [
        "25. Build a program that solves a linear equation for x, considering different cases."
      ],
      "metadata": {
        "id": "voTm0WjWqPk9"
      }
    },
    {
      "cell_type": "code",
      "source": [
        "def linear(a, b):\n",
        "  if a == 0:\n",
        "    if b == 0:\n",
        "      return \"infinite\"\n",
        "    else:\n",
        "      return \"no solution\"\n",
        "  else:\n",
        "    return -b / a\n",
        "equation1 = (2, 4)\n",
        "linear(*equation1)"
      ],
      "metadata": {
        "id": "BsdseDtT5Mn3"
      },
      "execution_count": null,
      "outputs": []
    },
    {
      "cell_type": "markdown",
      "source": [
        "26. Write a program that simulates a basic quiz game with multiple-choice questions and scoring."
      ],
      "metadata": {
        "id": "k7RkLvSMqPiP"
      }
    },
    {
      "cell_type": "code",
      "source": [
        "questions = [\n",
        "    {\n",
        "        \"question\": \"What is the capital of France?\",\n",
        "        \"options\": [\"London\", \"Paris\", \"Berlin\", \"Madrid\"],\n",
        "        \"correct_answer\": \"Paris\"\n",
        "    },\n",
        "    {\n",
        "        \"question\": \"In which year was the first iPhone released?\",\n",
        "        \"options\": [\"2004\", \"2007\", \"2010\", \"2013\"],\n",
        "        \"correct_answer\": \"2007\"\n",
        "    },\n",
        "    {\n",
        "        \"question\": \"What is the largest planet in our solar system?\",\n",
        "        \"options\": [\"Earth\", \"Jupiter\", \"Mars\", \"Venus\"],\n",
        "        \"correct_answer\": \"Jupiter\"\n",
        "    }\n",
        "]\n",
        "\n",
        "score = 0\n",
        "def run_quiz():\n",
        "    try:\n",
        "        global score\n",
        "        for q in questions:\n",
        "            print(q[\"question\"])\n",
        "            print(\"Options:\", q[\"options\"])\n",
        "            user = input(\"answer: \")\n",
        "            if user == q[\"correct_answer\"]:\n",
        "                print(\"Correct!\")\n",
        "                score += 1\n",
        "            else:\n",
        "                print(\"incorrect!\")\n",
        "    finally:\n",
        "        print(f\"{score}/{len(questions)}\")\n",
        "run_quiz()"
      ],
      "metadata": {
        "id": "UX_DSnYJ5s8l"
      },
      "execution_count": null,
      "outputs": []
    },
    {
      "cell_type": "markdown",
      "source": [
        "27. Develop a program that determines whether a given year is a prime number or not."
      ],
      "metadata": {
        "id": "bcvssvXGqPfG"
      }
    },
    {
      "cell_type": "code",
      "source": [
        "def is_prime(year):\n",
        "    if year <= 1:\n",
        "        return False\n",
        "    if year <= 3:\n",
        "        return True\n",
        "    if year % 2 == 0 or year % 3 == 0:\n",
        "        return False\n",
        "    i = 5\n",
        "    while i * i <= year:\n",
        "        if year % i == 0 or year % (i + 2) == 0:\n",
        "            return False\n",
        "        i += 6\n",
        "    return True\n",
        "year = int('2007')\n",
        "is_prime(year)"
      ],
      "metadata": {
        "id": "BsYUHpTND-Vw"
      },
      "execution_count": null,
      "outputs": []
    },
    {
      "cell_type": "markdown",
      "source": [
        "28. Create a program that sorts three numbers in ascending order using conditional statements."
      ],
      "metadata": {
        "id": "AakQhvjTqPcF"
      }
    },
    {
      "cell_type": "code",
      "source": [
        "def numbers(a, b, c):\n",
        "    if a > b:\n",
        "        a, b = b, a\n",
        "    if a > c:\n",
        "        a, c = c, a\n",
        "    if b > c:\n",
        "        b, c = c, b\n",
        "    return a, b, c\n",
        "num1= 1\n",
        "num2 =2\n",
        "num3 =3\n",
        "numbers(num1,num2,num3)"
      ],
      "metadata": {
        "id": "DATfZ-Q3FED4"
      },
      "execution_count": null,
      "outputs": []
    },
    {
      "cell_type": "markdown",
      "source": [
        "29. Build a program that determines the roots of a quartic equation using numerical methods."
      ],
      "metadata": {
        "id": "6jBgD_EpqPZc"
      }
    },
    {
      "cell_type": "code",
      "source": [
        "import numpy as np\n",
        "def quartic(a,b,c,d,e):\n",
        "    coe= [a,b,c,d,e]\n",
        "    roots = np.roots(coe)\n",
        "    return roots\n",
        "a = 2\n",
        "b = -7\n",
        "c = 3\n",
        "d = 4\n",
        "e = -6\n",
        "quartic(a, b, c, d, e)"
      ],
      "metadata": {
        "id": "m9KnafFmFn8v"
      },
      "execution_count": null,
      "outputs": []
    },
    {
      "cell_type": "markdown",
      "source": [
        "30. Write a program that calculates the BMI (Body Mass Index) and provides health recommendations based\n",
        "on the user's input."
      ],
      "metadata": {
        "id": "o293ZCyzqPW0"
      }
    },
    {
      "cell_type": "code",
      "source": [
        "def recommendation(bmi,weight, height):\n",
        "    return weight / (height ** 2)\n",
        "    if bmi < 18.5:\n",
        "        return \"gain some weight\"\n",
        "    elif bmi < 24.9:\n",
        "        return \"Your weight is normal\"\n",
        "    elif bmi < 29.9:\n",
        "        return \"You may need stop eating and go to gymmmmmmm\"\n",
        "    else:\n",
        "        return \"you are obese. it's important to take steps to lose weight for your health.\"\n",
        "weight = 6\n",
        "height = 6\n",
        "bmi = 20.4\n",
        "recommendation(bmi,weight,height)"
      ],
      "metadata": {
        "id": "2B38dFgkGobk"
      },
      "execution_count": null,
      "outputs": []
    },
    {
      "cell_type": "markdown",
      "source": [
        "# Challenge Level:"
      ],
      "metadata": {
        "id": "DZ-KhjyTqkCh"
      }
    },
    {
      "cell_type": "markdown",
      "source": [
        "31. Create a program that validates a password based on complexity rules (length, characters, etc.)."
      ],
      "metadata": {
        "id": "keefW_RBqmsU"
      }
    },
    {
      "cell_type": "code",
      "source": [
        "def valid_password(password):\n",
        "  min_ = 8\n",
        "  if len(password) < min_:\n",
        "    return False, f\"password must be at least {min_} \"\n",
        "  uppercase = any(char.isupper() for char in password)\n",
        "  lowercase = any(char.islower() for char in password)\n",
        "  digit = any(char.isdigit() for char in password)\n",
        "  symbol = any(not char.isalnum() for char in password)\n",
        "  if not (uppercase and lowercase and digit and symbol):\n",
        "    return False, \"password must contain at least one uppercase letter, lowercase letter, digit, and symbol.\"\n",
        "  return True,\"Valid password\"\n",
        "\n",
        "password = (\"Omprakash1@\")\n",
        "valid_password(password)"
      ],
      "metadata": {
        "id": "jyv6KBt1Bdoj"
      },
      "execution_count": null,
      "outputs": []
    },
    {
      "cell_type": "markdown",
      "source": [
        "32. Develop a program that performs matrix addition and subtraction based on user input."
      ],
      "metadata": {
        "id": "wv77SWQDqmou"
      }
    },
    {
      "cell_type": "code",
      "source": [
        "import numpy as np\n",
        "def matix(a, b):\n",
        "    a = np.array(a, dtype=int)\n",
        "    b = np.array(b, dtype=int)\n",
        "    add = np.add(a, b)\n",
        "    sub = np.subtract(a, b)\n",
        "    print(\"The sum of the matrices is:\")\n",
        "    print(add)\n",
        "\n",
        "    print(\"The difference of the matrices is:\")\n",
        "    print(sub)\n",
        "\n",
        "a = [[1, 2, 3], [4, 5, 6]]\n",
        "b = [[7, 8, 9], [10, 11, 12]]\n",
        "matix(a, b)"
      ],
      "metadata": {
        "id": "nieLoHByCcFk"
      },
      "execution_count": null,
      "outputs": []
    },
    {
      "cell_type": "markdown",
      "source": [
        "33. Write a program that calculates the greatest common divisor (GCD) of two numbers using the Euclidean\n",
        "algorithm."
      ],
      "metadata": {
        "id": "n2FcVdHwqmll"
      }
    },
    {
      "cell_type": "code",
      "source": [
        "def gcd(a, b):\n",
        "    if a == 0:\n",
        "        return b\n",
        "    return gcd(b % a, a)\n",
        "a = 31\n",
        "b = 2\n",
        "gcd(a, b)"
      ],
      "metadata": {
        "id": "lkSA3RIbFBXA"
      },
      "execution_count": null,
      "outputs": []
    },
    {
      "cell_type": "markdown",
      "source": [
        "34. Build a program that performs matrix multiplication using nested loops and conditional statements."
      ],
      "metadata": {
        "id": "UchLAB_CqmiN"
      }
    },
    {
      "cell_type": "code",
      "source": [
        "import numpy as np\n",
        "def matrix_multiplication(a, b):\n",
        "    c = np.zeros((a.shape[0], b.shape[1]))\n",
        "    for i in range(a.shape[0]):\n",
        "        for j in range(b.shape[1]):\n",
        "            for k in range(a.shape[1]):\n",
        "                c[i, j] += a[i, k] * b[k, j]\n",
        "    return c\n",
        "a = np.array([[1,2,3],[4,5,6],[7,8,9]])\n",
        "b = np.array([[0,0,1],[0,1,0],[1,0,0]])\n",
        "matrix_multiplication(a, b)"
      ],
      "metadata": {
        "id": "5eYjFOp7HJ01"
      },
      "execution_count": null,
      "outputs": []
    },
    {
      "cell_type": "markdown",
      "source": [
        "35. Create a program that simulates a basic text-based tic-tac-toe game against the computer."
      ],
      "metadata": {
        "id": "7Ap5gBTlqmfe"
      }
    },
    {
      "cell_type": "code",
      "source": [],
      "metadata": {
        "id": "W6GHRThkJPVl"
      },
      "execution_count": null,
      "outputs": []
    },
    {
      "cell_type": "markdown",
      "source": [
        "36. Write a program that generates Fibonacci numbers up to a specified term using iterative methods."
      ],
      "metadata": {
        "id": "C-r6xGxvqmb8"
      }
    },
    {
      "cell_type": "code",
      "source": [
        "def fibonacci_iter(n):\n",
        "    a, b = 0, 1\n",
        "    for i in range(n):\n",
        "        print(a)\n",
        "        a, b = b, a + b\n",
        "n = 10\n",
        "fibonacci_iter(n)"
      ],
      "metadata": {
        "id": "DaMA99MgJ7-K"
      },
      "execution_count": null,
      "outputs": []
    },
    {
      "cell_type": "markdown",
      "source": [
        "37. Develop a program that calculates the nth term of the Fibonacci sequence using memoization."
      ],
      "metadata": {
        "id": "qcZdN6ZzqmXM"
      }
    },
    {
      "cell_type": "code",
      "source": [
        "def fibonacci(n, memo={}):\n",
        "    if n in memo:\n",
        "        return memo[n]\n",
        "    elif n == 0:\n",
        "        return 0\n",
        "    elif n == 1:\n",
        "        return 1\n",
        "    else:\n",
        "        result = fibonacci(n-1, memo) + fibonacci(n-2, memo)\n",
        "        memo[n] = result\n",
        "        return result\n",
        "n = 10\n",
        "print(fibonacci(n))"
      ],
      "metadata": {
        "id": "MYdo0MYXNGrI"
      },
      "execution_count": null,
      "outputs": []
    },
    {
      "cell_type": "markdown",
      "source": [
        "38. Create a program that generates a calendar for a given month and year using conditional statements."
      ],
      "metadata": {
        "id": "K20BpVwFqmUO"
      }
    },
    {
      "cell_type": "code",
      "source": [
        "def generate_calendar(year, month):\n",
        "    if month in {1, 3, 5, 7, 8, 10, 12}:\n",
        "        num_days = 31\n",
        "    elif month in {4, 6, 9, 11}:\n",
        "        num_days = 30\n",
        "    else:\n",
        "        if (year % 4 == 0 and year % 100 != 0) or (year % 400 == 0):\n",
        "            num_days = 29\n",
        "        else:\n",
        "            num_days = 28\n",
        "    if month < 3:\n",
        "        month += 12\n",
        "        year -= 1\n",
        "    k = year % 100\n",
        "    j = year // 100\n",
        "    day_of_week = (1 + (13 * (month + 1)) // 5 + k + (k // 4) + (j // 4) - (2 * j)) % 7\n",
        "    print(f\"{year} / {month}\")\n",
        "    print(\"Mo Tu We Th Fr Sa Su\")\n",
        "\n",
        "    for _ in range(day_of_week):\n",
        "        print(\"   \", end=\"\")\n",
        "\n",
        "    # Print the days of the month\n",
        "    for day in range(1, num_days + 1):\n",
        "        print(f\"{day:2} \", end=\"\")\n",
        "        if (day + day_of_week) % 7 == 0:\n",
        "            print()\n",
        "year = 2005\n",
        "month = 4\n",
        "\n",
        "generate_calendar(year, month)\n"
      ],
      "metadata": {
        "id": "wIAq8JFeNXg0"
      },
      "execution_count": null,
      "outputs": []
    },
    {
      "cell_type": "markdown",
      "source": [
        "39. Build a program that simulates a basic text-based blackjack game against the computer."
      ],
      "metadata": {
        "id": "a2umPAAeqmRc"
      }
    },
    {
      "cell_type": "code",
      "source": [],
      "metadata": {
        "id": "f3dzeTJPVGGi"
      },
      "execution_count": null,
      "outputs": []
    },
    {
      "cell_type": "markdown",
      "source": [
        "40. Write a program that generates the prime factors of a given number using trial division."
      ],
      "metadata": {
        "id": "5h_At4BMqmOc"
      }
    },
    {
      "cell_type": "code",
      "source": [
        "def prime_factors(n):\n",
        "    factors = []\n",
        "    while n % 2 == 0:\n",
        "        factors.append(2)\n",
        "        n //= 2\n",
        "    for i in range(3, int(n**0.5) + 1, 2):\n",
        "        while n % i == 0:\n",
        "            factors.append(i)\n",
        "            n //= i\n",
        "    if n > 2:\n",
        "        factors.append(n)\n",
        "    return factors\n",
        "\n",
        "n = 45\n",
        "prime_factors(n)\n"
      ],
      "metadata": {
        "id": "ravVU1qmVYpQ"
      },
      "execution_count": null,
      "outputs": []
    }
  ]
}