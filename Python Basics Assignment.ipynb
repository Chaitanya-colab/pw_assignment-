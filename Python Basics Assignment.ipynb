{
  "cells": [
    {
      "cell_type": "markdown",
      "id": "e9da93d8-1ae8-4e6d-98fb-10eaf67cb93e",
      "metadata": {
        "id": "e9da93d8-1ae8-4e6d-98fb-10eaf67cb93e"
      },
      "source": [
        "         Python Basics Variable"
      ]
    },
    {
      "cell_type": "markdown",
      "id": "f3c1974e-2568-4e7e-a2c6-2496431cb70c",
      "metadata": {
        "id": "f3c1974e-2568-4e7e-a2c6-2496431cb70c"
      },
      "source": [
        " 1. Declare two variables, `x` and `y`, and assign them integer values.\n",
        "    Swap the values of these variables without using any temporary variable."
      ]
    },
    {
      "cell_type": "code",
      "execution_count": null,
      "id": "4bc28fc5-b56b-4244-a388-fe16f4378214",
      "metadata": {
        "id": "4bc28fc5-b56b-4244-a388-fe16f4378214"
      },
      "outputs": [],
      "source": [
        "x = 30\n",
        "y = 40\n",
        "\n",
        "x, y = y ,x\n",
        "print(\"after swap\")\n",
        "print(\"x =\", x)\n",
        "print(\"y =\", y)"
      ]
    },
    {
      "cell_type": "markdown",
      "id": "c1402020-e461-49d0-a284-2617140acae5",
      "metadata": {
        "jp-MarkdownHeadingCollapsed": true,
        "id": "c1402020-e461-49d0-a284-2617140acae5"
      },
      "source": [
        "2. Create a program that calculates the area of a rectangle. Take the length and width as inputs from the user and    store them in variables.Calculate and display the area."
      ]
    },
    {
      "cell_type": "code",
      "execution_count": null,
      "id": "c94f966d-f68d-45b2-8dc3-da4264df4bb8",
      "metadata": {
        "id": "c94f966d-f68d-45b2-8dc3-da4264df4bb8"
      },
      "outputs": [],
      "source": [
        "length = float (input(\"length of rectangle\"))\n",
        "width =  float (input (\"width of rectangle\"))\n",
        "area = length * width\n",
        "print (\"the area of the rectangle is \",area)\n",
        ""
      ]
    },
    {
      "cell_type": "markdown",
      "id": "c7451163-b3a0-48b5-9752-72356cbdcd13",
      "metadata": {
        "tags": [],
        "id": "c7451163-b3a0-48b5-9752-72356cbdcd13"
      },
      "source": [
        "3. Write a Python program that converts temperature from Celsius to Fahrenheit. Take the temperature in Celsius as    input, store it in a variable, convert it to Fahrenheit, and display the result."
      ]
    },
    {
      "cell_type": "code",
      "execution_count": null,
      "id": "99e5954f-78d7-4d46-9189-1cbd900a3556",
      "metadata": {
        "id": "99e5954f-78d7-4d46-9189-1cbd900a3556"
      },
      "outputs": [],
      "source": [
        "celsius = int(input(\"enter temperature in celsius\"))\n",
        "fahrenheit = (celsius *9/5) +32\n",
        "print(\"temperature in fahrenheit:\", fahrenheit)\n"
      ]
    },
    {
      "cell_type": "markdown",
      "id": "be823e01-db16-43c6-b4a6-ad64359294de",
      "metadata": {
        "id": "be823e01-db16-43c6-b4a6-ad64359294de"
      },
      "source": [
        "    String Based Questions\n"
      ]
    },
    {
      "cell_type": "markdown",
      "id": "2adcd939-2069-4916-b45c-55c9f9ebf248",
      "metadata": {
        "id": "2adcd939-2069-4916-b45c-55c9f9ebf248"
      },
      "source": [
        "1. Write a Python program that takes a string as input and prints the\n",
        "   length of the string"
      ]
    },
    {
      "cell_type": "code",
      "execution_count": null,
      "id": "44c32c20-de19-4419-bdaa-d5985ed6639e",
      "metadata": {
        "id": "44c32c20-de19-4419-bdaa-d5985ed6639e"
      },
      "outputs": [],
      "source": [
        "str = input()\n",
        "print(len(str))"
      ]
    },
    {
      "cell_type": "markdown",
      "id": "209162d7-ec6b-47a6-9181-890624f4c515",
      "metadata": {
        "id": "209162d7-ec6b-47a6-9181-890624f4c515"
      },
      "source": [
        "2. Create a program that takes a sentence from the user and counts the\n",
        "   number of vowels (a, e, i, o, u) in the string."
      ]
    },
    {
      "cell_type": "code",
      "execution_count": null,
      "id": "2186dcba-8cbf-42a8-a712-ec110ffa9d36",
      "metadata": {
        "id": "2186dcba-8cbf-42a8-a712-ec110ffa9d36"
      },
      "outputs": [],
      "source": [
        "str = (\"aeiou\")\n",
        "len(str)"
      ]
    },
    {
      "cell_type": "markdown",
      "id": "e8cea564-84bb-4aa3-9126-432e02ed0de7",
      "metadata": {
        "id": "e8cea564-84bb-4aa3-9126-432e02ed0de7"
      },
      "source": [
        "3. Given a string, reverse the order of characters using string slicing and\n",
        "   print the reversed string."
      ]
    },
    {
      "cell_type": "code",
      "execution_count": null,
      "id": "b3ac346d-5370-4232-b714-41a87f3d2b91",
      "metadata": {
        "id": "b3ac346d-5370-4232-b714-41a87f3d2b91"
      },
      "outputs": [],
      "source": [
        "str = 'pw skills '\n",
        "\n",
        "str [::-1]"
      ]
    },
    {
      "cell_type": "markdown",
      "id": "9bfc7f6e-af03-4187-95c8-c6f67fa5c0c5",
      "metadata": {
        "id": "9bfc7f6e-af03-4187-95c8-c6f67fa5c0c5"
      },
      "source": [
        "4. Write a program that takes a string as input and checks if it is a\n",
        "   palindrome (reads the same forwards and backwards)."
      ]
    },
    {
      "cell_type": "code",
      "execution_count": 26,
      "id": "7d43e8dd-1f1d-4f2f-a992-4ccbd1c33142",
      "metadata": {
        "id": "7d43e8dd-1f1d-4f2f-a992-4ccbd1c33142"
      },
      "outputs": [],
      "source": []
    },
    {
      "cell_type": "markdown",
      "id": "c6848c06-66a5-4243-b46c-f7b7e8249900",
      "metadata": {
        "tags": [],
        "id": "c6848c06-66a5-4243-b46c-f7b7e8249900"
      },
      "source": [
        "5. Create a program that takes a string as input and removes all the\n",
        "   spaces from it. Print the modified string without spaces."
      ]
    },
    {
      "cell_type": "code",
      "execution_count": null,
      "id": "d07a8bf1-5d52-495c-be03-e0c2f4ca4954",
      "metadata": {
        "id": "d07a8bf1-5d52-495c-be03-e0c2f4ca4954"
      },
      "outputs": [],
      "source": [
        "s1 = \"p w s k i l l s \"\n",
        "print(\"str with spaces is\", s1)\n",
        "s1 = s1.replace(' ', '')\n",
        "print(\"str without spaces is\", s1)"
      ]
    },
    {
      "cell_type": "code",
      "execution_count": 28,
      "id": "625ce941-d00f-4672-a30f-a7da1f3cff7d",
      "metadata": {
        "colab": {
          "base_uri": "https://localhost:8080/"
        },
        "id": "625ce941-d00f-4672-a30f-a7da1f3cff7d",
        "outputId": "1fdba401-19bb-4714-d7ac-4bc7270e3a0d"
      },
      "outputs": [
        {
          "output_type": "stream",
          "name": "stdout",
          "text": [
            "\n"
          ]
        }
      ],
      "source": [
        "s1 = \"pw skills\"\n",
        "print (s1[-1:-1:-1])"
      ]
    },
    {
      "cell_type": "code",
      "execution_count": null,
      "id": "0f038f02-b1e9-467c-bdc3-6326b568550f",
      "metadata": {
        "id": "0f038f02-b1e9-467c-bdc3-6326b568550f"
      },
      "outputs": [],
      "source": [
        "str = \"pwskills\"\n",
        "len (str)\n"
      ]
    }
  ],
  "metadata": {
    "kernelspec": {
      "display_name": "Python 3 (ipykernel)",
      "language": "python",
      "name": "python3"
    },
    "language_info": {
      "codemirror_mode": {
        "name": "ipython",
        "version": 3
      },
      "file_extension": ".py",
      "mimetype": "text/x-python",
      "name": "python",
      "nbconvert_exporter": "python",
      "pygments_lexer": "ipython3",
      "version": "3.10.8"
    },
    "colab": {
      "provenance": []
    }
  },
  "nbformat": 4,
  "nbformat_minor": 5
}