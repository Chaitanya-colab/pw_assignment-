{
  "cells": [
    {
      "cell_type": "markdown",
      "metadata": {
        "id": "gkYalKUHeMMF"
      },
      "source": [
        "# Basic Level:"
      ]
    },
    {
      "cell_type": "markdown",
      "metadata": {
        "id": "_T-z7SyTd5TN"
      },
      "source": [
        "1. Write a Python program to print the numbers from 1 to 10 using a `for` loop."
      ]
    },
    {
      "cell_type": "code",
      "execution_count": null,
      "metadata": {
        "id": "Y5FtdaNBeQcg"
      },
      "outputs": [],
      "source": [
        "for i in range(1, 11):\n",
        "    print(i)"
      ]
    },
    {
      "cell_type": "markdown",
      "metadata": {
        "id": "u0Qt_AFQd5QN"
      },
      "source": [
        "2. Create a program that calculates the sum of all numbers in a list using a `for` loop."
      ]
    },
    {
      "cell_type": "code",
      "execution_count": 1,
      "metadata": {
        "id": "WE5QE8ayebb7"
      },
      "outputs": [
        {
          "name": "stdout",
          "output_type": "stream",
          "text": [
            "15\n"
          ]
        }
      ],
      "source": [
        "num = [1,2,3,4,5]\n",
        "sum = 0\n",
        "for numb in num:\n",
        "    sum += numb\n",
        "print(sum)"
      ]
    },
    {
      "cell_type": "markdown",
      "metadata": {
        "id": "eolUTASqd5NF"
      },
      "source": [
        "3. Write a program to print the characters of a string in reverse order using a `for` loop."
      ]
    },
    {
      "cell_type": "code",
      "execution_count": 2,
      "metadata": {
        "id": "W7-E1AwdfFua"
      },
      "outputs": [
        {
          "name": "stdout",
          "output_type": "stream",
          "text": [
            " wp olleH"
          ]
        }
      ],
      "source": [
        "str1 = \"Hello pw \"\n",
        "for i in range(len(str1) - 1, -1, -1):\n",
        "    print(str1[i], end=\"\")"
      ]
    },
    {
      "cell_type": "markdown",
      "metadata": {
        "id": "Mr4vCBiPd5J-"
      },
      "source": [
        "4. Develop a program that finds the factorial of a given number using a `for` loop."
      ]
    },
    {
      "cell_type": "code",
      "execution_count": 2,
      "metadata": {
        "id": "FxrH6qm7fkoR"
      },
      "outputs": [
        {
          "data": {
            "text/plain": [
              "120"
            ]
          },
          "execution_count": 2,
          "metadata": {},
          "output_type": "execute_result"
        }
      ],
      "source": [
        "def factorial(n):\n",
        "  if n < 0:\n",
        "    return None\n",
        "  elif n == 0:\n",
        "    return 1\n",
        "  else:\n",
        "    value = 1\n",
        "    for i in range(1, n + 1):\n",
        "        value *= i\n",
        "    return value\n",
        "factorial(5)"
      ]
    },
    {
      "cell_type": "markdown",
      "metadata": {
        "id": "gsyxEVMJd5Gs"
      },
      "source": [
        "5. Create a program to print the multiplication table of a given number using a `for` loop."
      ]
    },
    {
      "cell_type": "code",
      "execution_count": 4,
      "metadata": {
        "id": "qshDIp6Wwcgq"
      },
      "outputs": [
        {
          "name": "stdout",
          "output_type": "stream",
          "text": [
            "5 x 1 = 5\n",
            "5 x 2 = 10\n",
            "5 x 3 = 15\n",
            "5 x 4 = 20\n",
            "5 x 5 = 25\n",
            "5 x 6 = 30\n",
            "5 x 7 = 35\n",
            "5 x 8 = 40\n",
            "5 x 9 = 45\n",
            "5 x 10 = 50\n"
          ]
        }
      ],
      "source": [
        "def table(number):\n",
        "    for i in range(1, 11):\n",
        "        print(number, \"x\", i, \"=\", number * i)\n",
        "number = 5\n",
        "table(number)"
      ]
    },
    {
      "cell_type": "markdown",
      "metadata": {
        "id": "sQfMOEsRd5Dd"
      },
      "source": [
        "6. Write a program that counts the number of even and odd numbers in a list using a `for` loop."
      ]
    },
    {
      "cell_type": "code",
      "execution_count": 5,
      "metadata": {
        "id": "57_ivJJUxwoK"
      },
      "outputs": [
        {
          "name": "stdout",
          "output_type": "stream",
          "text": [
            "Even_num:6\n",
            "Odd_num:6\n"
          ]
        }
      ],
      "source": [
        "def count_odd(numbers):\n",
        "  even_c= 0\n",
        "  odd_c = 0\n",
        "  for num in numbers:\n",
        "    if num % 2 == 0:\n",
        "      even_c += 1\n",
        "    else:\n",
        "      odd_c += 1\n",
        "  return even_c, odd_c\n",
        "my_list = [1,2,3,4,5,6,7,8,9,10,11,12]\n",
        "even_num, odd_num = count_odd(my_list)\n",
        "print(f\"Even_num:{even_num}\")\n",
        "print(f\"Odd_num:{odd_num}\")"
      ]
    },
    {
      "cell_type": "markdown",
      "metadata": {
        "id": "3fZ3XYfwd5AW"
      },
      "source": [
        "7. Develop a program that prints the squares of numbers from 1 to 5 using a `for` loop."
      ]
    },
    {
      "cell_type": "code",
      "execution_count": 6,
      "metadata": {
        "id": "T9DSzHctykNu"
      },
      "outputs": [
        {
          "name": "stdout",
          "output_type": "stream",
          "text": [
            "1 ki square 1\n",
            "2 ki square 4\n",
            "3 ki square 9\n",
            "4 ki square 16\n"
          ]
        }
      ],
      "source": [
        "def table(n,k):\n",
        "    for i in range(n,k ):\n",
        "        squ = i ** 2\n",
        "        print(i,\"ki square\",squ)\n",
        "table(1,5)"
      ]
    },
    {
      "cell_type": "markdown",
      "metadata": {
        "id": "xSy1kVscd49N"
      },
      "source": [
        "8. Create a program to find the length of a string without using the `len()` function."
      ]
    },
    {
      "cell_type": "code",
      "execution_count": 7,
      "metadata": {
        "id": "OEGt5WWAy-YE"
      },
      "outputs": [
        {
          "data": {
            "text/plain": [
              "31"
            ]
          },
          "execution_count": 7,
          "metadata": {},
          "output_type": "execute_result"
        }
      ],
      "source": [
        "def len_(str1):\n",
        "    length = 0\n",
        "    for i in str1:\n",
        "        length += 1\n",
        "    return length\n",
        "str1 = (\"pw is good platform for leaning\")\n",
        "len_(str1)"
      ]
    },
    {
      "cell_type": "markdown",
      "metadata": {
        "id": "MaJgUvfHd45r"
      },
      "source": [
        "9. Write a program that calculates the average of a list of numbers using a `for` loop."
      ]
    },
    {
      "cell_type": "code",
      "execution_count": 8,
      "metadata": {
        "id": "UI04ryUHznY9"
      },
      "outputs": [
        {
          "data": {
            "text/plain": [
              "5.0"
            ]
          },
          "execution_count": 8,
          "metadata": {},
          "output_type": "execute_result"
        }
      ],
      "source": [
        "def average_num(num):\n",
        "  if not num:\n",
        "    return None\n",
        "  sum = 0\n",
        "  for num1 in num:\n",
        "    sum += num1\n",
        "  average = sum / len(num)\n",
        "  return average\n",
        "\n",
        "lis1 = [1,2,3,4,5,6,7,8,9]\n",
        "average_num(lis1)"
      ]
    },
    {
      "cell_type": "markdown",
      "metadata": {
        "id": "-uIRooVFd42d"
      },
      "source": [
        "10. Develop a program that prints the first `n` Fibonacci numbers using a `for` loop."
      ]
    },
    {
      "cell_type": "code",
      "execution_count": 9,
      "metadata": {
        "id": "fiumJKOQ1RpW"
      },
      "outputs": [
        {
          "name": "stdout",
          "output_type": "stream",
          "text": [
            "0\n",
            "1\n",
            "1\n"
          ]
        }
      ],
      "source": [
        "def fibonacci(num):\n",
        "    if not num:\n",
        "        return None\n",
        "    a, b = 0, 1\n",
        "    print(a)\n",
        "    print(b)\n",
        "    for i in range(2, num):\n",
        "        c = a + b\n",
        "        print(c)\n",
        "        a,b = b,c\n",
        "fibonacci(3)"
      ]
    },
    {
      "cell_type": "markdown",
      "metadata": {
        "id": "yY048QzcvkDL"
      },
      "source": [
        "# Intermediate Level:"
      ]
    },
    {
      "cell_type": "markdown",
      "metadata": {
        "id": "9tlIpKEC2boB"
      },
      "source": [
        "11. Write a program to check if a given list contains any duplicates using a `for` loop."
      ]
    },
    {
      "cell_type": "code",
      "execution_count": 10,
      "metadata": {
        "id": "htOOCDKO3ByX"
      },
      "outputs": [
        {
          "data": {
            "text/plain": [
              "True"
            ]
          },
          "execution_count": 10,
          "metadata": {},
          "output_type": "execute_result"
        }
      ],
      "source": [
        "def duplicates(lis):\n",
        "  x = set()\n",
        "  for num in lis:\n",
        "    if num in x:\n",
        "      return True\n",
        "    x.add(num)\n",
        "  return False\n",
        "lis = ('python this good for learing python ')\n",
        "duplicates(lis)"
      ]
    },
    {
      "cell_type": "markdown",
      "metadata": {
        "id": "kjXza1oA2blE"
      },
      "source": [
        "12. Create a program that prints the prime numbers in a given range using a `for` loop."
      ]
    },
    {
      "cell_type": "markdown",
      "metadata": {
        "id": "9rtMxZ2j2bZK"
      },
      "source": [
        "13. Develop a program that counts the number of vowels in a string using a `for` loop."
      ]
    },
    {
      "cell_type": "code",
      "execution_count": 11,
      "metadata": {
        "id": "p3i9kFhM5RYr"
      },
      "outputs": [
        {
          "data": {
            "text/plain": [
              "10"
            ]
          },
          "execution_count": 11,
          "metadata": {},
          "output_type": "execute_result"
        }
      ],
      "source": [
        "def count_vowels(str1):\n",
        "    vowels = \"aeiouAEIOU\"\n",
        "    count = 0\n",
        "    for char in str1:\n",
        "        if char in vowels:\n",
        "            count += 1\n",
        "    return count\n",
        "str1 = (\"Chaitanya is the student of pw skills\")\n",
        "count_vowels(str1)"
      ]
    },
    {
      "cell_type": "markdown",
      "metadata": {
        "id": "zzXdYMar2bV2"
      },
      "source": [
        "14. Write a program to find the maximum element in a 2D list using a nested `for` loop."
      ]
    },
    {
      "cell_type": "code",
      "execution_count": 12,
      "metadata": {
        "id": "44O7Ua_l5nqE"
      },
      "outputs": [
        {
          "name": "stdout",
          "output_type": "stream",
          "text": [
            "8\n"
          ]
        }
      ],
      "source": [
        "def find_MAX(arr):\n",
        "    max_element = arr[0][0]\n",
        "    for row in arr:\n",
        "        for element in row:\n",
        "            if element > max_element:\n",
        "                max_element = element\n",
        "    print(max_element)\n",
        "arr = [\n",
        "    [1,2,3],\n",
        "    [4,5,6],\n",
        "    [6,7,8]\n",
        "]\n",
        "find_MAX(arr)"
      ]
    },
    {
      "cell_type": "markdown",
      "metadata": {
        "id": "lD6Riyks2bPD"
      },
      "source": [
        "15. Create a program that removes all occurrences of a specific element from a list using a `for` loop."
      ]
    },
    {
      "cell_type": "code",
      "execution_count": 13,
      "metadata": {
        "id": "PpFAVbIeAgvm"
      },
      "outputs": [
        {
          "data": {
            "text/plain": [
              "[1, 2, 3, 4, 5, 7, 8, 5, 5, 4, 3, 2, 2]"
            ]
          },
          "execution_count": 13,
          "metadata": {},
          "output_type": "execute_result"
        }
      ],
      "source": [
        "def remove_element(lis,element):\n",
        "    x = []\n",
        "    for item in lis:\n",
        "        if item != element:\n",
        "            x.append(item)\n",
        "    lis[:] = x\n",
        "    return x\n",
        "lis = [1,2,3,4,5,6,7,8,5,6,5,4,3,2,2]\n",
        "element = 6\n",
        "remove_element(lis, element)"
      ]
    },
    {
      "cell_type": "markdown",
      "metadata": {
        "id": "oJYJR6QJ2bL4"
      },
      "source": [
        "16. Develop a program that generates a multiplication table for numbers from 1 to 5 using a nested `for` loop."
      ]
    },
    {
      "cell_type": "code",
      "execution_count": 14,
      "metadata": {
        "id": "fvQ7CJv5Gkws"
      },
      "outputs": [
        {
          "name": "stdout",
          "output_type": "stream",
          "text": [
            "1 x 1 = 1\n",
            "1 x 2 = 2\n",
            "1 x 3 = 3\n",
            "1 x 4 = 4\n",
            "1 x 5 = 5\n",
            "1 x 6 = 6\n",
            "1 x 7 = 7\n",
            "1 x 8 = 8\n",
            "1 x 9 = 9\n",
            "1 x 10 = 10\n",
            "\n",
            "2 x 1 = 2\n",
            "2 x 2 = 4\n",
            "2 x 3 = 6\n",
            "2 x 4 = 8\n",
            "2 x 5 = 10\n",
            "2 x 6 = 12\n",
            "2 x 7 = 14\n",
            "2 x 8 = 16\n",
            "2 x 9 = 18\n",
            "2 x 10 = 20\n",
            "\n",
            "3 x 1 = 3\n",
            "3 x 2 = 6\n",
            "3 x 3 = 9\n",
            "3 x 4 = 12\n",
            "3 x 5 = 15\n",
            "3 x 6 = 18\n",
            "3 x 7 = 21\n",
            "3 x 8 = 24\n",
            "3 x 9 = 27\n",
            "3 x 10 = 30\n",
            "\n",
            "4 x 1 = 4\n",
            "4 x 2 = 8\n",
            "4 x 3 = 12\n",
            "4 x 4 = 16\n",
            "4 x 5 = 20\n",
            "4 x 6 = 24\n",
            "4 x 7 = 28\n",
            "4 x 8 = 32\n",
            "4 x 9 = 36\n",
            "4 x 10 = 40\n",
            "\n",
            "5 x 1 = 5\n",
            "5 x 2 = 10\n",
            "5 x 3 = 15\n",
            "5 x 4 = 20\n",
            "5 x 5 = 25\n",
            "5 x 6 = 30\n",
            "5 x 7 = 35\n",
            "5 x 8 = 40\n",
            "5 x 9 = 45\n",
            "5 x 10 = 50\n",
            "\n"
          ]
        }
      ],
      "source": [
        "for i in range(1, 6):\n",
        "    for j in range(1, 11):\n",
        "        result = i * j\n",
        "        print(i, \"x\", j, \"=\", result)\n",
        "    print()\n"
      ]
    },
    {
      "cell_type": "markdown",
      "metadata": {
        "id": "WI93jUsS2bIh"
      },
      "source": [
        "17. Write a program that converts a list of Fahrenheit temperatures to Celsius using a `for` loop."
      ]
    },
    {
      "cell_type": "code",
      "execution_count": 15,
      "metadata": {
        "id": "7x2h1aZaPF__"
      },
      "outputs": [
        {
          "data": {
            "text/plain": [
              "[0.0, 10.0, 20.0, 30.0, 40.0]"
            ]
          },
          "execution_count": 15,
          "metadata": {},
          "output_type": "execute_result"
        }
      ],
      "source": [
        "def fahre_to_celci(fahrenheit):\n",
        "  celsius = []\n",
        "  for temp in fahrenheit:\n",
        "    celsius_t = (temp - 32) * 5 / 9\n",
        "    celsius.append(celsius_t)\n",
        "  return celsius\n",
        "fahrenheit = [32, 50, 68, 86, 104]\n",
        "fahre_to_celci(fahrenheit)"
      ]
    },
    {
      "cell_type": "markdown",
      "metadata": {
        "id": "dCS0e8ZC2bFD"
      },
      "source": [
        "18. Create a program to print the common elements from two lists using a `for` loop."
      ]
    },
    {
      "cell_type": "code",
      "execution_count": 16,
      "metadata": {
        "id": "rO8dp_qfQuuz"
      },
      "outputs": [
        {
          "name": "stdout",
          "output_type": "stream",
          "text": [
            "3\n",
            "4\n",
            "5\n"
          ]
        }
      ],
      "source": [
        "def common(lis1, lis2):\n",
        "    for i in lis1:\n",
        "        if i  in lis2:\n",
        "            print(i)\n",
        "lis1 = [1,2,3,4,5]\n",
        "lis2 = [3,4,5,6,7]\n",
        "common(lis1,lis2)"
      ]
    },
    {
      "cell_type": "markdown",
      "metadata": {
        "id": "JYFVhW382bA7"
      },
      "source": [
        "19. Develop a program that prints the pattern of right-angled triangles using a `for` loop. Use ‘*’ to draw the pattern"
      ]
    },
    {
      "cell_type": "code",
      "execution_count": 17,
      "metadata": {
        "id": "rEWaUpLQRW6k"
      },
      "outputs": [
        {
          "name": "stdout",
          "output_type": "stream",
          "text": [
            "*\n",
            "**\n",
            "***\n"
          ]
        }
      ],
      "source": [
        "def triangle(n):\n",
        "    for i in range(1, n+ 1):\n",
        "        print('*' * i)\n",
        "triangle(3)"
      ]
    },
    {
      "cell_type": "markdown",
      "metadata": {
        "id": "ToGDIlux2ao8"
      },
      "source": [
        "20. Write a program to find the greatest common divisor (GCD) of two numbers using a `for` loop."
      ]
    },
    {
      "cell_type": "code",
      "execution_count": 18,
      "metadata": {
        "id": "o8zkphk0Rr2F"
      },
      "outputs": [
        {
          "data": {
            "text/plain": [
              "12"
            ]
          },
          "execution_count": 18,
          "metadata": {},
          "output_type": "execute_result"
        }
      ],
      "source": [
        "def find_gcd(num1, num2):\n",
        "    gcd = 1\n",
        "    min_num = min(num1, num2)\n",
        "    for i in range(1, min_num + 1):\n",
        "        if num1 % i == 0 and num2 % i == 0:\n",
        "            gcd = i\n",
        "    return gcd\n",
        "num1 = 36\n",
        "num2 = 60\n",
        "find_gcd(num1, num2)"
      ]
    },
    {
      "cell_type": "markdown",
      "metadata": {
        "id": "yAO5egok_N6n"
      },
      "source": [
        "# Advanced Level:"
      ]
    },
    {
      "cell_type": "markdown",
      "metadata": {
        "id": "kiXL-mFU_Yld"
      },
      "source": [
        "21. Create a program that calculates the sum of the digits of numbers in a list using a list comprehension."
      ]
    },
    {
      "cell_type": "code",
      "execution_count": 19,
      "metadata": {
        "id": "zCXcEhEBTEwI"
      },
      "outputs": [
        {
          "data": {
            "text/plain": [
              "[6, 15, 24, 3]"
            ]
          },
          "execution_count": 19,
          "metadata": {},
          "output_type": "execute_result"
        }
      ],
      "source": [
        "def list_(lis):\n",
        "    return [sum(int(i) for i in str(num)) for num in lis]\n",
        "lis = [123,456,789,1011]\n",
        "list_(lis)\n"
      ]
    },
    {
      "cell_type": "markdown",
      "metadata": {
        "id": "w9bYT262_YL4"
      },
      "source": [
        "22. Write a program to find the prime factors of a given number using a `for` loop and list comprehension."
      ]
    },
    {
      "cell_type": "code",
      "execution_count": 20,
      "metadata": {
        "id": "r8lfaszKUKYd"
      },
      "outputs": [],
      "source": [
        "def prime_factors(n):\n",
        "    factor = []\n",
        "    divi = 2\n",
        "    while n > 1:\n",
        "        if n % divi == 0:\n",
        "            factor.append(divi)\n",
        "            n //= divi\n",
        "        else:\n",
        "            divi += 1\n",
        "    return factor"
      ]
    },
    {
      "cell_type": "markdown",
      "metadata": {
        "id": "-XuUshjs_YIe"
      },
      "source": [
        "23. Develop a program that extracts unique elements from a list and stores them in a new list using a list\n",
        "comprehension."
      ]
    },
    {
      "cell_type": "code",
      "execution_count": 21,
      "metadata": {
        "id": "mP855fW1X2Rq"
      },
      "outputs": [
        {
          "name": "stdout",
          "output_type": "stream",
          "text": [
            "[1, 2, 3, 4, 5, 6]\n"
          ]
        }
      ],
      "source": [
        "lis = [1,2,2,3,3,4,5,5,6,6,]\n",
        "element = list(set(lis))\n",
        "print(element)"
      ]
    },
    {
      "cell_type": "markdown",
      "metadata": {
        "id": "ZLwxGMzg_YFG"
      },
      "source": [
        "24. Create a program that generates a list of all palindromic numbers up to a specified limit using a list\n",
        "comprehension."
      ]
    },
    {
      "cell_type": "code",
      "execution_count": 22,
      "metadata": {
        "id": "RABVAgLNZLuE"
      },
      "outputs": [
        {
          "data": {
            "text/plain": [
              "[1, 2, 3, 4, 5, 6, 7, 8, 9, 11, 22, 33]"
            ]
          },
          "execution_count": 22,
          "metadata": {},
          "output_type": "execute_result"
        }
      ],
      "source": [
        "def palindrome(num):\n",
        "  return str(num) == str(num)[::-1]\n",
        "def generate(limit):\n",
        "  return [num for num in range(1, limit + 1) if palindrome(num)]\n",
        "limits = 35\n",
        "generate(limits)"
      ]
    },
    {
      "cell_type": "markdown",
      "metadata": {
        "id": "7MNews7F_YB_"
      },
      "source": [
        "25. Write a program to flatten a nested list using list comprehension."
      ]
    },
    {
      "cell_type": "code",
      "execution_count": 23,
      "metadata": {
        "id": "OTXQspn7rEuR"
      },
      "outputs": [
        {
          "data": {
            "text/plain": [
              "[1, 2, 3, 4, 5, 6, 7, 8, 9]"
            ]
          },
          "execution_count": 23,
          "metadata": {},
          "output_type": "execute_result"
        }
      ],
      "source": [
        "def flatten_list(lis):\n",
        "  return [i for x in lis for i in x]\n",
        "lis= [\n",
        "    [1, 2, 3],\n",
        "    [4, 5, 6],\n",
        "    [7, 8, 9]]\n",
        "flatten_list(lis)\n"
      ]
    },
    {
      "cell_type": "markdown",
      "metadata": {
        "id": "Um26-qbM_X-1"
      },
      "source": [
        "26. Develop a program that computes the sum of even and odd numbers in a list separately using list\n",
        "comprehension."
      ]
    },
    {
      "cell_type": "code",
      "execution_count": 24,
      "metadata": {
        "id": "5I1DCz66r0VT"
      },
      "outputs": [
        {
          "name": "stdout",
          "output_type": "stream",
          "text": [
            "30 25\n"
          ]
        }
      ],
      "source": [
        "def sum1(num):\n",
        "    even= sum(i for i in num if i % 2 == 0)\n",
        "    odd = sum(i for i in num if i % 2 != 0)\n",
        "    print(even,odd)\n",
        "num = [1,2,3,4,5,6,7,8,9,10]\n",
        "sum1(num)"
      ]
    },
    {
      "cell_type": "code",
      "execution_count": 25,
      "metadata": {
        "id": "q8J2Dqn10kD1"
      },
      "outputs": [
        {
          "name": "stdout",
          "output_type": "stream",
          "text": [
            "30 25\n"
          ]
        }
      ],
      "source": [
        "def numbers(num):\n",
        "    even = sum(i for i in num if i % 2 == 0)\n",
        "    odd = sum(i for i in num if i % 2 != 0)\n",
        "    print(even, odd)\n",
        "\n",
        "num = [1, 2, 3, 4, 5, 6, 7, 8, 9, 10]\n",
        "numbers(num)"
      ]
    },
    {
      "cell_type": "markdown",
      "metadata": {
        "id": "e49w8_ym_X4l"
      },
      "source": [
        "27. Create a program that generates a list of squares of odd numbers between 1 and 10 using list\n",
        "comprehension."
      ]
    },
    {
      "cell_type": "code",
      "execution_count": 26,
      "metadata": {
        "id": "EOSvwF3L-dtP"
      },
      "outputs": [
        {
          "data": {
            "text/plain": [
              "[1, 9, 25, 49, 81]"
            ]
          },
          "execution_count": 26,
          "metadata": {},
          "output_type": "execute_result"
        }
      ],
      "source": [
        "square = [i**2 for i in range(1,11) if i % 2!= 0]\n",
        "square"
      ]
    },
    {
      "cell_type": "markdown",
      "metadata": {
        "id": "5x_SDr4S_XyV"
      },
      "source": [
        "\n",
        "28. Write a program that combines two lists into a dictionary using list comprehension."
      ]
    },
    {
      "cell_type": "code",
      "execution_count": 27,
      "metadata": {
        "id": "K4U0X1Oe-2Fc"
      },
      "outputs": [
        {
          "name": "stdout",
          "output_type": "stream",
          "text": [
            "{'A': 1, 'b': 2, 'c': 3}\n"
          ]
        }
      ],
      "source": [
        "keys = ['A','b','c']\n",
        "values = [1,2,3]\n",
        "dictionary = {key: value for key, value in zip(keys, values)}\n",
        "print(dictionary)"
      ]
    },
    {
      "cell_type": "markdown",
      "metadata": {
        "id": "5-m32FeE_XvP"
      },
      "source": [
        "29. Develop a program that extracts the vowels from a string and stores them in a list using list comprehension."
      ]
    },
    {
      "cell_type": "code",
      "execution_count": 28,
      "metadata": {
        "id": "6m439jvw_ZVg"
      },
      "outputs": [
        {
          "name": "stdout",
          "output_type": "stream",
          "text": [
            "['a', 'e', 'u', 'a', 'i', 'i', 'a', 'a', 'a']\n"
          ]
        }
      ],
      "source": [
        "str1 = \"Mahesh, Surash , Mitilash, Parkash\"\n",
        "x = [char for char in str1 if char in \"aeiouAEIOU\"]\n",
        "print(x)"
      ]
    },
    {
      "cell_type": "markdown",
      "metadata": {
        "id": "pCwnY67x_XsF"
      },
      "source": [
        "30. Create a program that removes all non-numeric characters from a list of strings using list comprehension."
      ]
    },
    {
      "cell_type": "code",
      "execution_count": 29,
      "metadata": {
        "id": "r4bnu4LcALYo"
      },
      "outputs": [
        {
          "name": "stdout",
          "output_type": "stream",
          "text": [
            "['123', '123', '123']\n"
          ]
        }
      ],
      "source": [
        "str1= [\"123qwe\",\"123ert\",\"123rew\"]\n",
        "str2 = [''.join(char for char in string if char.isdigit()) for string in str1]\n",
        "print(str2)"
      ]
    },
    {
      "cell_type": "markdown",
      "metadata": {
        "id": "2NCeoFwR_uaX"
      },
      "source": [
        "# Challenge Level:"
      ]
    },
    {
      "cell_type": "markdown",
      "metadata": {
        "id": "gvTl_KQ2_459"
      },
      "source": [
        "31. Write a program to generate a list of prime numbers using the Sieve of Eratosthenes algorithm and list\n",
        "comprehension."
      ]
    },
    {
      "cell_type": "code",
      "execution_count": 30,
      "metadata": {
        "id": "ILX9s4ZtUDsq"
      },
      "outputs": [
        {
          "name": "stdout",
          "output_type": "stream",
          "text": [
            "[2, 3, 5, 7, 11, 13, 17, 19, 23, 29, 31, 37, 41, 43, 47]\n"
          ]
        }
      ],
      "source": [
        "def prime_numbers(n):\n",
        "    prime = [True] *(n + 1)\n",
        "    p= 2\n",
        "    while (p*p<= n):\n",
        "        if prime[p] == True:\n",
        "            for i in range(p * p, n + 1, p):\n",
        "                prime[i] = False\n",
        "        p += 1\n",
        "    ps = [p for p in range(2,n + 1) if prime[p]]\n",
        "    return ps\n",
        "n = 50\n",
        "print(prime_numbers(n))\n"
      ]
    },
    {
      "cell_type": "markdown",
      "metadata": {
        "id": "KefeCulL_43E"
      },
      "source": [
        "32. Create a program that generates a list of all Pythagorean triplets up to a specified limit using list\n",
        "comprehension."
      ]
    },
    {
      "cell_type": "code",
      "execution_count": 31,
      "metadata": {
        "id": "ciwGVvteWWov"
      },
      "outputs": [
        {
          "data": {
            "text/plain": [
              "[(3, 4, 5),\n",
              " (5, 12, 13),\n",
              " (6, 8, 10),\n",
              " (7, 24, 25),\n",
              " (8, 15, 17),\n",
              " (9, 12, 15),\n",
              " (10, 24, 26),\n",
              " (12, 16, 20),\n",
              " (15, 20, 25),\n",
              " (18, 24, 30),\n",
              " (20, 21, 29)]"
            ]
          },
          "execution_count": 31,
          "metadata": {},
          "output_type": "execute_result"
        }
      ],
      "source": [
        "def gen_pythagorean_triplets(limit):\n",
        "    triplets = [\n",
        "        (a, b, c)\n",
        "        for a in range(1, limit + 1)\n",
        "        for b in range(a, limit + 1)\n",
        "        for c in range(b, limit + 1)\n",
        "        if a * a + b * b == c * c\n",
        "    ]\n",
        "    return triplets\n",
        "limit= 30\n",
        "gen_pythagorean_triplets(limit)"
      ]
    },
    {
      "cell_type": "markdown",
      "metadata": {
        "id": "ZfTC_tHB_4zu"
      },
      "source": [
        "33. Develop a program that generates a list of all possible combinations of two lists using list comprehension."
      ]
    },
    {
      "cell_type": "code",
      "execution_count": 32,
      "metadata": {
        "id": "unvVit3hXChu"
      },
      "outputs": [
        {
          "name": "stdout",
          "output_type": "stream",
          "text": [
            "[(1, 'q'), (1, 'w'), (1, 'e'), (2, 'q'), (2, 'w'), (2, 'e'), (3, 'q'), (3, 'w'), (3, 'e')]\n"
          ]
        }
      ],
      "source": [
        "def gen_comb(lis1, lis2):\n",
        "    com = [(x, y) for x in lis1 for y in lis2]\n",
        "    return com\n",
        "lis1= [1,2,3]\n",
        "lis2= [\"q\",\"w\",\"e\"]\n",
        "print(gen_comb(lis1,lis2))"
      ]
    },
    {
      "cell_type": "markdown",
      "metadata": {
        "id": "REgELvV9_4wX"
      },
      "source": [
        "34. Write a program that calculates the mean, median, and mode of a list of numbers using list\n",
        "comprehension."
      ]
    },
    {
      "cell_type": "code",
      "execution_count": 33,
      "metadata": {
        "id": "Hm6LOahSYgiL"
      },
      "outputs": [
        {
          "name": "stdout",
          "output_type": "stream",
          "text": [
            "5.0\n",
            "5\n",
            "5\n"
          ]
        }
      ],
      "source": [
        "def calculate(lis12):\n",
        "    if not lis12:\n",
        "        return None, None, None\n",
        "\n",
        "    total = sum(lis12)\n",
        "    count = len(lis12)\n",
        "\n",
        "    mean = total / count\n",
        "\n",
        "\n",
        "    sort = sorted(lis12)\n",
        "    mid = count // 2\n",
        "    if count % 2 == 0:\n",
        "        median = (sort[mid - 1] + sort[mid]) / 2\n",
        "    else:\n",
        "        median = sort[mid]\n",
        "\n",
        "    counts = {}\n",
        "    for num in lis12:\n",
        "        counts[num] = counts.get(num, 0) + 1\n",
        "    max_count = max(counts.values())\n",
        "    mode = [k for k, v in counts.items() if v == max_count]\n",
        "    if len(mode) == 1:\n",
        "        mode = mode[0]\n",
        "\n",
        "    return mean, median, mode\n",
        "numbers = [1,2,3,4,5,5,5,6,7,8,9]\n",
        "\n",
        "mean, median, mode = calculate(numbers)\n",
        "\n",
        "print(mean)\n",
        "print(median)\n",
        "print(mode)\n"
      ]
    },
    {
      "cell_type": "markdown",
      "metadata": {
        "id": "ZOYexWx7_4tn"
      },
      "source": [
        "35. Create a program that generates Pascal's triangle up to a specified number of rows using list\n",
        "comprehension."
      ]
    },
    {
      "cell_type": "code",
      "execution_count": 36,
      "metadata": {
        "id": "ihf2kuZSbtFN"
      },
      "outputs": [
        {
          "name": "stdout",
          "output_type": "stream",
          "text": [
            "[1]\n",
            "[1, 1]\n",
            "[1, 2, 1]\n",
            "[1, 3, 3, 1]\n",
            "[1, 4, 6, 4, 1]\n"
          ]
        }
      ],
      "source": [
        "def gen_pascals_triangle(num):\n",
        "    if num == 0:\n",
        "        return []\n",
        "    triangle = [[1]]\n",
        "    for _ in range(1, num):\n",
        "        prev_row = triangle[-1]\n",
        "        current_row = [1] + [prev_row[i] + prev_row[i + 1] for i in range(len(prev_row) - 1)] + [1]\n",
        "        triangle.append(current_row)\n",
        "    return triangle\n",
        "num= 5\n",
        "pascals_triangle = gen_pascals_triangle(num)\n",
        "for row in pascals_triangle:\n",
        "    print(row)"
      ]
    },
    {
      "cell_type": "markdown",
      "metadata": {
        "id": "rH5ys4ne_4p9"
      },
      "source": [
        "36. Develop a program that calculates the sum of the digits of a factorial of numbers from 1 to 5 using list\n",
        "comprehension."
      ]
    },
    {
      "cell_type": "code",
      "execution_count": 37,
      "metadata": {
        "id": "JDi56t8klFOw"
      },
      "outputs": [
        {
          "data": {
            "text/plain": [
              "19"
            ]
          },
          "execution_count": 37,
          "metadata": {},
          "output_type": "execute_result"
        }
      ],
      "source": [
        "def cal_factorial_sum(n):\n",
        "    factorials = [1]\n",
        "    for i in range(1, n + 1):\n",
        "        factorial = factorials[i - 1] * i\n",
        "        factorials.append(factorial)\n",
        "    factorial = [int(digit) for factorial in factorials for digit in str(factorial)]\n",
        "    return sum(factorial)\n",
        "n = 5\n",
        "cal_factorial_sum(n)"
      ]
    },
    {
      "cell_type": "markdown",
      "metadata": {
        "id": "tsjFaPmc_4mV"
      },
      "source": [
        "37. Write a program that finds the longest word in a sentence using list comprehension."
      ]
    },
    {
      "cell_type": "code",
      "execution_count": 38,
      "metadata": {
        "id": "zeVcRLeel9T0"
      },
      "outputs": [
        {
          "data": {
            "text/plain": [
              "'learning'"
            ]
          },
          "execution_count": 38,
          "metadata": {},
          "output_type": "execute_result"
        }
      ],
      "source": [
        "def find_longest_word(sen):\n",
        "    words=sen.split()\n",
        "    longest=max(words, key=len)\n",
        "    return longest\n",
        "sen = \" I am learning data science \"\n",
        "find_longest_word(sen)"
      ]
    },
    {
      "cell_type": "markdown",
      "metadata": {
        "id": "z19RPLVG_4jn"
      },
      "source": [
        "38. Create a program that filters a list of strings to include only those with more than three vowels using list\n",
        "comprehension."
      ]
    },
    {
      "cell_type": "code",
      "execution_count": 39,
      "metadata": {
        "id": "9TalvIvLnA4w"
      },
      "outputs": [
        {
          "name": "stdout",
          "output_type": "stream",
          "text": [
            "['kalunaaaath']\n"
          ]
        }
      ],
      "source": [
        "def filter_str(strings):\n",
        "    vowel = 'aeiouAEIOU'\n",
        "    filtered_list = [i for i in strings if sum(c in vowel for c in i) > 3]\n",
        "    return filtered_list\n",
        "strings = [\"Prakash\",\"Umesh\",\"kalunaaaath\",\"goverment\",\"jayprakash\"]\n",
        "print(filter_str(strings))"
      ]
    },
    {
      "cell_type": "markdown",
      "metadata": {
        "id": "JWPqnSzU_4fw"
      },
      "source": [
        "39. Develop a program that calculates the sum of the digits of numbers from 1 to 1000 using list\n",
        "comprehension."
      ]
    },
    {
      "cell_type": "code",
      "execution_count": 40,
      "metadata": {
        "id": "JgXjmti6pNB_"
      },
      "outputs": [
        {
          "data": {
            "text/plain": [
              "13501"
            ]
          },
          "execution_count": 40,
          "metadata": {},
          "output_type": "execute_result"
        }
      ],
      "source": [
        "def digit_sum(n):\n",
        "    sum_ = sum(int(digit) for number in range(1, n + 1) for digit in str(number))\n",
        "    return sum_\n",
        "n = 1000\n",
        "digit_sum(n)"
      ]
    },
    {
      "cell_type": "markdown",
      "metadata": {
        "id": "2JbGrpAq_4cY"
      },
      "source": [
        "40. Write a program that generates a list of prime palindromic numbers using list comprehension."
      ]
    },
    {
      "cell_type": "code",
      "execution_count": 41,
      "metadata": {
        "id": "h2p0ZMc1rARf"
      },
      "outputs": [
        {
          "name": "stdout",
          "output_type": "stream",
          "text": [
            "[2, 3, 5, 7, 11, 101, 131, 151, 181, 191, 313, 353, 373, 383, 727, 757, 787, 797, 919, 929]\n"
          ]
        }
      ],
      "source": [
        "def prime(num):\n",
        "  if num <= 1:\n",
        "    return False\n",
        "  for i in range(2, int(num**0.5) + 1):\n",
        "    if num % i == 0:\n",
        "      return False\n",
        "  return True\n",
        "def palindrome(num):\n",
        "  return str(num) == str(num)[::-1]\n",
        "limit = 1000\n",
        "prime_palindromes = [num for num in range(1, limit + 1) if prime(num) and palindrome(num)]\n",
        "print(prime_palindromes)"
      ]
    },
    {
      "cell_type": "markdown",
      "metadata": {},
      "source": [
       
      ]
    }
  ],
  "metadata": {
    "colab": {
      "private_outputs": true,
      "provenance": [],
      "toc_visible": true
    },
    "kernelspec": {
      "display_name": "Python 3",
      "name": "python3"
    },
    "language_info": {
      "codemirror_mode": {
        "name": "ipython",
        "version": 3
      },
      "file_extension": ".py",
      "mimetype": "text/x-python",
      "name": "python",
      "nbconvert_exporter": "python",
      "pygments_lexer": "ipython3",
      "version": "3.11.4"
    }
  },
  "nbformat": 4,
  "nbformat_minor": 0
}
