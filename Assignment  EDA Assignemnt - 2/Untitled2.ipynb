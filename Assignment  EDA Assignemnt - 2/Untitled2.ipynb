{
  "nbformat": 4,
  "nbformat_minor": 0,
  "metadata": {
    "colab": {
      "private_outputs": true,
      "provenance": [],
      "toc_visible": true
    },
    "kernelspec": {
      "name": "python3",
      "display_name": "Python 3"
    },
    "language_info": {
      "name": "python"
    }
  },
  "cells": [
    {
      "cell_type": "markdown",
      "source": [
        "# Amazon Sales Data"
      ],
      "metadata": {
        "id": "Jqj31cwAV34U"
      }
    },
    {
      "cell_type": "markdown",
      "source": [
        "**Description:**\n",
        "\n",
        "This dataset contains information on 1K+ Amazon products, including their ratings, reviews, and other details."
      ],
      "metadata": {
        "id": "RwUAWpwGV55T"
      }
    },
    {
      "cell_type": "code",
      "source": [
        "import pandas as pd\n",
        "\n",
        "df = pd.read_csv('/amazon.csv')"
      ],
      "metadata": {
        "id": "DpAdKU--LQio"
      },
      "execution_count": null,
      "outputs": []
    },
    {
      "cell_type": "markdown",
      "source": [
        "1. What is the average rating for each product category."
      ],
      "metadata": {
        "id": "CNLXHOara9nV"
      }
    },
    {
      "cell_type": "code",
      "source": [
        "df['rating'] = pd.to_numeric(df['rating'], errors='coerce')\n",
        "\n",
        "average_ratings = df.groupby('category')['rating'].mean()\n",
        "\n",
        "print(\"Average Rating by Product Category:\")\n",
        "print(average_ratings.round(2))"
      ],
      "metadata": {
        "id": "AAX_3hodbB2z"
      },
      "execution_count": null,
      "outputs": []
    },
    {
      "cell_type": "markdown",
      "source": [
        "3. What is the distribution of discounted prices vs. actual prices?"
      ],
      "metadata": {
        "id": "GmCClKhgdwOs"
      }
    },
    {
      "cell_type": "code",
      "source": [
        "import matplotlib.pyplot as plt\n",
        "import pandas as pd\n",
        "\n",
        "df = pd.read_csv('amazon.csv')\n",
        "\n",
        "print(df.isnull().sum())\n",
        "plt.figure(figsize=(12, 8))\n",
        "plt.scatter(df['actual_price'], df['discounted_price'], alpha=0.7, c='blue', edgecolors='black')\n",
        "plt.title('Distribution of Discounted Prices vs. Actual Prices')\n",
        "plt.xlabel('Actual Price (USD)', fontsize=12)\n",
        "plt.ylabel('Discounted Price', fontsize=12)\n",
        "plt.grid(True, which='both', linestyle='--', linewidth=0.5)\n",
        "plt.show()\n"
      ],
      "metadata": {
        "id": "U1zg0983bPp5"
      },
      "execution_count": null,
      "outputs": []
    },
    {
      "cell_type": "markdown",
      "source": [
        "4. How does the average discount percentage vary across categories?"
      ],
      "metadata": {
        "id": "O_Di4Ms5KmOg"
      }
    },
    {
      "cell_type": "code",
      "source": [
        "import pandas as pd\n",
        "\n",
        "df['discount_percentage'] = df['discount_percentage'].str.rstrip('%').astype(float)\n",
        "\n",
        "average_discount_per_category = df.groupby('category')['discount_percentage'].mean()\n",
        "\n",
        "result_df = average_discount_per_category.to_frame('average_discount')\n",
        "\n",
        "print(result_df)"
      ],
      "metadata": {
        "id": "jW-QzA8OLB3w"
      },
      "execution_count": null,
      "outputs": []
    },
    {
      "cell_type": "markdown",
      "source": [
        "5. . What are the most popular product names?"
      ],
      "metadata": {
        "id": "zDjwQqBFKr5N"
      }
    },
    {
      "cell_type": "code",
      "source": [
        "popular_products = df['product_name'].value_counts().head(10)\n",
        "print(popular_products)"
      ],
      "metadata": {
        "id": "mphscbIsOKCl"
      },
      "execution_count": null,
      "outputs": []
    },
    {
      "cell_type": "markdown",
      "source": [
        "6.  What are the most popular product keywords?"
      ],
      "metadata": {
        "id": "wyTIOl2SKr1U"
      }
    },
    {
      "cell_type": "code",
      "source": [
        "popular_product_keywords= df['product_name'].value_counts().head(10)\n",
        "print(popular_product_keywords)"
      ],
      "metadata": {
        "id": "m5mgojGCZrf_"
      },
      "execution_count": null,
      "outputs": []
    },
    {
      "cell_type": "markdown",
      "source": [
        "7.  What are the most popular product reviews?"
      ],
      "metadata": {
        "id": "W74wkdpCKryc"
      }
    },
    {
      "cell_type": "code",
      "source": [
        "df = pd.read_csv('amazon.csv')\n",
        "\n",
        "most_popular_reviews = df.groupby('product_name')['review_id'].value_counts().head(5)\n",
        "print(most_popular_reviews)"
      ],
      "metadata": {
        "id": "1wLo4fX6RhyS"
      },
      "execution_count": null,
      "outputs": []
    },
    {
      "cell_type": "markdown",
      "source": [
        "8. What is the correlation between discounted_price and rating?"
      ],
      "metadata": {
        "id": "-xDvkVnhKrv7"
      }
    },
    {
      "cell_type": "code",
      "source": [
        "import pandas as pd\n",
        "import numpy as np\n",
        "\n",
        "df = pd.read_csv('amazon.csv')\n",
        "\n",
        "df['discounted_price'] = pd.to_numeric(df['discounted_price'], errors='coerce')\n",
        "df['rating'] = pd.to_numeric(df['rating'], errors='coerce')\n",
        "\n",
        "correlation_pandas = df['discounted_price'].corr(df['rating'])\n",
        "\n",
        "print(f\"Correlation using pandas: {correlation_pandas}\")"
      ],
      "metadata": {
        "id": "huffK9ghjcOX"
      },
      "execution_count": null,
      "outputs": []
    },
    {
      "cell_type": "markdown",
      "source": [
        "9. What are the Top 5 categories based on the highest ratings?"
      ],
      "metadata": {
        "id": "lCbgUhCfKrtL"
      }
    },
    {
      "cell_type": "code",
      "source": [
        "import pandas as pd\n",
        "import numpy as np\n",
        "\n",
        "df = pd.read_csv('amazon.csv')\n",
        "\n",
        "top_5_categories_highest_rating = df.groupby('category')['rating'].value_counts().head(5)\n",
        "print(top_5_categories_highest_rating)"
      ],
      "metadata": {
        "id": "1C9guAaCpZEb"
      },
      "execution_count": null,
      "outputs": []
    },
    {
      "cell_type": "markdown",
      "source": [
        "10. Identify any potential areas for improvement or optimization based on the data analysis."
      ],
      "metadata": {
        "id": "4dwl1KL1Krqs"
      }
    },
    {
      "cell_type": "code",
      "source": [],
      "metadata": {
        "id": "VrxWCDvsrc83"
      },
      "execution_count": null,
      "outputs": []
    },
    {
      "cell_type": "markdown",
      "source": [
        "#"
      ],
      "metadata": {
        "id": "AQ93wOVLLKfR"
      }
    },
    {
      "cell_type": "markdown",
      "source": [
        "# Spotify Data"
      ],
      "metadata": {
        "id": "K0a6b1y-uHA1"
      }
    },
    {
      "cell_type": "markdown",
      "source": [
        "**Description of the Dataset:**\n",
        "\n",
        "*The dataset titled \"Spotify Data: Popular Hip-hop Artists and Tracks\" provides a curated collection of approximately 500 entries showcasing the vibrant realm of hip-hop music. These entries meticulously compile the most celebrated hip-hop tracks and artists, reflecting their significant influence on the genre's landscape. Each entry not only highlights the popularity and musical composition of the tracks but also underscores the creative prowess of the artists and their profound impact on global listeners.*"
      ],
      "metadata": {
        "id": "Mo3MCPLAuVxY"
      }
    },
    {
      "cell_type": "markdown",
      "source": [
        "1. Load the dataframe and ensure data quality by checking for missing values and duplicate rows. Handle missing values and remove duplicate rows if necessary."
      ],
      "metadata": {
        "id": "tecq2gbLKrkc"
      }
    },
    {
      "cell_type": "code",
      "source": [
        "import pandas as pd\n",
        "\n",
        "df = pd.read_csv('spotify.csv')\n",
        "\n",
        "print(df.isnull().sum())\n",
        "\n",
        "print(df.duplicated().sum())\n",
        "\n",
        "df = df.drop_duplicates(inplace=False)\n"
      ],
      "metadata": {
        "id": "z257VSNkzShY"
      },
      "execution_count": null,
      "outputs": []
    },
    {
      "cell_type": "markdown",
      "source": [
        "2. What is the distribution of popularity among the tracks in the dataset? Visualize it using a histogram."
      ],
      "metadata": {
        "id": "X4_bCyZAKrek"
      }
    },
    {
      "cell_type": "code",
      "source": [
        "import pandas as pd\n",
        "import matplotlib.pyplot as plt\n",
        "\n",
        "df = pd.read_csv('spotify.csv')\n",
        "\n",
        "popularity = df['Popularity']\n",
        "\n",
        "plt.figure(figsize=(8, 5))\n",
        "plt.hist(popularity, bins=10, edgecolor='black')\n",
        "plt.xlabel('Popularity')\n",
        "plt.ylabel('Number of Tracks')\n",
        "plt.title('Distribution of Popularity in the Dataset')\n",
        "plt.grid(axis='y', linestyle='--', alpha=0.7)\n",
        "plt.show()"
      ],
      "metadata": {
        "id": "fnkiH-rL0q-b"
      },
      "execution_count": null,
      "outputs": []
    },
    {
      "cell_type": "markdown",
      "source": [
        "3. Is there any relationship between the popularity and the duration of tracks? Explore this using a scatter plot."
      ],
      "metadata": {
        "id": "0lOj6KyQKrbM"
      }
    },
    {
      "cell_type": "code",
      "source": [
        "import pandas as pd\n",
        "import matplotlib.pyplot as plt\n",
        "\n",
        "df = pd.read_csv('spotify.csv')\n",
        "\n",
        "popularity = df['Popularity']\n",
        "duration_ms = df['Duration (ms)']\n",
        "\n",
        "plt.figure(figsize=(8, 5))\n",
        "plt.scatter(duration_ms, popularity, alpha=0.7)\n",
        "\n",
        "# Add labels and title\n",
        "plt.xlabel('Duration (ms)')\n",
        "plt.ylabel('Popularity')\n",
        "plt.title('Popularity vs. Duration of Tracks')\n",
        "\n",
        "plt.grid(True)\n",
        "\n",
        "plt.show()\n"
      ],
      "metadata": {
        "id": "c_MeIaz-1wmd"
      },
      "execution_count": null,
      "outputs": []
    },
    {
      "cell_type": "markdown",
      "source": [
        "4. Which artist has the highest number of tracks in the dataset? Display the count of tracks for each artist using a countplot."
      ],
      "metadata": {
        "id": "_uFNi_7PKrYk"
      }
    },
    {
      "cell_type": "code",
      "source": [
        "import pandas as pd\n",
        "import matplotlib.pyplot as plt\n",
        "df = pd.read_csv('spotify.csv')\n",
        "\n",
        "artist_counts = df['Artist'].value_counts()\n",
        "\n",
        "most_tracks_artist = artist_counts.idxmax()\n",
        "number_of_tracks = artist_counts.max()\n",
        "\n",
        "plt.figure(figsize=(8, 5))\n",
        "\n",
        "artist_counts.plot(kind='bar', color='skyblue')\n",
        "plt.xlabel('Artist')\n",
        "plt.ylabel('Track Count')\n",
        "plt.title('Track Count per Artist')\n",
        "\n",
        "plt.xticks(rotation=45, ha='right')\n",
        "\n",
        "plt.axhline(y=number_of_tracks, color='red', linestyle='--', label=f'{number_of_tracks} Tracks (Most)')  # Add label for maximum\n",
        "\n",
        "plt.legend()\n",
        "\n",
        "plt.tight_layout()\n",
        "plt.show()\n",
        "\n",
        "print(f\"Artist with the highest number of tracks: {most_tracks_artist} ({number_of_tracks} tracks)\")\n"
      ],
      "metadata": {
        "id": "OlWIJ8yz1_UR"
      },
      "execution_count": null,
      "outputs": []
    },
    {
      "cell_type": "markdown",
      "source": [
        "5. What are the top 5 least popular tracks in the dataset? Provide the artist name and track name for each."
      ],
      "metadata": {
        "id": "mlE64sfdKrVk"
      }
    },
    {
      "cell_type": "code",
      "source": [
        "import pandas as pd\n",
        "df = pd.read_csv('spotify.csv')\n",
        "least_popular = df.nsmallest(5, 'Popularity')\n",
        "\n",
        "artist_names = least_popular['Artist'].tolist()\n",
        "track_names = least_popular['Track Name'].tolist()\n",
        "\n",
        "print(\"Top 5 Least Popular Tracks:\")\n",
        "for i in range(5):\n",
        "    print(f\"{i+1}. {artist_names[i]} - {track_names[i]}\")\n"
      ],
      "metadata": {
        "id": "5iFLueon2f1v"
      },
      "execution_count": null,
      "outputs": []
    },
    {
      "cell_type": "markdown",
      "source": [
        "6. Among the top 5 most popular artists, which artist has the highest popularity on average? Calculate and display the average popularity for each artist."
      ],
      "metadata": {
        "id": "fCCO_b93KrSb"
      }
    },
    {
      "cell_type": "code",
      "source": [
        "import pandas as pd\n",
        "\n",
        "df = pd.read_csv('spotify.csv')\n",
        "\n",
        "\n",
        "top_artists = df.nlargest(5, 'Popularity')\n",
        "\n",
        "average_popularity = top_artists.groupby('Artist')['Popularity'].mean()\n",
        "\n",
        "highest_avg_artist = average_popularity.idxmax()\n",
        "highest_avg_popularity = average_popularity.max()\n",
        "\n",
        "print(\"Average Popularity for Top 5 Artists:\")\n",
        "print(average_popularity)\n",
        "print(f\"\\nArtist with Highest Average Popularity: {highest_avg_artist} ({highest_avg_popularity:.2f})\")\n"
      ],
      "metadata": {
        "id": "XCEfQXF92rZf"
      },
      "execution_count": null,
      "outputs": []
    },
    {
      "cell_type": "markdown",
      "source": [
        "7. For the top 5 most popular artists, what are their most popular tracks? List the track name for each artist."
      ],
      "metadata": {
        "id": "FAH_j7ohKq88"
      }
    },
    {
      "cell_type": "code",
      "source": [
        "import pandas as pd\n",
        "\n",
        "df = pd.read_csv('spotify.csv')\n",
        "\n",
        "top_artists = df.groupby('Artist')['Popularity'].max().sort_values(ascending=False).head(5).index\n",
        "\n",
        "most_popular_tracks = {}\n",
        "\n",
        "for artist in top_artists:\n",
        "    artist_tracks = df[df['Artist'] == artist]\n",
        "    most_popular_track = artist_tracks.loc[artist_tracks['Popularity'].idxmax()]\n",
        "    most_popular_tracks[artist] = most_popular_track['Track Name']\n",
        "\n",
        "most_popular_tracks\n"
      ],
      "metadata": {
        "id": "W9mVJnsx3Htf"
      },
      "execution_count": null,
      "outputs": []
    },
    {
      "cell_type": "markdown",
      "source": [
        "\n",
        "8. Visualize relationships between multiple numerical variables simultaneously using a pair plot."
      ],
      "metadata": {
        "id": "1WbofiyKvIAd"
      }
    },
    {
      "cell_type": "code",
      "source": [
        "import seaborn as sns\n",
        "import pandas as pd\n",
        "import matplotlib.pyplot as plt\n",
        "\n",
        "df = pd.read_csv('spotify.csv')\n",
        "\n",
        "if not pd.api.types.is_numeric_dtype(df.select_dtypes(include=[np.number])):\n",
        "    print(\"Error: Not all columns are numerical. Pair plots require numerical data.\")\n",
        "    exit()\n",
        "\n",
        "sns.pairplot(df)\n",
        "plt.show()\n"
      ],
      "metadata": {
        "id": "yNxk1xKb3XMo"
      },
      "execution_count": null,
      "outputs": []
    },
    {
      "cell_type": "markdown",
      "source": [
        "9. Does the duration of tracks vary significantly across different artists? Explore this visually using a box plot or violin plot."
      ],
      "metadata": {
        "id": "F1uS70kHvH9J"
      }
    },
    {
      "cell_type": "code",
      "source": [
        "import seaborn as sns\n",
        "import pandas as pd\n",
        "import matplotlib.pyplot as plt\n",
        "\n",
        "df = pd.read_csv('spotify.csv')\n",
        "\n",
        "plt.figure(figsize=(8, 6))\n",
        "sns.boxplot(\n",
        "    x = \"Artist\",\n",
        "    y = \"Duration (ms)\",\n",
        "    showmeans=True,\n",
        "    data=df\n",
        ")\n",
        "plt.xlabel(\"Artist\")\n",
        "plt.ylabel(\"Duration (ms)\")\n",
        "plt.title(\"Distribution of Track Duration Across Artists (Box Plot)\")\n",
        "plt.xticks(rotation=45, ha='right')\n",
        "plt.tight_layout()\n",
        "plt.show()\n",
        "\n"
      ],
      "metadata": {
        "id": "rekJAdxI3ghK"
      },
      "execution_count": null,
      "outputs": []
    },
    {
      "cell_type": "markdown",
      "source": [
        "10. How does the distribution of track popularity vary for different artists? Visualize this using a swarm plot or a violin plot."
      ],
      "metadata": {
        "id": "4-kjoWpxvH6R"
      }
    },
    {
      "cell_type": "code",
      "source": [
        "import seaborn as sns\n",
        "import pandas as pd\n",
        "import matplotlib.pyplot as plt\n",
        "\n",
        "df = pd.read_csv('spotify.csv')\n",
        "\n",
        "plt.figure(figsize=(8, 6))\n",
        "sns.swarmplot(\n",
        "    x = \"Artist\",\n",
        "    y = \"Popularity\",\n",
        "    data=df,\n",
        "    size=8,\n",
        "    hue=\"Artist\"\n",
        ")\n",
        "plt.xlabel(\"Artist\")\n",
        "plt.ylabel(\"Popularity\")\n",
        "plt.title(\"Distribution of Track Popularity Across Artists (Swarm Plot)\")\n",
        "plt.xticks(rotation=45, ha='right')\n",
        "plt.tight_layout()\n",
        "plt.show()"
      ],
      "metadata": {
        "id": "31EBvh6m4Ng7"
      },
      "execution_count": null,
      "outputs": []
    }
  ]
}