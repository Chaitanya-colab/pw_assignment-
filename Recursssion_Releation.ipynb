{
  "cells": [
    {
      "cell_type": "markdown",
      "source": [
        "# Recurssion Releation"
      ],
      "metadata": {
        "id": "3YdVku8DEv2I"
      }
    },
    {
      "cell_type": "markdown",
      "source": [
        "1.  Find the value of T(2) for the recurrence relation T(n) = 3T(n-1) + 12n, given that T(0)=5."
      ],
      "metadata": {
        "id": "wqqlFz91FCtL"
      }
    },
    {
      "cell_type": "code",
      "source": [
        "# base Case:\n",
        "T(0) = 5.\n",
        "\n",
        "# T(1): use the formula T(n) = 3T(n-1)+ 12n. substitute n = 1:\n",
        "T(1) = 3 * T(0)+ 12 * 1\n",
        "T(1) = 3 * 5 + 12\n",
        "T(1) = 21\n",
        "\n",
        "# T(2): again, use the formula and substitute n = 2:\n",
        "T(2) = 3 * T(1) + 12 * 2\n",
        "T(2) = 3 * 21 + 24\n",
        "T(2) = 105"
      ],
      "metadata": {
        "id": "nAB9FSmFE1ma"
      },
      "execution_count": null,
      "outputs": []
    },
    {
      "cell_type": "markdown",
      "source": [
        "2. Given a recurrence relation, solve it using the substitution method:\n",
        "\n",
        "    a. T(n) = T(n-1) + c\n",
        "\n",
        "    b. T(n) = 2T(n/2) + n\n",
        "\n",
        "    c. T(n) = 2T(n/2) + c\n",
        "\n",
        "    d. T(n) = T(n/2) + c"
      ],
      "metadata": {
        "id": "bnN-27COFE9k"
      }
    },
    {
      "cell_type": "code",
      "source": [
        "# a.\n",
        "T(n) = T(n - 1) +c\n",
        "# assumption:\n",
        "T(n) = a + bn for some constants a and b\n",
        "# substitute into the recurrence\n",
        "T(n) =T(n-1)+c     #a + bn = a+ bn-b+c\n",
        "a + bn n=a+b(n-1)+c#0 = -b tc\n",
        "b = c\n",
        "# assumpation\n",
        "T(n) = a + cn\n",
        "T(1)\n",
        "a=TO-C\n",
        "# the solution is:\n",
        "T(n) = To +c(n-1)\n",
        "\n",
        "\n",
        "# b.\n",
        "T(n) = 2T(n/2) + n\n",
        "# assumption\n",
        "T(n)=a + bn log n for some constants a and b\n",
        "# Substitute into the recurrence:\n",
        "T(n)=2T(n/2) + n\n",
        "a + bn log n = 2a + bnlog(n/2) +n\n",
        "a + bn logn = 2 2a + bn(logn - log2) +n\n",
        "a + bn log n = 2a + bnlogn - bn +n\n",
        "a=0\n",
        "bnlogn-bn+n=0\n",
        "# The coefficient of n must balance:\n",
        "n(blogn - b+1)=0\n",
        "blogn - b+1=0\n",
        "# В must balance the constant terms, we see:\n",
        "В =1\n",
        "# the solution is:\n",
        "T(n) = O(n log n)\n",
        "\n",
        "\n",
        "\n",
        "# c.\n",
        "T(n) = 2T(n/2) +c\n",
        "# assumption\n",
        "T(n)== + bn for some constants a and b.\n",
        "#Substitute into the recurrence:\n",
        "T(n)=2T(n/2) +c\n",
        "a + bn = 2(a - + b(n/2)) + с\n",
        "# To balance the equation\n",
        "a=2a + c\n",
        "a-2a = c\n",
        "-a=c\n",
        "a=-c\n",
        "# the solution is:\n",
        "T(n) =- c+ bn\n",
        "\n",
        "\n",
        "# d.\n",
        "T(n) = T(n/2) + c\n",
        "# assumption\n",
        "T(n) = a + blog n for some constants a and b.\n",
        "# Substitute into the recurrence:\n",
        "T(n)=T(n/2) + с\n",
        "a + blogn: = a + b(logn-log2) +с\n",
        "a + blog n = a + blogn - blog2+c\n",
        "# matching coefficients\n",
        "b=c/log2\n",
        "# the solution is:\n",
        "T(n)=a+ log 2 log n"
      ],
      "metadata": {
        "id": "3xbKboeTFGUs"
      },
      "execution_count": null,
      "outputs": []
    },
    {
      "cell_type": "markdown",
      "source": [
        "3. Given a recurrence relation, solve it using the recrsive tree approach:\n",
        "\n",
        "    a. T(n) = 2T(n-1) +1\n",
        "    \n",
        "    b. T(n) = 2T(n/2) + n"
      ],
      "metadata": {
        "id": "Fu5jxpsqFG7E"
      }
    },
    {
      "cell_type": "code",
      "source": [
        "# not able to do it"
      ],
      "metadata": {
        "id": "-Oc5Yr69PFIm"
      },
      "execution_count": null,
      "outputs": []
    }
  ],
  "metadata": {
    "colab": {
      "provenance": []
    },
    "kernelspec": {
      "display_name": "Python 3",
      "name": "python3"
    }
  },
  "nbformat": 4,
  "nbformat_minor": 0
}