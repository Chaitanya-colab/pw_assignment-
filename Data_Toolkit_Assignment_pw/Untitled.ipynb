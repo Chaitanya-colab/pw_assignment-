{
  "nbformat": 4,
  "nbformat_minor": 0,
  "metadata": {
    "colab": {
      "private_outputs": true,
      "provenance": [],
      "toc_visible": true
    },
    "kernelspec": {
      "name": "python3",
      "display_name": "Python 3"
    },
    "language_info": {
      "name": "python"
    }
  },
  "cells": [
    {
      "cell_type": "code",
      "source": [
        "import numpy as np\n",
        "import pandas as pd\n",
        "import plotly.express as px\n",
        "import matplotlib.pyplot as plt\n",
        "import plotly.graph_objects as go\n",
        "from bokeh.plotting import figure, show\n",
        "from bokeh.io import output_notebook\n",
        "from bokeh.plotting import figure, show\n",
        "from bokeh.models import ColumnDataSource, HoverTool\n",
        "from bokeh.palettes import Viridis256\n",
        "df = pd.read_csv('/content/drive/MyDrive/People Data.csv')\n",
        "df"
      ],
      "metadata": {
        "id": "Nuk0hvX4O9Yf"
      },
      "execution_count": null,
      "outputs": []
    },
    {
      "cell_type": "markdown",
      "source": [
        "1. Demonstrate three different methods for creating identical 2D arrays in NumPy. Provide the code for each method and the final output after each method"
      ],
      "metadata": {
        "id": "d24RlB7Debk3"
      }
    },
    {
      "cell_type": "code",
      "source": [
        "\n",
        "\n",
        "data = [[1, 2, 3], [4, 5, 6]]\n",
        "\n",
        "array_1 = np.array(data)\n",
        "print(\"array 1 (using np.array with list of lists):\")\n",
        "print(array_1)\n",
        "print(\"\")"
      ],
      "metadata": {
        "id": "Uge3fTVQJnRO"
      },
      "execution_count": null,
      "outputs": []
    },
    {
      "cell_type": "code",
      "source": [
        "rows, cols = 2, 3\n",
        "\n",
        "array_2 = np.full((rows, cols), 7)\n",
        "\n",
        "# Print the array\n",
        "print(\"array 2 (using np.full):\")\n",
        "print(array_2)\n",
        "print(\"\")\n"
      ],
      "metadata": {
        "id": "gh3fmK0cKacp"
      },
      "execution_count": null,
      "outputs": []
    },
    {
      "cell_type": "code",
      "source": [
        "rows, cols = 2, 3\n",
        "\n",
        "array_3 = np.ones((rows, cols), dtype=int) * 5\n",
        "\n",
        "print(\"array 3 (using np.ones with custom dtype):\")\n",
        "print(array_3)\n",
        "print(\"\")\n"
      ],
      "metadata": {
        "id": "qYh21f9qKeCW"
      },
      "execution_count": null,
      "outputs": []
    },
    {
      "cell_type": "markdown",
      "source": [
        "2. Using the Numpy function, generate an array of 100 evenly spaced numbers between 1 and 10 and Reshape that 1D array into a 2D array"
      ],
      "metadata": {
        "id": "VUD9lJvcMmGW"
      }
    },
    {
      "cell_type": "code",
      "source": [
        "numbers = np.linspace(1, 10, 100)\n",
        "reshaped_array = numbers.reshape(10, 10)\n",
        "\n",
        "print(\"\\n2D array:\")\n",
        "print(reshaped_array)\n"
      ],
      "metadata": {
        "id": "qAsVnfkfM1DA"
      },
      "execution_count": null,
      "outputs": []
    },
    {
      "cell_type": "markdown",
      "source": [
        "3. Explain the following terms:\n",
        "\n",
        ". The difference in np.array, np.asarray and np.asanyarray\n",
        "\n",
        ". The difference between Deep copy and shallow copy"
      ],
      "metadata": {
        "id": "6ZDM-Edsebhg"
      }
    },
    {
      "cell_type": "code",
      "source": [
        "# np.array:\n",
        "# This function always creates a new NumPy array, regardless of the input type.\n",
        "# It makes a deep copy of the data by default. This means it copies\n",
        "# all the elements to a new memory location, even for nested structures like lists of lists\n",
        "\n",
        "\n",
        "# np.asarray:\n",
        "# This function tries to be more efficient.\n",
        "# If the input is already a NumPy array, it will return the original array without copying.\n",
        "# If the input is not an ndarray, it will create a new one with a deep copy of the data.\n",
        "\n",
        "\n",
        "\n",
        "\n",
        "# Deep Copy:\n",
        "# Creates a completely independent copy of the data.\n",
        "# Any changes made to the copy will not affect the original object.\n",
        "# This involves copying all elements, even for nested structures, to new memory locations.\n",
        "\n",
        "\n",
        "# Shallow Copy:\n",
        "# Creates a new object that references the original data.\n",
        "# Changes made to the copy will also affect the original object because\n",
        "# they both point to the same underlying data."
      ],
      "metadata": {
        "id": "5S9hltdKLMo3"
      },
      "execution_count": null,
      "outputs": []
    },
    {
      "cell_type": "markdown",
      "source": [
        "4. Generate a 3x3 array with random floating-point numbers between 5 and 20. Then, round each number in the array to 2 decimal places."
      ],
      "metadata": {
        "id": "muphx7lQeba3"
      }
    },
    {
      "cell_type": "code",
      "source": [
        "array = np.random.rand(3, 3) * (20 - 5) + 5\n",
        "\n",
        "rounded_array = np.around(array, decimals=2)\n",
        "\n",
        "print(\"\\nRounded array:\")\n",
        "print(rounded_array)"
      ],
      "metadata": {
        "id": "nCTyfRbDNDAU"
      },
      "execution_count": null,
      "outputs": []
    },
    {
      "cell_type": "markdown",
      "source": [
        "5. Create a NumPy array with random integers between 1 and 10 of shape (5, 6). After creating the array\n",
        "\n",
        "(perform the following operations)\n",
        "\n",
        "a)Extract all even integers from array.\n",
        "\n",
        "b)Extract all odd integers from array.\n",
        "\n",
        "\n"
      ],
      "metadata": {
        "id": "7jnQlvw3ebTv"
      }
    },
    {
      "cell_type": "code",
      "source": [
        "array = np.random.randint(1, 11, size=(5, 6))\n",
        "\n",
        "even_integers = array[array % 2 == 0]\n",
        "\n",
        "odd_integers = array[array % 2 != 0]\n",
        "\n",
        "print(array)\n",
        "\n",
        "print(\"Even integers:\")\n",
        "print(even_integers)\n",
        "\n",
        "print(\"Odd integers:\")\n",
        "print(odd_integers)\n"
      ],
      "metadata": {
        "id": "X6I2UKpzNRxg"
      },
      "execution_count": null,
      "outputs": []
    },
    {
      "cell_type": "markdown",
      "source": [
        "6. Create a 3D NumPy array of shape (3, 3, 3) containing random integers between 1 and 10.\n",
        "\n",
        "Perform the following operations:\n",
        "\n",
        "a) Find the indices of the maximum values along each depth level (third axis).\n",
        "\n",
        "b) Perform element-wise multiplication of between both array"
      ],
      "metadata": {
        "id": "pdjIxgdYebKe"
      }
    },
    {
      "cell_type": "code",
      "source": [
        "array = np.random.randint(1, 11, size=(3, 3, 3))\n",
        "\n",
        "max_indices = np.unravel_index(np.argmax(array, axis=2), array.shape[:2])\n",
        "\n",
        "multiplied_array = array * array\n",
        "\n",
        "\n",
        "print(array)\n",
        "\n",
        "print(\"\\nindices of maximum values along depth level:\")\n",
        "print(max_indices)\n",
        "\n",
        "print(\"\\nelement-wise multiplication of the array with itself:\")\n",
        "print(multiplied_array)"
      ],
      "metadata": {
        "id": "ifGw7rDINwL5"
      },
      "execution_count": null,
      "outputs": []
    },
    {
      "cell_type": "markdown",
      "source": [
        "7. Clean and transform the 'Phone' column in the sample dataset to remove non-numeric characters and convert it to a numeric data type. Also display the table attributes and data types of each column."
      ],
      "metadata": {
        "id": "u4k1lCe-ebGu"
      }
    },
    {
      "cell_type": "code",
      "source": [
        "df['Phone'] = df['Phone'].str.replace(r\"[^\\d]\",\"\", regex=True)\n",
        "\n",
        "try:\n",
        "  df['Phone'] = pd.to_numeric(df['Phone'], errors='coerce')\n",
        "except:\n",
        "  pass\n",
        "\n",
        "print(\"table attributes:\")\n",
        "print(df.info())\n",
        "\n",
        "print(\"\\ndata types of each column:\")\n",
        "print(df.dtypes)"
      ],
      "metadata": {
        "id": "5oy8O-TGOQ_m"
      },
      "execution_count": null,
      "outputs": []
    },
    {
      "cell_type": "markdown",
      "source": [
        "8. Perform the following tasks using people dataset:\n",
        "\n",
        "a) Read the 'data.csv' file using pandas, skipping the first 50 rows.\n",
        "\n",
        "b) Only read the columns: 'Last Name', ‘Gender’,’Email’,‘Phone’ and ‘Salary’ from the file.\n",
        "\n",
        "c) Display the first 10 rows of the filtered dataset.\n",
        "\n",
        "d) Extract the ‘Salary’' column as a Series and display its last 5 values"
      ],
      "metadata": {
        "id": "nmD_MwI0eaBi"
      }
    },
    {
      "cell_type": "code",
      "source": [
        "df = pd.read_csv('/content/drive/MyDrive/People Data.csv',skiprows=[1,50])\n",
        "\n",
        "selected_columns = ['Last Name','Gender','Email','Phone','Salary']\n",
        "df = df[selected_columns]\n",
        "\n",
        "print(\"first 10 rows:\")\n",
        "print(df.head(10))\n",
        "\n",
        "salary_series = df['Salary']\n",
        "print(\"\\nlast 5 salary values:\")\n",
        "print(salary_series.tail(5))"
      ],
      "metadata": {
        "id": "LL6pfmHfv4nQ"
      },
      "execution_count": null,
      "outputs": []
    },
    {
      "cell_type": "markdown",
      "source": [
        "9. Filter and select rows from the People_Dataset, where the “Last Name' column contains the name 'Duke',  'Gender' column contains the word Female and ‘Salary’ should be less than 85000."
      ],
      "metadata": {
        "id": "mLHloC38F8-M"
      }
    },
    {
      "cell_type": "code",
      "source": [
        "filtered_df = df[(df['Last Name'] == 'Duke') & (df['Gender'] == 'F') & (df['Salary'] < 85000)]\n",
        "\n",
        "print(filtered_df)"
      ],
      "metadata": {
        "id": "hg6zp6g6zVp8"
      },
      "execution_count": null,
      "outputs": []
    },
    {
      "cell_type": "markdown",
      "source": [
        "10. Create a 7*5 Dataframe in Pandas using a series generated from 35 random integers between 1 to 6?"
      ],
      "metadata": {
        "id": "nLeP090-F87Z"
      }
    },
    {
      "cell_type": "code",
      "source": [
        "random_series = pd.Series(np.random.randint(1,7,size=35))\n",
        "\n",
        "reshaped_df = random_series.values.reshape(7, 5)\n",
        "df = pd.DataFrame(reshaped_df)\n",
        "\n",
        "print(df)"
      ],
      "metadata": {
        "id": "yQ2IrjNpz8sJ"
      },
      "execution_count": null,
      "outputs": []
    },
    {
      "cell_type": "markdown",
      "source": [
        "11. Create two different Series, each of length 50, with the following criteria\n",
        "\n",
        "a) The first Series should contain random numbers ranging from 10 to 50.\n",
        "\n",
        "b) The second Series should contain random numbers ranging from 100 to 1000.\n",
        "\n",
        "c) Create a DataFrame by joining these Series by column, and, change the names of the columns to 'col1', 'col2', etc"
      ],
      "metadata": {
        "id": "UPGJYPRoF84T"
      }
    },
    {
      "cell_type": "code",
      "source": [
        "series_length = 50\n",
        "\n",
        "series1 = pd.Series(np.random.randint(10, 51, size=series_length))\n",
        "\n",
        "series2 = pd.Series(np.random.randint(100, 1001, size=series_length))\n",
        "\n",
        "df = pd.DataFrame([series1, series2]).T\n",
        "\n",
        "column_names = ['col' + str(i + 1) for i in range(len(df.columns))]\n",
        "df.columns = column_names\n",
        "\n",
        "print(df)"
      ],
      "metadata": {
        "id": "xVZ6Vji20Wac"
      },
      "execution_count": null,
      "outputs": []
    },
    {
      "cell_type": "markdown",
      "source": [
        "12. Perform the following operations using people data set:\n",
        "\n",
        "a) Delete the 'Email', 'Phone', and 'Date of birth' columns from the dataset.\n",
        "b) Delete the rows containing any missing values.\n",
        "\n",
        "d) Print the final output also"
      ],
      "metadata": {
        "id": "5_vdbLV8F800"
      }
    },
    {
      "cell_type": "code",
      "source": [
        "selected_columns = [col for col in df.columns if col not in ['Email','Phone','Date of birth']]\n",
        "people_data = df[selected_columns]\n",
        "\n",
        "people_data.dropna(inplace=True)\n",
        "\n",
        "print(people_data)"
      ],
      "metadata": {
        "id": "ureUIU5s09ZU"
      },
      "execution_count": null,
      "outputs": []
    },
    {
      "cell_type": "markdown",
      "source": [
        "13. Create two NumPy arrays, x and y, each containing 100 random float values between 0 and 1. Perform the following tasks using Matplotlib and NumPy:\n",
        "\n",
        "a) Create a scatter plot using x and y, setting the color of the points to red and the marker style to 'o'.\n",
        "\n",
        "b) Add a horizontal line at y = 0.5 using a dashed line style and label it as 'y = 0.5'.\n",
        "\n",
        "c) Add a vertical line at x = 0.5 using a dotted line style and label it as 'x = 0.5'.\n",
        "\n",
        " d) Label the x-axis as 'X-axis' and the y-axis as 'Y-axis'.\n",
        "\n",
        "e) Set the title of the plot as 'Advanced Scatter Plot of Random Values'.\n",
        "\n",
        "f) Display a legend for the scatter plot, the horizontal line, and the vertical line"
      ],
      "metadata": {
        "id": "pfuMvkbAF8xm"
      }
    },
    {
      "cell_type": "code",
      "source": [
        "x = np.random.rand(100)\n",
        "y = np.random.rand(100)\n",
        "\n",
        "plt.scatter(x, y, c='red', marker='o', label='Data Points')\n",
        "\n",
        "plt.axhline(y=0.5, color='b', linestyle='--', label='y = 0.5')\n",
        "\n",
        "plt.axvline(x=0.5, color='g', linestyle='dotted', label='x = 0.5')\n",
        "\n",
        "plt.xlabel('X-axis')\n",
        "plt.ylabel('Y-axis')\n",
        "plt.title('advanced scatter plot of random values')\n",
        "\n",
        "plt.legend()\n",
        "\n",
        "plt.show()\n"
      ],
      "metadata": {
        "id": "plNRa3_Q1Y8E"
      },
      "execution_count": null,
      "outputs": []
    },
    {
      "cell_type": "markdown",
      "source": [
        "14. Create a time-series dataset in a Pandas DataFrame with columns: 'Date', 'Temperature', 'Humidity' and Perform the following tasks using Matplotlib:\n",
        "\n",
        "a) Plot the 'Temperature' and 'Humidity' on the same plot with different y-axes (left y-axis for 'Temperature' and right y-axis for 'Humidity').\n",
        "\n",
        "b) Label the x-axis as 'Date'.\n",
        "\n",
        "c) Set the title of the plot as 'Temperature and Humidity Over Time'."
      ],
      "metadata": {
        "id": "noHJ-9yjF8uc"
      }
    },
    {
      "cell_type": "markdown",
      "source": [
        "15. Create a NumPy array data containing 1000 samples from a normal distribution. Perform the following tasks using Matplotlib:\n",
        "\n",
        "a) Plot a histogram of the data with 30 bins.\n",
        "\n",
        "b) Overlay a line plot representing the normal distribution's probability density function (PDF).\n",
        "\n",
        "c) Label the x-axis as 'Value' and the y-axis as 'Frequency/Probability'.\n",
        "\n",
        "d) Set the title of the plot as 'Histogram with PDF Overlay'"
      ],
      "metadata": {
        "id": "z-t7WsCwF8qs"
      }
    },
    {
      "cell_type": "code",
      "source": [
        "num_days = 30\n",
        "dates = pd.date_range(start='2024-01-01', periods=num_days)\n",
        "temps = np.random.randint(10, 30, size=num_days)\n",
        "humidity = np.random.randint(30, 70, size=num_days)\n",
        "\n",
        "data = {'Date':dates,'Temperature':temps,'Humidity':humidity}\n",
        "df = pd.DataFrame(data)\n",
        "\n",
        "fig, ax1 = plt.subplots()\n",
        "ax2 = ax1.twinx()\n",
        "ax1.plot(df['Date'], df['Temperature'], 'b-', label='Temperature (°C)')\n",
        "ax1.set_ylabel('Temperature (°C)', color='b')\n",
        "\n",
        "ax2.plot(df['Date'], df['Humidity'], 'g-', label='Humidity (%)')\n",
        "ax2.set_ylabel('Humidity (%)', color='g')\n",
        "\n",
        "plt.xlabel('Date')\n",
        "plt.title('Temperature and Humidity Over Time')\n",
        "\n",
        "lines1, labels1 = ax1.get_legend_handles_labels()\n",
        "lines2, labels2 = ax2.get_legend_handles_labels()\n",
        "plt.legend(lines1 + lines2, labels1 + labels2, loc='upper left')\n",
        "\n",
        "plt.xticks(rotation=45)\n",
        "\n",
        "plt.tight_layout()\n",
        "plt.show()\n"
      ],
      "metadata": {
        "id": "wj9YUY4y2CbV"
      },
      "execution_count": null,
      "outputs": []
    },
    {
      "cell_type": "markdown",
      "source": [
        "16. Set the title of the plot as 'Histogram with PDF Overlay'."
      ],
      "metadata": {
        "id": "P2dwSpxsF8nE"
      }
    },
    {
      "cell_type": "code",
      "source": [
        "plt.title('Histogram with PDF Overlay')"
      ],
      "metadata": {
        "id": "CG2UcoXv3BLz"
      },
      "execution_count": null,
      "outputs": []
    },
    {
      "cell_type": "markdown",
      "source": [
        "17. Using Bokeh, generate a bar chart of randomly generated categorical data, color bars based on their values, add hover tooltips to display exact values, label the axes, and set the title as 'Random Categorical Bar Chart'"
      ],
      "metadata": {
        "id": "bKOvCZYIJVYu"
      }
    },
    {
      "cell_type": "code",
      "source": [
        "#?????"
      ],
      "metadata": {
        "id": "GBVbH1S43R6V"
      },
      "execution_count": null,
      "outputs": []
    },
    {
      "cell_type": "markdown",
      "source": [
        "18. With Bokeh, plot a line chart of a sine wave function, add grid lines, label the axes, and set the title as 'Sine Wave Function'"
      ],
      "metadata": {
        "id": "urhBSGATF8j8"
      }
    },
    {
      "cell_type": "code",
      "source": [
        "from bokeh.plotting import figure, show\n",
        "from bokeh.io import output_notebook\n",
        "\n",
        "output_notebook()\n",
        "\n",
        "x = np.linspace(0, 4 * np.pi, 100)\n",
        "y = np.sin(x)\n",
        "\n",
        "p = figure(title=\"Sine Wave Function\", x_axis_label='x', y_axis_label='y', width=800, height=400)\n",
        "\n",
        "p.line(x, y, legend_label=\"sin(x)\", line_width=2)\n",
        "\n",
        "p.grid.grid_line_color = \"gray\"\n",
        "p.grid.grid_line_alpha = 0.3\n",
        "\n",
        "show(p)"
      ],
      "metadata": {
        "id": "CF-hrJBv4BuD"
      },
      "execution_count": null,
      "outputs": []
    },
    {
      "cell_type": "markdown",
      "source": [
        "19. Using Bokeh, generate a bar chart of randomly generated categorical data, color bars based on their values, add hover tooltips to display exact values, label the axes, and set the title as 'Random Categorical Bar Chart'"
      ],
      "metadata": {
        "id": "SWlRxTd_F8d8"
      }
    },
    {
      "cell_type": "code",
      "source": [
        "#????"
      ],
      "metadata": {
        "id": "R769Wh3X7KqG"
      },
      "execution_count": null,
      "outputs": []
    },
    {
      "cell_type": "markdown",
      "source": [
        "20. Using Plotly, create a basic line plot of a randomly generated dataset, label the axes, and set the title as 'Simple Line Plot'"
      ],
      "metadata": {
        "id": "b-Ypq18IF8az"
      }
    },
    {
      "cell_type": "code",
      "source": [
        "x = np.linspace(0, 10, 50)\n",
        "y = np.sin(x) + np.random.rand(len(x))\n",
        "\n",
        "df = pd.DataFrame(dict(x=x, y=y))\n",
        "\n",
        "fig = px.line(df, x=\"x\", y=\"y\", title=\"Simple Line Plot\")\n",
        "\n",
        "fig.update_xaxes(title_text=\"X-Axis\")\n",
        "fig.update_yaxes(title_text=\"Y-Axis\")\n",
        "\n",
        "fig.show()\n"
      ],
      "metadata": {
        "id": "Cfv2aTc15PE2"
      },
      "execution_count": null,
      "outputs": []
    },
    {
      "cell_type": "markdown",
      "source": [
        "21. Using Plotly, create an interactive pie chart of randomly generated data, add labels and percentages, set the title as 'Interactive Pie Chart'."
      ],
      "metadata": {
        "id": "FY5g-YhIF8X9"
      }
    },
    {
      "cell_type": "code",
      "source": [
        "import plotly.graph_objects as go\n",
        "\n",
        "data_labels = [\"Category \" + str(i) for i in range(5)]\n",
        "data_values = [round(x, 2) for x in np.random.rand(5) * 100]\n",
        "\n",
        "pie_chart = go.Pie(\n",
        "    labels=data_labels,\n",
        "    values=data_values,\n",
        "    textinfo=\"percent+label\",\n",
        "    hole=0.4,\n",
        ")\n",
        "\n",
        "layout = go.Layout(title=\"Interactive Pie Chart\")\n",
        "\n",
        "fig = go.Figure(data=[pie_chart], layout=layout)\n",
        "\n",
        "fig.update_traces(hoverinfo=\"label+percent+value\")\n",
        "fig.show()\n"
      ],
      "metadata": {
        "id": "1cQBtCmc5ftu"
      },
      "execution_count": null,
      "outputs": []
    },
    {
      "cell_type": "code",
      "source": [],
      "metadata": {
        "id": "URVOEToe5xGJ"
      },
      "execution_count": null,
      "outputs": []
    }
  ]
}