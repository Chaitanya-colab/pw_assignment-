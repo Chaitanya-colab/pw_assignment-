{
  "nbformat": 4,
  "nbformat_minor": 0,
  "metadata": {
    "colab": {
      "private_outputs": true,
      "provenance": [],
      "toc_visible": true
    },
    "kernelspec": {
      "name": "python3",
      "display_name": "Python 3"
    },
    "language_info": {
      "name": "python"
    }
  },
  "cells": [
    {
      "cell_type": "markdown",
      "source": [
        "# Sorting Practice\n"
      ],
      "metadata": {
        "id": "iiX3AH0ngcXg"
      }
    },
    {
      "cell_type": "markdown",
      "source": [
        "Problem 1.Given an array of n numbers, give an algorithm which gives the element appearing maximum\n",
        "number of times?\n"
      ],
      "metadata": {
        "id": "ETz37JG9RHuj"
      }
    },
    {
      "cell_type": "code",
      "execution_count": null,
      "metadata": {
        "id": "Hy9Z_DlcQrub"
      },
      "outputs": [],
      "source": [
        "def find_max(arr):\n",
        "    counts = {}\n",
        "\n",
        "\n",
        "    for num in arr:\n",
        "        if num in counts:\n",
        "            counts[num] += 1\n",
        "        else:\n",
        "            counts[num] = 1\n",
        "\n",
        "    m_count = 0\n",
        "    m_element = None\n",
        "    for num, count in counts.items():\n",
        "        if count > m_count:\n",
        "            m_count = count\n",
        "            m_element = num\n",
        "\n",
        "    return m_element\n",
        "\n",
        "arr = [1,3,2,1,4,1,2,2,3,3,3]\n",
        "print(find_max(arr))"
      ]
    },
    {
      "cell_type": "markdown",
      "source": [
        "Problem 2 : We are given a list of n-1 integers and these integers are in the range of 1 to n . There are no\n",
        "duplicates in the list. One of the integers is missing in the list. Give an algorithm to find that element Ex:\n",
        "[1,2,4,6,3,7,8] 5 is the missing num."
      ],
      "metadata": {
        "id": "0S_nAdBRRG_t"
      }
    },
    {
      "cell_type": "code",
      "source": [
        "def find_missing_num(nums):\n",
        "    n = len(nums) + 1\n",
        "    expected_sum = n * (n + 1) // 2\n",
        "    actual_sum = sum(nums)\n",
        "\n",
        "    missing_number = expected_sum - actual_sum\n",
        "    return missing_number\n",
        "\n",
        "nums = [1,2,4,6,3,7,8]\n",
        "missing_number = find_missing_num(nums)\n",
        "print(missing_number)"
      ],
      "metadata": {
        "id": "DdSN7VoWR-RL"
      },
      "execution_count": null,
      "outputs": []
    },
    {
      "cell_type": "markdown",
      "source": [
        "Problem 3 : Given an array of n positive numbers. All numbers occurs even number of times except 1 which\n",
        "occurs odd number of times. Find that number in O(n) time and O(1) space. Ex: [1,2,3,2,3,1,3]. 3 is repeats odd\n",
        "times."
      ],
      "metadata": {
        "id": "u2cY-FMGT2Nx"
      }
    },
    {
      "cell_type": "code",
      "source": [
        "def find_odd_occur(arr):\n",
        "    result = 0\n",
        "    for num in arr:\n",
        "        result ^= num\n",
        "    return result\n",
        "\n",
        "arr = [1,2,3,2,3,1,3]\n",
        "print(find_odd_occur(arr))"
      ],
      "metadata": {
        "id": "MfyW9JqFT4_s"
      },
      "execution_count": null,
      "outputs": []
    },
    {
      "cell_type": "markdown",
      "source": [
        "Problem 4 : Given an array of n elements. Find two elements in the array such that their sum is equal to given\n",
        "element K."
      ],
      "metadata": {
        "id": "ZVdJj76TUXiF"
      }
    },
    {
      "cell_type": "code",
      "source": [
        "def find_pair_with_sum(arr,k):\n",
        "    arr.sort()\n",
        "    left = 0\n",
        "    right = len(arr) - 1\n",
        "    while left < right:\n",
        "        current_sum = arr[left] + arr[right]\n",
        "        if current_sum == k:\n",
        "            return arr[left], arr[right]\n",
        "        elif current_sum < k:\n",
        "            left += 1\n",
        "        else:\n",
        "            right -= 1\n",
        "    return None\n",
        "\n",
        "arr = [1,4,3,6,8,9]\n",
        "k = 10\n",
        "print(find_pair_with_sum(arr, k))"
      ],
      "metadata": {
        "id": "WLL58FLVUZ-g"
      },
      "execution_count": null,
      "outputs": []
    },
    {
      "cell_type": "markdown",
      "source": [
        "Problem 5 : Given an array of both positive and negative numbers, find two numbers such that their sum is\n",
        "closest to 0. Ex: [ 1 ,60 ,-10, 70, -80,85]. Ans : -80,85."
      ],
      "metadata": {
        "id": "ARbKcWcRbi0V"
      }
    },
    {
      "cell_type": "code",
      "source": [
        "def closest_to_zero(arr):\n",
        "    arr.sort()\n",
        "\n",
        "    left = 0\n",
        "    right = len(arr) - 1\n",
        "\n",
        "    min_sum = float('inf')\n",
        "    result = (None, None)\n",
        "\n",
        "    while left < right:\n",
        "        current_sum = arr[left] + arr[right]\n",
        "\n",
        "        if abs(current_sum) < abs(min_sum):\n",
        "            min_sum = current_sum\n",
        "            result = (arr[left], arr[right])\n",
        "\n",
        "        if current_sum > 0:\n",
        "            right -= 1\n",
        "        elif current_sum < 0:\n",
        "            left += 1\n",
        "        else:\n",
        "            return result\n",
        "\n",
        "    return result\n",
        "\n",
        "arr = [1,60,-10,70,-80,85]\n",
        "closest_to_zero(arr)"
      ],
      "metadata": {
        "id": "dycT6Setctqd"
      },
      "execution_count": null,
      "outputs": []
    },
    {
      "cell_type": "markdown",
      "source": [
        "Problem 6 : Given an array of n elements . Find three elements such that their sum is equal to the given\n",
        "number."
      ],
      "metadata": {
        "id": "xhnql2zxbl5d"
      }
    },
    {
      "cell_type": "code",
      "source": [
        "def three_sum(arr, k):\n",
        "    arr.sort()\n",
        "\n",
        "    for i in range(len(arr) - 2):\n",
        "        left = i + 1\n",
        "        right = len(arr) - 1\n",
        "\n",
        "        while left < right:\n",
        "            current_sum = arr[i] + arr[left] + arr[right]\n",
        "\n",
        "            if current_sum == k:\n",
        "                return [arr[i], arr[left], arr[right]]\n",
        "            elif current_sum < k:\n",
        "                left += 1\n",
        "            else:\n",
        "                right -= 1\n",
        "\n",
        "    return None\n",
        "\n",
        "arr = [1, 4, 45, 6, 10, 8]\n",
        "k = 22\n",
        "result = three_sum(arr, k)\n",
        "print(k,\":\", result)"
      ],
      "metadata": {
        "id": "46PZfLoKdR5n"
      },
      "execution_count": null,
      "outputs": []
    },
    {
      "cell_type": "markdown",
      "source": [
        "Problem 7 : Given an array of n elements . Find three elements i, j, k in the array such that\n",
        "i * i + j * j = k*k."
      ],
      "metadata": {
        "id": "4GVXEiu5bmqy"
      }
    },
    {
      "cell_type": "code",
      "source": [
        "def find_triplet(arr):\n",
        "\n",
        "    square_set = set(x*x for x in arr)\n",
        "\n",
        "    n = len(arr)\n",
        "\n",
        "    for i in range(n):\n",
        "        for j in range(i+1, n):\n",
        "\n",
        "            square_sum = arr[i]*arr[i] + arr[j]*arr[j]\n",
        "\n",
        "            if square_sum in square_set:\n",
        "\n",
        "                k = int(square_sum ** 0.5)\n",
        "\n",
        "                if k in arr:\n",
        "                    return (arr[i], arr[j], k)\n",
        "\n",
        "    return None\n",
        "arr = [3, 1, 4, 6, 5]\n",
        "result = find_triplet(arr)\n",
        "print(result)"
      ],
      "metadata": {
        "id": "Q8BeaX-ad4b1"
      },
      "execution_count": null,
      "outputs": []
    },
    {
      "cell_type": "markdown",
      "source": [
        "Problem 8 : An element is a majority if it appears more than n/2 times. Give an algorithm takes an array of n\n",
        "element as argument and identifies a majority (if it exists)."
      ],
      "metadata": {
        "id": "A-BflAXlbmiz"
      }
    },
    {
      "cell_type": "code",
      "source": [
        "def find_majority_element(arr):\n",
        "    candidate = None\n",
        "    count = 0\n",
        "\n",
        "    for num in arr:\n",
        "        if count == 0:\n",
        "            candidate = num\n",
        "            count = 1\n",
        "        elif candidate == num:\n",
        "            count += 1\n",
        "        else:\n",
        "            count -= 1\n",
        "\n",
        "    count = 0\n",
        "    for num in arr:\n",
        "        if num == candidate:\n",
        "            count += 1\n",
        "\n",
        "    if count > len(arr) / 2:\n",
        "        return candidate\n",
        "    else:\n",
        "        return None\n",
        "\n",
        "arr = [2,2,3,4,2,2,5,2,2]\n",
        "majority_element = find_majority_element(arr)\n",
        "print(\"majority element:\",majority_element)"
      ],
      "metadata": {
        "id": "_2LGi_SzeN6d"
      },
      "execution_count": null,
      "outputs": []
    },
    {
      "cell_type": "markdown",
      "source": [
        "Problem 9 : Given n × n matrix, and in each row all 1’s are followed by 0’s. Find the row with the maximum\n",
        "number of 0’s."
      ],
      "metadata": {
        "id": "fvAbltkubmal"
      }
    },
    {
      "cell_type": "code",
      "source": [
        "def find_max_zeros(matrix):\n",
        "    n = len(matrix)\n",
        "    max_zeros_row = 0\n",
        "    row_index = 0\n",
        "    col_index = n - 1\n",
        "\n",
        "    while row_index < n and col_index >= 0:\n",
        "\n",
        "        if matrix[row_index][col_index] == 0:\n",
        "            col_index -= 1\n",
        "            max_zeros_row = row_index\n",
        "\n",
        "        else:\n",
        "            row_index += 1\n",
        "\n",
        "    return max_zeros_row\n",
        "\n",
        "matrix = [\n",
        "    [0, 0, 0, 1],\n",
        "    [0, 0, 1, 1],\n",
        "    [0, 1, 1, 1],\n",
        "    [1, 1, 1, 1]\n",
        "]\n",
        "find_max_zeros(matrix)"
      ],
      "metadata": {
        "id": "i9nQ9ki6exYD"
      },
      "execution_count": null,
      "outputs": []
    },
    {
      "cell_type": "markdown",
      "source": [
        "Problem 10 : Sort an array of 0’s, 1’s and 2’s [or R’s, G’s and B’s]: Given an array A[] consisting of 0’s, 1’s and\n",
        "2’s, give an algorithm for sorting A[].The algorithm should put all 0’s first, then all 1’s and finally all 2’s at the\n",
        "end. Example Input = {0,1,1,0,1,2,1,2,0,0,0,1}, Output = {0,0,0,0,0,1,1,1,1,1,2,2}"
      ],
      "metadata": {
        "id": "da1wC7Vvbl_t"
      }
    },
    {
      "cell_type": "code",
      "source": [
        "def sort_0s1s2s(arr):\n",
        "    low = 0\n",
        "    mid = 0\n",
        "    high = len(arr) - 1\n",
        "\n",
        "    while mid <= high:\n",
        "        if arr[mid] == 0:\n",
        "            arr[low], arr[mid] = arr[mid], arr[low]\n",
        "            low += 1\n",
        "            mid += 1\n",
        "        elif arr[mid] == 1:\n",
        "            mid += 1\n",
        "        else:\n",
        "            arr[mid], arr[high] = arr[high], arr[mid]\n",
        "            high -= 1\n",
        "\n",
        "arr = [0,1,1,0,1,2,1,2,0,0,0,1]\n",
        "sort_012 = sort_0s1s2s(arr)\n",
        "print(arr)"
      ],
      "metadata": {
        "id": "66O74FeLbikP"
      },
      "execution_count": null,
      "outputs": []
    }
  ]
}