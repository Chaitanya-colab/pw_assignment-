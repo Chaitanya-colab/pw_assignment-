{
  "nbformat": 4,
  "nbformat_minor": 0,
  "metadata": {
    "colab": {
      "private_outputs": true,
      "provenance": []
    },
    "kernelspec": {
      "name": "python3",
      "display_name": "Python 3"
    },
    "language_info": {
      "name": "python"
    }
  },
  "cells": [
    {
      "cell_type": "markdown",
      "source": [
        "# About - Dataset:\n",
        "\n",
        "The dataset provided for this project is focused on heart failure, a critical medical condition characterized by the heart's inability to pump blood effectively, leading to inadequate circulation throughout the body. Here's an overview of the dataset"
      ],
      "metadata": {
        "id": "1uHAZ2JCcq2j"
      }
    },
    {
      "cell_type": "markdown",
      "source": [
        "# Title: Heart Failure Clinical Records Dataset\n",
        "\n",
        "**Source**: The dataset was collected at the Faisalabad Institute of Cardiology and the Allied Hospital in Faisalabad, Punjab, Pakistan, during the period of April to December in 2015. It was later made available on Kaggle.\n",
        "\n",
        "**Description:** The dataset comprises medical records of 299 patients diagnosed with heart failure. These records include various clinical, body, and lifestyle information of the patients. The dataset encompasses 13 features, providing insights into the patients' health status and potential risk factors for heart failure"
      ],
      "metadata": {
        "id": "ArpNzencc2hC"
      }
    },
    {
      "cell_type": "markdown",
      "source": [
        "Features:"
      ],
      "metadata": {
        "id": "WGA_krbKdF3Q"
      }
    },
    {
      "cell_type": "code",
      "source": [
        "import pandas as pd\n",
        "import numpy as np\n",
        "import matplotlib.pyplot as plt\n",
        "import seaborn as sns\n",
        "import plotly.express  as px\n",
        "from scipy import stats"
      ],
      "metadata": {
        "id": "GwBKHSg5fvgq"
      },
      "execution_count": null,
      "outputs": []
    },
    {
      "cell_type": "code",
      "source": [
        "df"
      ],
      "metadata": {
        "id": "f-Wh2ClIitsA"
      },
      "execution_count": null,
      "outputs": []
    },
    {
      "cell_type": "markdown",
      "source": [
        "1. Age: The age of the patient (numeric)."
      ],
      "metadata": {
        "id": "xARnQob8dLN3"
      }
    },
    {
      "cell_type": "code",
      "source": [
        "df = pd.read_csv('/content/drive/MyDrive/heart_failure_clinical_records_dataset.csv')\n",
        "df['age']"
      ],
      "metadata": {
        "id": "eCpwU1OjgL5n"
      },
      "execution_count": null,
      "outputs": []
    },
    {
      "cell_type": "markdown",
      "source": [
        "2. Anaemia: Indicates the presence of anemia (binary: 0 for no, 1 for yes)."
      ],
      "metadata": {
        "id": "22r_FPwkdLK3"
      }
    },
    {
      "cell_type": "code",
      "source": [
        "anaemia = df['anaemia']\n",
        "anaemia"
      ],
      "metadata": {
        "id": "wE0mU-i3i_Vn"
      },
      "execution_count": null,
      "outputs": []
    },
    {
      "cell_type": "markdown",
      "source": [
        "3. Creatinine Phosphokinase (CPK): Level of creatinine phosphokinase enzyme in the blood (numeric)."
      ],
      "metadata": {
        "id": "PObOzk4VdLIA"
      }
    },
    {
      "cell_type": "code",
      "source": [
        "cpk_levels = df['creatinine_phosphokinase']\n",
        "\n",
        "print(cpk_levels)"
      ],
      "metadata": {
        "id": "mkpC0tbcjO9A"
      },
      "execution_count": null,
      "outputs": []
    },
    {
      "cell_type": "markdown",
      "source": [
        "4. Diabetes: Indicates whether the patient has diabetes (binary: 0 for no, 1 for yes)."
      ],
      "metadata": {
        "id": "qRgp0lDadLE3"
      }
    },
    {
      "cell_type": "code",
      "source": [
        "diabetes = df['diabetes']\n",
        "diabetes"
      ],
      "metadata": {
        "id": "70JqZ9wKjY6o"
      },
      "execution_count": null,
      "outputs": []
    },
    {
      "cell_type": "markdown",
      "source": [
        "5. Ejection Fraction: Percentage of blood leaving the heart at each contraction (numeric)."
      ],
      "metadata": {
        "id": "VQLeb5D4dLB1"
      }
    },
    {
      "cell_type": "code",
      "source": [
        "Ejection_Fraction  = [\"ejection_fraction\"]\n",
        "Ejection_Fraction"
      ],
      "metadata": {
        "id": "1G9ckXipjdW0"
      },
      "execution_count": null,
      "outputs": []
    },
    {
      "cell_type": "markdown",
      "source": [
        "6. High Blood Pressure: Indicates whether the patient has high blood pressure (binary: 0 for no, 1 for yes)."
      ],
      "metadata": {
        "id": "Ginw6b2ldKxX"
      }
    },
    {
      "cell_type": "code",
      "source": [
        "High_Blood_Pressure = df['high_blood_pressure']\n",
        "High_Blood_Pressure"
      ],
      "metadata": {
        "id": "zu3z_ev2jsQN"
      },
      "execution_count": null,
      "outputs": []
    },
    {
      "cell_type": "markdown",
      "source": [
        "7. Platelets: Platelet count in the blood (numeric)."
      ],
      "metadata": {
        "id": "43O2Xx8hdKtP"
      }
    },
    {
      "cell_type": "code",
      "source": [
        "Platelets = df['platelets']"
      ],
      "metadata": {
        "id": "heb8jt2yj4Vf"
      },
      "execution_count": null,
      "outputs": []
    },
    {
      "cell_type": "markdown",
      "source": [
        "8. Serum Creatinine: Level of creatinine in the blood (numeric)."
      ],
      "metadata": {
        "id": "JL9NWn5WdKqA"
      }
    },
    {
      "cell_type": "code",
      "source": [
        "Serum_Creatinine = df['serum_creatinine']\n",
        "Serum_Creatinine"
      ],
      "metadata": {
        "id": "-Oje4Rxbj_iK"
      },
      "execution_count": null,
      "outputs": []
    },
    {
      "cell_type": "markdown",
      "source": [
        "9. Serum Sodium: Level of sodium in the blood (numeric)."
      ],
      "metadata": {
        "id": "4xQOMxl3dKm4"
      }
    },
    {
      "cell_type": "code",
      "source": [
        "Serum_Sodium = df['serum_sodium']\n",
        "Serum_Sodium"
      ],
      "metadata": {
        "id": "obzmI3x3kEOX"
      },
      "execution_count": null,
      "outputs": []
    },
    {
      "cell_type": "markdown",
      "source": [
        "10. Sex: Gender of the patient (binary: 0 for female, 1 for male)."
      ],
      "metadata": {
        "id": "QLutLsZMdKkO"
      }
    },
    {
      "cell_type": "code",
      "source": [
        "Sex = df['sex']\n",
        "Sex"
      ],
      "metadata": {
        "id": "UqaPpNflkJHR"
      },
      "execution_count": null,
      "outputs": []
    },
    {
      "cell_type": "markdown",
      "source": [
        "11. Smoking: Indicates whether the patient smokes (binary: 0 for no, 1 for yes)."
      ],
      "metadata": {
        "id": "RlgkQZ8jdKhH"
      }
    },
    {
      "cell_type": "code",
      "source": [
        "Smoking = df['smoking']\n",
        "Smoking"
      ],
      "metadata": {
        "id": "42x5BAunkMlO"
      },
      "execution_count": null,
      "outputs": []
    },
    {
      "cell_type": "markdown",
      "source": [
        "12. Time: Follow-up period (in days) for the patient's condition (numeric)."
      ],
      "metadata": {
        "id": "1bkBKmdTdKcW"
      }
    },
    {
      "cell_type": "code",
      "source": [
        "Time= df['time']\n",
        "Time"
      ],
      "metadata": {
        "id": "xzmJRps1kQhn"
      },
      "execution_count": null,
      "outputs": []
    },
    {
      "cell_type": "markdown",
      "source": [
        "# Death Event:\n",
        "*Indicates whether the patient died during the follow-up period (binary: 0 for no, 1 for yes).*"
      ],
      "metadata": {
        "id": "VgZAyrTAd4za"
      }
    },
    {
      "cell_type": "markdown",
      "source": [
        "1. What is the distribution of age among heart failure patients in the dataset?"
      ],
      "metadata": {
        "id": "dG24zBzUd6En"
      }
    },
    {
      "cell_type": "code",
      "source": [
        "ages = df['age']\n",
        "\n",
        "plt.figure(figsize=(10, 6))\n",
        "sns.histplot(ages, bins=30, kde=True)\n",
        "plt.title('Age of Heart Failure Patients')\n",
        "plt.xlabel('Age')\n",
        "plt.ylabel('Frequency')\n",
        "plt.show()"
      ],
      "metadata": {
        "id": "BVO5a3d9fMsn"
      },
      "execution_count": null,
      "outputs": []
    },
    {
      "cell_type": "markdown",
      "source": [
        "2. How does the death rate vary with age?"
      ],
      "metadata": {
        "id": "wlHC_FeGeS--"
      }
    },
    {
      "cell_type": "code",
      "source": [
        "death_rates = df.groupby(\"age\")[\"DEATH_EVENT\"].mean()\n",
        "\n",
        "plt.figure(figsize=(8, 6))\n",
        "plt.plot(death_rates.index, death_rates.values)\n",
        "plt.xlabel(\"Age\")\n",
        "plt.ylabel(\"Death Rate (Mean)\")\n",
        "plt.title(\"Death Rate Variation with Age in Heart Failure Patients\")\n",
        "plt.grid(True)\n",
        "plt.show()\n"
      ],
      "metadata": {
        "id": "dHW-BhkRl60L"
      },
      "execution_count": null,
      "outputs": []
    },
    {
      "cell_type": "markdown",
      "source": [
        "3. What is the percentage of male and female patients in the dataset?"
      ],
      "metadata": {
        "id": "KcH3cEcgeS8Q"
      }
    },
    {
      "cell_type": "code",
      "source": [
        "male_count = len(df[df[\"sex\"] ==0])\n",
        "female_count = len(df[df[\"sex\"] ==1])\n",
        "\n",
        "total_patients = len(df)\n",
        "\n",
        "male_percentage = (male_count / total_patients) * 100\n",
        "female_percentage = (female_count / total_patients) * 100\n",
        "print(\"male\",male_percentage)\n",
        "print(\"female\",female_percentage)"
      ],
      "metadata": {
        "id": "geTHPnIcnT1S"
      },
      "execution_count": null,
      "outputs": []
    },
    {
      "cell_type": "markdown",
      "source": [
        "4. How does the platelet count vary among different age groups?"
      ],
      "metadata": {
        "id": "7-rFz-9beS5I"
      }
    },
    {
      "cell_type": "code",
      "source": [
        "age_bins = [0,30,40,50,60,70,80,90]\n",
        "\n",
        "df['age_group'] = pd.cut(df['age'], bins=age_bins)\n",
        "\n",
        "platelet_means = df.groupby('age_group')['platelets'].mean()\n",
        "\n",
        "plt.figure(figsize=(10, 6))\n",
        "sns.barplot(x=platelet_means.index.astype(str), y=platelet_means.values)\n",
        "plt.title('Platelet Count of Different Age Groups')\n",
        "plt.xlabel('age Group')\n",
        "plt.ylabel('mean Platelet Count')\n",
        "plt.xticks(rotation=45)\n",
        "plt.show()"
      ],
      "metadata": {
        "id": "fLhcw40Pn9z-"
      },
      "execution_count": null,
      "outputs": []
    },
    {
      "cell_type": "markdown",
      "source": [
        "5. Is there a correlation between creatinine and sodium levels in the blood?"
      ],
      "metadata": {
        "id": "oQMht36jeS11"
      }
    },
    {
      "cell_type": "code",
      "source": [
        "\n",
        "correlation = df['creatinine_phosphokinase'].corr(df['serum_sodium'])\n",
        "\n",
        "plt.figure(figsize=(8, 6))\n",
        "sns.scatterplot(x='creatinine_phosphokinase', y='serum_sodium', data=df)\n",
        "plt.title('correlation between creatinine and sodium levels')\n",
        "plt.xlabel('creatinine levels')\n",
        "plt.ylabel('Sodium Levels')\n",
        "plt.text(2000, 125, f'Correlation coefficient: {correlation:.2f}', fontsize=12, bbox=dict(facecolor='white', alpha=0.5))\n",
        "plt.show()"
      ],
      "metadata": {
        "id": "Hnvict6Uo2wb"
      },
      "execution_count": null,
      "outputs": []
    },
    {
      "cell_type": "markdown",
      "source": [
        "6. How does the prevalence of high blood pressure differ between male and female patients?"
      ],
      "metadata": {
        "id": "5K0pHrvoeSy-"
      }
    },
    {
      "cell_type": "code",
      "source": [
        "prevalence = df.groupby('sex')['high_blood_pressure'].mean() * 100\n",
        "\n",
        "plt.figure(figsize=(8, 6))\n",
        "sns.barplot(x=prevalence.index, y=prevalence.values)\n",
        "plt.title('Prevalence of High Blood Pressure by Gender')\n",
        "plt.xlabel('Gender')\n",
        "plt.ylabel('Prevalence (%)')\n",
        "plt.xticks([0, 1], ['Female', 'Male'])\n",
        "plt.show()\n",
        "\n",
        "print(f'Female {prevalence[0]:.2f}%')\n",
        "print(f'Male {prevalence[1]:.2f}%')"
      ],
      "metadata": {
        "id": "g_XSjkTYqBYJ"
      },
      "execution_count": null,
      "outputs": []
    },
    {
      "cell_type": "markdown",
      "source": [
        "7. What is the relationship between smoking habits and the occurrence of heart failure?"
      ],
      "metadata": {
        "id": "nj3KfU8MeSwF"
      }
    },
    {
      "cell_type": "code",
      "source": [
        "\n",
        "occurrence = df.groupby('smoking')['DEATH_EVENT'].mean() * 100\n",
        "\n",
        "plt.figure(figsize=(8, 6))\n",
        "sns.barplot(x=occurrence.index, y=occurrence.values)\n",
        "plt.title('Occurrence of Heart Failure by Smoking Status')\n",
        "plt.xlabel('Smoking Status (0: Non-Smoker, 1: Smoker)')\n",
        "plt.ylabel('Occurrence (%)')\n",
        "plt.xticks([0, 1], ['Non-Smoker', 'Smoker'])\n",
        "plt.show()\n",
        "\n",
        "print(f'Non-Smoker{occurrence[0]:.2f}%')\n",
        "print(f'Smoker{occurrence[1]:.2f}%')\n"
      ],
      "metadata": {
        "id": "3Q1DkhFAqVf3"
      },
      "execution_count": null,
      "outputs": []
    },
    {
      "cell_type": "markdown",
      "source": [
        "8. Are there any noticeable patterns in the distribution of death events across different age groups?"
      ],
      "metadata": {
        "id": "SEmLEgbveStZ"
      }
    },
    {
      "cell_type": "code",
      "source": [
        "\n",
        "age_bins = [0, 50, 60, 70, 80, 90]\n",
        "\n",
        "df['age_group'] = pd.cut(df['age'], bins=age_bins)\n",
        "\n",
        "death_distribution = df.groupby('age_group')['DEATH_EVENT'].mean() * 100\n",
        "\n",
        "plt.figure(figsize=(10, 6))\n",
        "sns.barplot(x=death_distribution.index.astype(str), y=death_distribution.values)\n",
        "plt.title('Death Event Distribution Across Age Groups')\n",
        "plt.xlabel('Age Group')\n",
        "plt.ylabel('Death Event Percentage (%)')\n",
        "plt.xticks(rotation=45)\n",
        "plt.show()\n",
        "\n"
      ],
      "metadata": {
        "id": "LTdpMp3CqlYu"
      },
      "execution_count": null,
      "outputs": []
    },
    {
      "cell_type": "markdown",
      "source": [
        "9. Is there any significant difference in ejection fraction between patients with and without diabetes?"
      ],
      "metadata": {
        "id": "sNsn7Kf6eSqH"
      }
    },
    {
      "cell_type": "code",
      "source": [
        "ejection_no_diabetes = df[df['diabetes'] == 0]['ejection_fraction']\n",
        "ejection_diabetes = df[df['diabetes'] == 1]['ejection_fraction']\n",
        "\n",
        "t_stat, p_value = stats.ttest_ind(ejection_no_diabetes, ejection_diabetes, equal_var=False)\n",
        "\n",
        "print(f'T-test results:')\n",
        "print(f'-t-statistic: {t_stat}')\n",
        "print(f'-p-value: {p_value}')\n",
        "\n",
        "alpha = 0.05\n",
        "if p_value < alpha:\n",
        "    print('There is a significant difference in ejection fraction between patients with and without diabetes.')\n",
        "else:\n",
        "    print('There is no significant difference in ejection fraction between patients with and without diabetes.')\n"
      ],
      "metadata": {
        "id": "uZ_OoWTMq-Rh"
      },
      "execution_count": null,
      "outputs": []
    },
    {
      "cell_type": "markdown",
      "source": [
        "10. How does the serum creatinine level vary between patients who survived and those who did not?"
      ],
      "metadata": {
        "id": "2tVd_H1QeSnO"
      }
    },
    {
      "cell_type": "code",
      "source": [
        "# Plot boxplots to compare serum creatinine distribution by survival status\n",
        "plt.figure(figsize=(8, 6))\n",
        "sns.boxplot(x='DEATH_EVENT', y='serum_creatinine', data=df)\n",
        "plt.title('Serum Creatinine Levels by Survival Status')\n",
        "plt.xlabel('Survival Status (0: Survived, 1: Not Survived)')\n",
        "plt.ylabel('Serum Creatinine Level')\n",
        "plt.show()"
      ],
      "metadata": {
        "id": "wZRE9oSzrXRV"
      },
      "execution_count": null,
      "outputs": []
    }
  ]
}