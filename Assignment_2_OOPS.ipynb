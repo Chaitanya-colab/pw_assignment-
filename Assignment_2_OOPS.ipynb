{
  "cells": [
    {
      "cell_type": "markdown",
      "source": [
        "# Constructor:"
      ],
      "metadata": {
        "id": "JPhAQMGgEtcG"
      }
    },
    {
      "cell_type": "markdown",
      "source": [
        "1. What is a constructor in Python? Explain its purpose and usage."
      ],
      "metadata": {
        "id": "JHK3p-ynEzv6"
      }
    },
    {
      "cell_type": "markdown",
      "source": [
        "\n",
        "In Python, a constructor is a special method that is automatically called whenever you create a new object of a class\n",
        "\n",
        "1. Purpose:\n",
        "Initialize object attributes: Constructors are used to assign initial values to the attributes of an object when it's created. This ensures objects are set up in a known state from the beginning\n",
        "2. Usage:\n",
        "Defined using __init__() method: Unlike some other programming languages, Python doesn't require an explicitly named constructor. Instead, a special method named __init__() acts as the constructor."
      ],
      "metadata": {
        "id": "mOGVCWl-Ibla"
      }
    },
    {
      "cell_type": "markdown",
      "source": [
        "2. Differentiate between a parameterless constructor and a parameterized constructor in Python."
      ],
      "metadata": {
        "id": "74KCrL-KEzrD"
      }
    },
    {
      "cell_type": "markdown",
      "source": [
        "Parameterless Constructor (Non-Parameterized Constructor):\n",
        "\n",
        "1. Also known as a default constructor.\n",
        "2. Takes no arguments besides the mandatory self.\n",
        "3. Typically used for:\n",
        "    Initializing attributes with default values.\n",
        "    Performing basic setup tasks that don't require external input.\n",
        "Parameterized Constructor:\n",
        "\n",
        "1. Takes one or more arguments in addition to self.\n",
        "2. Used for:\n",
        "    Initializing attributes with values provided during object creation.\n",
        "    Offering flexibility in creating objects with customized states."
      ],
      "metadata": {
        "id": "KU70aml7JBxU"
      }
    },
    {
      "cell_type": "markdown",
      "source": [
        "3. How do you define a constructor in a Python class? Provide an example."
      ],
      "metadata": {
        "id": "MYsey5uCEzli"
      }
    },
    {
      "cell_type": "code",
      "source": [
        "class ClassName:\n",
        "  def __init__(self, para1  , para2):\n",
        "    return para1 , para2\n"
      ],
      "metadata": {
        "id": "sjlD5exjJgF3"
      },
      "execution_count": 2,
      "outputs": []
    },
    {
      "cell_type": "markdown",
      "source": [
        "class ClassName:\n",
        "    This defines the class where you want the constructor to be used.\n",
        "def __init__(self, para1, para2):\n",
        "    1.This defines the __init__() method, which acts as the constructor.self This is the first mandatory argument and refers to the object being created. It's used to access the object's attributes.\n",
        "    2.parameter1, parameter2, ...: These are optional arguments you can define to accept values during object creation and use them to initialize the object's attributes."
      ],
      "metadata": {
        "id": "5uB_qCMGXOdv"
      }
    },
    {
      "cell_type": "markdown",
      "source": [
        "4. Explain the `__init__` method in Python and its role in constructors."
      ],
      "metadata": {
        "id": "sjJrPoeAEzgN"
      }
    },
    {
      "cell_type": "markdown",
      "source": [
        "The __init__ method in Python is a special method that serves as the constructor for a class.\n",
        "1. Object Initialization: The primary role of __init__ is to initialize the attributes (variables) of a new object.\n",
        "2. Customizable Setup: __init__ allows you to customize the initial state of an object by accepting arguments.\n"
      ],
      "metadata": {
        "id": "qO-r31-lYBbO"
      }
    },
    {
      "cell_type": "markdown",
      "source": [
        "5. In a class named `Person`, create a constructor that initializes the `name` and `age` attributes. Provide an\n",
        "example of creating an object of this class."
      ],
      "metadata": {
        "id": "you1IQpiEzay"
      }
    },
    {
      "cell_type": "code",
      "source": [
        "class Person:\n",
        "  def __init__(self, name, age):\n",
        "    self.name = name\n",
        "    self.age = age\n",
        "\n",
        "person1 = Person(\"ashi\", 25)\n",
        "\n",
        "print(person1.name)\n",
        "print(person1.age)"
      ],
      "metadata": {
        "colab": {
          "base_uri": "https://localhost:8080/"
        },
        "id": "YuJDa6YJYV_V",
        "outputId": "cac62ca6-30bb-45c3-aace-accd165aef5f"
      },
      "execution_count": 3,
      "outputs": [
        {
          "output_type": "stream",
          "name": "stdout",
          "text": [
            "ashi\n",
            "25\n"
          ]
        }
      ]
    },
    {
      "cell_type": "markdown",
      "source": [
        "1. Object Creation:\n",
        "    1. We create a new object of the Person class named person1.\n",
        "During creation, we pass the arguments \"Bob\" and 25 to the constructor. These values are used to initialize the name and age attributes of person1."
      ],
      "metadata": {
        "id": "jC9Og66PYbjA"
      }
    },
    {
      "cell_type": "markdown",
      "source": [
        "6. How can you call a constructor explicitly in Python? Give an example."
      ],
      "metadata": {
        "id": "rUfkSGVlEzVL"
      }
    },
    {
      "cell_type": "markdown",
      "source": [
        " The __new__ method is responsible for allocating memory for a new object but doesn't handle initialization (that's the job of __init__). Bypassing __init__ means you're responsible for manually setting up the object's state, which can be error-prone and might miss crucial steps."
      ],
      "metadata": {
        "id": "dr5i7v4NZY0l"
      }
    },
    {
      "cell_type": "code",
      "source": [
        "class Point:\n",
        "  def __init__(self, x, y):\n",
        "    self.x = x\n",
        "    self.y = y\n",
        "\n",
        "point1 = Point(3, 5)\n",
        "print(point1.x, point1.y)"
      ],
      "metadata": {
        "colab": {
          "base_uri": "https://localhost:8080/"
        },
        "id": "pZJSrwUXZV4P",
        "outputId": "d23fbaba-8642-4d5b-b7c4-5e45f7f81d31"
      },
      "execution_count": 4,
      "outputs": [
        {
          "output_type": "stream",
          "name": "stdout",
          "text": [
            "3 5\n"
          ]
        }
      ]
    },
    {
      "cell_type": "markdown",
      "source": [
        "7. What is the significance of the `self` parameter in Python constructors? Explain with an example."
      ],
      "metadata": {
        "id": "DSCRPqH9EzQF"
      }
    },
    {
      "cell_type": "markdown",
      "source": [
        "The self parameter in Python constructors (the __init__ method) is crucial for working with objects and their attributes."
      ],
      "metadata": {
        "id": "yZ3pvrCDZtsl"
      }
    },
    {
      "cell_type": "code",
      "source": [
        "class Point:\n",
        "  def __init__(self, x, y):\n",
        "    self.x = x\n",
        "    self.y = y\n",
        "point1 = Point(1, 2)\n",
        "print(point1.x, point1.y)"
      ],
      "metadata": {
        "colab": {
          "base_uri": "https://localhost:8080/"
        },
        "id": "aQ-IJzY7Zd61",
        "outputId": "f12f485b-c7d6-43ae-b9a2-40008fc32865"
      },
      "execution_count": 5,
      "outputs": [
        {
          "output_type": "stream",
          "name": "stdout",
          "text": [
            "1 2\n"
          ]
        }
      ]
    },
    {
      "cell_type": "markdown",
      "source": [
        "1. The __init__ method takes self, x, and y as parameters.\n",
        "2. Inside the constructor, self.x and self.y assign the values of x and y to the object's attributes.\n",
        "3. When we create point1 and point2, the constructor is called for each object, and self refers to the specific object being created."
      ],
      "metadata": {
        "id": "vBifSpaLZ0vn"
      }
    },
    {
      "cell_type": "markdown",
      "source": [
        "8. Discuss the concept of default constructors in Python. When are they used?"
      ],
      "metadata": {
        "id": "vdqIKfQuEzJ6"
      }
    },
    {
      "cell_type": "markdown",
      "source": [
        "A default constructor is a special type of constructor that takes no arguments. It plays a vital role in object initialization when you don't explicitly define a constructor for your class.\n",
        "* Used\n",
        "1. Creating Objects with Default Values: When you want your objects to have predefined starting values for their attributes,"
      ],
      "metadata": {
        "id": "1TLAspk9aH_g"
      }
    },
    {
      "cell_type": "code",
      "source": [
        "class Car:\n",
        "  def __init__(self):\n",
        "    self.color = \"black\"\n",
        "    self.make = \"Unknown\"\n",
        "\n",
        "car1 = Car()\n",
        "print(car1.color)\n",
        "print(car1.make)\n"
      ],
      "metadata": {
        "colab": {
          "base_uri": "https://localhost:8080/"
        },
        "id": "ywaOgdxqZ7Uw",
        "outputId": "32234fc2-3952-44c9-ad67-c51031553297"
      },
      "execution_count": 6,
      "outputs": [
        {
          "output_type": "stream",
          "name": "stdout",
          "text": [
            "black\n",
            "Unknown\n"
          ]
        }
      ]
    },
    {
      "cell_type": "markdown",
      "source": [
        "9. Create a Python class called `Rectangle` with a constructor that initializes the `width` and `height`\n",
        "attributes. Provide a method to calculate the area of the rectangle."
      ],
      "metadata": {
        "id": "uONXxlzfEzD6"
      }
    },
    {
      "cell_type": "code",
      "source": [
        "class Rectangle:\n",
        "  def __init__(self, width, height):\n",
        "\n",
        "    self.width = width\n",
        "    self.height = height\n",
        "\n",
        "  def calculate_area(self):\n",
        "\n",
        "    return self.width *self.height\n",
        "\n",
        "rectangle1 = Rectangle(5, 3)\n",
        "\n",
        "area = rectangle1.calculate_area()\n",
        "print(f\"Area of rectangle {area}\")\n"
      ],
      "metadata": {
        "colab": {
          "base_uri": "https://localhost:8080/"
        },
        "id": "zqfETvlRamM6",
        "outputId": "e57a349e-5c5e-465e-f369-1a98ca83214d"
      },
      "execution_count": 7,
      "outputs": [
        {
          "output_type": "stream",
          "name": "stdout",
          "text": [
            "Area of rectangle 15\n"
          ]
        }
      ]
    },
    {
      "cell_type": "markdown",
      "source": [
        "10. How can you have multiple constructors in a Python class? Explain with an example."
      ],
      "metadata": {
        "id": "fPJoy26UEy9T"
      }
    },
    {
      "cell_type": "code",
      "source": [
        "class Circle:\n",
        "  def __init__(self, radius):\n",
        "\n",
        "    self.radius = radius\n",
        "\n",
        "  @classmethod\n",
        "  def from_diameter(cls, diameter):\n",
        "\n",
        "    radius = diameter / 2\n",
        "    return cls(radius)\n",
        "\n",
        "circle1 = Circle(5)\n",
        "print(circle1.radius)\n",
        "\n",
        "circle2 = Circle.from_diameter(10)\n",
        "print(circle2.radius)"
      ],
      "metadata": {
        "colab": {
          "base_uri": "https://localhost:8080/"
        },
        "id": "EH97fHeBau_8",
        "outputId": "fe89a7a8-2a49-4f1f-c558-ebea363110e1"
      },
      "execution_count": 8,
      "outputs": [
        {
          "output_type": "stream",
          "name": "stdout",
          "text": [
            "5\n",
            "5.0\n"
          ]
        }
      ]
    },
    {
      "cell_type": "markdown",
      "source": [
        "1. the __init__ method takes radius as an argument.\n",
        "2. The from_diameter class method is decorated with @classmethod and takes diameter as an argument.\n",
        "3. It calculates the radius from the diameter and then calls the main __init__ method using cls(radius) to create the circle object.\n",
        "4. We can create circles using either the main constructor with radius or the class method with diameter."
      ],
      "metadata": {
        "id": "W3KmJGaSa-9n"
      }
    },
    {
      "cell_type": "markdown",
      "source": [
        "11. What is method overloading, and how is it related to constructors in Python?"
      ],
      "metadata": {
        "id": "hbW1KaX2Ey2a"
      }
    },
    {
      "cell_type": "markdown",
      "source": [
        "1. Constructors in Python are typically represented by the special method __init__.\n",
        "2. Python doesn't inherently support having multiple methods with the same name __init__. Only the last defined __init__ method would be recognized."
      ],
      "metadata": {
        "id": "Wv4bsnTabRJm"
      }
    },
    {
      "cell_type": "markdown",
      "source": [
        "12. Explain the use of the `super()` function in Python constructors. Provide an example."
      ],
      "metadata": {
        "id": "_U_OUaMoEyv6"
      }
    },
    {
      "cell_type": "markdown",
      "source": [
        "1. Finding the Parent Class: When you call super() within a subclass constructor\n",
        "2. Calling Parent Constructor: super() returns a temporary object that represents the parent class."
      ],
      "metadata": {
        "id": "VmDdOl4obXNf"
      }
    },
    {
      "cell_type": "markdown",
      "source": [
        "1. Ensures Proper Initialization\n",
        "2. Maintains Code Readability and Consistency\n",
        "3. Avoids Code Duplication"
      ],
      "metadata": {
        "id": "7lpop2lEbxlF"
      }
    },
    {
      "cell_type": "markdown",
      "source": [
        "13. Create a class called `Book` with a constructor that initializes the `title`, `author`, and `published_year`\n",
        "attributes. Provide a method to display book details."
      ],
      "metadata": {
        "id": "6mKQiE8rEyo7"
      }
    },
    {
      "cell_type": "code",
      "source": [
        "class Book:\n",
        "\n",
        "  def __init__(self, title, author, published_year):\n",
        "\n",
        "    self.title = title\n",
        "    self.author = author\n",
        "    self.published_year = published_year\n",
        "\n",
        "  def display_details(self):\n",
        "\n",
        "    print(f\"Title {self.title}\")\n",
        "    print(f\"Author {self.author}\")\n",
        "    print(f\"Published Year {self.published_year}\")\n",
        "\n",
        "book1 = Book(\" Galaxy\",\"Douglas Adams\", 1979)\n",
        "\n",
        "book1.display_details()\n"
      ],
      "metadata": {
        "colab": {
          "base_uri": "https://localhost:8080/"
        },
        "id": "XbDF7LfccJRw",
        "outputId": "27019102-b534-4f1b-e8e3-a4d7e41e2fec"
      },
      "execution_count": 9,
      "outputs": [
        {
          "output_type": "stream",
          "name": "stdout",
          "text": [
            "Title  Galaxy\n",
            "Author Douglas Adams\n",
            "Published Year 1979\n"
          ]
        }
      ]
    },
    {
      "cell_type": "markdown",
      "source": [
        "14. Discuss the differences between constructors and regular methods in Python classes."
      ],
      "metadata": {
        "id": "a0Nd5MMzEyja"
      }
    },
    {
      "cell_type": "markdown",
      "source": [
        "* Constructors\n",
        "1. Special Method: Represented by the __init__ method, it's automatically called during object creation using the class name and parentheses\n",
        "2. Object Initialization: The primary function is to initialize an object's attributes with starting values.\n",
        "3. No Return Value: Constructors don't explicitly return a value.\n",
        "* Regular Methods\n",
        "1. Definition: Defined using def within a class.\n",
        "2. Functionality: Perform specific actions or calculations on objects.\n",
        "3. Return Value: Can optionally return a value based on the method's logic."
      ],
      "metadata": {
        "id": "XA9i2b4WcZfz"
      }
    },
    {
      "cell_type": "markdown",
      "source": [
        "15. Explain the role of the `self` parameter in instance variable initialization within a constructor."
      ],
      "metadata": {
        "id": "nzeDqhnuEybs"
      }
    },
    {
      "cell_type": "code",
      "source": [
        "class Point:\n",
        "  def __init__(self, x, y):\n",
        "    self.x = x\n",
        "    self.y = y\n",
        "\n",
        "point1 = Point(1, 2)\n",
        "point2 = Point(3, 4)\n",
        "\n",
        "print(point1.x, point1.y)"
      ],
      "metadata": {
        "colab": {
          "base_uri": "https://localhost:8080/"
        },
        "id": "9WFnxxlsc_ao",
        "outputId": "31865623-57a8-42ee-93c8-2b170c7df5fd"
      },
      "execution_count": 10,
      "outputs": [
        {
          "output_type": "stream",
          "name": "stdout",
          "text": [
            "1 2\n"
          ]
        }
      ]
    },
    {
      "cell_type": "markdown",
      "source": [
        "16. How do you prevent a class from having multiple instances by using constructors in Python? Provide an\n",
        "example."
      ],
      "metadata": {
        "id": "OnUmbP98EyVD"
      }
    },
    {
      "cell_type": "code",
      "source": [
        "class Singleton:\n",
        "  __instance = None\n",
        "\n",
        "  @classmethod\n",
        "  def get_instance(cls):\n",
        "\n",
        "    if not Singleton.__instance:\n",
        "      Singleton.__instance = Singleton()\n",
        "    return Singleton.__instance\n",
        "\n",
        "instance2 = Singleton.get_instance()\n",
        "instance3 = Singleton.get_instance()\n",
        "\n",
        "print(instance2 is instance3)"
      ],
      "metadata": {
        "colab": {
          "base_uri": "https://localhost:8080/"
        },
        "id": "WHqSvnnddch1",
        "outputId": "2b884faa-08b7-4a4b-d1a5-3c8446b5e5bd"
      },
      "execution_count": 11,
      "outputs": [
        {
          "output_type": "stream",
          "name": "stdout",
          "text": [
            "True\n"
          ]
        }
      ]
    },
    {
      "cell_type": "markdown",
      "source": [
        "1. the __instance variable is private, preventing direct modification from outside the class.\n",
        "2. The get_instance method acts as a controlled access point for creating and returning the single instance.\n",
        "3. By checking if __instance is already set before creating a new one, we ensure only one object is ever instantiated"
      ],
      "metadata": {
        "id": "NMx6OzhEdkwd"
      }
    },
    {
      "cell_type": "markdown",
      "source": [
        "17. Create a Python class called `Student` with a constructor that takes a list of subjects as a parameter and\n",
        "initializes the `subjects` attribute."
      ],
      "metadata": {
        "id": "uKjoWQUiEyOc"
      }
    },
    {
      "cell_type": "code",
      "source": [
        "class Student:\n",
        "  def __init__(self, subjects):\n",
        "\n",
        "    self.subjects = subjects\n",
        "\n",
        "student1 = Student([\"math\",\"science\",\"History\"])\n",
        "\n",
        "print(student1.subjects)\n"
      ],
      "metadata": {
        "colab": {
          "base_uri": "https://localhost:8080/"
        },
        "id": "AvkTYGXkdybM",
        "outputId": "303c6e8b-be95-474a-e246-b0c681817b81"
      },
      "execution_count": 12,
      "outputs": [
        {
          "output_type": "stream",
          "name": "stdout",
          "text": [
            "['math', 'science', 'History']\n"
          ]
        }
      ]
    },
    {
      "cell_type": "markdown",
      "source": [
        "18. What is the purpose of the `__del__` method in Python classes, and how does it relate to constructors?"
      ],
      "metadata": {
        "id": "BoS-BxfpEwSj"
      }
    },
    {
      "cell_type": "markdown",
      "source": [
        "1. Purpose:\n",
        "    \n",
        "    The __init__ method is a special method that gets called automatically during object creation\n",
        "2. Relate to constructors:\n",
        "\n",
        "    They serve opposite purposes in the object lifecycle. Constructors are for initialization, while destructors are for potential cleanup."
      ],
      "metadata": {
        "id": "1wOTFxqUeOn2"
      }
    },
    {
      "cell_type": "code",
      "source": [
        "class Resource:\n",
        "  def __del__(self):\n",
        "    print(self)"
      ],
      "metadata": {
        "id": "ZzfKe41Cd5xF"
      },
      "execution_count": 13,
      "outputs": []
    },
    {
      "cell_type": "markdown",
      "source": [
        "19. Explain the use of constructor chaining in Python. Provide a practical example."
      ],
      "metadata": {
        "id": "m1Je9MhSEwLM"
      }
    },
    {
      "cell_type": "code",
      "source": [
        "class Vehicle:\n",
        "  def __init__(self, make, model, color=\"silver\"):\n",
        "\n",
        "    self.make = make\n",
        "    self.model = model\n",
        "    self.color = color\n",
        "\n",
        "car1 = Vehicle(\"Toyota\", \"Camry\", \"blue\")\n",
        "print(car1.make, car1.model, car1.color)\n",
        "\n",
        "car2 = Vehicle(\"Honda\", \"Civic\")\n",
        "print(car2.make, car2.model, car2.color)"
      ],
      "metadata": {
        "colab": {
          "base_uri": "https://localhost:8080/"
        },
        "id": "ANvHwBqJfBus",
        "outputId": "3a4a65cd-2db3-430d-e6a0-8f3db2e63185"
      },
      "execution_count": 14,
      "outputs": [
        {
          "output_type": "stream",
          "name": "stdout",
          "text": [
            "Toyota Camry blue\n",
            "Honda Civic silver\n"
          ]
        }
      ]
    },
    {
      "cell_type": "markdown",
      "source": [
        "20. Create a Python class called `Car` with a default constructor that initializes the `make` and `model`\n",
        "attributes. Provide a method to display car information."
      ],
      "metadata": {
        "id": "FBrLjDt9EvsC"
      }
    },
    {
      "cell_type": "code",
      "source": [
        "class Car:\n",
        "\n",
        "  def __init__(self, make=\"unknown\",model=\"unknown\"):\n",
        "\n",
        "    self.make = make\n",
        "    self.model = model\n",
        "\n",
        "  def display_info(self):\n",
        "\n",
        "    print(f\"Make: {self.make}\")\n",
        "    print(f\"Model: {self.model}\")\n",
        "\n",
        "car1 = Car()\n",
        "\n",
        "car2 = Car(\"Honda\",\"Civic\")\n",
        "\n",
        "car1.display_info()\n",
        "car2.display_info()\n"
      ],
      "metadata": {
        "colab": {
          "base_uri": "https://localhost:8080/"
        },
        "id": "LtW4bP-zfJP0",
        "outputId": "9243d7a6-f10a-4aa3-e9ee-c8c699dacd22"
      },
      "execution_count": 15,
      "outputs": [
        {
          "output_type": "stream",
          "name": "stdout",
          "text": [
            "Make: unknown\n",
            "Model: unknown\n",
            "Make: Honda\n",
            "Model: Civic\n"
          ]
        }
      ]
    },
    {
      "cell_type": "markdown",
      "source": [
        "# Inheritance:"
      ],
      "metadata": {
        "id": "j-dOQVf3Fcya"
      }
    },
    {
      "cell_type": "markdown",
      "source": [
        "1. What is inheritance in Python? Explain its significance in object-oriented programming."
      ],
      "metadata": {
        "id": "yQd96YQrFkY4"
      }
    },
    {
      "cell_type": "markdown",
      "source": [
        "1. Inheritance in Python is a fundamental concept in object-oriented programming (OOP) that allows you to create new classes (subclasses or child classes) based on existing classes (parent classes or base classes).\n",
        "2. Significance of Inheritance\n",
        "    1. Code Reusability\n",
        "    2. Real-world Relationships\n",
        "    3. Maintainability"
      ],
      "metadata": {
        "id": "Dbet1HP-ffrU"
      }
    },
    {
      "cell_type": "markdown",
      "source": [
        "2. Differentiate between single inheritance and multiple inheritance in Python. Provide examples for each."
      ],
      "metadata": {
        "id": "zbQDo5OIFkUq"
      }
    },
    {
      "cell_type": "markdown",
      "source": [
        "**Single Inheritance**\n",
        "\n",
        "1. A child class inherits from only one parent class.\n",
        "2. This is the most common and straightforward approach.\n",
        "3. It promotes clear and unambiguous inheritance relationships.\n"
      ],
      "metadata": {
        "id": "gsxyXMz_f9te"
      }
    },
    {
      "cell_type": "code",
      "source": [
        "class Animal:\n",
        "  def __init__(self, name):\n",
        "    self.name = name\n",
        "\n",
        "  def make_sound(self):\n",
        "    print(\"animal sound\")\n",
        "\n",
        "class Dog(Animal):\n",
        "  def __init__(self, name, breed):\n",
        "    super().__init__(name)\n",
        "    self.breed = breed\n",
        "\n",
        "  def make_sound(self):\n",
        "    print(\"Woof\")\n",
        "\n",
        "my_dog = Dog(\"Buddy\",\"Labrador\")\n",
        "my_dog.make_sound()\n"
      ],
      "metadata": {
        "colab": {
          "base_uri": "https://localhost:8080/"
        },
        "id": "QVoQIV0ggJKF",
        "outputId": "f7ded40e-80fc-4f55-fa5a-bfb64b8e725f"
      },
      "execution_count": 16,
      "outputs": [
        {
          "output_type": "stream",
          "name": "stdout",
          "text": [
            "Woof\n"
          ]
        }
      ]
    },
    {
      "cell_type": "markdown",
      "source": [
        "1. Animal is the parent class defining name and a generic make_sound method.\n",
        "2. Dog inherits from Animal, gaining access to its attributes and methods."
      ],
      "metadata": {
        "id": "VtzH_S8ngPbm"
      }
    },
    {
      "cell_type": "markdown",
      "source": [
        "**Multiple Inheritance**\n",
        "\n",
        "1. A child class inherits from multiple parent classes.\n",
        "2. This allows a child class to combine functionalities from various base classes.\n",
        "3. it can lead to complexity and ambiguity if parent classes have methods with the same name."
      ],
      "metadata": {
        "id": "voWWUPzNgnWu"
      }
    },
    {
      "cell_type": "code",
      "source": [
        "class Swimmer:\n",
        "  def __init__(self,name):\n",
        "    self.name = name\n",
        "\n",
        "  def swim(self):\n",
        "    print(\"swimming\")\n",
        "\n",
        "class Flyer:\n",
        "  def __init__(self,name):\n",
        "    self.name = name\n",
        "\n",
        "  def fly(self):\n",
        "    print(\"flying\")\n",
        "\n",
        "class Duck(Swimmer, Flyer):\n",
        "  def __init__(self, name):\n",
        "    super().__init__(name)\n",
        "\n",
        "  def quack(self):\n",
        "    print(\"quack\")\n",
        "\n",
        "my_duck = Duck(\"ducky\")\n",
        "my_duck.swim()\n",
        "my_duck.fly()\n",
        "my_duck.quack()"
      ],
      "metadata": {
        "colab": {
          "base_uri": "https://localhost:8080/"
        },
        "id": "a-O7CNaJgW2P",
        "outputId": "962dc0d5-6490-497d-f786-c377df37fff0"
      },
      "execution_count": 17,
      "outputs": [
        {
          "output_type": "stream",
          "name": "stdout",
          "text": [
            "swimming\n",
            "flying\n",
            "quack\n"
          ]
        }
      ]
    },
    {
      "cell_type": "markdown",
      "source": [
        "1. Duck inherits from both Swimmer and Flyer, gaining access to their methods.\n",
        "2. The order of parent classes in the inheritance list matters."
      ],
      "metadata": {
        "id": "zk6M6Ivxgvhz"
      }
    },
    {
      "cell_type": "markdown",
      "source": [
        "3. Create a Python class called `Vehicle` with attributes `color` and `speed`. Then, create a child class called\n",
        "`Car` that inherits from `Vehicle` and adds a `brand` attribute. Provide an example of creating a `Car` object."
      ],
      "metadata": {
        "id": "JQc91DL3FkQR"
      }
    },
    {
      "cell_type": "code",
      "source": [
        "class Vehicle:\n",
        "#represents a generic vehicle with color and speed\n",
        "\n",
        "  def __init__(self, color, speed):\n",
        "\n",
        "#initializes the vehicle object with color and speed\n",
        "\n",
        "    self.color = color\n",
        "    self.speed = speed\n",
        "\n",
        "  def get_info(self):\n",
        "#prints information about the vehicle\n",
        "    print(f\"Vehicle Info: Color: {self.color}, Speed: {self.speed}\")\n",
        "\n",
        "class Car(Vehicle):\n",
        " #represents a car, inheriting from Vehicle and adding a brand attribute\n",
        "\n",
        "  def __init__(self, color, speed, brand):\n",
        "\n",
        "#initializes the car object with color, speed, and brand.\n",
        "\n",
        "    super().__init__(color, speed)\n",
        "    self.brand = brand\n",
        "\n",
        "  def get_info(self):\n",
        "    #Overrides the parent get_info method to include brand information\n",
        "    print(f\"Car Info: Brand: {self.brand}, Color: {self.color}, Speed: {self.speed}\")\n",
        "\n",
        "car = Car(\"Red\", 180, \"Tesla\")\n",
        "\n",
        "car.get_info()"
      ],
      "metadata": {
        "colab": {
          "base_uri": "https://localhost:8080/"
        },
        "id": "ynVQllSIg_MQ",
        "outputId": "a8a34974-5c66-4bb3-cba1-b55ddeafa99c"
      },
      "execution_count": 18,
      "outputs": [
        {
          "output_type": "stream",
          "name": "stdout",
          "text": [
            "Car Info: Brand: Tesla, Color: Red, Speed: 180\n"
          ]
        }
      ]
    },
    {
      "cell_type": "markdown",
      "source": [
        "4. Explain the concept of method overriding in inheritance. Provide a practical example"
      ],
      "metadata": {
        "id": "I47XeI8LFkMT"
      }
    },
    {
      "cell_type": "markdown",
      "source": [
        "1. Method overriding is a core concept in object-oriented programming (OOP) with inheritance. It allows a child class to redefine the behavior of a method inherited from its parent class"
      ],
      "metadata": {
        "id": "ZaHUDYNAiAMt"
      }
    },
    {
      "cell_type": "code",
      "source": [
        "class Animal:\n",
        "  def __init__(self, name):\n",
        "    self.name = name\n",
        "\n",
        "  def make_sound(self):\n",
        "    print(\"animal sound\")\n",
        "\n",
        "class Dog(Animal):\n",
        "  def __init__(self, name, breed):\n",
        "    super().__init__(name)\n",
        "    self.breed = breed\n",
        "\n",
        "  def make_sound(self):\n",
        "    print(\"Woof!\")\n",
        "\n",
        "\n",
        "animal = Animal(\"Creature\")\n",
        "dog = Dog(\"Buddy\",\"Labrador\")\n",
        "\n",
        "animal.make_sound()\n",
        "dog.make_sound()"
      ],
      "metadata": {
        "colab": {
          "base_uri": "https://localhost:8080/"
        },
        "id": "m7_uiZtTiG4v",
        "outputId": "397abeab-d408-444c-9c3f-10952c3ca542"
      },
      "execution_count": 19,
      "outputs": [
        {
          "output_type": "stream",
          "name": "stdout",
          "text": [
            "animal sound\n",
            "Woof!\n"
          ]
        }
      ]
    },
    {
      "cell_type": "markdown",
      "source": [
        "5. How can you access the methods and attributes of a parent class from a child class in Python? Give an\n",
        "example."
      ],
      "metadata": {
        "id": "wkuxBrRwFkII"
      }
    },
    {
      "cell_type": "code",
      "source": [
        "class Animal:\n",
        "  def __init__(self, name):\n",
        "    self.name = name\n",
        "\n",
        "  def make_sound(self):\n",
        "    print(\"animal sound\")\n",
        "\n",
        "class Dog(Animal):\n",
        "  def __init__(self, name, breed):\n",
        "    super().__init__(name)\n",
        "    self.breed =breed\n",
        "\n",
        "  def make_sound(self):\n",
        "    print(\"woof\")\n",
        "\n",
        "  def get_animal_sound(self):\n",
        "    super().make_sound()\n",
        "\n",
        "dog = Dog(\"Buddy\",\"Labrador\")\n",
        "dog.make_sound()\n",
        "dog.get_animal_sound()"
      ],
      "metadata": {
        "colab": {
          "base_uri": "https://localhost:8080/"
        },
        "id": "hIfYE17yiQF4",
        "outputId": "9786fb52-073f-4c1d-db10-33f68faf0924"
      },
      "execution_count": 20,
      "outputs": [
        {
          "output_type": "stream",
          "name": "stdout",
          "text": [
            "woof\n",
            "animal sound\n"
          ]
        }
      ]
    },
    {
      "cell_type": "markdown",
      "source": [
        "1. Dog inherits from Animal.\n",
        "2. The __init__ method in Dog calls super().__init__(name) to initialize the inherited name attribute.\n",
        "3. The make_sound method in Dog is overridden to print \"Woof!\".\n",
        "4. The get_animal_sound method in Dog demonstrates accessing the parent class make_sound method using super()"
      ],
      "metadata": {
        "id": "MKJuDTk9i0OH"
      }
    },
    {
      "cell_type": "markdown",
      "source": [
        "6. Discuss the use of the `super()` function in Python inheritance. When and why is it used? Provide an\n",
        "example."
      ],
      "metadata": {
        "id": "RPOJuuRPFkDS"
      }
    },
    {
      "cell_type": "markdown",
      "source": [
        "1. Super\n",
        "    The super() function is a powerful tool in Python inheritance that allows you to access methods and attributes of a parent class from a child class\n",
        "2. When is it used\n",
        "    1. Even if a child class overrides a method, you can still access the parent class implementation using super()\n",
        "    2. In the child class constructor, you can use super().__init__(arguments) to call the parent class constructor and initialize its attributes.\n",
        "3. why is it used\n",
        "    1. Using super() makes your code more explicit and readable. It clarifies that you're intentionally calling a method from the parent class\n",
        "    2. Python uses Method Resolution Order (MRO) to determine which method to call when there are multiple inheritance paths.\n",
        "\n",
        "\n"
      ],
      "metadata": {
        "id": "jVXVdYWDjCL0"
      }
    },
    {
      "cell_type": "code",
      "source": [
        "class Animal:\n",
        "  def __init__(self, name):\n",
        "    self.name = name\n",
        "\n",
        "  def make_sound(self):\n",
        "    print(\" animal sound\")\n",
        "\n",
        "class Dog(Animal):\n",
        "  def __init__(self, name, breed):\n",
        "    super().__init__(name)\n",
        "    self.breed = breed\n",
        "\n",
        "  def make_sound(self):\n",
        "    print(\"Woof!\")\n",
        "\n",
        "    super().make_sound()\n",
        "\n",
        "my_dog = Dog(\"Buddy\", \"Labrador\")\n",
        "my_dog.make_sound()\n"
      ],
      "metadata": {
        "colab": {
          "base_uri": "https://localhost:8080/"
        },
        "id": "KsK9qDNoj2x-",
        "outputId": "6e6cbd3c-3e6b-4795-81d3-17aaae4a26e7"
      },
      "execution_count": 21,
      "outputs": [
        {
          "output_type": "stream",
          "name": "stdout",
          "text": [
            "Woof!\n",
            " animal sound\n"
          ]
        }
      ]
    },
    {
      "cell_type": "markdown",
      "source": [
        "7. Create a Python class called `Animal` with a method `speak()`. Then, create child classes `Dog` and `Cat` that inherit from `Animal` and override the `speak()` method. Provide an example of using these classes."
      ],
      "metadata": {
        "id": "tyz_7r--Fj_S"
      }
    },
    {
      "cell_type": "code",
      "source": [
        "class Animal:\n",
        "  def __init__(self, name):\n",
        "    self.name = name\n",
        "\n",
        "  def speak(self):\n",
        "    print(\"animal Sound\")\n",
        "\n",
        "class Dog(Animal):\n",
        "  def __init__(self, name):\n",
        "    super().__init__(name)\n",
        "\n",
        "  def speak(self):\n",
        "    print(f\"{self.name} says Woof\")\n",
        "\n",
        "class Cat(Animal):\n",
        "  def __init__(self, name):\n",
        "    super().__init__(name)\n",
        "\n",
        "  def speak(self):\n",
        "    print(f\"{self.name} says Meo!\")\n",
        "\n",
        "my_animal = Animal(\"animal\")\n",
        "my_dog = Dog(\"buddy\")\n",
        "my_cat = Cat(\"whiskers\")\n",
        "my_animal.speak()\n",
        "my_dog.speak()\n",
        "my_cat.speak()"
      ],
      "metadata": {
        "colab": {
          "base_uri": "https://localhost:8080/"
        },
        "id": "TSZrBYgbjzSO",
        "outputId": "f5655eec-933f-4050-9ce0-bdf79841c349"
      },
      "execution_count": 22,
      "outputs": [
        {
          "output_type": "stream",
          "name": "stdout",
          "text": [
            "animal Sound\n",
            "buddy says Woof\n",
            "whiskers says Meo!\n"
          ]
        }
      ]
    },
    {
      "cell_type": "markdown",
      "source": [
        "1. The Animal class is a base class that defines a speak() method. This method prints a generic \"Animal Sound\" message.\n",
        "2. The Dog and Cat classes inherit from the Animal class. They both have their own speak() methods that override the base class method. These methods print specific sounds for dogs and cats.\n",
        "3. The example usage shows how to create objects of each class and call their speak() methods."
      ],
      "metadata": {
        "id": "2uqUmWIckhum"
      }
    },
    {
      "cell_type": "markdown",
      "source": [
        "8. Explain the role of the `isinstance()` function in Python and how it relates to inheritance."
      ],
      "metadata": {
        "id": "p5SrJSXIFj7h"
      }
    },
    {
      "cell_type": "markdown",
      "source": [
        "1. isinstance() function\n",
        "\n",
        "    The isinstance() function in Python is used to check if an object is an instance of a class or one of its subclasses.\n",
        "2. how it is relates to inheritance\n",
        "\n",
        "    1. Verifying Object Type: isinstance() helps you determine the exact type of an object at runtime.\n",
        "    2. Subclass Check: Inheritance allows classes to inherit properties and methods from parent classes. isinstance()\n",
        "\n",
        "\n"
      ],
      "metadata": {
        "id": "FlsPBki1k3Ut"
      }
    },
    {
      "cell_type": "markdown",
      "source": [
        "9. What is the purpose of the `issubclass()` function in Python? Provide an example."
      ],
      "metadata": {
        "id": "2ydArHi4Fj2t"
      }
    },
    {
      "cell_type": "markdown",
      "source": [
        "Purpose of `issubclass()`:\n",
        "    It verifies if a class inherits from another class, considering the entire inheritance hierarchy."
      ],
      "metadata": {
        "id": "_bkmNaeBlgpi"
      }
    },
    {
      "cell_type": "code",
      "source": [
        "class Animal:\n",
        "  def __init__(self, name):\n",
        "    self.name = name\n",
        "\n",
        "  def speak(self):\n",
        "    print(\"Animal Sound\")\n",
        "\n",
        "class Dog(Animal):\n",
        "  def __init__(self, name):\n",
        "    super().__init__(name)\n",
        "\n",
        "  def speak(self):\n",
        "    print(f\"{self.name} says Woof!\")\n",
        "\n",
        "class Cat(Animal):\n",
        "  def __init__(self, name):\n",
        "    super().__init__(name)\n",
        "\n",
        "  def speak(self):\n",
        "    print(f\"{self.name} says Meow!\")\n",
        "\n",
        "print(issubclass(Cat, Animal))\n",
        "print(issubclass(Animal, Dog))"
      ],
      "metadata": {
        "colab": {
          "base_uri": "https://localhost:8080/"
        },
        "id": "pme6YIFQlY6p",
        "outputId": "2583d6fe-bd0e-45f8-f292-6f12582a1187"
      },
      "execution_count": 23,
      "outputs": [
        {
          "output_type": "stream",
          "name": "stdout",
          "text": [
            "True\n",
            "False\n"
          ]
        }
      ]
    },
    {
      "cell_type": "markdown",
      "source": [
        "10. Discuss the concept of constructor inheritance in Python. How are constructors inherited in child classes?"
      ],
      "metadata": {
        "id": "2gsmLhqRFjyJ"
      }
    },
    {
      "cell_type": "markdown",
      "source": [
        "1. Base Class and __init__:\n",
        "\n",
        "    Every class in Python (except those explicitly derived from a custom metaclass) inherits from the built-in object class.\n",
        "2. Child Class Inheritance\n",
        "    When you create a child class in Python, it inherits all methods (including __init__) and attributes from its parent class.\n",
        "    This means the child class has access to the parent class's __init__ method.\n"
      ],
      "metadata": {
        "id": "GZFjkLxumOan"
      }
    },
    {
      "cell_type": "code",
      "source": [
        "class Animal:\n",
        "  def __init__(self, name):\n",
        "    self.name = name\n",
        "\n",
        "class Dog(Animal):\n",
        "  def __init__(self, name, breed):\n",
        "    super().__init__(name)  # <------Call parent class's __init__\n",
        "    self.breed = breed\n",
        "\n",
        "my_dog = Dog(\"buddy\",\"golden Retriever\")\n",
        "print(my_dog.name)\n",
        "print(my_dog.breed)\n"
      ],
      "metadata": {
        "colab": {
          "base_uri": "https://localhost:8080/"
        },
        "id": "f-sCDwr0mFzi",
        "outputId": "01106a9b-5a0f-4383-b9e1-c3d8bf8d0751"
      },
      "execution_count": 24,
      "outputs": [
        {
          "output_type": "stream",
          "name": "stdout",
          "text": [
            "buddy\n",
            "golden Retriever\n"
          ]
        }
      ]
    },
    {
      "cell_type": "markdown",
      "source": [
        "11. Create a Python class called `Shape` with a method `area()` that calculates the area of a shape. Then, create child classes `Circle` and `Rectangle` that inherit from `Shape` and implement the `area()` method\n",
        "accordingly. Provide an example."
      ],
      "metadata": {
        "id": "nUrGihinFjt5"
      }
    },
    {
      "cell_type": "code",
      "source": [
        "class Shape:\n",
        "  def __init__(self):\n",
        "    pass\n",
        "\n",
        "  def area(self):\n",
        "    raise NotImplementedError(\"Subclass must implement area()\")\n",
        "\n",
        "class Circle(Shape):\n",
        "  def __init__(self, radius):\n",
        "    self.radius = radius\n",
        "\n",
        "  def area(self):\n",
        "    return 3.14159 * self.radius * self.radius\n",
        "\n",
        "class Rectangle(Shape):\n",
        "  def __init__(self, width, height):\n",
        "    self.width = width\n",
        "    self.height = height\n",
        "\n",
        "  def area(self):\n",
        "    return self.width * self.height\n",
        "\n",
        "circle = Circle(5)\n",
        "rectangle = Rectangle(4, 6)\n",
        "\n",
        "print(f\"Circle area: {circle.area()}\")\n",
        "print(f\"Rectangle area: {rectangle.area()}\")"
      ],
      "metadata": {
        "colab": {
          "base_uri": "https://localhost:8080/"
        },
        "id": "KfzpkC25mjdX",
        "outputId": "295646ed-3b5f-4689-d59e-3f1528995a64"
      },
      "execution_count": 25,
      "outputs": [
        {
          "output_type": "stream",
          "name": "stdout",
          "text": [
            "Circle area: 78.53975\n",
            "Rectangle area: 24\n"
          ]
        }
      ]
    },
    {
      "cell_type": "markdown",
      "source": [
        "1. The Shape class is a base class that defines an empty __init__ method and an area() method that raises a NotImplementedError. This enforces that subclasses must implement their own area() method to calculate the specific area.\n",
        "\n",
        "2. The Circle and Rectangle classes inherit from Shape. They both define their own __init__ methods to store the radius (for circle) and width and height (for rectangle).\n",
        "\n",
        "3. The area() method is overridden in both Circle and Rectangle to implement the specific area calculation formulas for circles and rectangles, respectively.\n",
        "\n",
        "4. The example usage shows how to create objects of each class and call their area() methods to calculate and print their areas."
      ],
      "metadata": {
        "id": "kY1WSviumxMr"
      }
    },
    {
      "cell_type": "markdown",
      "source": [
        "12. Explain the use of abstract base classes (ABCs) in Python and how they relate to inheritance. Provide an\n",
        "example using the `abc` module."
      ],
      "metadata": {
        "id": "lCTtEvRVFjpB"
      }
    },
    {
      "cell_type": "markdown",
      "source": [
        "1. Explain of (ABCs)\n",
        "    Abstract Base Classes (ABCs) in Python are a powerful mechanism for defining interfaces that child classes must adhere to. They leverage inheritance but provide more control and enforce specific functionalities in subclasses\n",
        "2. relate to inheritance\n",
        "\n",
        "    ABCs act as blueprints that define a set of methods (and optionally attributes) that subclasses must implement. This creates a contract between the base class and its children, ensuring consistency and expected behavior.\n",
        "    "
      ],
      "metadata": {
        "id": "ldh2zwksnB35"
      }
    },
    {
      "cell_type": "code",
      "source": [
        "from abc import ABC, abstractmethod\n",
        "\n",
        "class Shape(ABC):\n",
        "  @abstractmethod\n",
        "  def area(self):\n",
        "    pass\n",
        "\n",
        "class Circle(Shape):\n",
        "  def __init__(self, radius):\n",
        "    self.radius = radius\n",
        "\n",
        "  def area(self):\n",
        "    return 3.14159 * self.radius * self.radius\n",
        "\n",
        "class Rectangle(Shape):\n",
        "  def __init__(self, width, height):\n",
        "    self.width = width\n",
        "    self.height = height\n",
        "\n",
        "  def area(self):\n",
        "    return self.width * self.height\n",
        "\n",
        "circle = Circle(5)\n",
        "rectangle = Rectangle(4, 6)\n",
        "\n",
        "print(f\"Circle area {circle.area()}\")\n",
        "print(f\"Rectangle area {rectangle.area()}\")\n"
      ],
      "metadata": {
        "colab": {
          "base_uri": "https://localhost:8080/"
        },
        "id": "1lJFRYFfngQp",
        "outputId": "ceaac605-5dbd-413b-d123-8db65fed4463"
      },
      "execution_count": 26,
      "outputs": [
        {
          "output_type": "stream",
          "name": "stdout",
          "text": [
            "Circle area 78.53975\n",
            "Rectangle area 24\n"
          ]
        }
      ]
    },
    {
      "cell_type": "markdown",
      "source": [
        "13. How can you prevent a child class from modifying certain attributes or methods inherited from a parent\n",
        "class in Python?"
      ],
      "metadata": {
        "id": "fPS7UgsQFjk6"
      }
    },
    {
      "cell_type": "code",
      "source": [
        "class Parent:\n",
        "    def __init__(self):\n",
        "        self.public_method()\n",
        "\n",
        "    def __private_method(self):\n",
        "        print(\"This is a private method\")\n",
        "\n",
        "    def public_method(self):\n",
        "        self.__private_method()\n"
      ],
      "metadata": {
        "id": "GXfyv1FAoF3t"
      },
      "execution_count": 27,
      "outputs": []
    },
    {
      "cell_type": "markdown",
      "source": [
        "You can declare methods in the parent class as private using double underscores (__) before the method name."
      ],
      "metadata": {
        "id": "kiNxEV_QoFoc"
      }
    },
    {
      "cell_type": "markdown",
      "source": [
        "14. Create a Python class called `Employee` with attributes `name` and `salary`. Then, create a child class\n",
        "`Manager` that inherits from `Employee` and adds an attribute `department`. Provide an example."
      ],
      "metadata": {
        "id": "zTMK9EisFjdq"
      }
    },
    {
      "cell_type": "code",
      "source": [
        "class Employee:\n",
        "\n",
        "  def __init__(self, name, salary):\n",
        "    self.name = name\n",
        "    self.salary = salary\n",
        "\n",
        "  def __str__(self):\n",
        "    return f\"Employee: {self.name} - Salary: ${self.salary:.2f}\"\n",
        "\n",
        "class Manager(Employee):\n",
        "\n",
        "  def __init__(self, name, salary, department):\n",
        "    super().__init__(name, salary)\n",
        "    self.department = department\n",
        "\n",
        "  def __str__(self):\n",
        "    return f\"Manager {self.name} - Department{self.department} - Salary ₹{self.salary:.2f}\"\n",
        "\n",
        "\n",
        "employee = Employee(\"jio chacha\", 50000)\n",
        "manager = Manager(\"jio bhai\",75000,\"marketing\")\n",
        "\n",
        "print(employee)\n",
        "print(manager)\n"
      ],
      "metadata": {
        "colab": {
          "base_uri": "https://localhost:8080/"
        },
        "id": "YI9vQDWyoTS2",
        "outputId": "f5d70bdd-702c-4007-8d67-186e2fb70dec"
      },
      "execution_count": 28,
      "outputs": [
        {
          "output_type": "stream",
          "name": "stdout",
          "text": [
            "Employee: jio chacha - Salary: $50000.00\n",
            "Manager jio bhai - Departmentmarketing - Salary ₹75000.00\n"
          ]
        }
      ]
    },
    {
      "cell_type": "markdown",
      "source": [
        "1. Employee Class\n",
        "\n",
        "    This class acts as the base class with attributes name and salary.\n",
        "    It includes a __str__ method to provide a string representation of the employee details in a readable format\n",
        "\n",
        "2. Manager Class\n",
        "\n",
        "    This class inherits from Employee.\n",
        "    It adds an additional attribute department to store the manager's department.\n",
        "    The __init__ method calls the parent class constructor (super().__init__(name, salary)) to initialize the inherited attributes (name and salary)."
      ],
      "metadata": {
        "id": "9DNXCHG2oXMa"
      }
    },
    {
      "cell_type": "markdown",
      "source": [
        "15. Discuss the concept of method overloading in Python inheritance. How does it differ from method\n",
        "overriding?"
      ],
      "metadata": {
        "id": "Qc6oX9hnFjZr"
      }
    },
    {
      "cell_type": "markdown",
      "source": [
        "1. Method Overloading\n",
        "\n",
        "    Concept:\n",
        "    Method overloading refers to the ability to define multiple methods with the same name but different parameter lists\n",
        "\n",
        "2. Method Overriding\n",
        "    Concept:\n",
        "    Method overriding is a fundamental concept in object-oriented programming with inheritance\n"
      ],
      "metadata": {
        "id": "aYVEcgxqpXCA"
      }
    },
    {
      "cell_type": "code",
      "source": [
        "class Shape:\n",
        "  def area(self):\n",
        "    raise NotImplementedError(\"Subclasses must implement area()\")\n",
        "\n",
        "class Rectangle(Shape):\n",
        "  def __init__(self, width, height):\n",
        "    self.width = width\n",
        "    self.height = height\n",
        "\n",
        "  def area(self):\n",
        "    return self.width * self.height\n",
        "\n",
        "class Square(Rectangle):\n",
        "  def __init__(self, side_length):\n",
        "    super().__init__(side_length, side_length)\n",
        "  def area(self):\n",
        "    return super().area()\n",
        ""
      ],
      "metadata": {
        "id": "EgqqupxkprUJ"
      },
      "execution_count": 29,
      "outputs": []
    },
    {
      "cell_type": "markdown",
      "source": [
        "1. Shape defines an abstract area() method.\n",
        "2. Rectangle overrides the area() method with its specific calculation.\n",
        "3. Square inherits from Rectangle. It doesn't need to redefine area() because the inherited version works for squares too.\n",
        "4. It can leverage the parent class's implementation using super().area()."
      ],
      "metadata": {
        "id": "VrP9TXXEpwf9"
      }
    },
    {
      "cell_type": "markdown",
      "source": [
        "16. Explain the purpose of the `__init__()` method in Python inheritance and how it is utilized in child classes."
      ],
      "metadata": {
        "id": "evM6qYipFjVT"
      }
    },
    {
      "cell_type": "markdown",
      "source": [
        "1. Purpose\n",
        "\n",
        "    1.The __init__() method is called automatically whenever you create an object of a class using the class_name() syntax.\n",
        "    2.Its primary function is to initialize the attributes (variables) of the object with their starting values. This establishes the object's initial state.\n",
        "2. Inheritance and __init__()\n",
        "\n",
        "    1.When you create a child class that inherits from a parent class, the child class automatically inherits the __init__() method from the parent class.\n",
        "\n",
        "3. How it is utilized in child classes\n",
        "    1.You can explicitly call the parent class's __init__() method from the child class's __init__() using super().__init__(arguments)\n",
        "    2.You can then define additional initialization specific to the child class after calling the parent's constructor.\n",
        "\n",
        "\n"
      ],
      "metadata": {
        "id": "J9WzsNfVqHtL"
      }
    },
    {
      "cell_type": "markdown",
      "source": [
        "17. Create a Python class called `Bird` with a method `fly()`. Then, create child classes `Eagle` and `Sparrow` that inherit from `Bird` and implement the `fly()` method differently. Provide an example of using these\n",
        "classes."
      ],
      "metadata": {
        "id": "UuCzi4dRFjRL"
      }
    },
    {
      "cell_type": "code",
      "source": [
        "class Bird:\n",
        "\n",
        "  def __init__(self):\n",
        "    pass\n",
        "\n",
        "  def fly(self):\n",
        "    print(\"i am flying\")\n",
        "\n",
        "class Eagle(Bird):\n",
        "\n",
        "  def fly(self):\n",
        "    print(\"i am soaring through the sky\")\n",
        "\n",
        "class Sparrow(Bird):\n",
        "\n",
        "  def fly(self):\n",
        "    print(\"i am flitting from branch to branch\")\n",
        "bird = Bird()\n",
        "eagle = Eagle()\n",
        "sparrow = Sparrow()\n",
        "\n",
        "bird.fly()\n",
        "eagle.fly()\n",
        "sparrow.fly()"
      ],
      "metadata": {
        "colab": {
          "base_uri": "https://localhost:8080/"
        },
        "id": "TgiQC4Cnq4jP",
        "outputId": "24fae2e9-065f-4735-94d6-3601817060fc"
      },
      "execution_count": 30,
      "outputs": [
        {
          "output_type": "stream",
          "name": "stdout",
          "text": [
            "i am flying\n",
            "i am soaring through the sky\n",
            "i am flitting from branch to branch\n"
          ]
        }
      ]
    },
    {
      "cell_type": "markdown",
      "source": [
        "1. The Bird class is a base class with an empty __init__() method and a generic fly() method that prints a basic message.\n",
        "\n",
        "2. The Eagle and Sparrow classes inherit from Bird. They both override the fly() method to define their specific flying behaviors with custom messages.\n",
        "\n",
        "3. The example usage shows how to create objects of each class and call their fly() methods to demonstrate polymorphism. Each object calls the appropriate fly() method based on its class hierarchy."
      ],
      "metadata": {
        "id": "nRgETNESrM52"
      }
    },
    {
      "cell_type": "markdown",
      "source": [
        "18. What is the \"diamond problem\" in multiple inheritance, and how does Python address it?"
      ],
      "metadata": {
        "id": "jYFDl5QsFjMa"
      }
    },
    {
      "cell_type": "markdown",
      "source": [
        "1. Diamond problem\n",
        "    The diamond problem is a classic issue that arises in object-oriented programming languages that support multiple inheritance. It occurs when a class inherits from two parent classes, and those parent classes share a common ancestor.\n",
        "2. How Python Addresses the Diamond Problem:\n",
        "\n",
        "    1.Python employs a concept called Method Resolution Order (MRO)\n",
        "\n",
        "    2.MRO is built during class creation and considers the complete class hierarchy.\n",
        "\n",
        "    3.You can access the MRO of a class using the __mro__ attribute"
      ],
      "metadata": {
        "id": "fXVHqmZyrnGv"
      }
    },
    {
      "cell_type": "markdown",
      "source": [
        "19. Discuss the concept of \"is-a\" and \"has-a\" relationships in inheritance, and provide examples of each."
      ],
      "metadata": {
        "id": "9VYSSnWsFjIJ"
      }
    },
    {
      "cell_type": "markdown",
      "source": [
        "1. \"Is-A\" Relationship (Inheritance)\n",
        "\n",
        "    The \"is-a\" relationship represents an inheritance hierarchy. It signifies that a child class is a specialized type of its parent class.\n",
        "\n",
        "\n",
        "\n"
      ],
      "metadata": {
        "id": "54riZkYvsP0K"
      }
    },
    {
      "cell_type": "code",
      "source": [
        "class Animal:\n",
        "  def __init__(self, name):\n",
        "    self.name = name\n",
        "\n",
        "  def make_sound(self):\n",
        "    print(\"animal sound\")\n",
        "\n",
        "class Dog(Animal):\n",
        "  def __init__(self, name, breed):\n",
        "    super().__init__(name)  # C\"Is-A\" Relationship (Inheritance)\n",
        "    self.breed = breed\n",
        "\n",
        "  def bark(self):\n",
        "    print(\"woof\")\n",
        "\n",
        "dog = Dog(\"Fido\",\"Labrador\")\n",
        "dog.make_sound()\n",
        "dog.bark()"
      ],
      "metadata": {
        "colab": {
          "base_uri": "https://localhost:8080/"
        },
        "id": "u6LxGl8Ir_B8",
        "outputId": "89db276d-f02e-40d5-e368-e08192f2cecb"
      },
      "execution_count": 31,
      "outputs": [
        {
          "output_type": "stream",
          "name": "stdout",
          "text": [
            "animal sound\n",
            "woof\n"
          ]
        }
      ]
    },
    {
      "cell_type": "markdown",
      "source": [
        "2. \"Has-A\" Relationship (Composition):\n",
        "\n",
        "    The \"has-a\" relationship describes an aggregation or composition between classes. It signifies that one class has an instance (object) of another class as an attribute"
      ],
      "metadata": {
        "id": "-i4Qs407s2N9"
      }
    },
    {
      "cell_type": "code",
      "source": [
        "class Engine:\n",
        "  def __init__(self, horse_power):\n",
        "    self.horse_power = horse_power\n",
        "\n",
        "  def start(self):\n",
        "    print(\"Engine started!\")\n",
        "\n",
        "class Car:\n",
        "  def __init__(self, model, color):\n",
        "    self.model = model\n",
        "    self.color = color\n",
        "    self.engine = Engine(200)  # \"Has-A\" Relationship (Composition)\n",
        "\n",
        "  def accelerate(self):\n",
        "    print(f\"{self.model}is accelerating!\")\n",
        "\n",
        "car = Car(\"Corsa\",\"Red\")\n",
        "car.engine.start()\n",
        "car.accelerate()"
      ],
      "metadata": {
        "colab": {
          "base_uri": "https://localhost:8080/"
        },
        "id": "8ds9Z23Rs3Zu",
        "outputId": "abe38b55-614d-4b20-b9fc-215411e1f15b"
      },
      "execution_count": 32,
      "outputs": [
        {
          "output_type": "stream",
          "name": "stdout",
          "text": [
            "Engine started!\n",
            "Corsais accelerating!\n"
          ]
        }
      ]
    },
    {
      "cell_type": "markdown",
      "source": [
        "20. Create a Python class hierarchy for a university system. Start with a base class `Person` and create child\n",
        "classes `Student` and `Professor`, each with their own attributes and methods. Provide an example of using\n",
        "these classes in a university context."
      ],
      "metadata": {
        "id": "WXrEcXAaFjDB"
      }
    },
    {
      "cell_type": "code",
      "source": [
        "class Person:\n",
        "    def __init__(self, name):\n",
        "        self.name = name\n",
        "\n",
        "class Student(Person):\n",
        "    def __init__(self, name, student_id, major):\n",
        "        super().__init__(name)\n",
        "        self.student_id = student_id\n",
        "        self.major = major\n",
        "\n",
        "    def enroll_in_course(self, course):\n",
        "        print(f\"{self.name} enrolled in {course.name}\")\n",
        "\n",
        "class Professor(Person):\n",
        "    def __init__(self, name, department):\n",
        "        super().__init__(name)\n",
        "        self.department = department\n",
        "\n",
        "    def teach_course(self, course):\n",
        "        print(f\"Professor {self.name} is teaching {course.name}\")\n",
        "\n",
        "class Course:\n",
        "    def __init__(self, name, code):\n",
        "        self.name = name\n",
        "        self.code = code\n",
        "\n",
        "student1 = Student(\"Kushal\", 12345, \"BA in Economics\")\n",
        "professor1 = Professor(\"Dr. Hijiwlaa\", \"Mathematics\")\n",
        "course1 = Course(\"Intro to Microeconomics\", \"ECON101\")\n",
        "\n",
        "student1.enroll_in_course(course1)\n",
        "professor1.teach_course(course1)\n"
      ],
      "metadata": {
        "colab": {
          "base_uri": "https://localhost:8080/"
        },
        "id": "EepbS3Y8tKOb",
        "outputId": "af01c6b3-1b5e-4d09-8735-32ecf90ebc74"
      },
      "execution_count": 51,
      "outputs": [
        {
          "output_type": "stream",
          "name": "stdout",
          "text": [
            "Kushal enrolled in Intro to Microeconomics\n",
            "Professor Dr. Hijiwlaa is teaching Intro to Microeconomics\n"
          ]
        }
      ]
    },
    {
      "cell_type": "markdown",
      "source": [
        "# Encapsulation:"
      ],
      "metadata": {
        "id": "DPCcFeSLGBL0"
      }
    },
    {
      "cell_type": "markdown",
      "source": [
        "1. Explain the concept of encapsulation in Python. What is its role in object-oriented programming?"
      ],
      "metadata": {
        "id": "bI8XXMeAGJ_n"
      }
    },
    {
      "cell_type": "markdown",
      "source": [
        "1. Encapsulation in Python\n",
        "\n",
        "    Encapsulation in Python refers to the bundling of data (attributes) and methods (functions that operate on the data) within a single unit called a class. This concept promotes data protection and controlled access to an object's internal workings.\n",
        "    1. Data Protection\n",
        "    2. Maintainability\n",
        "    3. Information Hiding\n"
      ],
      "metadata": {
        "id": "Z57WOrkuuI_V"
      }
    },
    {
      "cell_type": "markdown",
      "source": [
        "2. Describe the key principles of encapsulation, including access control and data hiding."
      ],
      "metadata": {
        "id": "4VDEMRtNGJ7g"
      }
    },
    {
      "cell_type": "markdown",
      "source": [
        "1. Encapsulation:\n",
        "    Encapsulation is the fundamental concept in object-oriented programming (OOP) that binds data (attributes) with the methods that operate on that data within a single unit, typically a class.\n",
        "2. Access Control\n",
        "\n",
        "    1.Public Members: Public methods and attributes have unrestricted access from outside the class.\n",
        "\n",
        "    2.Private Members: Private attributes and methods (often prefixed with __ in Python) are hidden from external code.\n",
        "\n",
        "\n",
        "2. Data Hiding\n",
        "    \n",
        "    1.Data Integrity: By controlling access through methods, data hiding ensures that the object's attributes are modified in a controlled and expected way.\n",
        "    \n",
        "    2.Loose Coupling: Data hiding promotes loose coupling between different parts of the program.\n",
        "\n"
      ],
      "metadata": {
        "id": "-scuEM5ru3wo"
      }
    },
    {
      "cell_type": "markdown",
      "source": [
        "3. How can you achieve encapsulation in Python classes? Provide an example."
      ],
      "metadata": {
        "id": "uprmJhNRGJ3R"
      }
    },
    {
      "cell_type": "markdown",
      "source": [
        "1. Achieve encapsulation in Python classes\n",
        "    Python relies on naming conventions to indicate access levels, unlike languages with enforced modifiers like public or private\n",
        "    "
      ],
      "metadata": {
        "id": "TimSceAcwbXi"
      }
    },
    {
      "cell_type": "code",
      "source": [
        "class Point2D:\n",
        "  def __init__(self, x, y):\n",
        "    self._x = x\n",
        "    self._y = y\n",
        "\n",
        "  def get_x(self):\n",
        "    return self._x\n",
        "\n",
        "  def set_x(self, new_x):\n",
        "    if isinstance(new_x, (int, float)):\n",
        "      self._x = new_x\n",
        "    else:\n",
        "      print(\"Error: X-coordinate\")\n",
        "\n",
        "  def get_y(self):\n",
        "    return self._y\n",
        "\n",
        "  def set_y(self, new_y):\n",
        "    if isinstance(new_y, (int, float)):\n",
        "      self._y = new_y\n",
        "    else:\n",
        "      print(\"Error: Y-coordinate\")"
      ],
      "metadata": {
        "id": "9c8rnln5wGp4"
      },
      "execution_count": 72,
      "outputs": []
    },
    {
      "cell_type": "markdown",
      "source": [
        "4. Discuss the difference between public, private, and protected access modifiers in Python."
      ],
      "metadata": {
        "id": "g7gGLMofGJzE"
      }
    },
    {
      "cell_type": "markdown",
      "source": [
        "1. Public Members (Single Leading Underscore)\n",
        "\n",
        "    Description: Attributes or methods prefixed with a single underscore (_) are considered public according to the convention.\n",
        "\n",
        "    Access: They can be accessed from anywhere in your program, including outside the class definition.\n",
        "\n",
        "2. Private Members (Double Leading Underscore)\n",
        "\n",
        "    Description: Attributes or methods prefixed with a double underscore (__) are considered private.\n",
        "\n",
        "    Access: Technically, they can still be accessed from outside the class using a process called name mangling\n",
        "\n",
        "3. Protected Members (Convention)\n",
        "\n",
        "    Description: While not an official term in Python, protected members are generally considered attributes or methods prefixed with a single underscore (_)."
      ],
      "metadata": {
        "id": "qHSZzIcgxOqu"
      }
    },
    {
      "cell_type": "markdown",
      "source": [
        "5. Create a Python class called `Person` with a private attribute `__name`. Provide methods to get and set the\n",
        "name attribute."
      ],
      "metadata": {
        "id": "Uq9rNeaKGJui"
      }
    },
    {
      "cell_type": "code",
      "source": [
        "class Person:\n",
        "  def __init__(self, name):\n",
        "    self.__name = name  # <------private attribute\n",
        "\n",
        "  def get_name(self):\n",
        "    return self.__name\n",
        "\n",
        "  def set_name(self, new_name):\n",
        "    self.__name = new_name\n"
      ],
      "metadata": {
        "id": "wTxeO7STxqF1"
      },
      "execution_count": 73,
      "outputs": []
    },
    {
      "cell_type": "markdown",
      "source": [
        "6. Explain the purpose of getter and setter methods in encapsulation. Provide examples."
      ],
      "metadata": {
        "id": "ysUPoaMCGJqc"
      }
    },
    {
      "cell_type": "markdown",
      "source": [
        "7. What is name mangling in Python, and how does it affect encapsulation?"
      ],
      "metadata": {
        "id": "TcO0bOyQGJlh"
      }
    },
    {
      "cell_type": "markdown",
      "source": [
        "1. What is name mangling in Python\n",
        "    Name mangling in Python refers to a process that modifies the names of attributes or methods defined within a class\n",
        "2. how does it affect encapsulation\n",
        "    When you define an attribute or method with a double underscore (__) as the prefix . Python automatically prepends the class name and a single underscore to the name during compilation. This creates a mangled name that's unique within the class's namespace"
      ],
      "metadata": {
        "id": "3769h_hByDfV"
      }
    },
    {
      "cell_type": "markdown",
      "source": [
        "8. Create a Python class called `BankAccount` with private attributes for the account balance (`__balance`) and account number (`__account_number`). Provide methods for depositing and withdrawing money."
      ],
      "metadata": {
        "id": "SFP7FtKVGJhp"
      }
    },
    {
      "cell_type": "code",
      "source": [
        "class BankAccount:\n",
        "  def __init__(self, account_number, initial_balance=0.0):\n",
        "    self.__account_number = account_number\n",
        "    self.__balance = initial_balance\n",
        "\n",
        "  def deposit(self, amount):\n",
        "\n",
        "   if amount > 0:\n",
        "      self.__balance += amount\n",
        "   else:\n",
        "      print(\"Error\")\n",
        "\n",
        "  def withdraw(self, amount):\n",
        "    if amount <= self.__balance:\n",
        "      self.__balance -= amount\n",
        "    else:\n",
        "      print(\"insufficient funds\")"
      ],
      "metadata": {
        "id": "QFJ6fP-VygD5"
      },
      "execution_count": 74,
      "outputs": []
    },
    {
      "cell_type": "markdown",
      "source": [
        "9. Discuss the advantages of encapsulation in terms of code maintainability and security."
      ],
      "metadata": {
        "id": "9mNJu4uDGJdZ"
      }
    },
    {
      "cell_type": "markdown",
      "source": [
        "**Maintainability**\n",
        "\n",
        "1. Modular Design\n",
        "\n",
        "    Encapsulation promotes modularity by bundling data and the logic that operates on it within a single unit (class).\n",
        "\n",
        "2. Reduced Coupling\n",
        "\n",
        "    hiding the internal implementation details of a class, encapsulation reduces coupling between different parts of the program.\n",
        "\n",
        "3. Improved Readability\n",
        "\n",
        "    Classes with encapsulated members have a clear separation between public functionality (methods) and private data.\n",
        "\n",
        "**Security**\n",
        "\n",
        "1. Data Protection\n",
        "\n",
        "    Encapsulation protects sensitive data within a class by restricting direct access to its attributes\n",
        "\n",
        "2. Controlled Access\n",
        "\n",
        "    Getter and setter methods provide controlled access to potentially sensitive attributes\n",
        "\n",
        "3. Enforced Abstraction\n",
        "\n",
        "    Encapsulation promotes abstraction by hiding the implementation details of a class\n",
        "\n"
      ],
      "metadata": {
        "id": "kbNX4raDy7kk"
      }
    },
    {
      "cell_type": "markdown",
      "source": [
        "10. How can you access private attributes in Python? Provide an example demonstrating the use of name\n",
        "mangling."
      ],
      "metadata": {
        "id": "MPcJigoyGJYx"
      }
    },
    {
      "cell_type": "markdown",
      "source": [
        "1. When you define a private attribute with a double underscore (__), Python applies name mangling during compilation.\n",
        "\n",
        "2. Encapsulation promotes data hiding by restricting direct access to private attributes. Accessing them directly bypasses the intended access mechanisms (getter and setter methods) defined within the class."
      ],
      "metadata": {
        "id": "shY79Ljv0bdd"
      }
    },
    {
      "cell_type": "code",
      "source": [
        "class Person:\n",
        "  def __init__(self, name):\n",
        "    self.__age = 30\n",
        "person = Person(\"Alice\")\n",
        "mangled_name = f\"_{person.__class__.__name__}__age\"\n",
        "age = getattr(person, mangled_name)\n",
        "print(f\"nonu bhaiya's age (using name mangling, not recommended){age}\")"
      ],
      "metadata": {
        "colab": {
          "base_uri": "https://localhost:8080/"
        },
        "id": "KSN8UhV20NFn",
        "outputId": "1662db09-0eea-4470-aa22-27492cd6b219"
      },
      "execution_count": 75,
      "outputs": [
        {
          "output_type": "stream",
          "name": "stdout",
          "text": [
            "nonu bhaiya's age (using name mangling, not recommended)30\n"
          ]
        }
      ]
    },
    {
      "cell_type": "markdown",
      "source": [
        "11. Create a Python class hierarchy for a school system, including classes for students, teachers, and courses,\n",
        "and implement encapsulation principles to protect sensitive information."
      ],
      "metadata": {
        "id": "-AR9VmqjGJUq"
      }
    },
    {
      "cell_type": "markdown",
      "source": [
        "12. Explain the concept of property decorators in Python and how they relate to encapsulation."
      ],
      "metadata": {
        "id": "zmFHWNNqGJPQ"
      }
    },
    {
      "cell_type": "markdown",
      "source": [
        "1. Property Decorators\n",
        "\n",
        "    Property decorators are functions that, when applied to a method within a class, transform it into a property.\n",
        "\n",
        "2. Relate to encapsulation.\n",
        "\n",
        "    Property decorators play a key role in implementing encapsulation by providing a controlled way to interact with potentially sensitive attributes.\n",
        "    \n",
        "    1. Data Hiding\n",
        "    2. Validation and Logic\n",
        "    3. Read-Only Properties"
      ],
      "metadata": {
        "id": "WC8QTi3V1GNC"
      }
    },
    {
      "cell_type": "markdown",
      "source": [
        "13. What is data hiding, and why is it important in encapsulation? Provide examples."
      ],
      "metadata": {
        "id": "NDnY2EzjGJK7"
      }
    },
    {
      "cell_type": "markdown",
      "source": [
        "What is data hiding\n",
        "    Data hiding is a fundamental concept in object-oriented programming (OOP) that goes hand-in-hand with encapsulation\n",
        "\n",
        "why is Data Hiding Important\n",
        "    Data hiding offers several benefits that contribute to the overall effectiveness of encapsulation\n",
        "\n",
        "\n",
        "1. Data hiding (restricting data access).\n",
        "2. Defining methods that operate on the data (public interface).\n",
        "3. Enforcing the intended behavior of the object through these methods.\n"
      ],
      "metadata": {
        "id": "KfewrJ_v1pow"
      }
    },
    {
      "cell_type": "markdown",
      "source": [
        "14. Create a Python class called `Employee` with private attributes for salary (`__salary`) and employee ID (`__employee_id`). Provide a method to calculate yearly bonuses."
      ],
      "metadata": {
        "id": "7NDEt4iQGJHN"
      }
    },
    {
      "cell_type": "code",
      "source": [
        "class Employee:\n",
        "\n",
        "  def __init__(self, salary, employee_id):\n",
        "    self.__salary = salary\n",
        "    self.__employee_id = employee_id\n",
        "\n",
        "  def calculate_bonus(self, bonus_percentage):\n",
        "\n",
        "    return self.__salary *bonus_percentage / 100\n",
        "\n",
        "employee = Employee(50000, 12345)\n",
        "bonus = employee.calculate_bonus(10)\n",
        "print(f\"The employee's yearly bonus is ₹{bonus:.2f}\")"
      ],
      "metadata": {
        "colab": {
          "base_uri": "https://localhost:8080/"
        },
        "id": "2J__Xz4Von4R",
        "outputId": "f7895f71-5651-445f-8367-c8fc9cd3ae68"
      },
      "execution_count": 76,
      "outputs": [
        {
          "output_type": "stream",
          "name": "stdout",
          "text": [
            "The employee's yearly bonus is ₹5000.00\n"
          ]
        }
      ]
    },
    {
      "cell_type": "code",
      "source": [],
      "metadata": {
        "id": "YEzLJ6qcone7"
      },
      "execution_count": 76,
      "outputs": []
    },
    {
      "cell_type": "markdown",
      "source": [
        "15. Discuss the use of accessors and mutators in encapsulation. How do they help maintain control over\n",
        "attribute access?"
      ],
      "metadata": {
        "id": "8ihcIh5AGJCz"
      }
    },
    {
      "cell_type": "markdown",
      "source": [
        "1. Accessors:\n",
        "\n",
        "Function: Accessors, also known as getters, are methods that allow you to retrieve the value of an object's private attribute.\n",
        "Benefits: By using accessors, you ensure that the internal representation of the data remains hidden.\n",
        "\n",
        "2. Mutators:\n",
        "\n",
        "Function: Mutators, also known as setters, are methods that allow you to modify the value of an object's private attribute.\n",
        "Benefits: Mutators provide a controlled way to update the data. They can perform validation checks on the new value before assigning it to the attribute.\n",
        "\n",
        "3. Maintaining Control with Accessors and Mutators\n",
        "\n",
        "\n",
        "Data Protection : By making attributes private and providing access through accessors and mutators, you prevent direct modification of the data outside the object.\n",
        "\n",
        "Enforced Logic : Accessors and mutators can enforce specific logic related to accessing or modifying the data.\n",
        "\n",
        "Code Maintainability : Accessors and mutators improve code maintainability. If the internal representation of the data changes, you only need to modify the accessors and mutators"
      ],
      "metadata": {
        "id": "-j9OStqVpCpv"
      }
    },
    {
      "cell_type": "markdown",
      "source": [
        "16. What are the potential drawbacks or disadvantages of using encapsulation in Python?"
      ],
      "metadata": {
        "id": "4DbDhjeCGI-K"
      }
    },
    {
      "cell_type": "markdown",
      "source": [
        "1. Increased Code Size\n",
        "\n",
        "Encapsulation often leads to more code being written. You need to define accessors (getters) and mutators (setters) for private attributes\n",
        "\n",
        "2. Increased Code Size\n",
        "\n",
        "Encapsulation often leads to more code being written. You need to define accessors (getters) and mutators (setters) for private attributes\n",
        "\n",
        "3. Testing Challenges\n",
        "\n",
        "Since private attributes are hidden from direct access, unit testing them can be slightly more challenging.\n",
        "\n",
        "4. Over-Encapsulation:\n",
        "\n",
        "It's possible to over-encapsulate a class, making it difficult to interact with its internal state. This can hinder collaboration and code maintainability if access to certain attributes is unnecessarily restricted."
      ],
      "metadata": {
        "id": "0mLB8irJp8cZ"
      }
    },
    {
      "cell_type": "markdown",
      "source": [
        "17. Create a Python class for a library system that encapsulates book information, including titles, authors,\n",
        "and availability status."
      ],
      "metadata": {
        "id": "nCas4K8MGI6C"
      }
    },
    {
      "cell_type": "code",
      "source": [
        "class Book:\n",
        "    def __init__(self, title, author):\n",
        "        self.title = title\n",
        "        self.author = author\n",
        "        self.available = True\n",
        "\n",
        "    def __str__(self):\n",
        "        status = 'Available' if self.available else 'Checked out'\n",
        "        return f\"'{self.title}' by {self.author} - {status}\"\n",
        "\n",
        "class Library:\n",
        "    def __init__(self):\n",
        "        self.books = []\n",
        "\n",
        "    def add_book(self, title, author):\n",
        "        book = Book(title, author)\n",
        "        self.books.append(book)\n",
        "        print(f\"Book added: {book}\")\n",
        "\n",
        "    def find_book(self, title):\n",
        "        for book in self.books:\n",
        "            if book.title.lower() == title.lower():\n",
        "                return book\n",
        "        return None\n",
        "\n",
        "    def check_out(self, title):\n",
        "        book = self.find_book(title)\n",
        "        if book and book.available:\n",
        "            book.available = False\n",
        "            print(f\"You have checked out '{book.title}' by {book.author}.\")\n",
        "        elif book:\n",
        "            print(f\"'{book.title}' by {book.author} is currently not available.\")\n",
        "        else:\n",
        "            print(f\"Book '{title}' not found in the library.\")\n",
        "\n",
        "    def return_book(self, title):\n",
        "        book = self.find_book(title)\n",
        "        if book and not book.available:\n",
        "            book.available = True\n",
        "            print(f\"'{book.title}' by {book.author} has been returned.\")\n",
        "        elif book:\n",
        "            print(f\"'{book.title}' by {book.author} was not checked out.\")\n",
        "        else:\n",
        "            print(f\"Book '{title}' not found in the library.\")\n",
        "\n",
        "    def list_books(self):\n",
        "        if not self.books:\n",
        "            print(\"No books in the library.\")\n",
        "        else:\n",
        "            for book in self.books:\n",
        "                print(book)\n",
        "\n",
        "library = Library()\n",
        "library.add_book(\"To Kill a Mockingbird\", \"Harper Lee\")\n",
        "library.add_book(\"1984\", \"George Orwell\")\n",
        "library.list_books()\n",
        "library.check_out(\"1984\")\n",
        "library.list_books()\n",
        "library.return_book(\"1984\")\n",
        "library.list_books()\n",
        "library.check_out(\"The Great Gatsby\")\n",
        "library.return_book(\"To Kill a Mockingbird\")"
      ],
      "metadata": {
        "colab": {
          "base_uri": "https://localhost:8080/"
        },
        "id": "1Ge21rgGqiVM",
        "outputId": "b7227ada-24ed-45a5-ef58-bbeae0a8b8e3"
      },
      "execution_count": 77,
      "outputs": [
        {
          "output_type": "stream",
          "name": "stdout",
          "text": [
            "Book added: 'To Kill a Mockingbird' by Harper Lee - Available\n",
            "Book added: '1984' by George Orwell - Available\n",
            "'To Kill a Mockingbird' by Harper Lee - Available\n",
            "'1984' by George Orwell - Available\n",
            "You have checked out '1984' by George Orwell.\n",
            "'To Kill a Mockingbird' by Harper Lee - Available\n",
            "'1984' by George Orwell - Checked out\n",
            "'1984' by George Orwell has been returned.\n",
            "'To Kill a Mockingbird' by Harper Lee - Available\n",
            "'1984' by George Orwell - Available\n",
            "Book 'The Great Gatsby' not found in the library.\n",
            "'To Kill a Mockingbird' by Harper Lee was not checked out.\n"
          ]
        }
      ]
    },
    {
      "cell_type": "markdown",
      "source": [
        "18. Explain how encapsulation enhances code reusability and modularity in Python programs."
      ],
      "metadata": {
        "id": "sTmv3I2UGI0Z"
      }
    },
    {
      "cell_type": "markdown",
      "source": [
        "1. Grouping related data and methods together\n",
        "\n",
        "Each object has its own set of data (attributes) and methods (functions) that operate on that data.\n",
        "\n",
        "2. Hiding implementation details\n",
        "\n",
        "The internal details of an object are hidden from other parts of the program.\n",
        "\n",
        "3. Promoting code reuse\n",
        "\n",
        "Objects can be easily reused in different parts of a program or even in different programs."
      ],
      "metadata": {
        "id": "gMlRJhMjrcva"
      }
    },
    {
      "cell_type": "markdown",
      "source": [
        "19. Describe the concept of information hiding in encapsulation. Why is it essential in software development?"
      ],
      "metadata": {
        "id": "qjKlJcWWGH7y"
      }
    },
    {
      "cell_type": "markdown",
      "source": [
        "1. Information hiding in encapsulation\n",
        "Information hiding in encapsulation refers to the practice of concealing the internal details of an object from other parts of the program. This is achieved by:\n",
        "\n",
        "    1.Making the object's attributes and methods private (using access modifiers like private or protected).\n",
        "\n",
        "    2.Providing public methods to access and modify the object's data\n",
        "\n",
        "2. essential in software development?\n",
        "\n",
        "    1.Improves security\n",
        "\n",
        "    2.Enhances maintainability\n",
        "\n",
        "    3.Promotes modularity\n",
        "\n",
        "\n",
        "\n"
      ],
      "metadata": {
        "id": "wClFA_hJry2p"
      }
    },
    {
      "cell_type": "markdown",
      "source": [
        "20. Create a Python class called `Customer` with private attributes for customer details like name, address,\n",
        "and contact information. Implement encapsulation to ensure data integrity and security."
      ],
      "metadata": {
        "id": "QeOOHmEEFi-g"
      }
    },
    {
      "cell_type": "code",
      "source": [
        "class Customer:\n",
        "  def __init__(self, name, address, contact_info):\n",
        "    self.__name = name\n",
        "    self.__address = address\n",
        "    self.__contact_info = contact_info\n",
        "\n",
        "  def get_name(self):\n",
        "    return self.__name\n",
        "\n",
        "  def get_address(self):\n",
        "    return self.__address\n",
        "\n",
        "  def get_contact_info(self):\n",
        "    return self.__contact_info\n",
        "\n",
        "  def set_name(self, name):\n",
        "    self.__name = name\n",
        "\n",
        "  def set_address(self, address):\n",
        "    self.__address = address\n",
        "\n",
        "  def set_contact_info(self, contact_info):\n",
        "    self.__contact_info = contact_info\n",
        "\n",
        "\n",
        "customer = Customer(\"Omprakash\", \"123 main Street\", \"23423423434\")\n",
        "\n",
        "\n",
        "print(customer.get_name())\n",
        "\n",
        "customer.set_address(\"456 nok street\")\n",
        "\n",
        "print(customer.get_address())"
      ],
      "metadata": {
        "colab": {
          "base_uri": "https://localhost:8080/"
        },
        "id": "30LpMXdxswOQ",
        "outputId": "3204fb66-3015-401a-e01d-0b4b16a54d70"
      },
      "execution_count": 78,
      "outputs": [
        {
          "output_type": "stream",
          "name": "stdout",
          "text": [
            "Omprakash\n",
            "456 nok street\n"
          ]
        }
      ]
    },
    {
      "cell_type": "markdown",
      "source": [
        "#Polymorphism:"
      ],
      "metadata": {
        "id": "NXslJkeUGjYY"
      }
    },
    {
      "cell_type": "markdown",
      "source": [
        "1. What is polymorphism in Python? Explain how it is related to object-oriented programming."
      ],
      "metadata": {
        "id": "A4UWQjpMGnCo"
      }
    },
    {
      "cell_type": "markdown",
      "source": [
        "1. Polymorphism\n",
        "\n",
        "    Polymorphism in Python refers to the ability of objects of different classes to respond to the same method call in different ways. This is achieved through method overriding.\n",
        "\n",
        "2. Related to object-oriented programming\n",
        "\n",
        "    Polymorphism is closely related to object-oriented programming (OOP) because it allows you to create classes that can be easily extended and reused\n"
      ],
      "metadata": {
        "id": "uAV7UaThtJPM"
      }
    },
    {
      "cell_type": "markdown",
      "source": [
        "2. Describe the difference between compile-time polymorphism and runtime polymorphism in Python."
      ],
      "metadata": {
        "id": "rg-hYWbTGm_Q"
      }
    },
    {
      "cell_type": "markdown",
      "source": [
        "1. Compile-time polymorphism\n",
        "    Compile-time polymorphism (also known as static polymorphism) occurs when the appropriate method to call is determined at compile time, based on the static type of the object.\n",
        "\n",
        "2. Runtime polymorphism\n",
        "\n",
        "    Runtime polymorphism (also known as dynamic polymorphism) occurs when the appropriate method to call is determined at runtime, based on the actual type of the object."
      ],
      "metadata": {
        "id": "lNWQnO64tqw1"
      }
    },
    {
      "cell_type": "markdown",
      "source": [
        "3. Create a Python class hierarchy for shapes (e.g., circle, square, triangle) and demonstrate polymorphism\n",
        " through a common method, such as `calculate_area()`."
      ],
      "metadata": {
        "id": "4mhvkOI2Gm7y"
      }
    },
    {
      "cell_type": "code",
      "source": [
        "class Shape:\n",
        "  def __init__(self, name):\n",
        "    self.name = name\n",
        "\n",
        "  def calculate_area(self):\n",
        "    raise NotImplementedError(\"Subclasses must implement the calculate_area() method\")\n",
        "\n",
        "class Circle(Shape):\n",
        "  def __init__(self, name, radius):\n",
        "    super().__init__(name)\n",
        "    self.radius = radius\n",
        "\n",
        "  def calculate_area(self):\n",
        "    return 3.14 * self.radius ** 2\n",
        "\n",
        "class Square(Shape):\n",
        "  def __init__(self, name, side):\n",
        "    super().__init__(name)\n",
        "    self.side = side\n",
        "\n",
        "  def calculate_area(self):\n",
        "    return self.side ** 2\n",
        "\n",
        "class Triangle(Shape):\n",
        "  def __init__(self, name, base, height):\n",
        "    super().__init__(name)\n",
        "    self.base = base\n",
        "    self.height = height\n",
        "\n",
        "  def calculate_area(self):\n",
        "    return 0.5 * self.base * self.height\n",
        "\n",
        "circle = Circle(\"Circle 1\", 5)\n",
        "square = Square(\"Square 1\", 10)\n",
        "triangle = Triangle(\"Triangle 1\", 6, 8)\n",
        "\n",
        "shapes = [circle, square, triangle]\n",
        "\n",
        "for shape in shapes:\n",
        "  print(f\"{shape.name} area: {shape.calculate_area()}\")"
      ],
      "metadata": {
        "colab": {
          "base_uri": "https://localhost:8080/"
        },
        "id": "5k5erbSiuOLk",
        "outputId": "3d9d4e10-dbc6-4ffb-feb1-d029e4588c07"
      },
      "execution_count": 79,
      "outputs": [
        {
          "output_type": "stream",
          "name": "stdout",
          "text": [
            "Circle 1 area: 78.5\n",
            "Square 1 area: 100\n",
            "Triangle 1 area: 24.0\n"
          ]
        }
      ]
    },
    {
      "cell_type": "markdown",
      "source": [
        "4. Explain the concept of method overriding in polymorphism. Provide an example."
      ],
      "metadata": {
        "id": "lNJmlQpqGm4f"
      }
    },
    {
      "cell_type": "markdown",
      "source": [
        "Method overriding in polymorphism occurs when a subclass redefines a method that is already defined in its superclass. This allows the subclass to provide its own implementation of the method."
      ],
      "metadata": {
        "id": "i9Sga8S0ur6f"
      }
    },
    {
      "cell_type": "code",
      "source": [
        "class Animal:\n",
        "  def make_sound(self):\n",
        "    print(\"Animal sound\")\n",
        "\n",
        "class Dog(Animal):\n",
        "  def make_sound(self):\n",
        "    print(\"Bark!\")\n",
        "\n",
        "class Cat(Animal):\n",
        "  def make_sound(self):\n",
        "    print(\"Meow!\")"
      ],
      "metadata": {
        "id": "3HqTbtOyukJy"
      },
      "execution_count": 80,
      "outputs": []
    },
    {
      "cell_type": "markdown",
      "source": [
        "5. How is polymorphism different from method overloading in Python? Provide examples for both."
      ],
      "metadata": {
        "id": "QRq8UB7XGm01"
      }
    },
    {
      "cell_type": "markdown",
      "source": [
        "1. Polymorphism in Python allows you to define methods with the same name in different classes, and the appropriate method is called based on the actual type of the object.\n",
        "\n",
        "2. Method overloading, on the other hand, allows you to define multiple methods with the same name in the same class, but with different signatures"
      ],
      "metadata": {
        "id": "TadyX_Sou3c2"
      }
    },
    {
      "cell_type": "markdown",
      "source": [
        "6. Create a Python class called `Animal` with a method `speak()`. Then, create child classes like `Dog`, `Cat`, and `Bird`, each with their own `speak()` method. Demonstrate polymorphism by calling the `speak()` method\n",
        "on objects of different subclasses."
      ],
      "metadata": {
        "id": "pSoZfw-QGmxU"
      }
    },
    {
      "cell_type": "code",
      "source": [
        "class Animal:\n",
        "  def speak(self):\n",
        "    raise NotImplementedError(\"Subclasses must implement the speak() method\")\n",
        "\n",
        "class Dog(Animal):\n",
        "  def speak(self):\n",
        "    print(\"Woof!\")\n",
        "\n",
        "class Cat(Animal):\n",
        "  def speak(self):\n",
        "    print(\"Meow!\")\n",
        "\n",
        "class Bird(Animal):\n",
        "  def speak(self):\n",
        "    print(\"Chirp!\")\n",
        "\n",
        "dog = Dog()\n",
        "cat = Cat()\n",
        "bird = Bird()\n",
        "\n",
        "dog.speak()\n",
        "cat.speak()\n",
        "bird.speak()"
      ],
      "metadata": {
        "colab": {
          "base_uri": "https://localhost:8080/"
        },
        "id": "yB3SzwHFvKsW",
        "outputId": "2d9451b5-4aa0-4a90-ec2d-fc09b9d1a6f6"
      },
      "execution_count": 81,
      "outputs": [
        {
          "output_type": "stream",
          "name": "stdout",
          "text": [
            "Woof!\n",
            "Meow!\n",
            "Chirp!\n"
          ]
        }
      ]
    },
    {
      "cell_type": "markdown",
      "source": [
        "7. Discuss the use of abstract methods and classes in achieving polymorphism in Python. Provide an example\n",
        "using the `abc` module."
      ],
      "metadata": {
        "id": "3SKiHS8qGmts"
      }
    },
    {
      "cell_type": "markdown",
      "source": [
        "1. Abstract methods are methods that are declared in a base class but have no implementation. This forces subclasses to implement the abstract methods.\n",
        "\n",
        "2. Abstract classes are classes that contain at least one abstract method. Abstract classes cannot be instantiated, but they can be subclassed."
      ],
      "metadata": {
        "id": "xgFAvbJ1vZ_C"
      }
    },
    {
      "cell_type": "code",
      "source": [
        "from abc import ABC, abstractmethod\n",
        "\n",
        "class Animal(ABC):\n",
        "  @abstractmethod\n",
        "  def speak(self):\n",
        "    pass\n",
        "\n",
        "class Dog(Animal):\n",
        "  def speak(self):\n",
        "    print(\"Woof!\")\n",
        "\n",
        "class Cat(Animal):\n",
        "  def speak(self):\n",
        "    print(\"Meow!\")\n",
        "\n",
        "dog = Dog()\n",
        "cat = Cat()\n",
        "\n",
        "dog.speak()  # Prints \"Woof!\"\n",
        "cat.speak()  # Prints \"Meow!\""
      ],
      "metadata": {
        "colab": {
          "base_uri": "https://localhost:8080/"
        },
        "id": "V9tHtLl7vZGe",
        "outputId": "9ba8316c-3ad2-4810-f1c4-f24691997701"
      },
      "execution_count": 82,
      "outputs": [
        {
          "output_type": "stream",
          "name": "stdout",
          "text": [
            "Woof!\n",
            "Meow!\n"
          ]
        }
      ]
    },
    {
      "cell_type": "markdown",
      "source": [
        "8. Create a Python class hierarchy for a vehicle system (e.g., car, bicycle, boat) and implement a polymorphic `start()` method that prints a message specific to each vehicle type."
      ],
      "metadata": {
        "id": "yHOziR8_Gmqt"
      }
    },
    {
      "cell_type": "code",
      "source": [
        "class Vehicle:\n",
        "    def start(self):\n",
        "        raise NotImplementedError(\"Subclasses must implement the start() method\")\n",
        "\n",
        "class Car(Vehicle):\n",
        "    def start(self):\n",
        "        print(\"Starting car \")\n",
        "\n",
        "class Bicycle(Vehicle):\n",
        "    def start(self):\n",
        "        print(\"Starting  bicycle\")\n",
        "\n",
        "class Boat(Vehicle):\n",
        "    def start(self):\n",
        "        print(\"Starting tboat \")\n",
        "\n",
        "car = Car()\n",
        "bicycle = Bicycle()\n",
        "boat = Boat()\n",
        "\n",
        "car.start()\n",
        "bicycle.start()\n",
        "boat.start()"
      ],
      "metadata": {
        "colab": {
          "base_uri": "https://localhost:8080/"
        },
        "id": "pY_qNdoYv8cp",
        "outputId": "0910039d-c8db-43d7-bc1d-febed684d3b0"
      },
      "execution_count": 83,
      "outputs": [
        {
          "output_type": "stream",
          "name": "stdout",
          "text": [
            "Starting car \n",
            "Starting  bicycle\n",
            "Starting tboat \n"
          ]
        }
      ]
    },
    {
      "cell_type": "markdown",
      "source": [
        "9. Explain the significance of the `isinstance()` and `issubclass()` functions in Python polymorphism."
      ],
      "metadata": {
        "id": "ARNIKwxwGmm5"
      }
    },
    {
      "cell_type": "code",
      "source": [
        "class Vehicle:\n",
        "    pass\n",
        "\n",
        "class Car(Vehicle):\n",
        "    pass\n",
        "\n",
        "class Bicycle(Vehicle):\n",
        "    pass\n",
        "\n",
        "car = Car()\n",
        "bicycle = Bicycle()\n",
        "\n",
        "print(isinstance(car, Vehicle))\n",
        "\n",
        "print(issubclass(Bicycle, Vehicle))"
      ],
      "metadata": {
        "colab": {
          "base_uri": "https://localhost:8080/"
        },
        "id": "6eMb-2YswKgZ",
        "outputId": "82fac631-f3f6-4f73-f1a6-624dbb231f8d"
      },
      "execution_count": 84,
      "outputs": [
        {
          "output_type": "stream",
          "name": "stdout",
          "text": [
            "True\n",
            "True\n"
          ]
        }
      ]
    },
    {
      "cell_type": "markdown",
      "source": [
        "1. isinstance():\n",
        "\n",
        "    Checks if an object is an instance of a particular class or any of its subclasses.\n",
        "\n",
        "    Useful for determining the type of an object at runtime.\n",
        "    \n",
        "Syntax: isinstance(object, class)\n",
        "2. issubclass():\n",
        "\n",
        "    Checks if a class is a subclass of another class.\n",
        "\n",
        "    Useful for checking class relationships in a class hierarchy.\n",
        "    Syntax: issubclass(class, class)"
      ],
      "metadata": {
        "id": "3sSmBMG3wTQf"
      }
    },
    {
      "cell_type": "markdown",
      "source": [
        "10. What is the role of the `@abstractmethod` decorator in achieving polymorphism in Python? Provide an\n",
        "example."
      ],
      "metadata": {
        "id": "9jQy1tnBGmj2"
      }
    },
    {
      "cell_type": "markdown",
      "source": [
        "1. Achieving Polymorphism\n",
        "\n",
        "    1.Abstract methods allow you to define a common interface for a\n",
        "    group of related classes.\n",
        "    Subclasses can then implement the abstract methods in different ways, providing polymorphic behavior.\n",
        "\n",
        "    2.This enables you to write code that can work with different subclasses of an ABC without knowing the specific implementation details of each subclass."
      ],
      "metadata": {
        "id": "pJqmUbM6wqdF"
      }
    },
    {
      "cell_type": "code",
      "source": [
        "from abc import ABC, abstractmethod\n",
        "\n",
        "class Vehicle(ABC):\n",
        "    @abstractmethod\n",
        "    def start(self):\n",
        "        pass\n",
        "\n",
        "class Car(Vehicle):\n",
        "    def start(self):\n",
        "        print(\"Starting the car engine...\")\n",
        "\n",
        "class Bicycle(Vehicle):\n",
        "    def start(self):\n",
        "        print(\"Starting to pedal the bicycle...\")\n",
        "\n",
        "car = Car()\n",
        "bicycle = Bicycle()\n",
        "\n",
        "car.start()\n",
        "bicycle.start()"
      ],
      "metadata": {
        "colab": {
          "base_uri": "https://localhost:8080/"
        },
        "id": "yFBxV6KFwl2V",
        "outputId": "ebd23b21-c818-4807-f1d7-bc26352cd0cc"
      },
      "execution_count": 85,
      "outputs": [
        {
          "output_type": "stream",
          "name": "stdout",
          "text": [
            "Starting the car engine...\n",
            "Starting to pedal the bicycle...\n"
          ]
        }
      ]
    },
    {
      "cell_type": "markdown",
      "source": [
        "11. Create a Python class called `Shape` with a polymorphic method `area()` that calculates the area of different shapes (e.g., circle, rectangle, triangle)."
      ],
      "metadata": {
        "id": "qvYhnYKMGmga"
      }
    },
    {
      "cell_type": "code",
      "source": [
        "class Shape:\n",
        "    def area(self):\n",
        "        raise NotImplementedError(\"Subclasses must implement the area() method\")\n",
        "\n",
        "class Circle(Shape):\n",
        "    def __init__(self, radius):\n",
        "        self.radius = radius\n",
        "\n",
        "    def area(self):\n",
        "        return 3.14 * self.radius ** 2\n",
        "\n",
        "class Rectangle(Shape):\n",
        "    def __init__(self, length, width):\n",
        "        self.length = length\n",
        "        self.width = width\n",
        "\n",
        "    def area(self):\n",
        "        return self.length * self.width\n",
        "\n",
        "class Triangle(Shape):\n",
        "    def __init__(self, base, height):\n",
        "        self.base = base\n",
        "        self.height = height\n",
        "\n",
        "    def area(self):\n",
        "        return 0.5 * self.base * self.height"
      ],
      "metadata": {
        "id": "uIPIDYPXw5Tt"
      },
      "execution_count": 86,
      "outputs": []
    },
    {
      "cell_type": "code",
      "source": [
        "circle = Circle(5)\n",
        "print(circle.area())\n",
        "\n",
        "rectangle = Rectangle(4, 6)\n",
        "print(rectangle.area())\n",
        "\n",
        "triangle = Triangle(3, 4)\n",
        "print(triangle.area())"
      ],
      "metadata": {
        "colab": {
          "base_uri": "https://localhost:8080/"
        },
        "id": "u2jPU4-yxENP",
        "outputId": "440b24e3-729a-44ce-cb0a-3d6be4d14a0d"
      },
      "execution_count": 87,
      "outputs": [
        {
          "output_type": "stream",
          "name": "stdout",
          "text": [
            "78.5\n",
            "24\n",
            "6.0\n"
          ]
        }
      ]
    },
    {
      "cell_type": "markdown",
      "source": [
        "12. Discuss the benefits of polymorphism in terms of code reusability and flexibility in Python programs."
      ],
      "metadata": {
        "id": "gPK1Xb1zGmdT"
      }
    },
    {
      "cell_type": "markdown",
      "source": [
        "1. Reusability\n",
        "\n",
        "    Polymorphism allows you to write code that can work with different types of objects without having to rewrite the same logic for each type.\n",
        "    For example, the area() method in the previous example can be called on any object of type Shape, regardless of whether it is a Circle, Rectangle, or Triangle.\n",
        "\n",
        "2. Flexibility:\n",
        "\n",
        "    1.Polymorphism makes your code more flexible and adaptable to changes.\n",
        "\n",
        "    2.If you add a new type of shape to your program, you don't need to modify the existing code that uses the area() method.\n",
        "\n",
        "    3.You simply need to create a new subclass of Shape and implement\n",
        "    the area() method for that subclass."
      ],
      "metadata": {
        "id": "M3CRJXy1xRUH"
      }
    },
    {
      "cell_type": "markdown",
      "source": [
        "13. Explain the use of the `super()` function in Python polymorphism. How does it help call methods of parent\n",
        "classes?"
      ],
      "metadata": {
        "id": "rj5UeKpYGmaF"
      }
    },
    {
      "cell_type": "markdown",
      "source": [
        "The super() function in Python is used to call methods of the parent class from within a subclass. It is particularly useful when a subclass overrides a method of the parent class and wants to call the parent class's implementation of that method"
      ],
      "metadata": {
        "id": "6nqwlYwSxySN"
      }
    },
    {
      "cell_type": "markdown",
      "source": [
        "14. Create a Python class hierarchy for a banking system with various account types (e.g., savings, checking, credit card) and demonstrate polymorphism by implementing a common `withdraw()` method"
      ],
      "metadata": {
        "id": "BtCNYBFIGmWz"
      }
    },
    {
      "cell_type": "code",
      "source": [
        "class BankAccount:\n",
        "    def __init__(self, balance):\n",
        "        self.balance = balance\n",
        "\n",
        "    def withdraw(self, amount):\n",
        "        if self.balance >= amount:\n",
        "            self.balance -= amount\n",
        "            return True\n",
        "        else:\n",
        "            return False\n",
        "\n",
        "class SavingsAccount(BankAccount):\n",
        "    def __init__(self, balance, interest_rate):\n",
        "        super().__init__(balance)\n",
        "        self.interest_rate = interest_rate\n",
        "\n",
        "class CheckingAccount(BankAccount):\n",
        "    def __init__(self, balance, overdraft_limit):\n",
        "        super().__init__(balance)\n",
        "        self.overdraft_limit = overdraft_limit\n",
        "\n",
        "class CreditCardAccount(BankAccount):\n",
        "    def __init__(self, balance, credit_limit):\n",
        "        super().__init__(balance)\n",
        "        self.credit_limit = credit_limit\n",
        "\n",
        "    def withdraw(self, amount):\n",
        "        if self.balance + self.credit_limit >= amount:\n",
        "            self.balance -= amount\n",
        "            return True\n",
        "        else:\n",
        "            return False\n",
        "\n",
        "savings = SavingsAccount(1000, 0.05)\n",
        "checking = CheckingAccount(500, 1000)\n",
        "credit_card = CreditCardAccount(200, 5000)\n",
        "\n",
        "savings.withdraw(200)\n",
        "checking.withdraw(800)\n",
        "credit_card.withdraw(3000)"
      ],
      "metadata": {
        "colab": {
          "base_uri": "https://localhost:8080/"
        },
        "id": "D4owgp4hx6lM",
        "outputId": "68f5cd25-7e99-46c3-eec2-ec5c9d8e8540"
      },
      "execution_count": 88,
      "outputs": [
        {
          "output_type": "execute_result",
          "data": {
            "text/plain": [
              "True"
            ]
          },
          "metadata": {},
          "execution_count": 88
        }
      ]
    },
    {
      "cell_type": "markdown",
      "source": [
        "15. Describe the concept of operator overloading in Python and how it relates to polymorphism. Provide\n",
        "examples using operators like `+` and `*`."
      ],
      "metadata": {
        "id": "lRe2xCPDGmTa"
      }
    },
    {
      "cell_type": "markdown",
      "source": [
        "Operator overloading in Python allows you to define the behavior of built-in operators for custom classes. This means you can use operators like +, *, and == with your own objects, and they will perform custom actions specific to your class."
      ],
      "metadata": {
        "id": "P-1QRJQOyJIW"
      }
    },
    {
      "cell_type": "code",
      "source": [
        "class Complex:\n",
        "    def __init__(self, real, imag):\n",
        "        self.real = real\n",
        "        self.imag = imag\n",
        "\n",
        "    def __add__(self, other):\n",
        "        if isinstance(other, Complex):\n",
        "            return Complex(self.real + other.real, self.imag + other.imag)\n",
        "\n",
        "a = Complex(2, 3)\n",
        "b = Complex(4, 5)\n",
        "\n",
        "print(a + b)"
      ],
      "metadata": {
        "colab": {
          "base_uri": "https://localhost:8080/"
        },
        "id": "NdhZcP4-yGZu",
        "outputId": "9fcafd67-ba45-4406-fa2b-9ef50fa2b2a5"
      },
      "execution_count": 89,
      "outputs": [
        {
          "output_type": "stream",
          "name": "stdout",
          "text": [
            "<__main__.Complex object at 0x7a4212e06c20>\n"
          ]
        }
      ]
    },
    {
      "cell_type": "markdown",
      "source": [
        "16. What is dynamic polymorphism, and how is it achieved in Python?"
      ],
      "metadata": {
        "id": "f5Cc9JFtGmNi"
      }
    },
    {
      "cell_type": "code",
      "source": [],
      "metadata": {
        "id": "LDC8me2ByMUK"
      },
      "execution_count": 89,
      "outputs": []
    },
    {
      "cell_type": "markdown",
      "source": [
        "17. Create a Python class hierarchy for employees in a company (e.g., manager, developer, designer) and implement polymorphism through a common `calculate_salary()` method"
      ],
      "metadata": {
        "id": "sStielbtGmJN"
      }
    },
    {
      "cell_type": "code",
      "source": [
        "class Employee:\n",
        "    def __init__(self, name, base_salary):\n",
        "        self.name = name\n",
        "        self.base_salary = base_salary\n",
        "\n",
        "    def calculate_salary(self):\n",
        "        raise NotImplementedError\n",
        "\n",
        "class Manager(Employee):\n",
        "    def __init__(self, name, base_salary, team_size):\n",
        "        super().__init__(name, base_salary)\n",
        "        self.team_size = team_size\n",
        "\n",
        "    def calculate_salary(self):\n",
        "        return self.base_salary + (500 * self.team_size)\n",
        "\n",
        "class Developer(Employee):\n",
        "    def __init__(self, name, base_salary, skills):\n",
        "        super().__init__(name, base_salary)\n",
        "        self.skills = skills\n",
        "\n",
        "    def calculate_salary(self):\n",
        "        skill_bonus = len(self.skills) * 100\n",
        "        return self.base_salary + skill_bonus\n",
        "\n",
        "class Designer(Employee):\n",
        "    def __init__(self, name, base_salary, experience):\n",
        "        super().__init__(name, base_salary)\n",
        "        self.experience = experience\n",
        "\n",
        "    def calculate_salary(self):\n",
        "        experience_bonus = self.experience * 500\n",
        "        return self.base_salary + experience_bonus\n",
        "\n",
        "manager = Manager(\"maxu\", 1000, 5)\n",
        "developer = Developer(\"jinu\", 800, [\"Python\", \"Java\"])\n",
        "designer = Designer(\"nonu\", 700, 3)\n",
        "\n",
        "employees = [manager, developer, designer]\n",
        "for employee in employees:\n",
        "    salary = employee.calculate_salary()\n",
        "    print(f\"{employee.name}'s salary: {salary}\")"
      ],
      "metadata": {
        "colab": {
          "base_uri": "https://localhost:8080/"
        },
        "id": "b7Qz_2CYyWre",
        "outputId": "5c382cfc-1a10-45ee-9237-7c40a46da980"
      },
      "execution_count": 90,
      "outputs": [
        {
          "output_type": "stream",
          "name": "stdout",
          "text": [
            "maxu's salary: 3500\n",
            "jinu's salary: 1000\n",
            "nonu's salary: 2200\n"
          ]
        }
      ]
    },
    {
      "cell_type": "markdown",
      "source": [
        "18. Discuss the concept of function pointers and how they can be used to achieve polymorphism in Python"
      ],
      "metadata": {
        "id": "dnizKU0NGmE7"
      }
    },
    {
      "cell_type": "markdown",
      "source": [
        "Function pointers in Python are not directly supported as a language feature.\n",
        "\n",
        "A higher-order function is a function that takes another function as an argument or returns a function as its result. A closure is a function that remembers the values of variables outside its own scope.\n",
        "\n"
      ],
      "metadata": {
        "id": "BAAlw9yVywG_"
      }
    },
    {
      "cell_type": "markdown",
      "source": [
        "19. Explain the role of interfaces and abstract classes in polymorphism, drawing comparisons between them."
      ],
      "metadata": {
        "id": "FIS8CAgLGmAh"
      }
    },
    {
      "cell_type": "markdown",
      "source": [
        "1. Interfaces\n",
        "\n",
        "    1.Define a set of methods that a class must implement.\n",
        "\n",
        "    2.Do not provide any implementation for these methods\n",
        "2. Abstract Classes\n",
        "\n",
        "    1.Similar to interfaces, but provide partial implementation for some methods.\n",
        "\n",
        "    2.Cannot be instantiated directly.\n",
        "\n",
        "3. Comparison:\n",
        "\n",
        "    1.Similarity: Both interfaces and abstract classes promote polymorphism by defining a common set of methods that can be implemented differently in subclasses.\n"
      ],
      "metadata": {
        "id": "2Jzov_n6y_WG"
      }
    },
    {
      "cell_type": "markdown",
      "source": [
        "20. Create a Python class for a zoo simulation, demonstrating polymorphism with different animal types (e.g., mammals, birds, reptiles) and their behavior (e.g., eating, sleeping, making sounds)."
      ],
      "metadata": {
        "id": "DUWj7VT5Gl8V"
      }
    },
    {
      "cell_type": "code",
      "source": [
        "class Animal:\n",
        "\n",
        "  def __init__(self, name, species):\n",
        "    self.name = name\n",
        "    self.species = species\n",
        "\n",
        "  def eat(self):\n",
        "\n",
        "    print(f\"{self.name} is eating.\")\n",
        "\n",
        "  def sleep(self):\n",
        "\n",
        "    print(f\"{self.name} is sleeping.\")\n",
        "\n",
        "  def make_sound(self):\n",
        "\n",
        "    raise NotImplementedError(\"Subclasses must implement make_sound()\")\n",
        "\n",
        "class Mammal(Animal):\n",
        "\n",
        "  def __init__(self, name, species, fur_color):\n",
        "    super().__init__(name, species)\n",
        "    self.fur_color = fur_color\n",
        "\n",
        "  def make_sound(self):\n",
        "\n",
        "    print(f\"{self.name} the mammal is making a generic sound.\")\n",
        "\n",
        "class Bird(Animal):\n",
        "\n",
        "  def __init__(self, name, species, wingspan):\n",
        "    super().__init__(name, species)\n",
        "    self.wingspan = wingspan\n",
        "\n",
        "  def make_sound(self):\n",
        "\n",
        "    print(f\"{self.name} the bird is chirping.\")\n",
        "\n",
        "class Reptile(Animal):\n",
        "\n",
        "  def __init__(self, name, species, scales):\n",
        "    super().__init__(name, species)\n",
        "    self.has_scales = scales\n",
        "\n",
        "  def make_sound(self):\n",
        "\n",
        "    print(f\"{self.name} the reptile is hissing.\")\n",
        "\n",
        "# Example usage\n",
        "lion = Mammal(\"pio\", \"Lion\", \"Golden\")\n",
        "parrot = Bird(\"solly\", \"Parrot\", 1.2)\n",
        "snake = Reptile(\"Serpent\", \"Python\",True)\n",
        "\n",
        "lion.eat()\n",
        "lion.sleep()\n",
        "lion.make_sound()\n",
        "\n",
        "parrot.eat()\n",
        "parrot.sleep()\n",
        "parrot.make_sound()\n",
        "\n",
        "snake.eat()\n",
        "snake.sleep()\n",
        "snake.make_sound()"
      ],
      "metadata": {
        "colab": {
          "base_uri": "https://localhost:8080/"
        },
        "id": "dW79ViVszr-W",
        "outputId": "72e2f3c7-ae71-44f3-bcb4-fd0b06c474bc"
      },
      "execution_count": 91,
      "outputs": [
        {
          "output_type": "stream",
          "name": "stdout",
          "text": [
            "pio is eating.\n",
            "pio is sleeping.\n",
            "pio the mammal is making a generic sound.\n",
            "solly is eating.\n",
            "solly is sleeping.\n",
            "solly the bird is chirping.\n",
            "Serpent is eating.\n",
            "Serpent is sleeping.\n",
            "Serpent the reptile is hissing.\n"
          ]
        }
      ]
    },
    {
      "cell_type": "markdown",
      "source": [
        "# Abstraction:"
      ],
      "metadata": {
        "id": "VD_HkQkHHHdm"
      }
    },
    {
      "cell_type": "markdown",
      "source": [
        "1. What is abstraction in Python, and how does it relate to object-oriented programming?"
      ],
      "metadata": {
        "id": "EMcyoVMGHMmF"
      }
    },
    {
      "cell_type": "markdown",
      "source": [
        "1. Abstraction in Python\n",
        "    1.It allows you to create classes and modules that are easier to use and maintain\n",
        "\n",
        "    2.It is achieved through the use of interfaces and abstract classes\n",
        "\n",
        "    3.An interface defines a set of methods that a class must implement\n",
        "\n",
        "2. relate to object-oriented programming\n",
        "    1.Abstraction is a fundamental concept in OOP.\n",
        "    2.It allows you to create classes that represent real-world entities.\n",
        "    3.These classes can be used to create objects that have their own state and behavior."
      ],
      "metadata": {
        "id": "PxhUrps50Jch"
      }
    },
    {
      "cell_type": "markdown",
      "source": [
        "2. Describe the benefits of abstraction in terms of code organization and complexity reduction"
      ],
      "metadata": {
        "id": "kUXPt28hHMh6"
      }
    },
    {
      "cell_type": "markdown",
      "source": [
        "1. Code Organization\n",
        "\n",
        "    1.Abstraction allows you to group related code together into classes and modules\n",
        "    2.this makes it easier to find and reuse code\n",
        "\n",
        "    3.It also helps to keep your codebase organized and structured\n",
        "\n",
        "\n",
        "2. omplexity Reduction:\n",
        "\n",
        "    1.Abstraction helps to reduce the complexity of your code by hiding the implementation details of classes and modules.\n",
        "    \n",
        "    2.This makes it easier to understand and maintain your code.\n",
        "\n",
        "    3.It also makes it easier to make changes to your code without breaking anything."
      ],
      "metadata": {
        "id": "sru05-zc0zNK"
      }
    },
    {
      "cell_type": "markdown",
      "source": [
        "3. Create a Python class called `Shape` with an abstract method `calculate_area()`. Then, create child classes (e.g., `Circle`, `Rectangle`) that implement the `calculate_area()` method. Provide an example of\n",
        "using these classes."
      ],
      "metadata": {
        "id": "mxQzTKj7HMdZ"
      }
    },
    {
      "cell_type": "code",
      "source": [
        "from abc import ABC, abstractmethod\n",
        "\n",
        "class Shape(ABC):\n",
        "    @abstractmethod\n",
        "    def calculate_area(self):\n",
        "        pass\n",
        "\n",
        "class Circle(Shape):\n",
        "    def __init__(self, radius):\n",
        "        self.radius = radius\n",
        "\n",
        "    def calculate_area(self):\n",
        "        return 3.14 * self.radius ** 2\n",
        "\n",
        "class Rectangle(Shape):\n",
        "    def __init__(self, length, width):\n",
        "        self.length = length\n",
        "        self.width = width\n",
        "\n",
        "    def calculate_area(self):\n",
        "        return self.length * self.width\n",
        "\n",
        "circle = Circle(5)\n",
        "rectangle = Rectangle(4, 6)\n",
        "\n",
        "print(\"Circle area:\", circle.calculate_area())\n",
        "print(\"Rectangle area:\", rectangle.calculate_area())"
      ],
      "metadata": {
        "colab": {
          "base_uri": "https://localhost:8080/"
        },
        "id": "MDk9iZo21YQd",
        "outputId": "87495431-9455-43ca-a3ee-6be453397f5b"
      },
      "execution_count": 92,
      "outputs": [
        {
          "output_type": "stream",
          "name": "stdout",
          "text": [
            "Circle area: 78.5\n",
            "Rectangle area: 24\n"
          ]
        }
      ]
    },
    {
      "cell_type": "markdown",
      "source": [
        "This code defines an abstract class Shape with an abstract method calculate_area. The child classes Circle and Rectangle implement this method to calculate the area of the respective shapes."
      ],
      "metadata": {
        "id": "Tv1Xak6B1a4K"
      }
    },
    {
      "cell_type": "markdown",
      "source": [
        "4. Explain the concept of abstract classes in Python and how they are defined using the `abc` module. Provide\n",
        "an example."
      ],
      "metadata": {
        "id": "js0j6u4qHMal"
      }
    },
    {
      "cell_type": "markdown",
      "source": [
        "1. Abstract Classes in Python\n",
        "\n",
        "    1.Abstract classes define a set of methods that must be implemented by its subclasses.\n",
        "\n",
        "    2.They cannot be instantiated on their own.\n",
        "\n",
        "    3.Used to create a common interface for a group of related classes.\n",
        "\n",
        "\n",
        "2. Defining Abstract Classes with the abc Module\n",
        "\n",
        "    1.Import the abc module.\n",
        "\n",
        "    2.Define a class and mark it as abstract using the\n",
        "    @abstractmethod decorator.\n",
        "\n",
        "    3.Define abstract methods within the abstract class.\n"
      ],
      "metadata": {
        "id": "2xtwSYHE17Xu"
      }
    },
    {
      "cell_type": "code",
      "source": [
        "from abc import ABC, abstractmethod\n",
        "\n",
        "class Shape(ABC):\n",
        "    @abstractmethod\n",
        "    def calculate_area(self):\n",
        "        pass\n",
        "\n",
        "class Circle(Shape):\n",
        "    def __init__(self, radius):\n",
        "        self.radius = radius\n",
        "\n",
        "    def calculate_area(self):\n",
        "        return 3.14 * self.radius ** 2\n",
        "\n",
        "class Rectangle(Shape):\n",
        "    def __init__(self, length, width):\n",
        "        self.length = length\n",
        "        self.width = width\n",
        "\n",
        "    def calculate_area(self):\n",
        "        return self.length * self.width\n",
        "\n",
        "circle = Circle(5)\n",
        "rectangle = Rectangle(4, 6)\n",
        "\n",
        "print(\"Circle area:\", circle.calculate_area())\n",
        "print(\"Rectangle area:\", rectangle.calculate_area())\n"
      ],
      "metadata": {
        "colab": {
          "base_uri": "https://localhost:8080/"
        },
        "id": "akX7KNrF11i3",
        "outputId": "4dcf98c0-6901-4330-cd84-eb3f70c13b79"
      },
      "execution_count": 93,
      "outputs": [
        {
          "output_type": "stream",
          "name": "stdout",
          "text": [
            "Circle area: 78.5\n",
            "Rectangle area: 24\n"
          ]
        }
      ]
    },
    {
      "cell_type": "markdown",
      "source": [
        "5. How do abstract classes differ from regular classes in Python? Discuss their use cases."
      ],
      "metadata": {
        "id": "RMf5LiDRHMXS"
      }
    },
    {
      "cell_type": "markdown",
      "source": [
        "1. Implementation: Abstract classes contain at least one abstract method, which has no implementation. Regular classes have all their methods fully implemented.\n",
        "\n",
        "2. Instantiation: Abstract classes cannot be instantiated directly. Regular classes can be instantiated.\n",
        "\n",
        "3. Inheritance: Abstract classes are meant to be inherited from. Regular classes can be inherited from, but this is not their primary purpose."
      ],
      "metadata": {
        "id": "wBEJFLxL2n-4"
      }
    },
    {
      "cell_type": "markdown",
      "source": [
        "6. Create a Python class for a bank account and demonstrate abstraction by hiding the account balance and\n",
        "providing methods to deposit and withdraw funds."
      ],
      "metadata": {
        "id": "Y_L1fgiQHMUS"
      }
    },
    {
      "cell_type": "code",
      "source": [
        "class BankAccount:\n",
        "    def __init__(self, balance):\n",
        "        self.__balance = balance\n",
        "\n",
        "    def deposit(self, amount):\n",
        "        self.__balance += amount\n",
        "\n",
        "    def withdraw(self, amount):\n",
        "        if self.__balance >= amount:\n",
        "            self.__balance -= amount\n",
        "        else:\n",
        "            print(\"insufficient funds\")\n",
        "\n",
        "    def get_balance(self):\n",
        "        return self.__balance\n",
        "\n",
        "account = BankAccount(1000)\n",
        "\n",
        "account.deposit(500)\n",
        "\n",
        "account.withdraw(200)\n",
        "\n",
        "balance = account.get_balance()\n",
        "print(f\"Current balance: {balance}\")"
      ],
      "metadata": {
        "colab": {
          "base_uri": "https://localhost:8080/"
        },
        "id": "jlOKeZso228k",
        "outputId": "7acca673-6dd8-449d-ac09-9b2993c0d0a0"
      },
      "execution_count": 94,
      "outputs": [
        {
          "output_type": "stream",
          "name": "stdout",
          "text": [
            "Current balance: 1300\n"
          ]
        }
      ]
    },
    {
      "cell_type": "markdown",
      "source": [
        "7. Discuss the concept of interface classes in Python and their role in achieving abstraction."
      ],
      "metadata": {
        "id": "xM3H7GEmHMQy"
      }
    },
    {
      "cell_type": "markdown",
      "source": [
        "1. interface classes\n",
        "    Interface classes in Python are abstract classes that define a set of methods that must be implemented by any class that inherits from them.\n",
        "\n",
        "2. Achieving Abstraction:\n",
        "\n",
        "    Defining a contract: They specify the methods that must be implemented, but they do not provide any implementation.\n",
        "\n",
        "    Enforcing consistency: All subclasses of an interface class must implement the same set of methods."
      ],
      "metadata": {
        "id": "g4SQ98d53GOB"
      }
    },
    {
      "cell_type": "markdown",
      "source": [
        "8. Create a Python class hierarchy for animals and implement abstraction by defining common methods (e.g., `eat()`, `sleep()`) in an abstract base class."
      ],
      "metadata": {
        "id": "-USffWypHMN4"
      }
    },
    {
      "cell_type": "code",
      "source": [
        "import abc\n",
        "\n",
        "class Animal(abc.ABC):\n",
        "    @abc.abstractmethod\n",
        "    def eat(self):\n",
        "        pass\n",
        "\n",
        "    @abc.abstractmethod\n",
        "    def sleep(self):\n",
        "        pass\n",
        "\n",
        "class Dog(Animal):\n",
        "    def eat(self):\n",
        "        print(\"The dog eats meat.\")\n",
        "\n",
        "    def sleep(self):\n",
        "        print(\"The dog sleeps in a kennel.\")\n",
        "\n",
        "class Cat(Animal):\n",
        "    def eat(self):\n",
        "        print(\"The cat eats fish.\")\n",
        "\n",
        "    def sleep(self):\n",
        "        print(\"The cat sleeps in a basket.\")\n",
        "\n",
        "dog = Dog()\n",
        "cat = Cat()\n",
        "\n",
        "dog.eat()\n",
        "dog.sleep()\n",
        "cat.eat()\n",
        "cat.sleep()"
      ],
      "metadata": {
        "colab": {
          "base_uri": "https://localhost:8080/"
        },
        "id": "9v_-HK4L3zEH",
        "outputId": "bb19c9b8-aa46-484f-8ce1-e5a1428e9ca3"
      },
      "execution_count": 95,
      "outputs": [
        {
          "output_type": "stream",
          "name": "stdout",
          "text": [
            "The dog eats meat.\n",
            "The dog sleeps in a kennel.\n",
            "The cat eats fish.\n",
            "The cat sleeps in a basket.\n"
          ]
        }
      ]
    },
    {
      "cell_type": "markdown",
      "source": [
        "9. Explain the significance of encapsulation in achieving abstraction. Provide examples."
      ],
      "metadata": {
        "id": "QjfKhggNHMK7"
      }
    },
    {
      "cell_type": "markdown",
      "source": [
        "1. Significance of Encapsulation in Abstraction\n",
        "\n",
        "    1.Information hiding: Encapsulation hides the implementation details of an object from the outside world.\n",
        "\n",
        "    2.Modularity: Encapsulation promotes modularity by allowing objects to be treated as black boxes.\n",
        "\n",
        "    3.Reusability: Encapsulated objects can be reused in different contexts without exposing their internal workings."
      ],
      "metadata": {
        "id": "wf-E9QJ94B1X"
      }
    },
    {
      "cell_type": "markdown",
      "source": [
        "10. What is the purpose of abstract methods, and how do they enforce abstraction in Python classes?"
      ],
      "metadata": {
        "id": "01HnYUaxHMHp"
      }
    },
    {
      "cell_type": "markdown",
      "source": [
        "1. Purpose of Abstract Methods\n",
        "\n",
        "    Abstract methods are methods declared in an abstract base class (ABC) that have no implementation. Their purpose is to define the interface for subclasses that inherit from the ABC.\n",
        "\n",
        "2. Abstract methods enforce abstraction by\n",
        "\n",
        "    1.Defining a contract: They specify the names and signatures of methods that must be implemented by subclasses.\n",
        "\n",
        "    2.Preventing direct instantiation: ABCs cannot be directly instantiated. This ensures that subclasses must implement the abstract methods before they can be used."
      ],
      "metadata": {
        "id": "kKYJBSqp4kfV"
      }
    },
    {
      "cell_type": "markdown",
      "source": [
        "11. Create a Python class for a vehicle system and demonstrate abstraction by defining common methods (e.g., `start()`, `stop()`) in an abstract base class."
      ],
      "metadata": {
        "id": "5RY7FTEHHMEx"
      }
    },
    {
      "cell_type": "code",
      "source": [
        "import abc\n",
        "\n",
        "class Vehicle(abc.ABC):\n",
        "    @abc.abstractmethod\n",
        "    def start(self):\n",
        "        pass\n",
        "\n",
        "    @abc.abstractmethod\n",
        "    def stop(self):\n",
        "        pass\n",
        "\n",
        "class Car(Vehicle):\n",
        "    def start(self):\n",
        "        print(\"Car starting\")\n",
        "\n",
        "    def stop(self):\n",
        "        print(\"Car stopping\")\n",
        "\n",
        "class Motorcycle(Vehicle):\n",
        "    def start(self):\n",
        "        print(\"Motorcycle starting\")\n",
        "\n",
        "    def stop(self):\n",
        "        print(\"Motorcycle stopping\")\n",
        "\n",
        "car = Car()\n",
        "motorcycle = Motorcycle()\n",
        "\n",
        "car.start()\n",
        "car.stop()\n",
        "motorcycle.start()\n",
        "motorcycle.stop()"
      ],
      "metadata": {
        "colab": {
          "base_uri": "https://localhost:8080/"
        },
        "id": "7bTympGF47-t",
        "outputId": "ecebeb85-b719-47e7-d608-823e2d717983"
      },
      "execution_count": 96,
      "outputs": [
        {
          "output_type": "stream",
          "name": "stdout",
          "text": [
            "Car starting\n",
            "Car stopping\n",
            "Motorcycle starting\n",
            "Motorcycle stopping\n"
          ]
        }
      ]
    },
    {
      "cell_type": "markdown",
      "source": [
        "12. Describe the use of abstract properties in Python and how they can be employed in abstract classes."
      ],
      "metadata": {
        "id": "CMBryKGKHMBb"
      }
    },
    {
      "cell_type": "markdown",
      "source": [
        "1. abstract properties\n",
        "\n",
        "    1. @abc.abstractmethod decorator on a property method in an ABC. The property method should not have any implementation in the ABC.\n",
        "\n"
      ],
      "metadata": {
        "id": "NUbN51Co5BTG"
      }
    },
    {
      "cell_type": "markdown",
      "source": [
        "13. Create a Python class hierarchy for employees in a company (e.g., manager, developer, designer) and implement abstraction by defining a common `get_salary()` method."
      ],
      "metadata": {
        "id": "ET1M7ukTHL-S"
      }
    },
    {
      "cell_type": "code",
      "source": [
        "import abc\n",
        "\n",
        "class Employee(abc.ABC):\n",
        "    @abc.abstractmethod\n",
        "    def get_salary(self):\n",
        "        pass\n",
        "\n",
        "class Manager(Employee):\n",
        "    def __init__(self, salary):\n",
        "        self.salary = salary\n",
        "\n",
        "    def get_salary(self):\n",
        "        return self.salary + 5000\n",
        "\n",
        "class Developer(Employee):\n",
        "    def __init__(self, salary):\n",
        "        self.salary = salary\n",
        "\n",
        "    def get_salary(self):\n",
        "        return self.salary + 2000\n",
        "\n",
        "class Designer(Employee):\n",
        "    def __init__(self, salary):\n",
        "        self.salary = salary\n",
        "\n",
        "    def get_salary(self):\n",
        "        return self.salary + 1000\n",
        "\n",
        "manager = Manager(10000)\n",
        "developer = Developer(8000)\n",
        "designer = Designer(7000)\n",
        "\n",
        "print(f\"Manager salary: {manager.get_salary()}\")\n",
        "print(f\"Developer salary: {developer.get_salary()}\")\n",
        "print(f\"Designer salary: {designer.get_salary()}\")"
      ],
      "metadata": {
        "colab": {
          "base_uri": "https://localhost:8080/"
        },
        "id": "2b4swXuF55d0",
        "outputId": "02258896-aa1a-4025-9aa3-097bb0d3ce7d"
      },
      "execution_count": 97,
      "outputs": [
        {
          "output_type": "stream",
          "name": "stdout",
          "text": [
            "Manager salary: 15000\n",
            "Developer salary: 10000\n",
            "Designer salary: 8000\n"
          ]
        }
      ]
    },
    {
      "cell_type": "markdown",
      "source": [
        "14. Discuss the differences between abstract classes and concrete classes in Python, including their\n",
        "instantiation."
      ],
      "metadata": {
        "id": "rr_BqhtQHL7S"
      }
    },
    {
      "cell_type": "markdown",
      "source": [
        "1. Abstract Classes\n",
        "\n",
        "    1.Defined with the abc module.\n",
        "\n",
        "    2.Cannot be instantiated on their own.\n",
        "\n",
        "    3.Define the interface for other classes to implement.\n",
        "\n",
        "2. Concrete Classes\n",
        "\n",
        "    1.Inherit from abstract classes.\n",
        "\n",
        "    2.Implement all the abstract methods of the parent abstract class.\n",
        "\n",
        "    3.Can be instantiated and used directly.\n",
        "\n",
        "3. Instantiation\n",
        "\n",
        "    1.Abstract classes cannot be instantiated.\n",
        "    \n",
        "    2.To use an abstract class, you must first create a concrete subclass that implements all the abstract methods."
      ],
      "metadata": {
        "id": "CXsNs2cn6Nlt"
      }
    },
    {
      "cell_type": "markdown",
      "source": [
        "15. Explain the concept of abstract data types (ADTs) and their role in achieving abstraction in Python."
      ],
      "metadata": {
        "id": "Yzu1mXSZHL21"
      }
    },
    {
      "cell_type": "markdown",
      "source": [
        "1. Abstract Data Types (ADTs)\n",
        "\n",
        "    1,Data structures that only specify the operations that can be performed on the data, without specifying the underlying implementation.\n",
        "\n",
        "    2.Encapsulate both data and the operations that can be performed on that data.\n",
        "\n",
        "2. Role in Achieving Abstraction\n",
        "\n",
        "    1.ADTs allow you to create classes that define a set of operations without revealing the underlying data structure.\n",
        "\n",
        "    2.This helps to separate the interface from the implementation, making it easier to modify the implementation without affecting the client code."
      ],
      "metadata": {
        "id": "5CVXl2yN61mr"
      }
    },
    {
      "cell_type": "markdown",
      "source": [
        "16. Create a Python class for a computer system, demonstrating abstraction by defining common methods (e.g., `power_on()`, `shutdown()`) in an abstract base class."
      ],
      "metadata": {
        "id": "25iwPlMS7HTX"
      }
    },
    {
      "cell_type": "code",
      "source": [
        "from abc import ABC, abstractmethod\n",
        "\n",
        "class Computer(ABC):\n",
        "\n",
        "    @abstractmethod\n",
        "    def power_on(self):\n",
        "        pass\n",
        "\n",
        "    @abstractmethod\n",
        "    def shutdown(self):\n",
        "        pass\n",
        "\n",
        "class Laptop(Computer):\n",
        "\n",
        "    def power_on(self):\n",
        "        print(\"Laptop powering on\")\n",
        "\n",
        "    def shutdown(self):\n",
        "        print(\"Laptop shutting down\")\n",
        "\n",
        "class Desktop(Computer):\n",
        "\n",
        "    def power_on(self):\n",
        "        print(\"Desktop powering on\")\n",
        "\n",
        "    def shutdown(self):\n",
        "        print(\"Desktop shutting down\")\n",
        "\n",
        "laptop = Laptop()\n",
        "desktop = Desktop()\n",
        "\n",
        "laptop.power_on()\n",
        "desktop.power_on()\n",
        "\n",
        "laptop.shutdown()\n",
        "desktop.shutdown()"
      ],
      "metadata": {
        "colab": {
          "base_uri": "https://localhost:8080/"
        },
        "id": "ZnY5hRji7OBu",
        "outputId": "c13b4da6-8a3c-4f9b-ecb1-80dc8e3538e7"
      },
      "execution_count": 98,
      "outputs": [
        {
          "output_type": "stream",
          "name": "stdout",
          "text": [
            "Laptop powering on\n",
            "Desktop powering on\n",
            "Laptop shutting down\n",
            "Desktop shutting down\n"
          ]
        }
      ]
    },
    {
      "cell_type": "markdown",
      "source": [
        "17. Discuss the benefits of using abstraction in large-scale software development projects."
      ],
      "metadata": {
        "id": "IXnp8oxeHLwy"
      }
    },
    {
      "cell_type": "markdown",
      "source": [
        "1. Improved Modularity:\n",
        "\n",
        "    1.Divides the system into smaller, more manageable components.\n",
        "    2.Each component can be developed and maintained independently.\n",
        "\n",
        "2. Enhanced Reusability:\n",
        "\n",
        "    1.Abstract classes and methods can be reused across multiple projects.\n",
        "\n",
        "3. Increased Flexibility:\n",
        "\n",
        "    1.Allows for easy modification and extension of the system.\n",
        "\n",
        "4. Improved Maintainability:\n",
        "\n",
        "    1.Makes it easier to understand and maintain the system.\n",
        "    2.Isolates the implementation details of each component.\n",
        "\n",
        "5. Enhanced Testability:\n",
        "\n",
        "    1.Each component can be tested independently.\n",
        "    2.Makes it easier to identify and fix bugs.\n",
        "\n",
        "6. Promotes Collaboration:\n",
        "\n",
        "    Different developers can work on different components of the system without interfering with each other.\n",
        "    Improves overall development efficiency."
      ],
      "metadata": {
        "id": "e2edIv8M7pKS"
      }
    },
    {
      "cell_type": "markdown",
      "source": [
        "18. Explain how abstraction enhances code reusability and modularity in Python programs."
      ],
      "metadata": {
        "id": "gc1k2rU6HLti"
      }
    },
    {
      "cell_type": "markdown",
      "source": [
        "19. Create a Python class for a library system, implementing abstraction by defining common methods (e.g., `add_book()`, `borrow_book()`) in an abstract base class."
      ],
      "metadata": {
        "id": "w4SCe--WHLqZ"
      }
    },
    {
      "cell_type": "code",
      "source": [
        "from abc import ABC, abstractmethod\n",
        "\n",
        "class Book:\n",
        "    def __init__(self, title, author):\n",
        "        self.title = title\n",
        "        self.author = author\n",
        "\n",
        "    def __str__(self):\n",
        "        return f\"'{self.title}' by {self.author}\"\n",
        "\n",
        "class Library(ABC):\n",
        "\n",
        "    @abstractmethod\n",
        "    def add_book(self, book):\n",
        "        pass\n",
        "\n",
        "    @abstractmethod\n",
        "    def borrow_book(self, book_name):\n",
        "        pass\n",
        "\n",
        "class PhysicalLibrary(Library):\n",
        "\n",
        "    def __init__(self):\n",
        "        self.books = {}\n",
        "\n",
        "    def add_book(self, book):\n",
        "        self.books[book.title] = book\n",
        "        print(f\"Added to Physical Library: {book}\")\n",
        "\n",
        "    def borrow_book(self, book_name):\n",
        "        if book_name in self.books:\n",
        "            book = self.books.pop(book_name)\n",
        "            print(f\"Borrowed from Physical Library: {book}\")\n",
        "            return True\n",
        "        else:\n",
        "            print(f\"Book '{book_name}' not found in Physical Library.\")\n",
        "            return False\n",
        "\n",
        "class DigitalLibrary(Library):\n",
        "\n",
        "    def __init__(self):\n",
        "        self.books = {}\n",
        "\n",
        "    def add_book(self, book):\n",
        "        self.books[book.title] = book\n",
        "        print(f\"Added to Digital Library: {book}\")\n",
        "\n",
        "    def borrow_book(self, book_name):\n",
        "        if book_name in self.books:\n",
        "            book = self.books[book_name]\n",
        "            print(f\"Accessed from Digital Library: {book}\")\n",
        "            return book\n",
        "        else:\n",
        "            print(f\"Book '{book_name}' not found in Digital Library.\")\n",
        "            return None\n",
        "\n",
        "physical_library = PhysicalLibrary()\n",
        "digital_library = DigitalLibrary()\n",
        "\n",
        "book1 = Book(\"The Great Gatsby\", \"F. Scott Fitzgerald\")\n",
        "book2 = Book(\"To Kill a Mockingbird\", \"Harper Lee\")\n",
        "\n",
        "physical_library.add_book(book1)\n",
        "digital_library.add_book(book2)\n",
        "\n",
        "physical_library.borrow_book(\"The Great Gatsby\")\n",
        "digital_library.borrow_book(\"To Kill a Mockingbird\")"
      ],
      "metadata": {
        "colab": {
          "base_uri": "https://localhost:8080/"
        },
        "id": "ohdPbMcM8SNx",
        "outputId": "36e92489-eeb1-4530-fb13-d4e96cb9950c"
      },
      "execution_count": 99,
      "outputs": [
        {
          "output_type": "stream",
          "name": "stdout",
          "text": [
            "Added to Physical Library: 'The Great Gatsby' by F. Scott Fitzgerald\n",
            "Added to Digital Library: 'To Kill a Mockingbird' by Harper Lee\n",
            "Borrowed from Physical Library: 'The Great Gatsby' by F. Scott Fitzgerald\n",
            "Accessed from Digital Library: 'To Kill a Mockingbird' by Harper Lee\n"
          ]
        },
        {
          "output_type": "execute_result",
          "data": {
            "text/plain": [
              "<__main__.Book at 0x7a4210535960>"
            ]
          },
          "metadata": {},
          "execution_count": 99
        }
      ]
    },
    {
      "cell_type": "markdown",
      "source": [
        "20. Describe the concept of method abstraction in Python and how it relates to polymorphism."
      ],
      "metadata": {
        "id": "f1SdHRERHLnr"
      }
    },
    {
      "cell_type": "markdown",
      "source": [
        "\n",
        "1. Method Abstraction\n",
        "\n",
        "    1.Hiding the internal details of a method from the user.\n",
        "\n",
        "    2.Only the method's name, parameters, and return type are exposed to the user.\n",
        "\n",
        "    3.This allows the implementation of the method to be changed without affecting the code that uses it.\n",
        "\n",
        "\n",
        "2. relation between Method Abstraction and Polymorphism\n",
        "\n",
        "    1.Method abstraction allows for polymorphism.\n",
        "    \n",
        "    2.hiding the implementation details of a method, it becomes possible to override the method in a subclass and provide a different implementation."
      ],
      "metadata": {
        "id": "S4VHl6Z19O7M"
      }
    },
    {
      "cell_type": "markdown",
      "source": [
        "# Composition:"
      ],
      "metadata": {
        "id": "8fUC39pWHm6C"
      }
    },
    {
      "cell_type": "markdown",
      "source": [
        "1. Explain the concept of composition in Python and how it is used to build complex objects from simpler ones"
      ],
      "metadata": {
        "id": "FbPV1QCIHLjq"
      }
    },
    {
      "cell_type": "markdown",
      "source": [
        "1. Composition\n",
        "    Composition in Python is a fundamental concept of object-oriented programming that allows you to create complex objects by combining simpler objects.\n",
        "\n",
        "2. Build complex objects from simpler ones\n",
        "\n",
        "    1. Define Classes:\n",
        "\n",
        "    Start by defining the classes for the simpler objects. For example, you might have a Car class and an Engine class.\n",
        "\n",
        "    2. Initialize Objects:\n",
        "\n",
        "    Create instances of the simpler objects.\n",
        "\n",
        "    3. Compose Objects:\n",
        "\n",
        "    To compose a complex object, you include the simpler objects as attributes within the new object.\n",
        "\n",
        "    4. Access Attributes:\n",
        "\n",
        "    You can access the attributes of the composed objects using the dot operator.  "
      ],
      "metadata": {
        "id": "5gDfaRLA94NZ"
      }
    },
    {
      "cell_type": "markdown",
      "source": [
        "2. Describe the difference between composition and inheritance in object-oriented programming."
      ],
      "metadata": {
        "id": "XIDDYCPwHLgR"
      }
    },
    {
      "cell_type": "markdown",
      "source": [
        "1. Composition:\n",
        "\n",
        "    1.In composition, objects are composed of other objects.\n",
        "\n",
        "    2.The composed objects maintain their own identity and can be reused in different contexts.\n",
        "\n",
        "    3.It emphasizes \"has-a\" relationship, where one object contains or utilizes another object as a component.\n",
        "\n",
        "2. Inheritance:\n",
        "\n",
        "    1.In inheritance, a new class (subclass) inherits the properties and methods of an existing class (superclass).\n",
        "\n",
        "    2.The subclass can extend or modify the behavior of the superclass.\n",
        "    \n",
        "    3.It emphasizes \"is-a\" relationship, where the subclass inherits the characteristics of the superclass."
      ],
      "metadata": {
        "id": "T6w3VEal-iro"
      }
    },
    {
      "cell_type": "markdown",
      "source": [
        "\n",
        "\n",
        "3. Create a Python class called `Author` with attributes for name and birthdate. Then, create a `Book` class\n",
        "that contains an instance of `Author` as a composition. Provide an example of creating a `Book` object."
      ],
      "metadata": {
        "id": "1X2StiFLHLdS"
      }
    },
    {
      "cell_type": "code",
      "source": [
        "class Author:\n",
        "  def __init__(self, name, birthdate):\n",
        "    self.name = name\n",
        "    self.birthdate = birthdate\n",
        "\n",
        "class Book:\n",
        "  def __init__(self, title, author):\n",
        "    self.title = title\n",
        "    self.author = author\n",
        "\n",
        "author = Author(\"paprika\", \"1952-03-11\")\n",
        "\n",
        "book = Book(\"the Galaxy\", author)\n",
        "\n",
        "print(book.author.name)\n",
        "print(book.author.birthdate)"
      ],
      "metadata": {
        "colab": {
          "base_uri": "https://localhost:8080/"
        },
        "id": "z_6_PiFX-_mU",
        "outputId": "7f460578-5817-426c-8fb9-3048f0727cec"
      },
      "execution_count": 107,
      "outputs": [
        {
          "output_type": "stream",
          "name": "stdout",
          "text": [
            "paprika\n",
            "1952-03-11\n"
          ]
        }
      ]
    },
    {
      "cell_type": "markdown",
      "source": [
        "4. Discuss the benefits of using composition over inheritance in Python, especially in terms of code flexibility\n",
        "and reusability."
      ],
      "metadata": {
        "id": "oiYepbOBHLGD"
      }
    },
    {
      "cell_type": "markdown",
      "source": [
        "1. Composition\n",
        "\n",
        "    1.Composition allows for more flexible and modular code design.\n",
        "\n",
        "    2.You can create new classes by combining existing classes without modifying them.\n",
        "    \n",
        "2. Reusability\n",
        "\n",
        "    1.Composed objects can be reused in different contexts without affecting other parts of the program.\n",
        "\n",
        "    2.This enhances the reusability of your code and makes it easier to maintain.\n",
        "\n",
        "3. Reduced Coupling\n",
        "\n",
        "    1.Composition creates a looser coupling between classes compared to inheritance.\n",
        "\n",
        "    2.Changes in one class have less impact on other classes, improving code maintainability and reducing the risk of unintended consequences."
      ],
      "metadata": {
        "id": "IXFzWwb-AwAz"
      }
    },
    {
      "cell_type": "markdown",
      "source": [
        "5. How can you implement composition in Python classes? Provide examples of using composition to create\n",
        "complex objects."
      ],
      "metadata": {
        "id": "oos_aZtNHyAw"
      }
    },
    {
      "cell_type": "markdown",
      "source": [
        "1.Define the Simpler Classes\n",
        "\n",
        "2.Initialize Objects\n",
        "\n",
        "3.Create the Composed Class\n",
        "\n",
        "4.Initialize the Composed Class"
      ],
      "metadata": {
        "id": "nLJRKtIwBayr"
      }
    },
    {
      "cell_type": "code",
      "source": [
        "class Engine:\n",
        "    def __init__(self, cylinders, fuel_type):\n",
        "        self.cylinders = cylinders\n",
        "        self.fuel_type = fuel_type\n",
        "\n",
        "class Car:\n",
        "    def __init__(self, make, model):\n",
        "        self.make = make\n",
        "        self.model = model\n",
        "        self.engine = Engine(4, 'gasoline')\n",
        "car = Car(\"Tesla\", \"Model S\")\n",
        "\n",
        "print(car.engine.cylinders)\n",
        "print(car.engine.fuel_type)"
      ],
      "metadata": {
        "colab": {
          "base_uri": "https://localhost:8080/"
        },
        "id": "FQ7tSEcLBmPP",
        "outputId": "238d0ed3-8a0a-4d52-e368-5123cec38afc"
      },
      "execution_count": 108,
      "outputs": [
        {
          "output_type": "stream",
          "name": "stdout",
          "text": [
            "4\n",
            "gasoline\n"
          ]
        }
      ]
    },
    {
      "cell_type": "markdown",
      "source": [
        "6. Create a Python class hierarchy for a music player system, using composition to represent playlists and\n",
        "songs."
      ],
      "metadata": {
        "id": "K0BpYfZuHx9o"
      }
    },
    {
      "cell_type": "code",
      "source": [
        "class Song:\n",
        "    def __init__(self, title, artist):\n",
        "        self.title = title\n",
        "        self.artist = artist\n",
        "\n",
        "class Playlist:\n",
        "    def __init__(self, name):\n",
        "        self.name = name\n",
        "        self.songs = []\n",
        "\n",
        "    def add_song(self, song):\n",
        "        self.songs.append(song)\n",
        "\n",
        "class MusicPlayer:\n",
        "    def __init__(self):\n",
        "        self.playlists = []\n",
        "\n",
        "    def add_playlist(self, playlist):\n",
        "        self.playlists.append(playlist)\n",
        "\n",
        "    def play_song(self, song):\n",
        "        print(f'Playing song: {song.title} by {song.artist}')\n",
        "\n",
        "    def play_playlist(self, playlist):\n",
        "        for song in playlist.songs:\n",
        "            self.play_song(song)\n"
      ],
      "metadata": {
        "id": "ZchWd2PQB2Gy"
      },
      "execution_count": 109,
      "outputs": []
    },
    {
      "cell_type": "markdown",
      "source": [
        "7. Explain the concept of \"has-a\" relationships in composition and how it helps design software systems"
      ],
      "metadata": {
        "id": "JgCjMDGAHx7C"
      }
    },
    {
      "cell_type": "markdown",
      "source": [
        "\n",
        "In composition, a \"has-a\" relationship exists when one object contains or utilizes another object as a component. This relationship models the situation where an object is composed of other objects.\n",
        "\n",
        "Modularity,\n",
        "Encapsulation,\n",
        "Flexibility,\n",
        "Code Reusability."
      ],
      "metadata": {
        "id": "FT0Pef9CCD1w"
      }
    },
    {
      "cell_type": "markdown",
      "source": [
        "8. Create a Python class for a computer system, using composition to represent components like CPU, RAM,\n",
        "and storage devices."
      ],
      "metadata": {
        "id": "5P9X6JaaHx4D"
      }
    },
    {
      "cell_type": "code",
      "source": [
        "class CPU:\n",
        "    def __init__(self, cores, clock_speed):\n",
        "        self.cores = cores\n",
        "        self.clock_speed = clock_speed\n",
        "\n",
        "class RAM:\n",
        "    def __init__(self, capacity, speed):\n",
        "        self.capacity = capacity\n",
        "        self.speed = speed\n",
        "\n",
        "class Storage:\n",
        "    def __init__(self, type, capacity):\n",
        "        self.type = type\n",
        "        self.capacity = capacity\n",
        "\n",
        "class Computer:\n",
        "    def __init__(self, cpu, ram, storage):\n",
        "        self.cpu = cpu\n",
        "        self.ram = ram\n",
        "        self.storage = storage\n",
        "\n",
        "    def get_specs(self):\n",
        "        print(f\"CPU: {self.cpu.cores} cores, {self.cpu.clock_speed} GHz\")\n",
        "        print(f\"RAM: {self.ram.capacity} GB, {self.ram.speed} MHz\")\n",
        "        print(f\"Storage: {self.storage.type}, {self.storage.capacity} GB\")"
      ],
      "metadata": {
        "id": "xrErPFTFCcYW"
      },
      "execution_count": 110,
      "outputs": []
    },
    {
      "cell_type": "markdown",
      "source": [
        "9. Describe the concept of \"delegation\" in composition and how it simplifies the design of complex systems."
      ],
      "metadata": {
        "id": "ScNq-LcgHx1D"
      }
    },
    {
      "cell_type": "markdown",
      "source": [
        "1. Delegation in Composition:\n",
        "\n",
        "    Delegation in composition is a technique where an object (the delegator) forwards certain responsibilities to another object (the delegate). This simplifies the design of complex systems by separating the core functionality from the details of implementation.\n",
        "    \n",
        "Improved Modularity\n",
        "\n",
        "Code Reusability\n",
        "\n",
        "Reduced Complexity\n",
        "\n"
      ],
      "metadata": {
        "id": "7yuWYx9TCv4E"
      }
    },
    {
      "cell_type": "markdown",
      "source": [
        "10. Create a Python class for a car, using composition to represent components like the engine, wheels, and\n",
        "transmission."
      ],
      "metadata": {
        "id": "xa5YrWHqHxxz"
      }
    },
    {
      "cell_type": "code",
      "source": [
        "class Engine:\n",
        "    def __init__(self, cylinders, horsepower):\n",
        "        self.cylinders = cylinders\n",
        "        self.horsepower = horsepower\n",
        "\n",
        "class Wheel:\n",
        "    def __init__(self, diameter, width):\n",
        "        self.diameter = diameter\n",
        "        self.width = width\n",
        "\n",
        "class Transmission:\n",
        "    def __init__(self, gears):\n",
        "        self.gears = gears\n",
        "\n",
        "class Car:\n",
        "    def __init__(self, engine, wheels, transmission):\n",
        "        self.engine = engine\n",
        "        self.wheels = wheels\n",
        "        self.transmission = transmission\n",
        "\n",
        "    def get_specs(self):\n",
        "        print(f\"Engine: {self.engine.cylinders} cylinders, {self.engine.horsepower} HP\")\n",
        "        print(f\"Wheels: {len(self.wheels)} wheels, {self.wheels[0].diameter} inches\")\n",
        "        print(f\"Transmission: {self.transmission.gears} gears\")\n",
        "\n",
        "engine = Engine(4, 200)\n",
        "wheels = [Wheel(18, 8) for _ in range(4)]\n",
        "transmission = Transmission(5)\n",
        "\n",
        "car = Car(engine, wheels, transmission)\n",
        "\n",
        "car.get_specs()"
      ],
      "metadata": {
        "colab": {
          "base_uri": "https://localhost:8080/"
        },
        "id": "UI6PPbN3C98K",
        "outputId": "a9cda7c1-b664-4118-dc97-fda0e4a98ed3"
      },
      "execution_count": 111,
      "outputs": [
        {
          "output_type": "stream",
          "name": "stdout",
          "text": [
            "Engine: 4 cylinders, 200 HP\n",
            "Wheels: 4 wheels, 18 inches\n",
            "Transmission: 5 gears\n"
          ]
        }
      ]
    },
    {
      "cell_type": "markdown",
      "source": [
        "11. How can you encapsulate and hide the details of composed objects in Python classes to maintain\n",
        "abstraction?"
      ],
      "metadata": {
        "id": "g4E-5JNPHxtD"
      }
    },
    {
      "cell_type": "markdown",
      "source": [
        "1. Private Attributes\n",
        "\n",
        "    Declare the attributes of the composed objects as private using double underscores (__).\n",
        "    This prevents direct access to these attributes from outside the class.\n",
        "\n",
        "2. Getter and Setter Methods\n",
        "\n",
        "    Provide getter and setter methods to access and modify the private attributes of the composed objects.\n",
        "    These methods allow you to control the access and ensure data integrity\n",
        "\n",
        "3. Composition over Inheritance\n",
        "\n",
        "    Favor composition over inheritance to achieve encapsulation"
      ],
      "metadata": {
        "id": "QEs8TP9aDYWJ"
      }
    },
    {
      "cell_type": "markdown",
      "source": [
        "12. Create a Python class for a university course, using composition to represent students, instructors, and\n",
        "course materials"
      ],
      "metadata": {
        "id": "VyRYH80NHxqU"
      }
    },
    {
      "cell_type": "code",
      "source": [
        "class Student:\n",
        "    def __init__(self, name, student_id):\n",
        "        self.name = name\n",
        "        self.student_id = student_id\n",
        "\n",
        "class Instructor:\n",
        "    def __init__(self, name, employee_id):\n",
        "        self.name = name\n",
        "        self.employee_id = employee_id\n",
        "\n",
        "class CourseMaterial:\n",
        "    def __init__(self, title, author):\n",
        "        self.title = title\n",
        "        self.author = author\n",
        "\n",
        "class UniversityCourse:\n",
        "    def __init__(self, course_name, students, instructor, materials):\n",
        "        self.course_name = course_name\n",
        "        self.students = students\n",
        "        self.instructor = instructor\n",
        "        self.materials = materials\n",
        "\n",
        "    def get_info(self):\n",
        "        print(f\"Course Name: {self.course_name}\")\n",
        "        print(\"Students:\")\n",
        "        for student in self.students:\n",
        "            print(f\"- {student.name} ({student.student_id})\")\n",
        "        print(f\"Instructor: {self.instructor.name} ({self.instructor.employee_id})\")\n",
        "        print(\"Course Materials:\")\n",
        "        for material in self.materials:\n",
        "            print(f\"- {material.title} by {material.author}\")"
      ],
      "metadata": {
        "id": "MtRLkthuD3Ii"
      },
      "execution_count": 112,
      "outputs": []
    },
    {
      "cell_type": "markdown",
      "source": [
        "13. Discuss the challenges and drawbacks of composition, such as increased complexity and potential for\n",
        "tight coupling between objects."
      ],
      "metadata": {
        "id": "j3awtLtfHxn5"
      }
    },
    {
      "cell_type": "markdown",
      "source": [
        "1. Increased Complexity:\n",
        "\n",
        "    Composing objects can lead to more complex class structures, especially when dealing with deeply nested objects.\n",
        "    Managing the relationships and interactions between composed objects can become challenging.\n",
        "\n",
        "2. Potential for Tight Coupling:\n",
        "\n",
        "    When objects are tightly coupled, changes in one object can have unintended consequences in other objects.\n",
        "    This can make it difficult to modify or reuse composed objects independently.\n",
        "\n",
        "3. Difficulty in Debugging\n",
        "\n",
        "    Debugging complex compositions can be challenging due to the interconnectedness of objects.\n",
        "    It can be difficult to isolate the source of an issue when multiple objects are involved.\n",
        "\n",
        "4. Performance Overhead\n",
        "\n",
        "    Composing many objects can introduce performance overhead, especially when accessing attributes or methods of deeply nested objects.\n",
        "\n",
        "5. Memory Consumption:\n",
        "\n",
        "    Creating and maintaining multiple objects can consume more memory compared to using a single, monolithic class."
      ],
      "metadata": {
        "id": "nDfHg3RTT3x3"
      }
    },
    {
      "cell_type": "markdown",
      "source": [
        "14. Create a Python class hierarchy for a restaurant system, using composition to represent menus, dishes,\n",
        "and ingredients."
      ],
      "metadata": {
        "id": "BtBJbJvKHxlD"
      }
    },
    {
      "cell_type": "code",
      "source": [
        "class Ingredient:\n",
        "    def __init__(self, name, quantity):\n",
        "        self.name = name\n",
        "        self.quantity = quantity\n",
        "\n",
        "class Dish:\n",
        "    def __init__(self, name, ingredients):\n",
        "        self.name = name\n",
        "        self.ingredients = ingredients\n",
        "\n",
        "    def get_ingredients(self):\n",
        "        return \", \".join([ingredient.name for ingredient in self.ingredients])\n",
        "\n",
        "class Menu:\n",
        "    def __init__(self, name, dishes):\n",
        "        self.name = name\n",
        "        self.dishes = dishes\n",
        "\n",
        "    def get_dish_names(self):\n",
        "        return \", \".join([dish.name for dish in self.dishes])\n",
        "\n",
        "class Restaurant:\n",
        "    def __init__(self, name, menus):\n",
        "        self.name = name\n",
        "        self.menus = menus\n",
        "\n",
        "    def get_menu_names(self):\n",
        "        return \", \".join([menu.name for menu in self.menus])\n",
        "\n",
        "    def get_all_dishes(self):\n",
        "        all_dishes = []\n",
        "        for menu in self.menus:\n",
        "            all_dishes.extend(menu.dishes)\n",
        "        return all_dishes\n",
        "\n",
        "ingredient1 = Ingredient(\"Chicken\", 100)\n",
        "ingredient2 = Ingredient(\"Rice\", 50)\n",
        "\n",
        "dish1 = Dish(\"Fried Chicken\", [ingredient1])\n",
        "dish2 = Dish(\"Chicken Biryani\", [ingredient1, ingredient2])\n",
        "\n",
        "menu1 = Menu(\"Lunch Menu\", [dish1, dish2])\n",
        "\n",
        "restaurant = Restaurant(\"ABC Restaurant\", [menu1])\n",
        "\n",
        "print(f\"Restaurant Name: {restaurant.name}\")\n",
        "print(f\"Menu Names: {restaurant.get_menu_names()}\")\n",
        "print(f\"All Dishes: {restaurant.get_all_dishes()[0].name}, {restaurant.get_all_dishes()[1].name}\")"
      ],
      "metadata": {
        "colab": {
          "base_uri": "https://localhost:8080/"
        },
        "id": "cryjlhBUUJaZ",
        "outputId": "f3a7880a-e6ea-4f60-f031-683421dcff28"
      },
      "execution_count": 113,
      "outputs": [
        {
          "output_type": "stream",
          "name": "stdout",
          "text": [
            "Restaurant Name: ABC Restaurant\n",
            "Menu Names: Lunch Menu\n",
            "All Dishes: Fried Chicken, Chicken Biryani\n"
          ]
        }
      ]
    },
    {
      "cell_type": "markdown",
      "source": [
        "15. Explain how composition enhances code maintainability and modularity in Python programs."
      ],
      "metadata": {
        "id": "oxC72DvnHw4V"
      }
    },
    {
      "cell_type": "markdown",
      "source": [
        "1. Modularity\n",
        "\n",
        "    Composition allows breaking down a complex program into smaller, independent modules.\n",
        "\n",
        "    Each module can be maintained and tested separately, improving overall maintainability.\n",
        "\n",
        "    Modules can be reused across different programs, reducing code duplication and increasing modularity.\n",
        "\n",
        "2. Encapsulation\n",
        "\n",
        "    Composition promotes encapsulation by allowing modules to hide their internal implementation details.\n",
        "\n",
        "    This makes it easier to modify or update a module without affecting other parts of the program.\n",
        "\n",
        "    Encapsulation also enhances security by restricting access to critical data and functions.\n",
        "\n",
        "\n",
        "3. Flexibility\n",
        "\n",
        "    Composition enables creating more flexible and adaptable programs.\n",
        "\n",
        "    Modules can be combined and recombined to create new functionalities or adapt to changing requirements.\n",
        "\n",
        "    This flexibility simplifies program maintenance and evolution over time.\n",
        "\n",
        "4. Code Reusability\n",
        "\n",
        "    By composing modules, you can reuse existing code and avoid rewriting similar functionalities.\n",
        "\n",
        "    This saves development time and reduces the risk of introducing bugs.\n",
        "\n",
        "    Code reusability also improves overall code quality and consistency."
      ],
      "metadata": {
        "id": "DU2szhYtUe9w"
      }
    },
    {
      "cell_type": "markdown",
      "source": [
        "16. Create a Python class for a computer game character, using composition to represent attributes like\n",
        "weapons, armor, and inventory."
      ],
      "metadata": {
        "id": "H_T7WtjPHw1M"
      }
    },
    {
      "cell_type": "code",
      "source": [
        "class Weapon:\n",
        "    def __init__(self, name, damage):\n",
        "        self.name = name\n",
        "        self.damage = damage\n",
        "\n",
        "class Armor:\n",
        "    def __init__(self, name, defense):\n",
        "        self.name = name\n",
        "        self.defense = defense\n",
        "\n",
        "class Inventory:\n",
        "    def __init__(self):\n",
        "        self.items = []\n",
        "\n",
        "    def add_item(self, item):\n",
        "        self.items.append(item)\n",
        "\n",
        "class GameCharacter:\n",
        "    def __init__(self, name):\n",
        "        self.name = name\n",
        "        self.weapon = None\n",
        "        self.armor = None\n",
        "        self.inventory = Inventory()\n",
        "\n",
        "    def equip_weapon(self, weapon):\n",
        "        self.weapon = weapon\n",
        "\n",
        "    def equip_armor(self, armor):\n",
        "        self.armor = armor\n",
        "\n",
        "    def add_item(self, item):\n",
        "        self.inventory.add_item(item)\n",
        "\n",
        "\n",
        "sword = Weapon(\"Excalibur\", 30)\n",
        "plate_armor = Armor(\"Plate Mail\", 15)\n",
        "\n",
        "character = GameCharacter(\"Arthur\")\n",
        "character.equip_weapon(sword)\n",
        "character.equip_armor(plate_armor)\n",
        "character.inventory.add_item(\"Healing Potion\")\n",
        "\n",
        "print(f\"{character.name} is equipped with {character.weapon.name} and {character.armor.name}.\")\n",
        "print(f\"{character.name}'s inventory: {character.inventory.items}\")"
      ],
      "metadata": {
        "colab": {
          "base_uri": "https://localhost:8080/"
        },
        "id": "94BGMp9dU5ny",
        "outputId": "c7eb3c87-c2bb-4899-8ac7-9c9e1a0359e0"
      },
      "execution_count": 114,
      "outputs": [
        {
          "output_type": "stream",
          "name": "stdout",
          "text": [
            "Arthur is equipped with Excalibur and Plate Mail.\n",
            "Arthur's inventory: ['Healing Potion']\n"
          ]
        }
      ]
    },
    {
      "cell_type": "markdown",
      "source": [
        "17. Describe the concept of \"aggregation\" in composition and how it differs from simple composition."
      ],
      "metadata": {
        "id": "Xh0IhuKhHwyT"
      }
    },
    {
      "cell_type": "markdown",
      "source": [
        "1. Aggregation\n",
        "\n",
        "    Aggregation is a form of composition where the composed objects (also called aggregates) maintain their own identity and lifecycle.\n",
        "\n",
        "    The containing object (also called composite) has a reference to the aggregates but does not own them.\n",
        "\n",
        "    Aggregates can exist independently of the composite object.\n",
        "\n",
        "2. Simple Composition\n",
        "\n",
        "    In simple composition, the composed objects (also called components) are essentially parts of the composite object.\n",
        "\n",
        "    The composite object owns the components and manages their lifecycle.\n",
        "\n",
        "    Components cannot exist independently of the composite object."
      ],
      "metadata": {
        "id": "qxsdHuDbVCMc"
      }
    },
    {
      "cell_type": "markdown",
      "source": [
        "18. Create a Python class for a house, using composition to represent rooms, furniture, and appliances."
      ],
      "metadata": {
        "id": "0VGx0zOcHwvJ"
      }
    },
    {
      "cell_type": "code",
      "source": [
        "class Room:\n",
        "    def __init__(self, name):\n",
        "        self.name = name\n",
        "        self.furniture = []\n",
        "        self.appliances = []\n",
        "\n",
        "class Furniture:\n",
        "    def __init__(self, name):\n",
        "        self.name = name\n",
        "\n",
        "class Appliance:\n",
        "    def __init__(self, name, power_consumption):\n",
        "        self.name = name\n",
        "        self.power_consumption = power_consumption\n",
        "\n",
        "class House:\n",
        "    def __init__(self, address):\n",
        "        self.address = address\n",
        "        self.rooms = []\n",
        "\n",
        "    def add_room(self, room):\n",
        "        self.rooms.append(room)\n",
        "\n",
        "living_room = Room(\"Living Room\")\n",
        "bedroom = Room(\"Bedroom\")\n",
        "kitchen = Room(\"Kitchen\")\n",
        "\n",
        "sofa = Furniture(\"Sofa\")\n",
        "bed = Furniture(\"Bed\")\n",
        "fridge = Appliance(\"Refrigerator\", 200)\n",
        "oven = Appliance(\"Oven\", 1500)\n",
        "\n",
        "living_room.furniture.append(sofa)\n",
        "bedroom.furniture.append(bed)\n",
        "kitchen.appliances.append(fridge)\n",
        "kitchen.appliances.append(oven)\n",
        "\n",
        "house = House(\"123 Main Street\")\n",
        "house.add_room(living_room)\n",
        "house.add_room(bedroom)\n",
        "house.add_room(kitchen)\n",
        "\n",
        "print(f\"House at {house.address} has {len(house.rooms)} rooms:\")\n",
        "for room in house.rooms:\n",
        "    print(f\"- {room.name}:\")\n",
        "    print(f\"  Furniture: {', '.join([f.name for f in room.furniture])}\")\n",
        "    print(f\"  Appliances: {', '.join([a.name for a in room.appliances])}\")"
      ],
      "metadata": {
        "colab": {
          "base_uri": "https://localhost:8080/"
        },
        "id": "hXUZqMNXVSRJ",
        "outputId": "41e85bae-6bc3-435c-a394-bd366a5e0172"
      },
      "execution_count": 115,
      "outputs": [
        {
          "output_type": "stream",
          "name": "stdout",
          "text": [
            "House at 123 Main Street has 3 rooms:\n",
            "- Living Room:\n",
            "  Furniture: Sofa\n",
            "  Appliances: \n",
            "- Bedroom:\n",
            "  Furniture: Bed\n",
            "  Appliances: \n",
            "- Kitchen:\n",
            "  Furniture: \n",
            "  Appliances: Refrigerator, Oven\n"
          ]
        }
      ]
    },
    {
      "cell_type": "markdown",
      "source": [
        "19. How can you achieve flexibility in composed objects by allowing them to be replaced or modified\n",
        "dynamically at runtime?"
      ],
      "metadata": {
        "id": "fE-4CYkLHwsT"
      }
    },
    {
      "cell_type": "markdown",
      "source": [
        "1. Dependency Injection\n",
        "\n",
        "    Dependency Injection involves passing dependencies (objects or services) into a class rather than having the class instantiate them itself.\n",
        "\n",
        "2. Strategy Pattern\n",
        "\n",
        "    The Strategy Pattern defines a family of algorithms, encapsulates each one, and makes them interchangeable.\n",
        "\n",
        "3. Factory Pattern\n",
        "\n",
        "    The Factory Pattern defines an interface for creating an object but lets subclasses alter the type of objects that will be created.  \n",
        "\n",
        "4. Observer Pattern\n",
        "\n",
        "    The Observer Pattern defines a one-to-many dependency between objects so that when one object changes state"
      ],
      "metadata": {
        "id": "we3Mtg-gV7rR"
      }
    },
    {
      "cell_type": "markdown",
      "source": [
        "20. Create a Python class for a social media application, using composition to represent users, posts, and\n",
        "comments."
      ],
      "metadata": {
        "id": "Blyn1pL8HwpU"
      }
    },
    {
      "cell_type": "code",
      "source": [
        "class User:\n",
        "    def __init__(self, username, email):\n",
        "        self.username = username\n",
        "        self.email = email\n",
        "        self.posts = []\n",
        "\n",
        "class Post:\n",
        "    def __init__(self, title, content, author):\n",
        "        self.title = title\n",
        "        self.content = content\n",
        "        self.author = author\n",
        "        self.comments = []\n",
        "\n",
        "class Comment:\n",
        "    def __init__(self, content, author):\n",
        "        self.content = content\n",
        "        self.author = author\n",
        "\n",
        "user1 = User(\"jaya bhaiya\", \"@example.com\")\n",
        "post1 = Post(\"My First Post\", \"This is my first post on this platform!\", user1)\n",
        "comment1 = Comment(\"Great post!\", user1)\n",
        "\n",
        "post1.comments.append(comment1)\n",
        "\n",
        "user1.posts.append(post1)"
      ],
      "metadata": {
        "id": "mTi70ev-Vn8J"
      },
      "execution_count": 116,
      "outputs": []
    }
  ],
  "metadata": {
    "colab": {
      "toc_visible": true,
      "provenance": []
    },
    "kernelspec": {
      "display_name": "Python 3",
      "name": "python3"
    }
  },
  "nbformat": 4,
  "nbformat_minor": 0
}