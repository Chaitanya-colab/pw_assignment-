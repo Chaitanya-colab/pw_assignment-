{
  "nbformat": 4,
  "nbformat_minor": 0,
  "metadata": {
    "colab": {
      "private_outputs": true,
      "provenance": []
    },
    "kernelspec": {
      "name": "python3",
      "display_name": "Python 3"
    },
    "language_info": {
      "name": "python"
    }
  },
  "cells": [
    {
      "cell_type": "markdown",
      "source": [
        "1. What is a Python library? Why do we use Python libraries?"
      ],
      "metadata": {
        "id": "wEWD0JIy54pm"
      }
    },
    {
      "cell_type": "code",
      "source": [
        "'''\n",
        "\n",
        "A library is like a toolbox. It holds a bunch of pre-written tools (code)\n",
        "that you can use to build things (your programs). Python libraries are collections\n",
        "of related code modules that you can import into your Python projects\n",
        "\n",
        "1. Save time and effort\n",
        "2. Improve code quality\n",
        "'''"
      ],
      "metadata": {
        "id": "oSlgNUm29U-9"
      },
      "execution_count": null,
      "outputs": []
    },
    {
      "cell_type": "markdown",
      "source": [
        "2. What is the difference between Numpy array and List?"
      ],
      "metadata": {
        "id": "opB5oD_L54mu"
      }
    },
    {
      "cell_type": "code",
      "source": [
        "\"\"\"\n",
        "1.  Data Type and Homogeneity\n",
        "\n",
        "    1.NumPy Arrays: These are homogeneous, meaning all elements\n",
        "        in the array must be of the same data type.\n",
        "    2.Python Lists: These are heterogeneous, meaning they can\n",
        "        contain elements of different data types.\n",
        "\n",
        "2.  FunctionalityNumPy:\n",
        "\n",
        "    1. Arrays: NumPy provides a wide range of mathematical functions\n",
        "        and operations that can be applied element-wise to arrays\n",
        "    2. Python Lists: Python lists do not have built-in support for\n",
        "        element-wise operations or multi-dimensional arrays.\n",
        "\n",
        "3.  Performance:\n",
        "\n",
        "    1. NumPy Arrays: NumPy arrays are generally faster and more efficient\n",
        "        for numerical computations due to their homogeneous nature and the\n",
        "        underlying implementation in C\n",
        "    2. Python Lists: Python lists are slower for numerical computations\n",
        "        because they are flexible and can store different types of data\n",
        "\"\"\""
      ],
      "metadata": {
        "id": "PG0NYU_vBU4w"
      },
      "execution_count": null,
      "outputs": []
    },
    {
      "cell_type": "markdown",
      "source": [
        "3. Find the shape, size and dimension of the following array?\n",
        "\n",
        "[[1, 2, 3, 4]\n",
        "\n",
        "[5, 6, 7, 8],\n",
        "\n",
        "[9, 10, 11, 12]]"
      ],
      "metadata": {
        "id": "BnpDPtvs54jm"
      }
    },
    {
      "cell_type": "code",
      "source": [
        "import numpy as np\n",
        "\n",
        "array = np.array([\n",
        "    [1,2,3,4],\n",
        "    [5,6,7,8],\n",
        "    [9,10,11,12]\n",
        "])\n",
        "shape = array.shape\n",
        "\n",
        "size = array.size\n",
        "\n",
        "dimension = array.ndim\n",
        "\n",
        "print(shape)\n",
        "print(size)\n",
        "print(dimension)"
      ],
      "metadata": {
        "id": "nQC9szLSDHZs"
      },
      "execution_count": null,
      "outputs": []
    },
    {
      "cell_type": "markdown",
      "source": [
        "4. Write python code to access the first row of the following array?\n",
        "\n",
        "[[1, 2, 3, 4]\n",
        "\n",
        "[5, 6, 7, 8],\n",
        "\n",
        "[9, 10, 11, 12]]\n"
      ],
      "metadata": {
        "id": "aGmx4Xz_54gu"
      }
    },
    {
      "cell_type": "code",
      "source": [
        "arr = np.array([[1, 2, 3, 4],\n",
        "                [5, 6, 7, 8],\n",
        "                [9, 10, 11, 12]])\n",
        "\n",
        "first_row = arr[0]\n",
        "\n",
        "print(first_row)"
      ],
      "metadata": {
        "id": "TEpupnhdDm4Y"
      },
      "execution_count": null,
      "outputs": []
    },
    {
      "cell_type": "markdown",
      "source": [
        "5. How ^o you access the element at the thir^ row an^ fourth column from the given numpy array?\n",
        "\n",
        "[[1, 2, 3, 4]\n",
        "\n",
        "[5, 6, 7, 8],\n",
        "\n",
        "[9, 10, 11, 12]]"
      ],
      "metadata": {
        "id": "5pCMoSuU54eF"
      }
    },
    {
      "cell_type": "code",
      "source": [
        "arr = np.array([[1, 2, 3, 4],\n",
        "                [5, 6, 7, 8],\n",
        "                [9, 10, 11, 12]])\n",
        "\n",
        "element = arr[2, 3]\n",
        "\n",
        "print(element)\n"
      ],
      "metadata": {
        "id": "Mp8UwIAhDu7g"
      },
      "execution_count": null,
      "outputs": []
    },
    {
      "cell_type": "markdown",
      "source": [
        "6. Write co^e to extract all o^^-in^exe^ elements from the given numpy array?\n",
        "\n",
        "[[1, 2, 3, 4]\n",
        "\n",
        "[5, 6, 7, 8],\n",
        "\n",
        "[9, 10, 11, 12]]"
      ],
      "metadata": {
        "id": "FLz1Xcbx54bt"
      }
    },
    {
      "cell_type": "code",
      "source": [
        "arr = np.array([[1, 2, 3, 4],\n",
        "                [5, 6, 7, 8],\n",
        "                [9, 10, 11, 12]])\n",
        "\n",
        "all_elements = arr\n",
        "print(all_elements)"
      ],
      "metadata": {
        "id": "TUgsEZ-rD1-4"
      },
      "execution_count": null,
      "outputs": []
    },
    {
      "cell_type": "markdown",
      "source": [
        "7. How can you generate a random 3x3 matrix with values between 0 and 1?"
      ],
      "metadata": {
        "id": "Co0YwvCp54Y_"
      }
    },
    {
      "cell_type": "code",
      "source": [
        "random_matrix = np.random.rand(3, 3)\n",
        "\n",
        "print(random_matrix)\n"
      ],
      "metadata": {
        "id": "0HnHDvmZEllY"
      },
      "execution_count": null,
      "outputs": []
    },
    {
      "cell_type": "markdown",
      "source": [
        "8. Describe the difference between np.random.ranan^ np.random.ran^n?"
      ],
      "metadata": {
        "id": "hkH32wxH54WO"
      }
    },
    {
      "cell_type": "code",
      "source": [
        "# generate 10 random numbers from a standard normal distribution\n",
        "randn_values = np.random.randn(10)\n",
        "\n",
        "# generate 10 random numbers from a uniform distribution\n",
        "rand_values = np.random.rand(10)\n",
        "\n",
        "print(randn_values)\n",
        "print(rand_values)"
      ],
      "metadata": {
        "id": "z2qbH9NbEphu"
      },
      "execution_count": null,
      "outputs": []
    },
    {
      "cell_type": "markdown",
      "source": [
        "9. Write co^e to increase the dimension of the following array?\n",
        "\n",
        "[[1, 2, 3, 4]\n",
        "\n",
        "[5, 6, 7, 8],\n",
        "\n",
        "[9, 10, 11, 12]]"
      ],
      "metadata": {
        "id": "fEy5sjJR54TN"
      }
    },
    {
      "cell_type": "code",
      "source": [
        "arr = np.array([[1, 2, 3, 4],\n",
        "                [5, 6, 7, 8],\n",
        "                [9, 10, 11, 12]])\n",
        "increased_dim_array = np.expand_dims(arr, axis=0)\n",
        "\n",
        "print(increased_dim_array.shape)\n",
        "print(increased_dim_array)\n"
      ],
      "metadata": {
        "id": "PkICjhdRE9hd"
      },
      "execution_count": null,
      "outputs": []
    },
    {
      "cell_type": "markdown",
      "source": [
        "10. How to transpose the following array in NumPy?\n",
        "\n",
        "[[1, 2, 3, 4]\n",
        "\n",
        "[5, 6, 7, 8],\n",
        "\n",
        "[9, 10, 11, 12]]"
      ],
      "metadata": {
        "id": "g2_ilLeN54QX"
      }
    },
    {
      "cell_type": "code",
      "source": [
        "arr = np.array([[1, 2, 3, 4],\n",
        "                [5, 6, 7, 8],\n",
        "                [9, 10, 11, 12]])\n",
        "\n",
        "transposed_arr = arr.T\n",
        "print(transposed_arr)\n"
      ],
      "metadata": {
        "id": "qdEve5Q_FOI_"
      },
      "execution_count": null,
      "outputs": []
    },
    {
      "cell_type": "markdown",
      "source": [
        "11. Consider the following matrix:\n",
        "\n",
        "Matrix A2 [[1, 2, 3, 4] [5, 6, 7, 8],[9, 10, 11, 12]]\n",
        "\n",
        "Matrix B2 [[1, 2, 3, 4] [5, 6, 7, 8],[9, 10, 11, 12]]"
      ],
      "metadata": {
        "id": "_hfPOX4S54Nl"
      }
    },
    {
      "cell_type": "code",
      "source": [
        "Matrix_A2 = [[1, 2, 3, 4],\n",
        "             [5, 6, 7, 8],\n",
        "             [9, 10, 11, 12]]\n",
        "\n",
        "Matrix_B2 = [[1, 2, 3, 4],\n",
        "             [5, 6, 7, 8],\n",
        "             [9, 10, 11, 12]]"
      ],
      "metadata": {
        "id": "eN3DTmyhK3wE"
      },
      "execution_count": null,
      "outputs": []
    },
    {
      "cell_type": "markdown",
      "source": [
        "# Perform the following operation using Python1:\n",
        "1. Index wise multiplication\n",
        "2. Matix multiplication\n",
        "3. Add both the matrics\n",
        "4. Subtact matix B form A\n",
        "5. Diide Matix B by A"
      ],
      "metadata": {
        "id": "6zJ6kanf54H-"
      }
    },
    {
      "cell_type": "markdown",
      "source": [
        "12. Which function in Numpy can be used to swap the byte order of an array?"
      ],
      "metadata": {
        "id": "wZ0naH9q54FQ"
      }
    },
    {
      "cell_type": "code",
      "source": [
        "import numpy as np\n",
        "A2 = np.array([[1, 2, 3, 4], [5, 6, 7, 8],[9,10, 11, 12]])\n",
        "B2 = np.array([[1, 2, 3, 4], [5, 6, 7, 8],[9,10, 11, 12]])\n",
        "\n",
        "A2_swapped = A2.byteswap()\n",
        "B2_swapped = B2.byteswap()\n",
        "\n",
        "print(A2)\n",
        "print(A2_swapped)\n",
        "print(B2)\n",
        "print(B2_swapped)"
      ],
      "metadata": {
        "id": "2hRksT0SF9Ln"
      },
      "execution_count": null,
      "outputs": []
    },
    {
      "cell_type": "markdown",
      "source": [
        "13. What is the significance of the np.linalg.inv function?"
      ],
      "metadata": {
        "id": "Emy-6JPz54Co"
      }
    },
    {
      "cell_type": "code",
      "source": [
        "\"\"\"\n",
        "He np.linalg.inv function in NumPy is crucial for solving systems of linear\n",
        "equations and performing various linear algebra operations.\n",
        "\"\"\"\n",
        "A = np.array([[1, 2], [3, 4]])\n",
        "print(A_inv)\n"
      ],
      "metadata": {
        "id": "Qwvc7gKbGIfA"
      },
      "execution_count": null,
      "outputs": []
    },
    {
      "cell_type": "markdown",
      "source": [
        "14. What ^oes the np.reshape function ^o, an^ how is it use^?"
      ],
      "metadata": {
        "id": "RBzJx3In53_k"
      }
    },
    {
      "cell_type": "code",
      "source": [
        "\"\"\"\n",
        "It allows you to change the arrangement of elements within\n",
        "an array without modifying the underlying data itself.\n",
        "\"\"\"\n",
        "arr = np.array([1, 2, 3, 4, 5, 6])\n",
        "print(arr.shape)\n",
        "reshaped_arr = np.reshape(arr, (2, 3))\n",
        "print(reshaped_arr.shape)\n",
        "print(reshaped_arr)"
      ],
      "metadata": {
        "id": "8aRupBE4JMU4"
      },
      "execution_count": null,
      "outputs": []
    },
    {
      "cell_type": "markdown",
      "source": [
        "15. What is broadcasting in Numpy?"
      ],
      "metadata": {
        "id": "samFSCnm7tSG"
      }
    },
    {
      "cell_type": "code",
      "source": [
        "\"\"\"\n",
        "Broadcasting in NumPy refers to a powerful mechanism that allows\n",
        "performing arithmetic operations on arrays of different shapes under certain conditions.\n",
        "\"\"\""
      ],
      "metadata": {
        "id": "zLblVsnbKMjA"
      },
      "execution_count": null,
      "outputs": []
    }
  ]
}