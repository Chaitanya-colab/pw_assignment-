{
  "nbformat": 4,
  "nbformat_minor": 0,
  "metadata": {
    "colab": {
      "private_outputs": true,
      "provenance": [],
      "toc_visible": true
    },
    "kernelspec": {
      "name": "python3",
      "display_name": "Python 3"
    },
    "language_info": {
      "name": "python"
    }
  },
  "cells": [
    {
      "cell_type": "markdown",
      "source": [
        "# Arrays\n"
      ],
      "metadata": {
        "id": "jNtqB2J0_1Do"
      }
    },
    {
      "cell_type": "markdown",
      "source": [
        "1. Given an array, check if it contains any duplicates or not.\n",
        "arr = [1, 2, 4, 2, 5, 9]\n",
        "Output = True"
      ],
      "metadata": {
        "id": "52b6hcZl-YQk"
      }
    },
    {
      "cell_type": "code",
      "source": [
        "def contains_duplicate(arr):\n",
        "  seen = set()\n",
        "  for num in arr:\n",
        "    if num in seen:\n",
        "      return True\n",
        "    seen.add(num)\n",
        "  return False\n",
        "\n",
        "arr = [1,2,4,2,5,9]\n",
        "print(contains_duplicate(arr))"
      ],
      "metadata": {
        "id": "fWZ1eVws-mxd"
      },
      "execution_count": null,
      "outputs": []
    },
    {
      "cell_type": "markdown",
      "source": [
        " 2. Given an array and an integer k, rotate the array to the right by k steps.\n",
        "arr = [1, 2, 3, 4, 5, 6, 7] k = 3\n",
        "Output = [5, 6, 7, 1, 2, 3, 4]"
      ],
      "metadata": {
        "id": "ec00kV_f-fJv"
      }
    },
    {
      "cell_type": "code",
      "source": [
        "def rotate_array(arr, k):\n",
        "    n = len(arr)\n",
        "    k = k % n\n",
        "\n",
        "    arr.reverse()\n",
        "    arr[:k] = reversed(arr[:k])\n",
        "\n",
        "    arr[k:] = reversed(arr[k:])\n",
        "\n",
        "    return arr\n",
        "\n",
        "arr = [1, 2, 3, 4, 5, 6, 7]\n",
        "k = 3\n",
        "rotated_arr = rotate_array(arr, k)\n",
        "print(rotated_arr)"
      ],
      "metadata": {
        "id": "A5kxKpjj-6K6"
      },
      "execution_count": null,
      "outputs": []
    },
    {
      "cell_type": "markdown",
      "source": [
        "3. Reverse the given array in-place, means without using any extra data structure.\n",
        "arr = [2, 4, 5, 7, 9, 12]\n",
        "Output = [12, 9, 7, 5, 4, 2]"
      ],
      "metadata": {
        "id": "Kr5Oqi1G-hmn"
      }
    },
    {
      "cell_type": "code",
      "source": [
        "def reverse_arr(arr):\n",
        "    left = 0\n",
        "    right = len(arr) - 1\n",
        "\n",
        "    while left < right:\n",
        "\n",
        "        arr[left], arr[right] = arr[right], arr[left]\n",
        "\n",
        "        left += 1\n",
        "        right -= 1\n",
        "\n",
        "    return arr\n",
        "\n",
        "arr = [2,4,5,7,9,12]\n",
        "reversed_arr = reverse_arr(arr)\n",
        "print(reversed_arr)"
      ],
      "metadata": {
        "id": "HXozM0NL_TK1"
      },
      "execution_count": null,
      "outputs": []
    },
    {
      "cell_type": "markdown",
      "source": [
        "4. Given an array of integers, find the maximum element in an array\n",
        "arr = [10, 5, 20, 8, 15]\n",
        "Output = 20"
      ],
      "metadata": {
        "id": "vC3rEANA-j8f"
      }
    },
    {
      "cell_type": "code",
      "source": [
        "def find_maximum(arr):\n",
        "    if len(arr) == 0:\n",
        "        raise ValueError(\"Array is empty\")\n",
        "\n",
        "    max_element = arr[0]\n",
        "\n",
        "    for num in arr:\n",
        "        if num > max_element:\n",
        "            max_element = num\n",
        "\n",
        "    return max_element\n",
        "\n",
        "arr = [10, 5, 20, 8, 15]\n",
        "max_element = find_maximum(arr)\n",
        "print(max_element)"
      ],
      "metadata": {
        "id": "i_n5KcQY_bnH"
      },
      "execution_count": null,
      "outputs": []
    },
    {
      "cell_type": "markdown",
      "source": [
        "5. Given a sorted array, remove the duplicate element without using any extra data structure.\n",
        "arr = [1, 1, 2, 2, 2, 3, 3, 4, 4, 4, 5, 5]\n",
        "Output = [1, 2, 3, 4, 5]"
      ],
      "metadata": {
        "id": "-ocuc3p_-jgr"
      }
    },
    {
      "cell_type": "code",
      "source": [
        "def remove_duplicates(arr):\n",
        "    if len(arr) == 0:\n",
        "        return arr\n",
        "\n",
        "    unique_index = 0\n",
        "\n",
        "    for i in range(1, len(arr)):\n",
        "        if arr[i] != arr[unique_index]:\n",
        "            unique_index += 1\n",
        "            arr[unique_index] = arr[i]\n",
        "        return arr[:unique_index + 1]\n",
        "\n",
        "arr = [1, 1, 2, 2, 2, 3, 3, 4, 4, 4, 5, 5]\n",
        "unique_arr = remove_duplicates(arr)\n",
        "print(unique_arr)"
      ],
      "metadata": {
        "id": "T0L_RA44_nfJ"
      },
      "execution_count": null,
      "outputs": []
    }
  ]
}