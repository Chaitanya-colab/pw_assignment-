{
  "cells": [
    {
      "cell_type": "markdown",
      "source": [
        "#Assignments Questions"
      ],
      "metadata": {
        "id": "ylb79CBged5U"
      }
    },
    {
      "cell_type": "markdown",
      "source": [
        "Q.1 Can you explain the logic and working of the Tower of Hanoi algorithm by writing a python program?\n",
        "How does the recursion work, and how are the movements of disks between rods accomplished?"
      ],
      "metadata": {
        "id": "CoUHPTxCehen"
      }
    },
    {
      "cell_type": "code",
      "source": [
        "def tower_of_hanoi(n,source,destination,auxiliary):\n",
        "  if n == 1:\n",
        "    #base case move the only disk from source to destination\n",
        "    print(f\"move disk 1 from {source} to {destination}\")\n",
        "  else:\n",
        "    # move n-1 disks from source to auxiliary using destination as auxiliary\n",
        "    tower_of_hanoi(n-1, source,auxiliary,destination)\n",
        "    # move the largest disk from source to destination\n",
        "    print(f\"Move disk {n} from {source} to {destination}\")\n",
        "    # move n-1 disks from auxiliary to destination using source as auxiliary\n",
        "    tower_of_hanoi(n - 1,auxiliary,destination,source)\n",
        "\n",
        "num = 3\n",
        "tower_of_hanoi(num,'A','C','B')\n",
        "\n",
        "# Recursion in the context of the Tower of Hanoi problem is a\n",
        "# technique where a function calls itself in order to break\n",
        "# down aproblem into smaller, more manageable subproblems\n",
        "\n",
        "# 1. Only one disk can be moved at a time.\n",
        "# 2. Each move consists of taking the top disk from one stack and placing it onto another stack.\n",
        "# 3. No disk may be placed on top of a smaller disk.\n",
        "# 4. Move n-1 disks from the source rod to the auxiliary rod, using the destination rod as a temporary storage.\n",
        "# 5. Move the nth disk from the source rod to the destination rod.\n",
        "# 6. Move the n-1 disks from the auxiliary rod to the destination rod, using the source rod as a temporary storage.\n",
        "\n",
        "\n",
        "# The base case of the recursion is when there is only one\n",
        "# disk to move. In this case, you simply move the disk directly\n",
        "# from the source rod to the destination rod\n"
      ],
      "metadata": {
        "id": "L5c2kt2qeghk",
        "colab": {
          "base_uri": "https://localhost:8080/"
        },
        "outputId": "c76cf050-60aa-4a8c-d089-267629a4b6c8"
      },
      "execution_count": 17,
      "outputs": [
        {
          "output_type": "stream",
          "name": "stdout",
          "text": [
            "move disk 1 from A to C\n",
            "Move disk 2 from A to B\n",
            "move disk 1 from C to B\n",
            "Move disk 3 from A to C\n",
            "move disk 1 from B to A\n",
            "Move disk 2 from B to C\n",
            "move disk 1 from A to C\n"
          ]
        }
      ]
    },
    {
      "cell_type": "markdown",
      "source": [
        "Q.2 Given two strings word1 and word2, return the minimum number of operations required to convert word1\n",
        "to word2.\n"
      ],
      "metadata": {
        "id": "QHWUbtgskMfg"
      }
    },
    {
      "cell_type": "code",
      "source": [
        "def minDistance(word1:str, word2:str):\n",
        "\n",
        "  m=len(word1)\n",
        "  n=len(word2)\n",
        "  dp =[[float('inf')]* (n + 1) for _ in range(m+ 1)]\n",
        "\n",
        "  for i in range(m+ 1):\n",
        "    dp[i][0] = i\n",
        "  for j in range(n+ 1):\n",
        "    dp[0][j]= j\n",
        "\n",
        "  for i in range(1, m + 1):\n",
        "    for j in range(1, n + 1):\n",
        "      if word1[i - 1] == word2[j - 1]:\n",
        "        dp[i][j] = dp[i- 1][j - 1]\n",
        "      else:\n",
        "        dp[i][j] = min(dp[i- 1][j]+ 1,dp[i][j- 1]+ 1, dp[i- 1][j- 1]+ 1)\n",
        "\n",
        "  return dp[m][n]\n",
        "word1 =\"horse\"\n",
        "word2 =\"ros\"\n",
        "print(minDistance(word1,word2))\n",
        "\n",
        "word1 =\"intention\"\n",
        "word2 =\"execution\"\n",
        "print(minDistance(word1,word2))"
      ],
      "metadata": {
        "colab": {
          "base_uri": "https://localhost:8080/"
        },
        "id": "0M4X9o6akJxb",
        "outputId": "4ca79726-1ab2-4b0e-8498-7887edda4a4e"
      },
      "execution_count": 18,
      "outputs": [
        {
          "output_type": "stream",
          "name": "stdout",
          "text": [
            "3\n",
            "5\n"
          ]
        }
      ]
    },
    {
      "cell_type": "markdown",
      "source": [
        "Q.4 Find the sum of the values of the array [92, 23, 15, -20, 10]."
      ],
      "metadata": {
        "id": "YAw2ZPgEnLB2"
      }
    },
    {
      "cell_type": "code",
      "source": [
        "def sum_of_array(arr):\n",
        "  if len(arr) ==1:\n",
        "    return arr[0]\n",
        "  else:\n",
        "    return arr[0]+ sum_of_array(arr[1:])\n",
        "\n",
        "# sample array\n",
        "arr = [92,23,15,-20,10]\n",
        "\n",
        "# calculate the sum of the array elements using recursion\n",
        "sum = sum_of_array(arr)\n",
        "\n",
        "# print the sum\n",
        "print(sum)"
      ],
      "metadata": {
        "colab": {
          "base_uri": "https://localhost:8080/"
        },
        "id": "4JQZHLtFnCAR",
        "outputId": "a8a13bdb-4219-40a6-c154-c6e75dbcb351"
      },
      "execution_count": 19,
      "outputs": [
        {
          "output_type": "stream",
          "name": "stdout",
          "text": [
            "120\n"
          ]
        }
      ]
    },
    {
      "cell_type": "markdown",
      "source": [
        "Q.5 Given a number n. Print if it is an armstrong number or not.An armstrong number is a number if the sum of every digit in that number raised to the power of total digits in that number is equal to the number.\n",
        "\n"
      ],
      "metadata": {
        "id": "4nzo_scJnkGg"
      }
    },
    {
      "cell_type": "code",
      "source": [
        "def is_armstrong(num):\n",
        "  original_num = num\n",
        "  number_of_digits = len(str(num))\n",
        "\n",
        "  def calculate_sum(num):\n",
        "    if num == 0:\n",
        "      return 0\n",
        "    else:\n",
        "      return (num % 10) ** number_of_digits + calculate_sum(num // 10)\n",
        "\n",
        "  sum_of_digits = calculate_sum(num)\n",
        "  return sum_of_digits == original_num\n",
        "\n",
        "number1 = 153\n",
        "number2 = 134\n",
        "is_armstrong(number1)"
      ],
      "metadata": {
        "colab": {
          "base_uri": "https://localhost:8080/"
        },
        "id": "RM8t2RN_nsBM",
        "outputId": "7e043db0-7592-4d04-ecff-2e4556a58a5e"
      },
      "execution_count": 20,
      "outputs": [
        {
          "output_type": "execute_result",
          "data": {
            "text/plain": [
              "True"
            ]
          },
          "metadata": {},
          "execution_count": 20
        }
      ]
    },
    {
      "cell_type": "code",
      "source": [
        "is_armstrong(number2)"
      ],
      "metadata": {
        "colab": {
          "base_uri": "https://localhost:8080/"
        },
        "id": "jyaOD7fcoMR5",
        "outputId": "793f7695-a490-4073-d1a9-77319a44aad9"
      },
      "execution_count": 21,
      "outputs": [
        {
          "output_type": "execute_result",
          "data": {
            "text/plain": [
              "False"
            ]
          },
          "metadata": {},
          "execution_count": 21
        }
      ]
    }
  ],
  "metadata": {
    "colab": {
      "toc_visible": true,
      "provenance": []
    },
    "kernelspec": {
      "display_name": "Python 3",
      "name": "python3"
    }
  },
  "nbformat": 4,
  "nbformat_minor": 0
}