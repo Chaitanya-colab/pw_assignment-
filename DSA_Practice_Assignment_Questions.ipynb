{
  "nbformat": 4,
  "nbformat_minor": 0,
  "metadata": {
    "colab": {
      "private_outputs": true,
      "provenance": []
    },
    "kernelspec": {
      "name": "python3",
      "display_name": "Python 3"
    },
    "language_info": {
      "name": "python"
    }
  },
  "cells": [
    {
      "cell_type": "markdown",
      "source": [
        "1. Define a doubly linked list [ Will be done in the class ]\n",
        "\n"
      ],
      "metadata": {
        "id": "wjLHL1iR6VW-"
      }
    },
    {
      "cell_type": "code",
      "source": [
        "class Node:\n",
        "\n",
        "  def __init__(self,data):\n",
        "    self.data =data\n",
        "    self.next =None\n",
        "    self.prev =None\n",
        "\n",
        "class DoublyLinkedList:\n",
        "\n",
        "  def __init__(self):\n",
        "    self.head = None\n",
        "    self.tail = None\n",
        "\n",
        "  def insert_at_beginning(self, data):\n",
        "    new_node = Node(data)\n",
        "    if self.head is None:\n",
        "      self.head = self.tail = new_node\n",
        "    else:\n",
        "      new_node.next = self.head\n",
        "      self.head.prev = new_node\n",
        "      self.head = new_node\n",
        "\n",
        "  def insert_at_end(self, data):\n",
        "    new_node = Node(data)\n",
        "    if self.tail is None:\n",
        "      self.head = self.tail = new_node\n",
        "    else:\n",
        "      self.tail.next = new_node\n",
        "      new_node.prev = self.tail\n",
        "      self.tail = new_node\n",
        "\n",
        "  def display(self):\n",
        "    current = self.head\n",
        "    while current:\n",
        "      print(current.data, end=\"-\")\n",
        "      current = current.next\n",
        "    print(\"None\")\n",
        "\n",
        "my_list = DoublyLinkedList()\n",
        "my_list.insert_at_beginning(5)\n",
        "my_list.insert_at_end(10)\n",
        "my_list.insert_at_beginning(2)\n",
        "my_list.display()"
      ],
      "metadata": {
        "id": "ZAcS7OdeUh-S"
      },
      "execution_count": null,
      "outputs": []
    },
    {
      "cell_type": "markdown",
      "source": [
        "2. Write a function to reverse a linked list in-place"
      ],
      "metadata": {
        "id": "RvHxZKln6VUN"
      }
    },
    {
      "cell_type": "code",
      "source": [
        "class ListNode:\n",
        "    def __init__(self, val=0, next=None):\n",
        "        self.val = val\n",
        "        self.next = next\n",
        "\n",
        "class Solution:\n",
        "    def reverseList(self, head: ListNode) -> ListNode:\n",
        "        prev = None\n",
        "        curr = head\n",
        "        while curr:\n",
        "            nextTemp = curr.next\n",
        "            curr.next = prev\n",
        "            prev = curr\n",
        "            curr = nextTemp\n",
        "        return prev\n",
        "\n",
        "head = ListNode(1, ListNode(2, ListNode(3, ListNode(4, None))))\n",
        "solution = Solution()\n",
        "newHead = solution.reverseList(head)\n",
        "\n",
        "while newHead:\n",
        "  print(newHead.val, end=\" -> \")\n",
        "  newHead = newHead.next\n",
        "print(\"None\")\n"
      ],
      "metadata": {
        "id": "IuJIPIx5VJUY"
      },
      "execution_count": null,
      "outputs": []
    },
    {
      "cell_type": "markdown",
      "source": [
        "3. Detect cycle in a linked list"
      ],
      "metadata": {
        "id": "u6jRqJ1A6VQ0"
      }
    },
    {
      "cell_type": "code",
      "source": [
        "class ListNode:\n",
        "    def __init__(self, val=0, next=None):\n",
        "        self.val = val\n",
        "        self.next = next\n",
        "\n",
        "def hasCycle(head: ListNode) -> bool:\n",
        "\n",
        "  slow = head\n",
        "  fast = head\n",
        "  while fast and fast.next:\n",
        "    slow = slow.next\n",
        "    fast = fast.next.next\n",
        "    if slow == fast:\n",
        "      return True\n",
        "  return False\n",
        "\n",
        "head = ListNode(1, ListNode(2, ListNode(3, ListNode(1, None))))\n",
        "has_cycle = hasCycle(head)\n",
        "print(has_cycle)"
      ],
      "metadata": {
        "id": "PH7iUWU7VsDS"
      },
      "execution_count": null,
      "outputs": []
    },
    {
      "cell_type": "markdown",
      "source": [
        "4. Merge two sorted linked list into one\n",
        "\n",
        "1->3->5->6->null and 2->4->6->8->null should be merged to make 1->2->3->4->5->6->7->8"
      ],
      "metadata": {
        "id": "S36ycCba6VON"
      }
    },
    {
      "cell_type": "code",
      "source": [
        "class ListNode:\n",
        "  def __init__(self, val=0, next=None):\n",
        "    self.val = val\n",
        "    self.next = next\n",
        "\n",
        "def mergeTwoLists(list1: ListNode, list2: ListNode) -> ListNode:\n",
        "\n",
        "  dummy = ListNode()\n",
        "  tail = dummy\n",
        "\n",
        "  while list1 and list2:\n",
        "    if list1.val < list2.val:\n",
        "      tail.next = list1\n",
        "      list1 = list1.next\n",
        "    else:\n",
        "      tail.next = list2\n",
        "      list2 = list2.next\n",
        "    tail = tail.next\n",
        "\n",
        "  tail.next = list1 if list1 else list2\n",
        "\n",
        "  return dummy.next\n",
        "\n",
        "list1 = ListNode(1, ListNode(3, ListNode(5, None)))\n",
        "list2 = ListNode(2, ListNode(4, ListNode(6, None)))\n",
        "mergedList = mergeTwoLists(list1, list2)\n",
        "\n",
        "while mergedList:\n",
        "  print(mergedList.val, end=\" -> \")\n",
        "  mergedList = mergedList.next\n",
        "print(\"none\")"
      ],
      "metadata": {
        "id": "rkH_-b7FV9IT"
      },
      "execution_count": null,
      "outputs": []
    },
    {
      "cell_type": "markdown",
      "source": [
        "5. Write a function to remove nth node from the end in a linked list\n",
        "\n",
        "1->2->3->4->5->6, removing 2nd node from end will return 1->2->3->4->6"
      ],
      "metadata": {
        "id": "nmxmViOd6VKu"
      }
    },
    {
      "cell_type": "code",
      "source": [
        "class ListNode:\n",
        "    def __init__(self, val=0, next=None):\n",
        "        self.val = val\n",
        "        self.next = next\n",
        "\n",
        "def removeNthFromEnd(head: ListNode, n: int) -> ListNode:\n",
        "\n",
        "  dummy = ListNode(0)\n",
        "  dummy.next = head\n",
        "  fast = slow = dummy\n",
        "\n",
        "  for _ in range(n):\n",
        "    if fast.next is None:\n",
        "      return head\n",
        "    fast = fast.next\n",
        "\n",
        "  while fast.next:\n",
        "    fast = fast.next\n",
        "    slow = slow.next\n",
        "\n",
        "  slow.next = slow.next.next\n",
        "\n",
        "  return dummy.next\n",
        "\n",
        "head = ListNode(1, ListNode(2, ListNode(3, ListNode(4, ListNode(5, ListNode(6, None))))))\n",
        "n = 2\n",
        "newList = removeNthFromEnd(head, n)\n",
        "\n",
        "while newList:\n",
        "  print(newList.val, end=\" -> \")\n",
        "  newList = newList.next\n",
        "print(\"none\")\n"
      ],
      "metadata": {
        "id": "sxfwEPkXWN8I"
      },
      "execution_count": null,
      "outputs": []
    },
    {
      "cell_type": "markdown",
      "source": [
        "6. Remove duplicates from a sorted linked list\n",
        "\n",
        "1->2->3->3->4->4->4->5 should be changed to 1->2->3->4->5"
      ],
      "metadata": {
        "id": "YwQWhqOz6VHt"
      }
    },
    {
      "cell_type": "code",
      "source": [
        "class ListNode:\n",
        "    def __init__(self, val=0, next=None):\n",
        "        self.val = val\n",
        "        self.next = next\n",
        "\n",
        "def remove_duplicates(head: ListNode) -> ListNode:\n",
        "    current = head\n",
        "    while current and current.next:\n",
        "        if current.val == current.next.val:\n",
        "            current.next = current.next.next\n",
        "        else:\n",
        "            current = current.next\n",
        "    return head\n",
        "\n",
        "def print_list(node: ListNode):\n",
        "    while node:\n",
        "        print(node.val, end=\" -> \" if node.next else \"\")\n",
        "        node = node.next\n",
        "    print()\n",
        "\n",
        "head = ListNode(1, ListNode(2, ListNode(3, ListNode(3, ListNode(4, ListNode(4, ListNode(4, ListNode(5))))))))\n",
        "print(\"before\")\n",
        "print_list(head)\n",
        "\n",
        "head = remove_duplicates(head)\n",
        "print(\"after\")\n",
        "print_list(head)\n"
      ],
      "metadata": {
        "id": "LE2VrgZOWz9t"
      },
      "execution_count": null,
      "outputs": []
    },
    {
      "cell_type": "markdown",
      "source": [
        "7. Find the intersection of the two linked lists\n",
        "\n",
        "1->2->3->4->8->6->9  5->1->6->7 , intersection 1->6"
      ],
      "metadata": {
        "id": "W4KPHw0WTa6H"
      }
    },
    {
      "cell_type": "code",
      "source": [
        "class ListNode:\n",
        "    def __init__(self, val=0, next=None):\n",
        "        self.val = val\n",
        "        self.next = next\n",
        "\n",
        "def get_list_values(head: ListNode) -> list:\n",
        "    values = []\n",
        "    current = head\n",
        "    while current:\n",
        "        values.append(current.val)\n",
        "        current = current.next\n",
        "    return values\n",
        "\n",
        "def find_intersection(head1: ListNode, head2: ListNode) -> ListNode:\n",
        "    values1 = get_list_values(head1)\n",
        "    values2 = set(get_list_values(head2))\n",
        "    intersection_values = [val for val in values1 if val in values2]\n",
        "\n",
        "    dummy = ListNode()\n",
        "    current = dummy\n",
        "    for val in intersection_values:\n",
        "        current.next = ListNode(val)\n",
        "        current = current.next\n",
        "\n",
        "    return dummy.next\n",
        "\n",
        "def print_list(node: ListNode):\n",
        "    while node:\n",
        "        print(node.val, end=\" -> \" if node.next else \"\")\n",
        "        node = node.next\n",
        "    print()\n",
        "\n",
        "head1 = ListNode(1, ListNode(2, ListNode(3, ListNode(4, ListNode(8, ListNode(6, ListNode(9)))))))\n",
        "head2 = ListNode(5, ListNode(1, ListNode(6, ListNode(7))))\n",
        "\n",
        "print(\"List1\")\n",
        "print_list(head1)\n",
        "print(\"List2\")\n",
        "print_list(head2)\n",
        "\n",
        "intersection = find_intersection(head1, head2)\n",
        "print(\"intersection\")\n",
        "print_list(intersection)\n"
      ],
      "metadata": {
        "id": "4ZQr3WZAX_k5"
      },
      "execution_count": null,
      "outputs": []
    },
    {
      "cell_type": "markdown",
      "source": [
        "8. Rotate a linked list by k positions to the right\n",
        "\n",
        "1->2->3->4->8->6->9 , after rotating for 2 times becomes , 3->4->8->6->9->1->2"
      ],
      "metadata": {
        "id": "DxNk6wPs6VEz"
      }
    },
    {
      "cell_type": "code",
      "source": [
        "class ListNode:\n",
        "    def __init__(self, val=0, next=None):\n",
        "        self.val = val\n",
        "        self.next = next\n",
        "\n",
        "def rotate_right(head: ListNode, k: int) -> ListNode:\n",
        "    if not head or not head.next or k == 0:\n",
        "        return head\n",
        "\n",
        "    length = 1\n",
        "    current = head\n",
        "    while current.next:\n",
        "        current = current.next\n",
        "        length += 1\n",
        "\n",
        "    k = k % length\n",
        "    if k == 0:\n",
        "        return head\n",
        "\n",
        "    new_tail_pos = length - k - 1\n",
        "    new_tail = head\n",
        "    for _ in range(new_tail_pos):\n",
        "        new_tail = new_tail.next\n",
        "\n",
        "    new_head = new_tail.next\n",
        "    new_tail.next = None\n",
        "    current.next = head\n",
        "\n",
        "    return new_head\n",
        "\n",
        "def print_list(node: ListNode):\n",
        "    while node:\n",
        "        print(node.val, end=\" -> \" if node.next else \"\")\n",
        "        node = node.next\n",
        "    print()\n",
        "\n",
        "head = ListNode(1, ListNode(2, ListNode(3, ListNode(4, ListNode(8, ListNode(6, ListNode(9)))))))\n",
        "k = 2\n",
        "\n",
        "print(\"before\")\n",
        "print_list(head)\n",
        "\n",
        "rotated_head = rotate_right(head, k)\n",
        "print(f\"after{k} \")\n",
        "print_list(rotated_head)"
      ],
      "metadata": {
        "id": "hkqqn1mGYVHw"
      },
      "execution_count": null,
      "outputs": []
    },
    {
      "cell_type": "markdown",
      "source": [
        "9. Add Two Numbers Represented by LinkedLists:\n",
        "\n",
        "Given two non-empty linked lists representing two non-negative integers, where the digits are stored in reverse order, add the two numbers and return it as a linked list."
      ],
      "metadata": {
        "id": "pHt-lZI66VBt"
      }
    },
    {
      "cell_type": "code",
      "source": [
        "class ListNode:\n",
        "    def __init__(self, val=0, next=None):\n",
        "        self.val = val\n",
        "        self.next = next\n",
        "\n",
        "def add_two_numbers(l1: ListNode, l2: ListNode) -> ListNode:\n",
        "    dummy_head = ListNode(0)\n",
        "    current = dummy_head\n",
        "    carry = 0\n",
        "\n",
        "    while l1 or l2 or carry:\n",
        "        val1 = l1.val if l1 else 0\n",
        "        val2 = l2.val if l2 else 0\n",
        "        total = val1 + val2 + carry\n",
        "\n",
        "        carry = total // 10\n",
        "        total = total % 10\n",
        "\n",
        "        current.next = ListNode(total)\n",
        "        current = current.next\n",
        "\n",
        "        if l1:\n",
        "            l1 = l1.next\n",
        "        if l2:\n",
        "            l2 = l2.next\n",
        "\n",
        "    return dummy_head.next\n",
        "\n",
        "def create_linked_list(arr):\n",
        "    if not arr:\n",
        "        return None\n",
        "    head = ListNode(arr[0])\n",
        "    current = head\n",
        "    for num in arr[1:]:\n",
        "        current.next = ListNode(num)\n",
        "        current = current.next\n",
        "    return head\n",
        "\n",
        "def print_list(node: ListNode):\n",
        "    while node:\n",
        "        print(node.val, end=\" -> \" if node.next else \"\")\n",
        "        node = node.next\n",
        "    print()\n",
        "\n",
        "l1 = create_linked_list([2,4,3])\n",
        "l2 = create_linked_list([5,6,4])\n",
        "\n",
        "print(\"list1\")\n",
        "print_list(l1)\n",
        "print(\"list2\")\n",
        "print_list(l2)\n",
        "\n",
        "result = add_two_numbers(l1, l2)\n",
        "print(\"sum\")\n",
        "print_list(result)\n"
      ],
      "metadata": {
        "id": "BMLSkOT-Yq9Q"
      },
      "execution_count": null,
      "outputs": []
    },
    {
      "cell_type": "markdown",
      "source": [
        "10. Clone a Linked List with next and Random Pointer\n",
        "\n",
        "Given a linked list of size N where each node has two links: one pointer points to the next node and the second pointer points to any node in the list. The task is to create a clone of this linked list in O(N) time.\n",
        "\n",
        " *Note: The pointer pointing to the next node is ‘next‘ pointer and the one pointing to an arbitrary node is called ‘arbit’ pointer as it can point to any arbitrary node in the linked list.*"
      ],
      "metadata": {
        "id": "XL33yeUl6U-O"
      }
    },
    {
      "cell_type": "code",
      "source": [
        "class Node:\n",
        "    def __init__(self, val):\n",
        "        self.val = val\n",
        "        self.next = None\n",
        "        self.arbit = None\n",
        "\n",
        "def cloneLinkedList(head):\n",
        "    mp = {}\n",
        "    temp = head\n",
        "    nhead = Node(temp.val)\n",
        "    mp[temp] = nhead\n",
        "\n",
        "\n",
        "    while temp.next:\n",
        "        nhead.next = Node(temp.next.val)\n",
        "        temp = temp.next\n",
        "        nhead = nhead.next\n",
        "        mp[temp] = nhead\n",
        "\n",
        "    temp = head\n",
        "\n",
        "    while temp:\n",
        "        mp[temp].arbit = mp[temp.arbit]\n",
        "        temp = temp.next\n",
        "\n",
        "    return mp[head]\n",
        "\n",
        "def printList(head):\n",
        "    result = []\n",
        "    while head:\n",
        "        result.append(f\"{head.val}({head.arbit.val})\")\n",
        "        head = head.next\n",
        "    print(\" -> \".join(result))\n",
        "\n",
        "head = Node(1)\n",
        "head.next = Node(2)\n",
        "head.next.next = Node(3)\n",
        "head.next.next.next = Node(4)\n",
        "head.next.next.next.next = Node(5)\n",
        "head.arbit = head.next.next\n",
        "head.next.arbit = head\n",
        "head.next.next.arbit = head.next.next.next.next\n",
        "head.next.next.next.arbit = head.next.next\n",
        "head.next.next.next.next.arbit = head.next\n",
        "\n",
        "\n",
        "print(\"before \")\n",
        "printList(head)\n",
        "\n",
        "sol = cloneLinkedList(head)\n",
        "\n",
        "print(\"after\")\n",
        "printList(sol)"
      ],
      "metadata": {
        "id": "QHpkZqAuZMG6"
      },
      "execution_count": null,
      "outputs": []
    }
  ]
}