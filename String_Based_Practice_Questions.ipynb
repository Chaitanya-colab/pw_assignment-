{
  "nbformat": 4,
  "nbformat_minor": 0,
  "metadata": {
    "colab": {
      "private_outputs": true,
      "provenance": [],
      "toc_visible": true
    },
    "kernelspec": {
      "name": "python3",
      "display_name": "Python 3"
    },
    "language_info": {
      "name": "python"
    }
  },
  "cells": [
    {
      "cell_type": "markdown",
      "source": [
        "# String Based Assignment Problem:"
      ],
      "metadata": {
        "id": "X4_pPxKzkuXS"
      }
    },
    {
      "cell_type": "markdown",
      "source": [
        "1. Write a program to reverse a string."
      ],
      "metadata": {
        "id": "Yi6tUP9DYOV_"
      }
    },
    {
      "cell_type": "code",
      "execution_count": null,
      "metadata": {
        "id": "dQkuxan3XruH"
      },
      "outputs": [],
      "source": [
        "string = \"pw skills \"\n",
        "string= string[::-1]\n",
        "print(string)"
      ]
    },
    {
      "cell_type": "markdown",
      "source": [
        "2. Check if a string is a palindrome."
      ],
      "metadata": {
        "id": "HTJtaSuNZBvw"
      }
    },
    {
      "cell_type": "code",
      "source": [
        "string = \"titit\"\n",
        "if string == string[::-1]:\n",
        "    print(\"true\")\n",
        "else:\n",
        "    print(\"false\")"
      ],
      "metadata": {
        "id": "Wvocj0K-ZA9l"
      },
      "execution_count": null,
      "outputs": []
    },
    {
      "cell_type": "markdown",
      "source": [
        "3. Convert a string to uppercase."
      ],
      "metadata": {
        "id": "SY89VfI6apr8"
      }
    },
    {
      "cell_type": "code",
      "source": [
        "string = \"uperstring\"\n",
        "print(string.upper())"
      ],
      "metadata": {
        "id": "DAq1A9CPaW8l"
      },
      "execution_count": null,
      "outputs": []
    },
    {
      "cell_type": "markdown",
      "source": [
        "4. Convert a string to lowercase."
      ],
      "metadata": {
        "id": "_QnGSUmUa7Nz"
      }
    },
    {
      "cell_type": "code",
      "source": [
        "string = \"LOWERSTRING\"\n",
        "print(string.lower())"
      ],
      "metadata": {
        "id": "Xn_ncA4San3Z"
      },
      "execution_count": null,
      "outputs": []
    },
    {
      "cell_type": "markdown",
      "source": [
        "5. Count the number of vowels in a string."
      ],
      "metadata": {
        "id": "aRIITV8ca60e"
      }
    },
    {
      "cell_type": "code",
      "source": [
        "string = \"there are vowels in this string\"\n",
        "v= 'aeiouAEIOU'\n",
        "c= 0\n",
        "for char in string:\n",
        "    if char in v:\n",
        "        c += 1\n",
        "print(c)"
      ],
      "metadata": {
        "id": "lulssHa5bMQT"
      },
      "execution_count": null,
      "outputs": []
    },
    {
      "cell_type": "markdown",
      "source": [
        "6. Count the number of consonants in a string."
      ],
      "metadata": {
        "id": "89XgyYTpb_OG"
      }
    },
    {
      "cell_type": "code",
      "source": [
        "string = \"there are vowels in this string\"\n",
        "vowels = {'a', 'e', 'i', 'o', 'u'}\n",
        "c= 0\n",
        "for char in string:\n",
        "    if char.isalpha() and char.lower() not in vowels:\n",
        "        c += 1\n",
        "print(c)"
      ],
      "metadata": {
        "id": "MwEsiIL7b8Xx"
      },
      "execution_count": null,
      "outputs": []
    },
    {
      "cell_type": "markdown",
      "source": [
        "7. Remove all whitespaces from a string."
      ],
      "metadata": {
        "id": "rNUQwGr4c2Ox"
      }
    },
    {
      "cell_type": "code",
      "source": [
        "string = \"There is no space here\"\n",
        "print(string.replace(\" \", \"\"))"
      ],
      "metadata": {
        "id": "Oli5jnXXc9Vm"
      },
      "execution_count": null,
      "outputs": []
    },
    {
      "cell_type": "markdown",
      "source": [
        "8. Find the length of a string without using the `len()` function."
      ],
      "metadata": {
        "id": "__xnDrildPyq"
      }
    },
    {
      "cell_type": "code",
      "source": [
        "string= \"this is count of string\"\n",
        "c= 0\n",
        "for char in string:\n",
        "    c += 1\n",
        "print(c)"
      ],
      "metadata": {
        "id": "HqQcUedpdPHr"
      },
      "execution_count": null,
      "outputs": []
    },
    {
      "cell_type": "markdown",
      "source": [
        "9. Check if a string contains a specific word."
      ],
      "metadata": {
        "id": "tXJLlgeHdzZd"
      }
    },
    {
      "cell_type": "code",
      "source": [
        "s = \"Check if a string contains a specific word\"\n",
        "word = \"string\"\n",
        "print(word in s)"
      ],
      "metadata": {
        "id": "QMi-2GfDd2SR"
      },
      "execution_count": null,
      "outputs": []
    },
    {
      "cell_type": "markdown",
      "source": [
        "10. Replace a word in a string with another word."
      ],
      "metadata": {
        "id": "37wlO1bBfL8g"
      }
    },
    {
      "cell_type": "code",
      "source": [
        "string = \"this is original string\"\n",
        "old= \"this\"\n",
        "new= \"that was\"\n",
        "print(string.replace(old, new))"
      ],
      "metadata": {
        "id": "gbvxybwJfLR_"
      },
      "execution_count": null,
      "outputs": []
    },
    {
      "cell_type": "markdown",
      "source": [
        "11. Count the occurrences of a word in a string."
      ],
      "metadata": {
        "id": "xxZne_zegCQ1"
      }
    },
    {
      "cell_type": "code",
      "source": [
        "string=\"Count the occurrences of a word in a string\"\n",
        "word = \"a\"\n",
        "words = string.split()\n",
        "count = 0\n",
        "for w in words:\n",
        "    if w == word:\n",
        "        count += 1\n",
        "print(count)"
      ],
      "metadata": {
        "id": "4FtkFcDqgWnx"
      },
      "execution_count": null,
      "outputs": []
    },
    {
      "cell_type": "markdown",
      "source": [
        "12. Find the first occurrence of a word in a string."
      ],
      "metadata": {
        "id": "5ZeYwS4hhKAE"
      }
    },
    {
      "cell_type": "code",
      "source": [
        "string = 'Find the first occurrence of a word in a string.'\n",
        "word = \"of\"\n",
        "print(string.find(word))"
      ],
      "metadata": {
        "id": "aF8ccldqhNYf"
      },
      "execution_count": null,
      "outputs": []
    },
    {
      "cell_type": "markdown",
      "source": [
        "13. Find the last occurrence of a word in a string."
      ],
      "metadata": {
        "id": "DGMJ92g3iE8z"
      }
    },
    {
      "cell_type": "code",
      "source": [
        "string = \"Find the last occurrence of a word in a string\"\n",
        "word =  \"a\"\n",
        "print(string.rfind(word))"
      ],
      "metadata": {
        "id": "4AFIsXu3iEHk"
      },
      "execution_count": null,
      "outputs": []
    },
    {
      "cell_type": "markdown",
      "source": [
        "14. Split a string into a list of words."
      ],
      "metadata": {
        "id": "Zj-90PkfibCi"
      }
    },
    {
      "cell_type": "code",
      "source": [
        "string = \"This is split strings\"\n",
        "words= string.split()\n",
        "print(words)"
      ],
      "metadata": {
        "id": "fEmOkSQ8id20"
      },
      "execution_count": null,
      "outputs": []
    },
    {
      "cell_type": "markdown",
      "source": [
        "15. Join a list of words into a string."
      ],
      "metadata": {
        "id": "zucpr4sqipcH"
      }
    },
    {
      "cell_type": "code",
      "source": [
        "words= [\"This\",\"is\",\"with\",\"join\", \"function\"]\n",
        "string= \" \".join(words)\n",
        "print(string)"
      ],
      "metadata": {
        "id": "mkHHkMcvirc1"
      },
      "execution_count": null,
      "outputs": []
    },
    {
      "cell_type": "markdown",
      "source": [
        "16. Convert a string where words are separated by spaces to one where words\n",
        "are separated by underscores."
      ],
      "metadata": {
        "id": "HgXzcVoMjK43"
      }
    },
    {
      "cell_type": "code",
      "source": [
        "string= \"this was a string that was separated by space now in is separated by underscores\"\n",
        "string= string.replace(\" \", \"_\")\n",
        "print(string)"
      ],
      "metadata": {
        "id": "92QAnYZnjIuk"
      },
      "execution_count": null,
      "outputs": []
    },
    {
      "cell_type": "markdown",
      "source": [
        "17. Check if a string starts with a specific word or phrase."
      ],
      "metadata": {
        "id": "OmoIey3HjspF"
      }
    },
    {
      "cell_type": "code",
      "source": [
        "string = \"Check if a string starts with a specific word or phrase\"\n",
        "word = \"Check\"\n",
        "\n",
        "if string.startswith(word):\n",
        "    print(\"Ture\")\n",
        "else:\n",
        "    print(\"false\")"
      ],
      "metadata": {
        "id": "IqSeQkOVjzdp"
      },
      "execution_count": null,
      "outputs": []
    },
    {
      "cell_type": "markdown",
      "source": [
        "18. Check if a string ends with a specific word or phrase."
      ],
      "metadata": {
        "id": "t32sjnlDkjTP"
      }
    },
    {
      "cell_type": "code",
      "source": [
        "string = \"Check if a string ends with a specific word or phrase\"\n",
        "word = \"phrase\"\n",
        "\n",
        "if string.endswith(word):\n",
        "    print(\"Ture\")\n",
        "else:\n",
        "    print(\"false\")"
      ],
      "metadata": {
        "id": "duYf93ETkidU"
      },
      "execution_count": null,
      "outputs": []
    },
    {
      "cell_type": "markdown",
      "source": [
        "19. Convert a string to title case (e.g., \"hello world\" to \"Hello World\")."
      ],
      "metadata": {
        "id": "-EIrrwR2kiwH"
      }
    },
    {
      "cell_type": "code",
      "source": [
        "string = \"hello world\"\n",
        "string = string.title()\n",
        "print(string)"
      ],
      "metadata": {
        "id": "l9sneRgGlF-I"
      },
      "execution_count": null,
      "outputs": []
    },
    {
      "cell_type": "markdown",
      "source": [
        "20.Find the longest word in a string."
      ],
      "metadata": {
        "id": "BE-8tR5FlfL3"
      }
    },
    {
      "cell_type": "code",
      "source": [
        "string = \"Find the longest word in a string\"\n",
        "words = string.split()\n",
        "long1 = max(words, key=len)\n",
        "print(long1)"
      ],
      "metadata": {
        "id": "OlzdfuzElzZZ"
      },
      "execution_count": null,
      "outputs": []
    },
    {
      "cell_type": "markdown",
      "source": [
        "21. Find the shortest word in a string.\n"
      ],
      "metadata": {
        "id": "RdFp1PQlmLuq"
      }
    },
    {
      "cell_type": "code",
      "source": [
        "s ='Find the shortest word in a string'\n",
        "words = s.split()\n",
        "short = min(words, key=len)\n",
        "print(short)\n"
      ],
      "metadata": {
        "id": "zT_2rmp1mTKU"
      },
      "execution_count": null,
      "outputs": []
    },
    {
      "cell_type": "markdown",
      "source": [
        "22. Reverse the order of words in a string."
      ],
      "metadata": {
        "id": "SSJg22sumToR"
      }
    },
    {
      "cell_type": "code",
      "source": [
        "string = \"Reverse the order of words in a string\"\n",
        "words = s.split()\n",
        "reversed= words[::-1]\n",
        "reversed= ' '.join(reversed)\n",
        "print(reversed)"
      ],
      "metadata": {
        "id": "wkDS39aCmmh0"
      },
      "execution_count": null,
      "outputs": []
    },
    {
      "cell_type": "markdown",
      "source": [
        "23. Check if a string is alphanumeric."
      ],
      "metadata": {
        "id": "PRNCxhXQnCoD"
      }
    },
    {
      "cell_type": "code",
      "source": [
        "string =\"Hello123\"\n",
        "print(string.isalnum())"
      ],
      "metadata": {
        "id": "c9N25qHfneDg"
      },
      "execution_count": null,
      "outputs": []
    },
    {
      "cell_type": "markdown",
      "source": [
        "24. Extract all digits from a string."
      ],
      "metadata": {
        "id": "2fpFyzz7nHyi"
      }
    },
    {
      "cell_type": "code",
      "source": [
        "string = \"as65dfs765dsd567s5d\"\n",
        "d = ''\n",
        "for char in string:\n",
        "    if char.isdigit():\n",
        "        d += char\n",
        "print(d)"
      ],
      "metadata": {
        "id": "2gxA11LcnelX"
      },
      "execution_count": null,
      "outputs": []
    },
    {
      "cell_type": "markdown",
      "source": [
        "25. Extract all alphabets from a string.\n"
      ],
      "metadata": {
        "id": "jekHfolwnJwK"
      }
    },
    {
      "cell_type": "code",
      "source": [
        "string = \"as65dfs765dsd567s5d\"\n",
        "a= ''\n",
        "for char in string:\n",
        "    if char.isalpha():\n",
        "        a += char\n",
        "print(a)"
      ],
      "metadata": {
        "id": "1A9jiyGJnfSs"
      },
      "execution_count": null,
      "outputs": []
    },
    {
      "cell_type": "markdown",
      "source": [
        "26. Count the number of uppercase letters in a string."
      ],
      "metadata": {
        "id": "6HMrarn9nMOm"
      }
    },
    {
      "cell_type": "code",
      "source": [
        "string =\"Count The Number Of Uppercase Letters In A String\"\n",
        "count = 0\n",
        "for char in string:\n",
        "    if char.isupper():\n",
        "        count += 1\n",
        "print(count)"
      ],
      "metadata": {
        "id": "RNxZ8DTCpTeP"
      },
      "execution_count": null,
      "outputs": []
    },
    {
      "cell_type": "markdown",
      "source": [
        "27. Count the number of lowercase letters in a string."
      ],
      "metadata": {
        "id": "R3bqJ7-CnOc-"
      }
    },
    {
      "cell_type": "code",
      "source": [
        "string =\"Count The Number Of Uppercase Letters In A String\"\n",
        "count = 0\n",
        "for char in string:\n",
        "    if char.islower():\n",
        "        count += 1\n",
        "print(count)"
      ],
      "metadata": {
        "id": "ttEXkIZ8pv3v"
      },
      "execution_count": null,
      "outputs": []
    },
    {
      "cell_type": "markdown",
      "source": [
        "28. Swap the case of each character in a string."
      ],
      "metadata": {
        "id": "hBHLHSPGnQVv"
      }
    },
    {
      "cell_type": "code",
      "source": [
        "string = \"Swap The Case Of Each Character in a String\"\n",
        "print(string.swapcase())"
      ],
      "metadata": {
        "id": "E-HM7VoQpzT_"
      },
      "execution_count": null,
      "outputs": []
    },
    {
      "cell_type": "markdown",
      "source": [
        "29. Remove a specific word from a string."
      ],
      "metadata": {
        "id": "Kdp7ZzAgnSdX"
      }
    },
    {
      "cell_type": "code",
      "source": [
        "string = \"Remove a specific word from a string\"\n",
        "word = \"word\"\n",
        "string =string.replace(word, \"\")\n",
        "print(string)"
      ],
      "metadata": {
        "id": "FJRE2j-Eq0fN"
      },
      "execution_count": null,
      "outputs": []
    },
    {
      "cell_type": "markdown",
      "source": [
        "30. Check if a string is a valid email address."
      ],
      "metadata": {
        "id": "RkwZuLOznUQG"
      }
    },
    {
      "cell_type": "code",
      "source": [
        "email = \"chaitanyanimbalkar804@gmail.com\"\n",
        "if \"@\" not in email:\n",
        "    print(\"false\")\n",
        "user, d = email.split(\"@\", maxsplit=1)\n",
        "if not user:\n",
        "    print(\"false\")\n",
        "if \".\" not in d:\n",
        "    print(\"false\")\n",
        "print(\"It is valid email address\")"
      ],
      "metadata": {
        "id": "PJqm0pJXrSru"
      },
      "execution_count": null,
      "outputs": []
    },
    {
      "cell_type": "markdown",
      "source": [
        "31. Extract the username from an email address string."
      ],
      "metadata": {
        "id": "hhWPyzOqnWyB"
      }
    },
    {
      "cell_type": "code",
      "source": [
        "email = \"chaitanyanimbalkar804@gmail.com\"\n",
        "user= email.split(\"@\")[0]\n",
        "print(user)"
      ],
      "metadata": {
        "id": "aOuR-hIns0gt"
      },
      "execution_count": null,
      "outputs": []
    },
    {
      "cell_type": "markdown",
      "source": [
        "32. Extract the domain name from an email address string."
      ],
      "metadata": {
        "id": "98DEM-YsnYq3"
      }
    },
    {
      "cell_type": "code",
      "source": [
        "email = \"example@email.com\"\n",
        "d = email.split('@')[1]\n",
        "print(d)"
      ],
      "metadata": {
        "id": "Ytw6YEVitCKb"
      },
      "execution_count": null,
      "outputs": []
    },
    {
      "cell_type": "markdown",
      "source": [
        "33. Replace multiple spaces in a string with a single space."
      ],
      "metadata": {
        "id": "8wFCKSZEna8Y"
      }
    },
    {
      "cell_type": "code",
      "source": [
        "string = \"Replace  multiple  spaces  in a  string  with  a single space\"\n",
        "print(string.replace(\"  \", \" \"))"
      ],
      "metadata": {
        "id": "TOvtGZMrtZzc"
      },
      "execution_count": null,
      "outputs": []
    },
    {
      "cell_type": "markdown",
      "source": [
        "34. Check if a string is a valid URL."
      ],
      "metadata": {
        "id": "acQdY3Sgnc21"
      }
    },
    {
      "cell_type": "code",
      "source": [
        "url = \"https://colab.research.google.com/\"\n",
        "if not url.startswith((\"http://\", \"https://\")):\n",
        "    print(\"false\")\n",
        "else:\n",
        "    print(\"ture\")"
      ],
      "metadata": {
        "id": "d2oWR-3DvbHL"
      },
      "execution_count": null,
      "outputs": []
    },
    {
      "cell_type": "markdown",
      "source": [
        "35. Extract the protocol (http or https) from a URL string."
      ],
      "metadata": {
        "id": "loawSTzct1vM"
      }
    },
    {
      "cell_type": "code",
      "source": [
        "url = \"https://colab.research.google.com/\"\n",
        "if not url.startswith((\"http://\", \"https://\")):\n",
        "    print()\n",
        "protocol = url.split(\"://\")[0]\n",
        "print(protocol)"
      ],
      "metadata": {
        "id": "Bj1mTyqyvzQ6"
      },
      "execution_count": null,
      "outputs": []
    },
    {
      "cell_type": "markdown",
      "source": [
        "36. Find the frequency of each character in a string."
      ],
      "metadata": {
        "id": "rN5uwukHt6hd"
      }
    },
    {
      "cell_type": "code",
      "source": [
        "string = \"find the frequency\"\n",
        "fq = {}\n",
        "for char in string:\n",
        "    if char in fq:\n",
        "        fq[char] += 1\n",
        "    else:\n",
        "        fq[char] = 1\n",
        "print(fq)"
      ],
      "metadata": {
        "id": "k0H0N4dcwuCB"
      },
      "execution_count": null,
      "outputs": []
    },
    {
      "cell_type": "markdown",
      "source": [
        "37. Remove all punctuation from a string."
      ],
      "metadata": {
        "id": "pTAfQ36st9DV"
      }
    },
    {
      "cell_type": "code",
      "source": [
        "string =\"*(&Re&*&mo&^ve (&^al*(&l &^*pun&^ctuation\"\n",
        "x= '''!()-[]{};:'\"<>./?@#$%^&*_~,/'''\n",
        "t = ''\n",
        "for char in string:\n",
        "    if char not in x:\n",
        "        t += char\n",
        "print(t)"
      ],
      "metadata": {
        "id": "G-fQcfpnx3W-"
      },
      "execution_count": null,
      "outputs": []
    },
    {
      "cell_type": "markdown",
      "source": [
        "38. Check if a string contains only digits."
      ],
      "metadata": {
        "id": "4ZoA4fpYt-Yy"
      }
    },
    {
      "cell_type": "code",
      "source": [
        "string = \"123456789\"\n",
        "if string.isdigit():\n",
        "    print(\"True\")\n",
        "else:\n",
        "    print(\"False\")"
      ],
      "metadata": {
        "id": "vNrX-kgZy_1P"
      },
      "execution_count": null,
      "outputs": []
    },
    {
      "cell_type": "markdown",
      "source": [
        "39. Check if a string contains only alphabets."
      ],
      "metadata": {
        "id": "L4L2SL3TuAOz"
      }
    },
    {
      "cell_type": "code",
      "source": [
        "string = \"pwskills\"\n",
        "if string.isalpha():\n",
        "    print(\"True\")\n",
        "else:\n",
        "    print(\"False\")"
      ],
      "metadata": {
        "id": "UI-333Y3zQQd"
      },
      "execution_count": null,
      "outputs": []
    },
    {
      "cell_type": "markdown",
      "source": [
        "40. Convert a string to a list of characters."
      ],
      "metadata": {
        "id": "5HTVuu75uCgu"
      }
    },
    {
      "cell_type": "code",
      "source": [
        "string = \"pwskills\"\n",
        "print(list(string))"
      ],
      "metadata": {
        "id": "l3Ij4KamzbE-"
      },
      "execution_count": null,
      "outputs": []
    },
    {
      "cell_type": "markdown",
      "source": [
        "41. Check if two strings are anagrams."
      ],
      "metadata": {
        "id": "9A9J3MGmuD8V"
      }
    },
    {
      "cell_type": "code",
      "source": [
        "string1 = \"listen\"\n",
        "string2 = \"silent\"\n",
        "print(sorted(string1) == sorted(string2))"
      ],
      "metadata": {
        "id": "bJOPWP0zz8dI"
      },
      "execution_count": null,
      "outputs": []
    },
    {
      "cell_type": "markdown",
      "source": [
        "42. Encode a string using a Caesar cipher."
      ],
      "metadata": {
        "id": "urEGedqZuHt7"
      }
    },
    {
      "cell_type": "code",
      "source": [
        "# Not understand this question try very hard"
      ],
      "metadata": {
        "id": "M1i6WCTy0rlT"
      },
      "execution_count": null,
      "outputs": []
    },
    {
      "cell_type": "markdown",
      "source": [
        "43. Decode a Caesar cipher encoded string."
      ],
      "metadata": {
        "id": "pfecuF1ruJEu"
      }
    },
    {
      "cell_type": "code",
      "source": [
        "# Not understand this question try very hard"
      ],
      "metadata": {
        "id": "AZLikoeD2fiE"
      },
      "execution_count": null,
      "outputs": []
    },
    {
      "cell_type": "markdown",
      "source": [
        "44. Find the most frequent word in a string."
      ],
      "metadata": {
        "id": "ipBplvP1uK0V"
      }
    },
    {
      "cell_type": "code",
      "source": [
        "string = \"Find the most frequent word in a string the the the\"\n",
        "words = string.split()\n",
        "most = max(words, key=words.count)\n",
        "print(most)"
      ],
      "metadata": {
        "id": "Av28vmgK2gyF"
      },
      "execution_count": null,
      "outputs": []
    },
    {
      "cell_type": "markdown",
      "source": [
        "45. Find all unique words in a string."
      ],
      "metadata": {
        "id": "_Zg7pqdJuMqz"
      }
    },
    {
      "cell_type": "code",
      "source": [
        "string =  \" all are unique all are unique \"\n",
        "words = string.split()\n",
        "word = set(words)\n",
        "print(word)"
      ],
      "metadata": {
        "id": "GWfMC3fJ4eNL"
      },
      "execution_count": null,
      "outputs": []
    },
    {
      "cell_type": "markdown",
      "source": [
        "46. Count the number of syllables in a string."
      ],
      "metadata": {
        "id": "nsJgktXyuOOF"
      }
    },
    {
      "cell_type": "code",
      "source": [],
      "metadata": {
        "id": "ctcoE0sw4x56"
      },
      "execution_count": null,
      "outputs": []
    },
    {
      "cell_type": "markdown",
      "source": [
        "47. Check if a string contains any special characters."
      ],
      "metadata": {
        "id": "biD_XnRmuQiH"
      }
    },
    {
      "cell_type": "code",
      "source": [
        "n = \"pw$skills\"\n",
        "n.split()\n",
        "c = 0\n",
        "s = '[@_!#$%^&*()<>?/\\|}{~:]'\n",
        "for i in range(len(n)):\n",
        "    if n[i] in s:\n",
        "        c += 1\n",
        "if c:\n",
        "    print(\"True\")\n",
        "else:\n",
        "    print(\"False\")"
      ],
      "metadata": {
        "id": "qUNv4vHX5xKK"
      },
      "execution_count": null,
      "outputs": []
    },
    {
      "cell_type": "markdown",
      "source": [
        "48. Remove the nth word from a string."
      ],
      "metadata": {
        "id": "mN0-HSj8uSJD"
      }
    },
    {
      "cell_type": "code",
      "source": [
        "string =\"Remove the nth word from a string\"\n",
        "nth = 3\n",
        "words = string.split()\n",
        "if nth <= len(words):\n",
        "    del words[nth - 1]\n",
        "    print(' '.join(words))\n",
        "else:\n",
        "    print(\"false\")"
      ],
      "metadata": {
        "id": "WYEME7f0a8zo"
      },
      "execution_count": null,
      "outputs": []
    },
    {
      "cell_type": "markdown",
      "source": [
        "49. Insert a word at the nth position in a string."
      ],
      "metadata": {
        "id": "TwG1k5eCuTob"
      }
    },
    {
      "cell_type": "code",
      "source": [
        "string='Insert a word at the position of the  string'\n",
        "word=\"nth\"\n",
        "nth=21\n",
        "print(string[:nth]+ word + string[nth:])"
      ],
      "metadata": {
        "id": "3E7ffaRlbv8f"
      },
      "execution_count": null,
      "outputs": []
    },
    {
      "cell_type": "markdown",
      "source": [
        "50. Convert a CSV string to a list of lists."
      ],
      "metadata": {
        "id": "m5DfVB58uVGa"
      }
    },
    {
      "cell_type": "code",
      "source": [
        "csv_string =\"Name,EmailAlice Smith,alice.smith@example.comBob Jones,bob.jones@company.comCharlie Brown,charlie.brown@mail.com\"\n",
        "lines = csv_string.split('\\n')\n",
        "result = []\n",
        "for line in lines:\n",
        "    if line:\n",
        "        result.append(line.split(','))\n",
        "print(result)"
      ],
      "metadata": {
        "id": "Uf4ilXR1d6oH"
      },
      "execution_count": null,
      "outputs": []
    },
    {
      "cell_type": "markdown",
      "source": [
        "# List Based Practice Problem:"
      ],
      "metadata": {
        "id": "1XjYOJoTeLeZ"
      }
    },
    {
      "cell_type": "markdown",
      "source": [
        "1. Create a list with integers from 1 to 10."
      ],
      "metadata": {
        "id": "mHgnAZ2-fOBu"
      }
    },
    {
      "cell_type": "code",
      "source": [
        "list_with_integers = 1, 2, 3, 4, 5, 6, 7, 8, 9, 10"
      ],
      "metadata": {
        "id": "N8qmFITXeRGa"
      },
      "execution_count": null,
      "outputs": []
    },
    {
      "cell_type": "markdown",
      "source": [
        "2. Find the length of a list without using the `len()` function."
      ],
      "metadata": {
        "id": "J3Sstp0Wflwt"
      }
    },
    {
      "cell_type": "code",
      "source": [
        "list_= [1, 2, 3, 4, 5]\n",
        "\n",
        "l = 0\n",
        "for i in list_:\n",
        "    l += 1\n",
        "print(l)"
      ],
      "metadata": {
        "id": "BoDwVvHqhZT6"
      },
      "execution_count": null,
      "outputs": []
    },
    {
      "cell_type": "markdown",
      "source": [
        "3. Append an element to the end of a list."
      ],
      "metadata": {
        "id": "dl9EkDmrfn4_"
      }
    },
    {
      "cell_type": "code",
      "source": [
        "list_ = [1,2,3,4,5]\n",
        "list_.append(6)\n",
        "print(list_)"
      ],
      "metadata": {
        "id": "DQS2ZQBOilFP"
      },
      "execution_count": null,
      "outputs": []
    },
    {
      "cell_type": "markdown",
      "source": [
        "4. Insert an element at a specific index in a list."
      ],
      "metadata": {
        "id": "o9ODKLbPfqyR"
      }
    },
    {
      "cell_type": "code",
      "source": [
        "_list = [1,3,4,5]\n",
        "new = 2\n",
        "_list.insert(1, new)\n",
        "print(_list)"
      ],
      "metadata": {
        "id": "GsJiqPnei6ZS"
      },
      "execution_count": null,
      "outputs": []
    },
    {
      "cell_type": "markdown",
      "source": [
        "5. Remove an element from a list by its value."
      ],
      "metadata": {
        "id": "y_EFhVmZfthH"
      }
    },
    {
      "cell_type": "code",
      "source": [
        "_list = [1, 2, 3, 4, 5]\n",
        "_list.remove(2)\n",
        "print(_list)"
      ],
      "metadata": {
        "id": "hqyMxJsFjogr"
      },
      "execution_count": null,
      "outputs": []
    },
    {
      "cell_type": "markdown",
      "source": [
        "6. Remove an element from a list by its index."
      ],
      "metadata": {
        "id": "CWy4M94Sfvsf"
      }
    },
    {
      "cell_type": "code",
      "source": [
        "_list = [5,4,3,2,1]\n",
        "element = _list.pop(2)\n",
        "print(_list)"
      ],
      "metadata": {
        "id": "1_Y7f0YQlV--"
      },
      "execution_count": null,
      "outputs": []
    },
    {
      "cell_type": "markdown",
      "source": [
        "7. Check if an element exists in a list."
      ],
      "metadata": {
        "id": "TWwHw1vpfybK"
      }
    },
    {
      "cell_type": "code",
      "source": [
        "_list = [1, 2, 3, 4, 5]\n",
        "check = 2\n",
        "if check in _list:\n",
        "    print(\"True\")\n",
        "else:\n",
        "    print('false')"
      ],
      "metadata": {
        "id": "hVnu4rnml3hY"
      },
      "execution_count": null,
      "outputs": []
    },
    {
      "cell_type": "markdown",
      "source": [
        "8. Find the index of the first occurrence of an element in a list."
      ],
      "metadata": {
        "id": "ry69fMfjf1eo"
      }
    },
    {
      "cell_type": "code",
      "source": [
        "_list = [10, 20, 30, 20, 40]\n",
        "element = 40\n",
        "index = _list.index(element)\n",
        "print(index)"
      ],
      "metadata": {
        "id": "rW7S8hVlnE-e"
      },
      "execution_count": null,
      "outputs": []
    },
    {
      "cell_type": "markdown",
      "source": [
        "9. Count the occurrences of an element in a list."
      ],
      "metadata": {
        "id": "UjDb6igaf38D"
      }
    },
    {
      "cell_type": "code",
      "source": [
        "_list = [1, 2, 3, 4, 2, 2, 5, 6, 7, 2]\n",
        "l= 2\n",
        "count = _list.count(l)\n",
        "print(count)"
      ],
      "metadata": {
        "id": "FqaV_RT9n9SK"
      },
      "execution_count": null,
      "outputs": []
    },
    {
      "cell_type": "markdown",
      "source": [
        "10. Reverse the order of elements in a list."
      ],
      "metadata": {
        "id": "BCxm4XpNf7Cf"
      }
    },
    {
      "cell_type": "code",
      "source": [
        "_list = [1, 2, 3, 4, 5]\n",
        "_list.reverse()\n",
        "print(_list)"
      ],
      "metadata": {
        "id": "b7HlR98QpEyA"
      },
      "execution_count": null,
      "outputs": []
    },
    {
      "cell_type": "markdown",
      "source": [
        "11. Sort a list in ascending order."
      ],
      "metadata": {
        "id": "Sab49utBgAxP"
      }
    },
    {
      "cell_type": "code",
      "source": [
        "_list =[3,1,4,1,5,9,2,6]\n",
        "_list.sort()\n",
        "print(_list)"
      ],
      "metadata": {
        "id": "5q-9LImbpYqi"
      },
      "execution_count": null,
      "outputs": []
    },
    {
      "cell_type": "markdown",
      "source": [
        "12. Sort a list in descending order."
      ],
      "metadata": {
        "id": "acCPMlKCgCaF"
      }
    },
    {
      "cell_type": "code",
      "source": [
        "_list = [3,1,4,1,5,9,2,6]\n",
        "_list.sort(reverse=True)\n",
        "print(_list)"
      ],
      "metadata": {
        "id": "SzBfLZQrph1c"
      },
      "execution_count": null,
      "outputs": []
    },
    {
      "cell_type": "markdown",
      "source": [
        "13. Create a list of even numbers from 1 to 20."
      ],
      "metadata": {
        "id": "r2grzvlsgEJP"
      }
    },
    {
      "cell_type": "code",
      "source": [
        "even_num = []\n",
        "for num in range(1, 21):\n",
        "  if num % 2 == 0:\n",
        "    even_num.append(num)\n",
        "\n",
        "print(even_num)"
      ],
      "metadata": {
        "id": "TmgbD_aTqiA_"
      },
      "execution_count": null,
      "outputs": []
    },
    {
      "cell_type": "markdown",
      "source": [
        "14. Create a list of odd numbers from 1 to 20."
      ],
      "metadata": {
        "id": "G95GjP55gFw4"
      }
    },
    {
      "cell_type": "code",
      "source": [
        "odd_num = []\n",
        "for num in range(1, 21):\n",
        "  if num % 2 != 0:\n",
        "    odd_num.append(num)\n",
        "\n",
        "print(odd_num)"
      ],
      "metadata": {
        "id": "USd4MWlNqnjS"
      },
      "execution_count": null,
      "outputs": []
    },
    {
      "cell_type": "markdown",
      "source": [
        "15. Find the sum of all elements in a list."
      ],
      "metadata": {
        "id": "amZnGYhdgHwo"
      }
    },
    {
      "cell_type": "code",
      "source": [
        "_list= [5,4,3,2,1]\n",
        "sum(_list)"
      ],
      "metadata": {
        "id": "G39WpyDZrZVN"
      },
      "execution_count": null,
      "outputs": []
    },
    {
      "cell_type": "markdown",
      "source": [
        "16. Find the maximum value in a list."
      ],
      "metadata": {
        "id": "UlCHe7ZWgJ6G"
      }
    },
    {
      "cell_type": "code",
      "source": [
        "_list= [5,4,3,2,1]\n",
        "max(_list)"
      ],
      "metadata": {
        "id": "1PYreWElrpC5"
      },
      "execution_count": null,
      "outputs": []
    },
    {
      "cell_type": "markdown",
      "source": [
        "17. Find the minimum value in a list."
      ],
      "metadata": {
        "id": "dkZQNE6MgMKF"
      }
    },
    {
      "cell_type": "code",
      "source": [
        "_list= [5,4,3,2,1]\n",
        "min(_list)"
      ],
      "metadata": {
        "id": "aEGz38uDr67f"
      },
      "execution_count": null,
      "outputs": []
    },
    {
      "cell_type": "markdown",
      "source": [
        "18. Create a list of squares of numbers from 1 to 10."
      ],
      "metadata": {
        "id": "eXXAdx5DgN0H"
      }
    },
    {
      "cell_type": "code",
      "source": [
        "squares = [i ** 2 for i in range(1, 11)]\n",
        "print(squares)"
      ],
      "metadata": {
        "id": "W3XVh-wOsA-Y"
      },
      "execution_count": null,
      "outputs": []
    },
    {
      "cell_type": "markdown",
      "source": [
        "19. Create a list of random numbers.\n",
        "\n"
      ],
      "metadata": {
        "id": "a3farvGkgQfm"
      }
    },
    {
      "cell_type": "code",
      "source": [
        "import random\n",
        "random_numbers =[random.randint(0, 100) for i in range(10)]\n",
        "\n",
        "print(random_numbers)"
      ],
      "metadata": {
        "id": "0FSIyBfTskfM"
      },
      "execution_count": null,
      "outputs": []
    },
    {
      "cell_type": "markdown",
      "source": [
        "20.Remove duplicates from a list ."
      ],
      "metadata": {
        "id": "-GS8JW84gSn1"
      }
    },
    {
      "cell_type": "code",
      "source": [
        "_list = [1, 2, 2, 3, 4, 4, 5]\n",
        "_list = set(_list)\n",
        "print(_list)"
      ],
      "metadata": {
        "id": "hhKKtkh_ua5M"
      },
      "execution_count": null,
      "outputs": []
    },
    {
      "cell_type": "markdown",
      "source": [
        "21. Find the common elements between two lists."
      ],
      "metadata": {
        "id": "ZTGonMOvgUoO"
      }
    },
    {
      "cell_type": "code",
      "source": [
        "list1 = [1, 2, 3, 4, 5]\n",
        "list2 = [4, 5, 6, 7, 8]\n",
        "\n",
        "l = set(list1).intersection(list2)\n",
        "print(l)"
      ],
      "metadata": {
        "id": "v-3E7JuDvPSO"
      },
      "execution_count": null,
      "outputs": []
    },
    {
      "cell_type": "markdown",
      "source": [
        "22. Find the difference between two lists."
      ],
      "metadata": {
        "id": "Dudpom2SgWg5"
      }
    },
    {
      "cell_type": "code",
      "source": [
        "list1 = [1, 2, 3, 4, 5]\n",
        "list2 = [4, 5, 6, 7, 8]\n",
        "\n",
        "l = set(list1).difference(list2)\n",
        "print(l)"
      ],
      "metadata": {
        "id": "dBYvRpjcvWwz"
      },
      "execution_count": null,
      "outputs": []
    },
    {
      "cell_type": "markdown",
      "source": [
        "23. Merge two lists."
      ],
      "metadata": {
        "id": "Y4rUpo5CgX7N"
      }
    },
    {
      "cell_type": "code",
      "source": [
        "list1 = [1, 2, 3]\n",
        "list2 = [4, 5, 6]\n",
        "\n",
        "list1.extend(list2)\n",
        "print(list1)"
      ],
      "metadata": {
        "id": "KJPIkekBvpcf"
      },
      "execution_count": null,
      "outputs": []
    },
    {
      "cell_type": "markdown",
      "source": [
        "24. Multiply all elements in a list by 2\n",
        "\n"
      ],
      "metadata": {
        "id": "we7NpJzygbMj"
      }
    },
    {
      "cell_type": "code",
      "source": [
        "_list = [1, 2, 3, 4, 5]\n",
        "_list = [i * 2 for i in _list]\n",
        "print(_list)"
      ],
      "metadata": {
        "id": "vfubIlOpwDQQ"
      },
      "execution_count": null,
      "outputs": []
    },
    {
      "cell_type": "markdown",
      "source": [
        "25. Filter out all even numbers from a list."
      ],
      "metadata": {
        "id": "ps_syDTBgbPf"
      }
    },
    {
      "cell_type": "code",
      "source": [
        "number = [1, 2, 3, 4, 5, 6, 7, 8, 9, 10]\n",
        "odd_num = [num for num in number if num % 2 != 0]\n",
        "print(odd_num)"
      ],
      "metadata": {
        "id": "CiSpqZeCwqSH"
      },
      "execution_count": null,
      "outputs": []
    },
    {
      "cell_type": "markdown",
      "source": [
        "26. Convert a list of strings to a list of integers."
      ],
      "metadata": {
        "id": "kGv28OgpgbS0"
      }
    },
    {
      "cell_type": "code",
      "source": [
        "str_list = ['1', '2', '3', '4', '5']\n",
        "int_list = [int(x) for x in str_list]\n",
        "print(int_list)"
      ],
      "metadata": {
        "id": "t6hdHd3jKPJp"
      },
      "execution_count": null,
      "outputs": []
    },
    {
      "cell_type": "markdown",
      "source": [
        "27. Convert a list of integers to a list of strings."
      ],
      "metadata": {
        "id": "Z3BgiT0ygbV_"
      }
    },
    {
      "cell_type": "code",
      "source": [
        "int_list = [1,2,3,4,5]\n",
        "str_list = [str(x) for x in int_list]\n",
        "print(str_list)"
      ],
      "metadata": {
        "id": "sTIoXWM5KwQI"
      },
      "execution_count": null,
      "outputs": []
    },
    {
      "cell_type": "markdown",
      "source": [
        "28. Flatten a nested list."
      ],
      "metadata": {
        "id": "_a0wGgARgbYr"
      }
    },
    {
      "cell_type": "code",
      "source": [],
      "metadata": {
        "id": "f60cTM2HLIZA"
      },
      "execution_count": null,
      "outputs": []
    },
    {
      "cell_type": "markdown",
      "source": [
        "29. Create a list of the first 10 Fibonacci numbers."
      ],
      "metadata": {
        "id": "yn8YeZZggbbo"
      }
    },
    {
      "cell_type": "code",
      "source": [
        "n = 3\n",
        "if n <= 1:\n",
        "    print(n)\n",
        "else:\n",
        "    fib_sequence = [0, 1]\n",
        "    for i in range(2, n+1):\n",
        "      fib_sequence.append(fib_sequence[i-1] + fib_sequence[i-2])\n",
        "    print(fib_sequence)"
      ],
      "metadata": {
        "id": "MR9W_mK_L-ua"
      },
      "execution_count": null,
      "outputs": []
    },
    {
      "cell_type": "markdown",
      "source": [
        "30. Check if a list is sorted.\n",
        "\n"
      ],
      "metadata": {
        "id": "mB_dAHfugbet"
      }
    },
    {
      "cell_type": "code",
      "source": [
        "data = [1, 2,  5, 7]\n",
        "print(data == sorted(data))"
      ],
      "metadata": {
        "id": "DdLLXUNFMqwL"
      },
      "execution_count": null,
      "outputs": []
    },
    {
      "cell_type": "markdown",
      "source": [
        "31. Rotate a list to the left by `n` positions."
      ],
      "metadata": {
        "id": "ASYxQh85gbh6"
      }
    },
    {
      "cell_type": "code",
      "source": [
        "lst = [1,2,3,4,5]\n",
        "n = 4\n",
        "print(lst[n:] + lst[:n])"
      ],
      "metadata": {
        "id": "LndrmW93TA_M"
      },
      "execution_count": null,
      "outputs": []
    },
    {
      "cell_type": "markdown",
      "source": [
        "32. Rotate a list to the right by `n` positions."
      ],
      "metadata": {
        "id": "Q04VLoTRgblO"
      }
    },
    {
      "cell_type": "code",
      "source": [
        "lst = [1,2,3,4,5]\n",
        "n = 4\n",
        "print(lst[-n:] + lst[:-n])"
      ],
      "metadata": {
        "id": "Zohk7Q93yDt8"
      },
      "execution_count": null,
      "outputs": []
    },
    {
      "cell_type": "markdown",
      "source": [
        "33. Create a list of prime numbers up to 50."
      ],
      "metadata": {
        "id": "XFKPJ6k1gboH"
      }
    },
    {
      "cell_type": "code",
      "source": [
        "def prime(num):\n",
        "    if num < 2:\n",
        "        return False\n",
        "    for i in range(2, int(num**0.5) + 1):\n",
        "        if num % i == 0:\n",
        "            return False\n",
        "    return True\n",
        "prime_numbers = [num for num in range(2, 51) if prime(num)]\n",
        "print(prime_numbers)"
      ],
      "metadata": {
        "id": "IH1SLvlJ17Nv"
      },
      "execution_count": null,
      "outputs": []
    },
    {
      "cell_type": "markdown",
      "source": [
        "34. Split a list into chunks of size `n`."
      ],
      "metadata": {
        "id": "TUtCt27fgbrQ"
      }
    },
    {
      "cell_type": "code",
      "source": [
        "def split_list_into_chunks(lst, n):\n",
        "    return [lst[i:i + n] for i in range(0, len(lst), n)]\n",
        "lst = [1,2,3,4,5,6,7,8,9,10]\n",
        "n = 3\n",
        "split_list_into_chunks(lst, n)"
      ],
      "metadata": {
        "id": "kwwMfVhX3Ms-"
      },
      "execution_count": null,
      "outputs": []
    },
    {
      "cell_type": "markdown",
      "source": [
        "35. Find the second largest number in a list."
      ],
      "metadata": {
        "id": "m7PsmsUdgbuu"
      }
    },
    {
      "cell_type": "code",
      "source": [
        "def sec_th_largest(lst):\n",
        "    if len(lst) < 2:\n",
        "        return \"list must certain 2 elements\"\n",
        "\n",
        "    llist = sorted(lst, reverse=True)\n",
        "    return llist[1]\n",
        "numbers = [12,4,3,44,66,36,33,5]\n",
        "print(sec_th_largest(numbers))"
      ],
      "metadata": {
        "id": "P5B3cgnp4Dg_"
      },
      "execution_count": null,
      "outputs": []
    },
    {
      "cell_type": "markdown",
      "source": [
        "36. Replace every element in a list with its square."
      ],
      "metadata": {
        "id": "4j2W8Uq2gbya"
      }
    },
    {
      "cell_type": "code",
      "source": [
        "def squ_elements(lst):\n",
        "    squared_list = [x ** 2 for x in lst]\n",
        "    return squared_list\n",
        "numbers = [1, 2, 3, 4, 5]\n",
        "squ_numbers = squ_elements(numbers)\n",
        "print(squ_numbers)"
      ],
      "metadata": {
        "id": "zc4WtnLo5NSV"
      },
      "execution_count": null,
      "outputs": []
    },
    {
      "cell_type": "markdown",
      "source": [
        "37. Convert a list to a dictionary where list elements become keys and their\n",
        "indices become values."
      ],
      "metadata": {
        "id": "zPC9Uiv-gb1y"
      }
    },
    {
      "cell_type": "code",
      "source": [
        "def lis_to_dict(ls):\n",
        "    return {value: index for index, value in enumerate(ls)}\n",
        "ls = (\"hitesh\",\"mittesh\", \"gittesh\", \"kamlesh\")\n",
        "lis_to_dict(ls)"
      ],
      "metadata": {
        "id": "xgFonlOG6Y94"
      },
      "execution_count": null,
      "outputs": []
    },
    {
      "cell_type": "markdown",
      "source": [
        "38. Shuffle the elements of a list randomly."
      ],
      "metadata": {
        "id": "z8O8Mphsgb5E"
      }
    },
    {
      "cell_type": "code",
      "source": [
        "import random\n",
        "llist = [1,2,3,4,5,6,6]\n",
        "random.shuffle(llist)\n",
        "print(llist)"
      ],
      "metadata": {
        "id": "XmFFNEXr70G8"
      },
      "execution_count": null,
      "outputs": []
    },
    {
      "cell_type": "markdown",
      "source": [
        "39. Create a list of the first 10 factorial numbers."
      ],
      "metadata": {
        "id": "eBCH1e7Ugb8o"
      }
    },
    {
      "cell_type": "code",
      "source": [
        "def factorial(n):\n",
        "    if n == 0:\n",
        "        return 1\n",
        "    else:\n",
        "        return n * factorial(n - 1)\n",
        "\n",
        "ten_factorial = [factorial(i) for i in range(10)]\n",
        "print(ten_factorial)"
      ],
      "metadata": {
        "id": "i8d9xPvL8wrY"
      },
      "execution_count": null,
      "outputs": []
    },
    {
      "cell_type": "markdown",
      "source": [
        "40. Check if two lists have at least one element in common."
      ],
      "metadata": {
        "id": "HHq4zHJEgcAC"
      }
    },
    {
      "cell_type": "code",
      "source": [
        "def have_com_ele(list1, list2):\n",
        "  return bool(set(list1) & set(list2))\n",
        "list1 = [1,2,3,4,5]\n",
        "list2 = [5,4,3,2,1]\n",
        "have_com_ele(list1,list2)"
      ],
      "metadata": {
        "id": "ilFkZyvL-h4t"
      },
      "execution_count": null,
      "outputs": []
    },
    {
      "cell_type": "markdown",
      "source": [
        "41. Remove all elements from a list."
      ],
      "metadata": {
        "id": "rVFd-_UbgcDg"
      }
    },
    {
      "cell_type": "code",
      "source": [
        "list1 = [1,2,3,4,5,6]\n",
        "list1.clear()\n",
        "list1"
      ],
      "metadata": {
        "id": "ey0jvz2M-8DV"
      },
      "execution_count": null,
      "outputs": []
    },
    {
      "cell_type": "markdown",
      "source": [
        "42. Replace negative numbers in a list with 0."
      ],
      "metadata": {
        "id": "BeowVvrFgcG_"
      }
    },
    {
      "cell_type": "code",
      "source": [
        "def replace(data):\n",
        "  return [0 if num < 0 else num for num in data]\n",
        "list1 = [1, -3, 4, -2, 5]\n",
        "replace(list1)"
      ],
      "metadata": {
        "id": "0m2K-5nx_XU7"
      },
      "execution_count": null,
      "outputs": []
    },
    {
      "cell_type": "markdown",
      "source": [
        "43. Convert a string into a list of words."
      ],
      "metadata": {
        "id": "pN9FDwz-gcJ_"
      }
    },
    {
      "cell_type": "code",
      "source": [
        "str1 = \"what is your name in school\"\n",
        "str1.split()"
      ],
      "metadata": {
        "id": "P1fZ4U5n_z2n"
      },
      "execution_count": null,
      "outputs": []
    },
    {
      "cell_type": "markdown",
      "source": [
        "44. Convert a list of words into a string."
      ],
      "metadata": {
        "id": "nZFsUFPkgYVU"
      }
    },
    {
      "cell_type": "code",
      "source": [
        "str12 = (\"what\",\"is\",\"your\",\"name\",\"in\",\"school\")\n",
        "str1 = ''.join(str12)\n",
        "print(str1)"
      ],
      "metadata": {
        "id": "nZAtRvkiAH21"
      },
      "execution_count": null,
      "outputs": []
    },
    {
      "cell_type": "markdown",
      "source": [
        "45. Create a list of the first `n` powers of 2."
      ],
      "metadata": {
        "id": "SF76IXpphJlw"
      }
    },
    {
      "cell_type": "code",
      "source": [
        "n = 5\n",
        "powers_of_2 = [2 ** i for i in range(n)]\n",
        "print(powers_of_2)"
      ],
      "metadata": {
        "id": "52oNk1KRBRrI"
      },
      "execution_count": null,
      "outputs": []
    },
    {
      "cell_type": "markdown",
      "source": [
        "46. Find the longest string in a list of strings."
      ],
      "metadata": {
        "id": "AKzfogHohJow"
      }
    },
    {
      "cell_type": "code",
      "source": [
        "str1 =[\"what\",\"is\",\"your\",\"name\",\"in\",\"school\"]\n",
        "long_str = max(str1, key=len)\n",
        "print(long_str)"
      ],
      "metadata": {
        "id": "bF80MiEoB4Dt"
      },
      "execution_count": null,
      "outputs": []
    },
    {
      "cell_type": "markdown",
      "source": [
        "47. Find the shortest string in a list of strings."
      ],
      "metadata": {
        "id": "uFU01BXhhJrf"
      }
    },
    {
      "cell_type": "code",
      "source": [
        "str1 =[\"what\",\"is\",\"your\",\"name\",\"in\",\"school\"]\n",
        "long_str = min(str1, key=len)\n",
        "print(long_str)"
      ],
      "metadata": {
        "id": "-Rfj1XiGCLyn"
      },
      "execution_count": null,
      "outputs": []
    },
    {
      "cell_type": "markdown",
      "source": [
        "48. Create a list of the first `n` triangular numbers."
      ],
      "metadata": {
        "id": "2edkfI-AhJuL"
      }
    },
    {
      "cell_type": "code",
      "source": [
        "n = 5\n",
        "tri_num = [i * (i + 1) // 2 for i in range(1, n + 1)]\n",
        "print(tri_num)"
      ],
      "metadata": {
        "id": "1qSJpToCCPSY"
      },
      "execution_count": null,
      "outputs": []
    },
    {
      "cell_type": "markdown",
      "source": [
        "49. Check if a list contains another list as a subsequence."
      ],
      "metadata": {
        "id": "BH3Zga6VhJxA"
      }
    },
    {
      "cell_type": "code",
      "source": [
        "def subsequ(list1, list2):\n",
        "    set1 = set(list1)\n",
        "    set2 = set(list2)\n",
        "    return set1.issubset(set2)\n",
        "list1 = [1, 2, 3]\n",
        "list2 = [4,5, 1,2, 3]\n",
        "subsequ(list1,list2)"
      ],
      "metadata": {
        "id": "m7wIpnh-C_4y"
      },
      "execution_count": null,
      "outputs": []
    },
    {
      "cell_type": "markdown",
      "source": [
        "50. Swap two elements in a list by their indices."
      ],
      "metadata": {
        "id": "-2pid19phJzy"
      }
    },
    {
      "cell_type": "code",
      "source": [
        "def swap_element(data,index1,index2):\n",
        "    if index1 < 0 or index1 >= len(data) or index2 < 0 or index2 >= len(data):\n",
        "        print(\"invalid number . please provide valid number \")\n",
        "        return\n",
        "    data[index1],data[index2] = data[index2],data[index1]\n",
        "data = [1,2,3,4,5,6,7,8]\n",
        "swap_element(data,2,5)\n",
        "print(data)"
      ],
      "metadata": {
        "id": "-xGadocCEZXE"
      },
      "execution_count": null,
      "outputs": []
    },
    {
      "cell_type": "markdown",
      "source": [
        "# Tuple Based Practice Problem :"
      ],
      "metadata": {
        "id": "DTscaTA0nGqU"
      }
    },
    {
      "cell_type": "markdown",
      "source": [
        "1. Create a tuple with integers from 1 to 5."
      ],
      "metadata": {
        "id": "hJFYc2cJnSRn"
      }
    },
    {
      "cell_type": "code",
      "source": [
        "tuple1 = tuple(range(1, 6))\n",
        "print(tuple1)"
      ],
      "metadata": {
        "id": "NsCpWk8uoXgb"
      },
      "execution_count": null,
      "outputs": []
    },
    {
      "cell_type": "markdown",
      "source": [
        "2. Access the third element of a tuple."
      ],
      "metadata": {
        "id": "mkBygTV3nSHf"
      }
    },
    {
      "cell_type": "code",
      "source": [
        "tuple1 = (1, 2, 3, 4, 5)\n",
        "third = tuple1[2]"
      ],
      "metadata": {
        "id": "9JIcwabnolJp"
      },
      "execution_count": null,
      "outputs": []
    },
    {
      "cell_type": "markdown",
      "source": [
        "3. Find the length of a tuple without using the `len()` function."
      ],
      "metadata": {
        "id": "fXBTkeW8nSCr"
      }
    },
    {
      "cell_type": "code",
      "source": [
        "tup= (1,2,3,4,5)\n",
        "count = 0\n",
        "for _ in tup:\n",
        "    count += 1\n",
        "print(count)"
      ],
      "metadata": {
        "id": "_hMXLDxwpmZF"
      },
      "execution_count": null,
      "outputs": []
    },
    {
      "cell_type": "markdown",
      "source": [
        "4. Count the occurrences of an element in a tuple."
      ],
      "metadata": {
        "id": "Ez7eYETGnR-B"
      }
    },
    {
      "cell_type": "code",
      "source": [
        "tup= (1, 2, 2, 3, 4, 2, 5)\n",
        "element= 2\n",
        "count = 0\n",
        "for item in tup:\n",
        "    if item == element:\n",
        "        count += 1\n",
        "print(count)"
      ],
      "metadata": {
        "id": "kymp80-Mp34h"
      },
      "execution_count": null,
      "outputs": []
    },
    {
      "cell_type": "markdown",
      "source": [
        "5. Find the index of the first occurrence of an element in a tuple."
      ],
      "metadata": {
        "id": "4RliA6cVnR4j"
      }
    },
    {
      "cell_type": "code",
      "source": [
        "tup1 = (1, 2, 3, 4, 5, 2)\n",
        "element = 2\n",
        "index = tup1.index(element)\n",
        "print(index)"
      ],
      "metadata": {
        "id": "b1MbwZoEGy2d"
      },
      "execution_count": null,
      "outputs": []
    },
    {
      "cell_type": "markdown",
      "source": [
        "6. Check if an element exists in a tuple."
      ],
      "metadata": {
        "id": "GrI01CJ8nRz3"
      }
    },
    {
      "cell_type": "code",
      "source": [
        "tuple1 = (\"have\", \"a \", 'good',\"day\")\n",
        "if \"good\" in tuple1:\n",
        "    print(\"True\")\n",
        "else:\n",
        "    print(\"false\")"
      ],
      "metadata": {
        "id": "LkKSAoluqvVL"
      },
      "execution_count": null,
      "outputs": []
    },
    {
      "cell_type": "markdown",
      "source": [
        "7. Convert a tuple to a list."
      ],
      "metadata": {
        "id": "qSw72TJOnRu_"
      }
    },
    {
      "cell_type": "code",
      "source": [
        "tuple1 = (\"doker\", \"java \", \"python\")\n",
        "list1 = list(tuple1)\n",
        "print(list1)"
      ],
      "metadata": {
        "id": "RUvw7UEr3Q0a"
      },
      "execution_count": null,
      "outputs": []
    },
    {
      "cell_type": "markdown",
      "source": [
        "8. Convert a list to a tuple."
      ],
      "metadata": {
        "id": "4wfDqcoonRqP"
      }
    },
    {
      "cell_type": "code",
      "source": [
        "list1 = (\"doker\", \"java \", \"python\")\n",
        "tuple1 = list(list1)\n",
        "print(tuple1)"
      ],
      "metadata": {
        "id": "n3kak88F3plV"
      },
      "execution_count": null,
      "outputs": []
    },
    {
      "cell_type": "markdown",
      "source": [
        "9. Unpack the elements of a tuple into variables."
      ],
      "metadata": {
        "id": "ZdjIc_YAnRli"
      }
    },
    {
      "cell_type": "code",
      "source": [
        "tuple1 = (1,2,3,4,5)\n",
        "a,b,c,d,e = tuple1\n",
        "print(a,b,c,d,e,)"
      ],
      "metadata": {
        "id": "PjpY4Pfd4rWe"
      },
      "execution_count": null,
      "outputs": []
    },
    {
      "cell_type": "markdown",
      "source": [
        "10. Create a tuple of even numbers from 1 to 10."
      ],
      "metadata": {
        "id": "TY6ytdhVnRfm"
      }
    },
    {
      "cell_type": "code",
      "source": [
        "even_num = tuple(num for num in range(2, 11, 2))\n",
        "print(even_num)"
      ],
      "metadata": {
        "id": "dVonCRXY4mHF"
      },
      "execution_count": null,
      "outputs": []
    },
    {
      "cell_type": "markdown",
      "source": [
        "11. Create a tuple of odd numbers from 1 to 10."
      ],
      "metadata": {
        "id": "N8XU5W67nRbH"
      }
    },
    {
      "cell_type": "code",
      "source": [
        "odd_num = tuple(num for num in range(1, 11, 2))\n",
        "print(odd_num)"
      ],
      "metadata": {
        "id": "MPALsj_V4nja"
      },
      "execution_count": null,
      "outputs": []
    },
    {
      "cell_type": "markdown",
      "source": [
        "12. Concatenate two tuples."
      ],
      "metadata": {
        "id": "NTSmIg4ZnRWP"
      }
    },
    {
      "cell_type": "code",
      "source": [
        "tuple1 = (1,2,3)\n",
        "tuple2 = (4,5,6)\n",
        "tuple3 = tuple1 + tuple2\n",
        "print(tuple3)"
      ],
      "metadata": {
        "id": "N_2NvjOl5OMZ"
      },
      "execution_count": null,
      "outputs": []
    },
    {
      "cell_type": "markdown",
      "source": [
        "13. Repeat a tuple three times."
      ],
      "metadata": {
        "id": "6PFJnj0EnRR2"
      }
    },
    {
      "cell_type": "code",
      "source": [
        "tuple1 = (1, 2, 3)\n",
        "rep_tuple = tuple1 * 3\n",
        "print(rep_tuple)"
      ],
      "metadata": {
        "id": "BzaIJCsl5UGI"
      },
      "execution_count": null,
      "outputs": []
    },
    {
      "cell_type": "markdown",
      "source": [
        "14. Check if a tuple is empty."
      ],
      "metadata": {
        "id": "CWfpPhdBnRM3"
      }
    },
    {
      "cell_type": "code",
      "source": [
        "def tuple1(tup):\n",
        "    return len(tup) == 0\n",
        "tup = (1,2)\n",
        "tuple1(tup)"
      ],
      "metadata": {
        "id": "y2aACMdl6MhT"
      },
      "execution_count": null,
      "outputs": []
    },
    {
      "cell_type": "markdown",
      "source": [
        "15. Create a nested tuple."
      ],
      "metadata": {
        "id": "VSuoG69qnRIP"
      }
    },
    {
      "cell_type": "code",
      "source": [
        "nest_tup = ((1, 2), (3, 4), (5, 6))\n",
        "nest_tup"
      ],
      "metadata": {
        "id": "Yk9SL9Te55je"
      },
      "execution_count": null,
      "outputs": []
    },
    {
      "cell_type": "markdown",
      "source": [
        "16. Access the first element of a nested tuple."
      ],
      "metadata": {
        "id": "KXu-jsQHnRC5"
      }
    },
    {
      "cell_type": "code",
      "source": [
        "nest_tup = ((1, 2), (3, 4), (5, 6))\n",
        "element = nest_tup[0][0]\n",
        "print(element)"
      ],
      "metadata": {
        "id": "jB66AUD3CLoy"
      },
      "execution_count": null,
      "outputs": []
    },
    {
      "cell_type": "markdown",
      "source": [
        "17. Create a tuple with a single element."
      ],
      "metadata": {
        "id": "FdeLOgcwnQ-Z"
      }
    },
    {
      "cell_type": "code",
      "source": [
        "tup = (1,)\n",
        "print(tup)"
      ],
      "metadata": {
        "id": "x6vrE-LSCZbW"
      },
      "execution_count": null,
      "outputs": []
    },
    {
      "cell_type": "markdown",
      "source": [
        "18. Compare two tuples."
      ],
      "metadata": {
        "id": "TpJlX9AEnQ6H"
      }
    },
    {
      "cell_type": "code",
      "source": [
        "tup1 = (1, 2, 3)\n",
        "tup2 = (1, 2, 4)\n",
        "if tup1 == tup2:\n",
        "    print(\"equal\")\n",
        "else:\n",
        "    print(\"not equal\")"
      ],
      "metadata": {
        "id": "dG0JkTOOClke"
      },
      "execution_count": null,
      "outputs": []
    },
    {
      "cell_type": "markdown",
      "source": [
        "19. Delete a tuple."
      ],
      "metadata": {
        "id": "eLIW9hG4nQ15"
      }
    },
    {
      "cell_type": "code",
      "source": [
        "tup = (1, 2, 3)\n",
        "tup = ()\n",
        "print(tup)"
      ],
      "metadata": {
        "id": "F2Lqx_eTC8K6"
      },
      "execution_count": null,
      "outputs": []
    },
    {
      "cell_type": "markdown",
      "source": [
        "20. Slice a tuple."
      ],
      "metadata": {
        "id": "__WdJhdUnQxd"
      }
    },
    {
      "cell_type": "code",
      "source": [
        "tup = (1,2,3,4,5,6,7,8,9,10)\n",
        "sliced = tup[2:6]\n",
        "print(sliced)"
      ],
      "metadata": {
        "id": "bQCjR93IEHpy"
      },
      "execution_count": null,
      "outputs": []
    },
    {
      "cell_type": "markdown",
      "source": [
        "21. Find the maximum value in a tuple."
      ],
      "metadata": {
        "id": "hkx4r6umnQr_"
      }
    },
    {
      "cell_type": "code",
      "source": [
        "tup = (3, 7, 2, 8, 5)\n",
        "max_val = max(tup)\n",
        "print(max_val)"
      ],
      "metadata": {
        "id": "s_EwLjnWEVSk"
      },
      "execution_count": null,
      "outputs": []
    },
    {
      "cell_type": "markdown",
      "source": [
        "22. Find the minimum value in a tuple."
      ],
      "metadata": {
        "id": "Zuf6SnejnQip"
      }
    },
    {
      "cell_type": "code",
      "source": [
        "tup = (3, 7, 2, 8, 5)\n",
        "min_val = min(tup)\n",
        "print(min_val)"
      ],
      "metadata": {
        "id": "P-RqqOc2EpkV"
      },
      "execution_count": null,
      "outputs": []
    },
    {
      "cell_type": "markdown",
      "source": [
        "23. Convert a string to a tuple of characters."
      ],
      "metadata": {
        "id": "KkwLnh4knQdH"
      }
    },
    {
      "cell_type": "code",
      "source": [
        "str1= \"hellow pw skills\"\n",
        "tup = tuple(str1)"
      ],
      "metadata": {
        "id": "n7ZACaNlEwcg"
      },
      "execution_count": null,
      "outputs": []
    },
    {
      "cell_type": "markdown",
      "source": [
        "24. Convert a tuple of characters to a string."
      ],
      "metadata": {
        "id": "fs4F9pWknQYd"
      }
    },
    {
      "cell_type": "code",
      "source": [
        "tup = ('h', 'e', 'l', 'l', 'o')\n",
        "str_tup = ''.join(tup)\n",
        "print(str_tup)"
      ],
      "metadata": {
        "id": "xB6Ot6ihFAv1"
      },
      "execution_count": null,
      "outputs": []
    },
    {
      "cell_type": "markdown",
      "source": [
        "25. Create a tuple from multiple data types."
      ],
      "metadata": {
        "id": "HVegvgufnQTi"
      }
    },
    {
      "cell_type": "code",
      "source": [
        "tup = (12, \"Hello\", 3.24,False)"
      ],
      "metadata": {
        "id": "F_0BaHmqFMpl"
      },
      "execution_count": null,
      "outputs": []
    },
    {
      "cell_type": "markdown",
      "source": [
        "26. Check if two tuples are identical."
      ],
      "metadata": {
        "id": "9An3NiIdnQK4"
      }
    },
    {
      "cell_type": "code",
      "source": [
        "tuple1 =(1, 2, 3)\n",
        "tuple2 =(1, 2, 3)\n",
        "print(tuple1 == tuple2)"
      ],
      "metadata": {
        "id": "oI_k4bxVFY-m"
      },
      "execution_count": null,
      "outputs": []
    },
    {
      "cell_type": "markdown",
      "source": [
        "27. Sort the elements of a tuple."
      ],
      "metadata": {
        "id": "t7tCS9KsnQGw"
      }
    },
    {
      "cell_type": "code",
      "source": [
        "def tup(sort):\n",
        "    sort_list = sorted(sort)\n",
        "    sort_tup = tuple(sort_list)\n",
        "    return sort_tup\n",
        "tup1 = (3, 1, 4, 1, 5, 9, 2, 6, 5)\n",
        "tup(tup1)"
      ],
      "metadata": {
        "id": "UgDaVRwTGI7G"
      },
      "execution_count": null,
      "outputs": []
    },
    {
      "cell_type": "markdown",
      "source": [
        "28. Convert a tuple of integers to a tuple of strings."
      ],
      "metadata": {
        "id": "nlJhY9HBnQCX"
      }
    },
    {
      "cell_type": "code",
      "source": [
        "def convert(tup):\n",
        "    tup_str= tuple(str(x) for x in tup)\n",
        "    return tup_str\n",
        "tup = (1, 2, 3, 4, 5)\n",
        "convert(tup)"
      ],
      "metadata": {
        "id": "knemJ6LLGdqL"
      },
      "execution_count": null,
      "outputs": []
    },
    {
      "cell_type": "markdown",
      "source": [
        "29. Convert a tuple of strings to a tuple of integers."
      ],
      "metadata": {
        "id": "mg8MRPO2nP-B"
      }
    },
    {
      "cell_type": "code",
      "source": [
        "def convert(tup):\n",
        "    tup_int= tuple(int(x) for x in tup)\n",
        "    return tup_int\n",
        "tup = (1, 2, 3, 4, 5)\n",
        "convert(tup)"
      ],
      "metadata": {
        "id": "gcncQGn8HNhJ"
      },
      "execution_count": null,
      "outputs": []
    },
    {
      "cell_type": "markdown",
      "source": [
        "30. Merge two tuples."
      ],
      "metadata": {
        "id": "_O4CxRI6nP6A"
      }
    },
    {
      "cell_type": "code",
      "source": [
        "tup1=(1,2,3)\n",
        "tup2=(4,5,6)\n",
        "tup = tup1 + tup2\n",
        "print(tup)"
      ],
      "metadata": {
        "id": "ixZK2szOHhsx"
      },
      "execution_count": null,
      "outputs": []
    },
    {
      "cell_type": "markdown",
      "source": [
        "31. Flatten a nested tuple."
      ],
      "metadata": {
        "id": "0orvbGCqnP2H"
      }
    },
    {
      "cell_type": "code",
      "source": [],
      "metadata": {
        "id": "4Cx4k8EKIGg8"
      },
      "execution_count": null,
      "outputs": []
    },
    {
      "cell_type": "markdown",
      "source": [
        "32. Create a tuple of the first 5 prime numbers."
      ],
      "metadata": {
        "id": "mZ9A8bZJnPxu"
      }
    },
    {
      "cell_type": "code",
      "source": [
        "tup= (2, 3, 5, 7, 11)\n",
        "tup"
      ],
      "metadata": {
        "id": "ZTOksbcCI9bB"
      },
      "execution_count": null,
      "outputs": []
    },
    {
      "cell_type": "markdown",
      "source": [
        "33. Check if a tuple is a palindrome."
      ],
      "metadata": {
        "id": "yk8lGnwSnPtR"
      }
    },
    {
      "cell_type": "code",
      "source": [
        "def pali_tup(tup):\n",
        "    return tup == tup[::-1]\n",
        "tup = (1,2,3,2,1)\n",
        "pali_tup(tup)"
      ],
      "metadata": {
        "id": "3UUgbo4KLC8q"
      },
      "execution_count": null,
      "outputs": []
    },
    {
      "cell_type": "markdown",
      "source": [
        "34. Create a tuple of squares of numbers from 1 to 5."
      ],
      "metadata": {
        "id": "AGB69gMsnPpG"
      }
    },
    {
      "cell_type": "code",
      "source": [
        "squ_tup = tuple(x ** 2 for x in range(1, 6))\n",
        "print(squ_tup)"
      ],
      "metadata": {
        "id": "m0_LGiIqLkng"
      },
      "execution_count": null,
      "outputs": []
    },
    {
      "cell_type": "markdown",
      "source": [
        "\n",
        "\n",
        "35. Filter out all even numbers from a tuple."
      ],
      "metadata": {
        "id": "66QggJdhnPlJ"
      }
    },
    {
      "cell_type": "code",
      "source": [
        "def even_num(tup):\n",
        "    return tuple(x for x in tup if x % 2 != 0)\n",
        "tup = (1, 2, 3, 4, 5, 6, 7, 8, 9, 10)\n",
        "even_num(tup)"
      ],
      "metadata": {
        "id": "xgdej0BuLv5D"
      },
      "execution_count": null,
      "outputs": []
    },
    {
      "cell_type": "markdown",
      "source": [
        "36. Multiply all elements in a tuple by 2."
      ],
      "metadata": {
        "id": "W5XVVFJ9nPhO"
      }
    },
    {
      "cell_type": "code",
      "source": [
        "def multi_tup(tup):\n",
        "    return tuple(x * 2 for x in tup)\n",
        "tup= (1,2,3,4,5)\n",
        "multi_tup(tup)"
      ],
      "metadata": {
        "id": "y6V3XbhmMBHR"
      },
      "execution_count": null,
      "outputs": []
    },
    {
      "cell_type": "markdown",
      "source": [
        "37. Create a tuple of random numbers."
      ],
      "metadata": {
        "id": "kCr-rhcfnPdW"
      }
    },
    {
      "cell_type": "code",
      "source": [],
      "metadata": {
        "id": "FPoynT7kMhLU"
      },
      "execution_count": null,
      "outputs": []
    },
    {
      "cell_type": "markdown",
      "source": [
        "38. Check if a tuple is sorted."
      ],
      "metadata": {
        "id": "_3kkDFFjnPYQ"
      }
    },
    {
      "cell_type": "code",
      "source": [
        "def sort_tup(tup):\n",
        "    return tup == tuple(sorted(tup))\n",
        "tup1 = (1,2,3,4,5,6,7)\n",
        "sort_tup(tup1)"
      ],
      "metadata": {
        "id": "jwTcMzzcMnkx"
      },
      "execution_count": null,
      "outputs": []
    },
    {
      "cell_type": "markdown",
      "source": [
        "39. Rotate a tuple to the left by `n` positions."
      ],
      "metadata": {
        "id": "s5qyuHCenPTg"
      }
    },
    {
      "cell_type": "code",
      "source": [
        "def left_tup(tup, n):\n",
        "    n %= len(tup)\n",
        "    return tup[n:] + tup[:n]\n",
        "tup = (1,2,3,4,5,6,7)\n",
        "left_tup(tup,2)"
      ],
      "metadata": {
        "id": "9MVAo35iM_Jn"
      },
      "execution_count": null,
      "outputs": []
    },
    {
      "cell_type": "markdown",
      "source": [
        "40. Rotate a tuple to the right by `n` positions."
      ],
      "metadata": {
        "id": "K9XScyC_nPPH"
      }
    },
    {
      "cell_type": "code",
      "source": [
        "def right_tup(tup, n):\n",
        "    n %= len(tup)\n",
        "    return tup[-n:] + tup[:-n]\n",
        "tup = (1,2,3,4,5,6,7)\n",
        "right_tup(tup,2)"
      ],
      "metadata": {
        "id": "kOz3sZP0NZDy"
      },
      "execution_count": null,
      "outputs": []
    },
    {
      "cell_type": "markdown",
      "source": [
        "41. Create a tuple of the first 5 Fibonacci numbers."
      ],
      "metadata": {
        "id": "h3_YGp4vnPKm"
      }
    },
    {
      "cell_type": "code",
      "source": [
        "def fibonacci(n):\n",
        "    sequ = [0, 1]\n",
        "    while len(sequ) < n:\n",
        "        sequ.append(sequ[-1] + sequ[-2])\n",
        "    return tuple(sequ)\n",
        "fibonacci(5)"
      ],
      "metadata": {
        "id": "zoX55PgYNn6M"
      },
      "execution_count": null,
      "outputs": []
    },
    {
      "cell_type": "markdown",
      "source": [
        "42. Create a tuple from user input."
      ],
      "metadata": {
        "id": "iuo0FrIwnPF4"
      }
    },
    {
      "cell_type": "code",
      "source": [
        "user_input = str()\n",
        "user_tuple = tuple(user_input.split())\n",
        "print(user_tuple)"
      ],
      "metadata": {
        "id": "Yd1KEu-zPwm5"
      },
      "execution_count": null,
      "outputs": []
    },
    {
      "cell_type": "markdown",
      "source": [
        "43. Swap two elements in a tuple."
      ],
      "metadata": {
        "id": "zsuwNpHVnPBp"
      }
    },
    {
      "cell_type": "code",
      "source": [
        "tup1 = (1,2,3)\n",
        "index1, index2 = 0, 2\n",
        "list1 = list(tup1)\n",
        "list1[index1], list1[index2] = list1[index2], list1[index1]\n",
        "swapped_tuple = tuple(list1)\n",
        "print(swapped_tuple)"
      ],
      "metadata": {
        "id": "pOGlsgiFQDu9"
      },
      "execution_count": null,
      "outputs": []
    },
    {
      "cell_type": "markdown",
      "source": [
        "44. Reverse the elements of a tuple."
      ],
      "metadata": {
        "id": "zTuE6o7OnO9S"
      }
    },
    {
      "cell_type": "code",
      "source": [
        "tup = (1, 2, 3, 4, 5)\n",
        "reversed_tup = tup[::-1]\n",
        "print(reversed_tup)"
      ],
      "metadata": {
        "id": "soGbsVpMT3sS"
      },
      "execution_count": null,
      "outputs": []
    },
    {
      "cell_type": "markdown",
      "source": [
        "45. Create a tuple of the first `n` powers of 2."
      ],
      "metadata": {
        "id": "jWcOV0jjnO5q"
      }
    },
    {
      "cell_type": "code",
      "source": [
        "def powers_2(n):\n",
        "    return tuple(2 ** i for i in range(n))\n",
        "powers_2(3)"
      ],
      "metadata": {
        "id": "lX1qkifKUbwx"
      },
      "execution_count": null,
      "outputs": []
    },
    {
      "cell_type": "markdown",
      "source": [
        "46. Find the longest string in a tuple of strings."
      ],
      "metadata": {
        "id": "I84bpDpXnO12"
      }
    },
    {
      "cell_type": "code",
      "source": [
        "string_tuple = (\"python\",'java','doker',\"ruby\")\n",
        "string= max(string_tuple)\n",
        "print(string)"
      ],
      "metadata": {
        "id": "Y_Xgii24VHYf"
      },
      "execution_count": null,
      "outputs": []
    },
    {
      "cell_type": "markdown",
      "source": [
        "47. Find the shortest string in a tuple of strings."
      ],
      "metadata": {
        "id": "2pI0I56wnOyg"
      }
    },
    {
      "cell_type": "code",
      "source": [
        "string_tuple = (\"python\",'java','doker',\"ruby\")\n",
        "string= min(string_tuple)\n",
        "print(string)"
      ],
      "metadata": {
        "id": "nGs2Z8qoVGXl"
      },
      "execution_count": null,
      "outputs": []
    },
    {
      "cell_type": "markdown",
      "source": [
        "48. Create a tuple of the first `n` triangular numbers."
      ],
      "metadata": {
        "id": "gsfIUHaHnOuu"
      }
    },
    {
      "cell_type": "code",
      "source": [
        "def triangul_num(n):\n",
        "    return tuple((i * (i+1)) //2 for i in range(1, n + 1))\n",
        "triangul_num(3)"
      ],
      "metadata": {
        "id": "TrNLNkkbWFtv"
      },
      "execution_count": null,
      "outputs": []
    },
    {
      "cell_type": "markdown",
      "source": [
        "49. Check if a tuple contains another tuple as a subsequence."
      ],
      "metadata": {
        "id": "jnpEfGl1nOqT"
      }
    },
    {
      "cell_type": "code",
      "source": [
        "def is_sub_tuple_string(tup1, tup2):\n",
        "  tup1 = str(tup1)\n",
        "  tup2 = str(tup2)\n",
        "  return tup1 in tup2\n",
        "tup1 = (1, 2, 3, 4, 5)\n",
        "tup2 = (2, 3)\n",
        "is_sub_tuple_string(tup1,tup2)"
      ],
      "metadata": {
        "id": "tfheDP67WSwZ"
      },
      "execution_count": null,
      "outputs": []
    },
    {
      "cell_type": "markdown",
      "source": [
        "50. Create a tuple of alternating 1s and 0s of length `n`."
      ],
      "metadata": {
        "id": "KPWzwozEnOk4"
      }
    },
    {
      "cell_type": "code",
      "source": [
        "def ones_zeros(n):\n",
        "    return tuple(1 if i % 2 == 0 else 0 for i in range(n))\n",
        "ones_zeros(24)"
      ],
      "metadata": {
        "id": "5XEhWrVVWzJ9"
      },
      "execution_count": null,
      "outputs": []
    },
    {
      "cell_type": "markdown",
      "source": [
        "# Set Based Practice Problem :"
      ],
      "metadata": {
        "id": "CgVkAZEZYWPB"
      }
    },
    {
      "cell_type": "markdown",
      "source": [
        "1. Create a set with integers from 1 to 5."
      ],
      "metadata": {
        "id": "QW3OBb3kYequ"
      }
    },
    {
      "cell_type": "code",
      "source": [
        "set1 = {1, 2, 3, 4,5}\n"
      ],
      "metadata": {
        "id": "8ZIHtIuAZlWS"
      },
      "execution_count": null,
      "outputs": []
    },
    {
      "cell_type": "markdown",
      "source": [
        "2. Add an element to a set."
      ],
      "metadata": {
        "id": "LoPeSblqYeyk"
      }
    },
    {
      "cell_type": "code",
      "source": [
        "set1 = {1, 2, 3, 4, 5}\n",
        "set1.add(6)\n",
        "print(set1)"
      ],
      "metadata": {
        "id": "RAi2dE8gaQb9"
      },
      "execution_count": null,
      "outputs": []
    },
    {
      "cell_type": "markdown",
      "source": [
        "3. Remove an element from a set."
      ],
      "metadata": {
        "id": "j_qYsnIkYe1o"
      }
    },
    {
      "cell_type": "code",
      "source": [
        "set1 = {1, 2, 3, 4, 5}\n",
        "set1.remove(3)\n",
        "print(set1)"
      ],
      "metadata": {
        "id": "cv7oGZGeaXay"
      },
      "execution_count": null,
      "outputs": []
    },
    {
      "cell_type": "markdown",
      "source": [
        "4. Check if an element exists in a set."
      ],
      "metadata": {
        "id": "DP9DaAjAYe5h"
      }
    },
    {
      "cell_type": "code",
      "source": [
        "set1 = {1, 2, 3, 4, 5}\n",
        "element = 3\n",
        "print(element in set1)"
      ],
      "metadata": {
        "id": "VCRlv_2Qaj56"
      },
      "execution_count": null,
      "outputs": []
    },
    {
      "cell_type": "markdown",
      "source": [
        "5. Find the length of a set without using the `len()` function."
      ],
      "metadata": {
        "id": "a4c0ohDaYe8m"
      }
    },
    {
      "cell_type": "code",
      "source": [
        "set1 = {1, 2, 3, 4, 5}\n",
        "count = 0\n",
        "for i in set1:\n",
        "    count += 1\n",
        "print(i)"
      ],
      "metadata": {
        "id": "l5vZ--15au3Z"
      },
      "execution_count": null,
      "outputs": []
    },
    {
      "cell_type": "markdown",
      "source": [
        "6. Clear all elements from a set."
      ],
      "metadata": {
        "id": "uLcTXOepYe_x"
      }
    },
    {
      "cell_type": "code",
      "source": [
        "set1 = {1, 2, 3, 4, 5}\n",
        "set1.clear()\n",
        "print(set1)"
      ],
      "metadata": {
        "id": "eMByuLTZa_qm"
      },
      "execution_count": null,
      "outputs": []
    },
    {
      "cell_type": "markdown",
      "source": [
        "7. Create a set of even numbers from 1 to 10."
      ],
      "metadata": {
        "id": "WmNi8aabYfC_"
      }
    },
    {
      "cell_type": "code",
      "source": [
        "even_set = {x for x in range(1, 11) if x % 2 == 0}\n",
        "print(even_set)"
      ],
      "metadata": {
        "id": "DasuhNI5bMfJ"
      },
      "execution_count": null,
      "outputs": []
    },
    {
      "cell_type": "markdown",
      "source": [
        "8. Create a set of odd numbers from 1 to 10.c"
      ],
      "metadata": {
        "id": "-Exks-ndYfGb"
      }
    },
    {
      "cell_type": "code",
      "source": [
        "even_set = {x for x in range(1, 11) if x % 2 != 0}\n",
        "print(even_set)"
      ],
      "metadata": {
        "id": "Khv8lqxMbejj"
      },
      "execution_count": null,
      "outputs": []
    },
    {
      "cell_type": "markdown",
      "source": [
        "\n",
        "9. Find the union of two sets."
      ],
      "metadata": {
        "id": "F9gxfT5IYfKb"
      }
    },
    {
      "cell_type": "code",
      "source": [
        "set1 = {1, 2, 3}\n",
        "set2 = {3, 4, 5}\n",
        "u_set = set1.union(set2)\n",
        "print(u_set)"
      ],
      "metadata": {
        "id": "HGusMmIlbzNA"
      },
      "execution_count": null,
      "outputs": []
    },
    {
      "cell_type": "markdown",
      "source": [
        "10. Find the intersection of two sets."
      ],
      "metadata": {
        "id": "X0fgPtCkYfNG"
      }
    },
    {
      "cell_type": "code",
      "source": [
        "set1 = {1, 2, 3}\n",
        "set2 = {3, 4, 5}\n",
        "inter_set = set1 &set2\n",
        "print(inter_set)"
      ],
      "metadata": {
        "id": "nXtCJ4kIb3MV"
      },
      "execution_count": null,
      "outputs": []
    },
    {
      "cell_type": "markdown",
      "source": [
        "11. Find the difference between two sets."
      ],
      "metadata": {
        "id": "yAVH5xtMYfQI"
      }
    },
    {
      "cell_type": "code",
      "source": [
        "set1 = {1, 2, 3}\n",
        "set2 = {3, 4, 5}\n",
        "diff_set = set1.difference(set2)\n",
        "print(diff_set)\n"
      ],
      "metadata": {
        "id": "JD9uNpI7cKuT"
      },
      "execution_count": null,
      "outputs": []
    },
    {
      "cell_type": "markdown",
      "source": [
        "12. Check if a set is a subset of another set."
      ],
      "metadata": {
        "id": "7zxYeKTpYfTk"
      }
    },
    {
      "cell_type": "code",
      "source": [
        "set1 = {1, 2, 3}\n",
        "set2 = {1, 2, 3, 4, 5}\n",
        "print(set1.issubset(set2))"
      ],
      "metadata": {
        "id": "WvGBLs2ncWTT"
      },
      "execution_count": null,
      "outputs": []
    },
    {
      "cell_type": "markdown",
      "source": [
        "13. Check if a set is a superset of another set."
      ],
      "metadata": {
        "id": "KvKnaY1-YfX1"
      }
    },
    {
      "cell_type": "code",
      "source": [
        "set1 = {1, 2, 3, 4, 5}\n",
        "set2 = {1, 2, 3}\n",
        "print(set1.issuperset(set2))"
      ],
      "metadata": {
        "id": "d3tQF7zdcgoM"
      },
      "execution_count": null,
      "outputs": []
    },
    {
      "cell_type": "markdown",
      "source": [
        "14. Create a set from a list."
      ],
      "metadata": {
        "id": "xULpcZWDYfbH"
      }
    },
    {
      "cell_type": "code",
      "source": [
        "list1 = [1, 2, 3, 4, 5]\n",
        "set1 = set(list1)\n",
        "print(set1)"
      ],
      "metadata": {
        "id": "KrKYBYWJpzT7"
      },
      "execution_count": null,
      "outputs": []
    },
    {
      "cell_type": "markdown",
      "source": [
        "15. Convert a set to a list."
      ],
      "metadata": {
        "id": "tHzljxc3Yfer"
      }
    },
    {
      "cell_type": "code",
      "source": [
        "list1 ={1, 2, 3, 4, 5}\n",
        "set1 = list(list1)\n",
        "print(set1)"
      ],
      "metadata": {
        "id": "JiEKqVzmp7kD"
      },
      "execution_count": null,
      "outputs": []
    },
    {
      "cell_type": "markdown",
      "source": [
        "16. Remove a random element from a set."
      ],
      "metadata": {
        "id": "zkrL5oR0Yfh_"
      }
    },
    {
      "cell_type": "code",
      "source": [
        "set1 = {1, 2, 3, 4, 5}\n",
        "element = set1.pop()\n",
        "print(element)"
      ],
      "metadata": {
        "id": "5NAbVyvCqE4T"
      },
      "execution_count": null,
      "outputs": []
    },
    {
      "cell_type": "markdown",
      "source": [
        "17. Pop an element from a set."
      ],
      "metadata": {
        "id": "GbbKSPdsYflg"
      }
    },
    {
      "cell_type": "code",
      "source": [
        "set1 = {1, 2, 3, 4, 5}\n",
        "element = set1.pop()\n",
        "print(element)"
      ],
      "metadata": {
        "id": "gPHLXEgSqTgC"
      },
      "execution_count": null,
      "outputs": []
    },
    {
      "cell_type": "markdown",
      "source": [
        "18. Check if two sets have no elements in common."
      ],
      "metadata": {
        "id": "6OsGdc32Yfop"
      }
    },
    {
      "cell_type": "code",
      "source": [
        "set1 = {1, 2, 3}\n",
        "set2 = {4, 5, 6}\n",
        "print(set1.isdisjoint(set2))"
      ],
      "metadata": {
        "id": "U9n_1XTIq7Po"
      },
      "execution_count": null,
      "outputs": []
    },
    {
      "cell_type": "markdown",
      "source": [
        "19. Find the symmetric difference between two sets."
      ],
      "metadata": {
        "id": "hDmgkEKWYfsW"
      }
    },
    {
      "cell_type": "code",
      "source": [
        "set1 = {1, 2, 3}\n",
        "set2 = {3, 4, 5}\n",
        "sym_diff = set1.symmetric_difference(set2)\n",
        "print(sym_diff)"
      ],
      "metadata": {
        "id": "IGTJAe-Erf-J"
      },
      "execution_count": null,
      "outputs": []
    },
    {
      "cell_type": "markdown",
      "source": [
        "20. Update a set with elements from another set."
      ],
      "metadata": {
        "id": "YAqJliQcYfv8"
      }
    },
    {
      "cell_type": "code",
      "source": [
        "set1 = {1, 2, 3}\n",
        "set2 = {3, 4, 5}\n",
        "set1.update(set2)\n",
        "print(set1)"
      ],
      "metadata": {
        "id": "dwSJVpO2ryA_"
      },
      "execution_count": null,
      "outputs": []
    },
    {
      "cell_type": "markdown",
      "source": [
        "21. Create a set of the first 5 prime numbers."
      ],
      "metadata": {
        "id": "rAAoDQqGYfzT"
      }
    },
    {
      "cell_type": "markdown",
      "source": [
        "22. Check if two sets are identical."
      ],
      "metadata": {
        "id": "_WA_gPPCYf22"
      }
    },
    {
      "cell_type": "code",
      "source": [
        "set1 = {1, 2, 3}\n",
        "set2 = {3, 2, 1}\n",
        "print(set1 == set2)"
      ],
      "metadata": {
        "id": "CZmrOPHqsMoe"
      },
      "execution_count": null,
      "outputs": []
    },
    {
      "cell_type": "markdown",
      "source": [
        "23. Create a frozen set."
      ],
      "metadata": {
        "id": "k7ro_bBaYf6c"
      }
    },
    {
      "cell_type": "code",
      "source": [
        "set1 = {1, 2, 3, 4, 5}\n",
        "frz_set = frozenset(set1)\n",
        "print(set1)"
      ],
      "metadata": {
        "id": "fZuSilfJsPzQ"
      },
      "execution_count": null,
      "outputs": []
    },
    {
      "cell_type": "markdown",
      "source": [
        "24. Check if a set is disjoint with another set."
      ],
      "metadata": {
        "id": "0XH-ib-WYf_E"
      }
    },
    {
      "cell_type": "code",
      "source": [
        "set1 = {1, 2, 3}\n",
        "set2 = {4, 5, 6}\n",
        "print(set1.isdisjoint(set2))"
      ],
      "metadata": {
        "id": "Uz0Vbesnscv5"
      },
      "execution_count": null,
      "outputs": []
    },
    {
      "cell_type": "markdown",
      "source": [
        "25. Create a set of squares of numbers from 1 to 5."
      ],
      "metadata": {
        "id": "mrfLBf2NYgCZ"
      }
    },
    {
      "cell_type": "code",
      "source": [
        "set1 = {x**2 for x in range(1, 6)}\n",
        "print(set1)"
      ],
      "metadata": {
        "id": "yQIs3d3ks3F_"
      },
      "execution_count": null,
      "outputs": []
    },
    {
      "cell_type": "markdown",
      "source": [
        "26. Filter out all even numbers from a set."
      ],
      "metadata": {
        "id": "yTjsGR54YgGs"
      }
    },
    {
      "cell_type": "code",
      "source": [
        "set1 = {1, 2, 3, 4, 5, 6}\n",
        "filt_set = {x for x in set1 if x % 2 != 0}\n",
        "print(filt_set)"
      ],
      "metadata": {
        "id": "tZKaxHAUs-r8"
      },
      "execution_count": null,
      "outputs": []
    },
    {
      "cell_type": "markdown",
      "source": [
        "27. Multiply all elements in a set by 2."
      ],
      "metadata": {
        "id": "HYCkJitQYgKW"
      }
    },
    {
      "cell_type": "code",
      "source": [
        "set1 = {1, 2, 3, 4, 5}\n",
        "multi = {x * 2 for x in set1}\n",
        "print(multi)"
      ],
      "metadata": {
        "id": "Tc6VsajltKX_"
      },
      "execution_count": null,
      "outputs": []
    },
    {
      "cell_type": "markdown",
      "source": [
        "28. Create a set of random numbers."
      ],
      "metadata": {
        "id": "M-UIHeRRYgOO"
      }
    },
    {
      "cell_type": "code",
      "source": [
        "import random\n",
        "random1 = set()\n",
        "for i in range(10):\n",
        "    random1.add(random.randint(1, 100))\n",
        "print(random1)"
      ],
      "metadata": {
        "id": "i5RWNrR_tWIV"
      },
      "execution_count": null,
      "outputs": []
    },
    {
      "cell_type": "markdown",
      "source": [
        "29. Check if a set is empty."
      ],
      "metadata": {
        "id": "nZHqTVaBYgR_"
      }
    },
    {
      "cell_type": "code",
      "source": [
        "set1 = ()\n",
        "print(not bool(set1))"
      ],
      "metadata": {
        "id": "tXbJPyJmuYZu"
      },
      "execution_count": null,
      "outputs": []
    },
    {
      "cell_type": "markdown",
      "source": [
        "\n",
        "\n",
        "30. Create a nested set (hint: use frozenset)."
      ],
      "metadata": {
        "id": "BEjWBNw1YgVk"
      }
    },
    {
      "cell_type": "code",
      "source": [
        "set1 = {frozenset({1,2}), frozenset({3,4,5}), frozenset({6 ,7,8})}\n",
        "print(set1)"
      ],
      "metadata": {
        "id": "gjeWXIekuqSn"
      },
      "execution_count": null,
      "outputs": []
    },
    {
      "cell_type": "markdown",
      "source": [
        "31. Remove an element from a set using the discard method."
      ],
      "metadata": {
        "id": "LHpVXcp6YgZz"
      }
    },
    {
      "cell_type": "code",
      "source": [
        "set1 = {1, 2, 3, 4, 5}\n",
        "set1.discard(3)\n",
        "print(set1)"
      ],
      "metadata": {
        "id": "dy18MA5jvqkt"
      },
      "execution_count": null,
      "outputs": []
    },
    {
      "cell_type": "markdown",
      "source": [
        "32. Compare two sets."
      ],
      "metadata": {
        "id": "fyVKyH4KYgdk"
      }
    },
    {
      "cell_type": "code",
      "source": [
        "set1 = {1,2,3}\n",
        "set2 = {1,2,3}\n",
        "print(set1 == set2)"
      ],
      "metadata": {
        "id": "eHGbC2WmvxHi"
      },
      "execution_count": null,
      "outputs": []
    },
    {
      "cell_type": "markdown",
      "source": [
        "33. Create a set from a string."
      ],
      "metadata": {
        "id": "-PTUomS0YghV"
      }
    },
    {
      "cell_type": "code",
      "source": [],
      "metadata": {
        "id": "cKtp2aMVwWpq"
      },
      "execution_count": null,
      "outputs": []
    },
    {
      "cell_type": "markdown",
      "source": [
        "34. Convert a set of strings to a set of integers."
      ],
      "metadata": {
        "id": "26NdQ3ivYgle"
      }
    },
    {
      "cell_type": "code",
      "source": [
        "str1 = {\"1\", \"2\", \"3\", \"4\", \"5\"}\n",
        "int1 = {int(string) for string in str1}\n",
        "print(int1)"
      ],
      "metadata": {
        "id": "jcBLo1cGw1xV"
      },
      "execution_count": null,
      "outputs": []
    },
    {
      "cell_type": "markdown",
      "source": [
        "35. Convert a set of integers to a set of strings."
      ],
      "metadata": {
        "id": "dumGFlzMYgpC"
      }
    },
    {
      "cell_type": "code",
      "source": [
        "int1 = [1, 2, 3, 4, 5]\n",
        "str1 = {str(integer) for integer in int1}\n",
        "print(str1)"
      ],
      "metadata": {
        "id": "WEHNdODOw3Mx"
      },
      "execution_count": null,
      "outputs": []
    },
    {
      "cell_type": "markdown",
      "source": [
        "36. Create a set from a tuple."
      ],
      "metadata": {
        "id": "fYjW1jyKYgtA"
      }
    },
    {
      "cell_type": "code",
      "source": [
        "tup1 = (1, 2, 3, 4, 5)\n",
        "set1 = set(tup1)\n",
        "print(set1)"
      ],
      "metadata": {
        "id": "E7nP1Mmgx0ou"
      },
      "execution_count": null,
      "outputs": []
    },
    {
      "cell_type": "markdown",
      "source": [
        "37. Convert a set to a tuple."
      ],
      "metadata": {
        "id": "ifRWR5clYgx2"
      }
    },
    {
      "cell_type": "code",
      "source": [
        "set1 = {1, 2, 3, 4, 5}\n",
        "tup1 = tuple(set1)\n",
        "print(tup1)"
      ],
      "metadata": {
        "id": "6wWNsUYqyNCt"
      },
      "execution_count": null,
      "outputs": []
    },
    {
      "cell_type": "markdown",
      "source": [
        "38. Find the maximum value in a set."
      ],
      "metadata": {
        "id": "wWEtGmu2Yg1o"
      }
    },
    {
      "cell_type": "code",
      "source": [
        "set1 = {1, 2, 3, 4, 5}\n",
        "set2 = max(set1)\n",
        "print(set2)"
      ],
      "metadata": {
        "id": "zh305n2eyYLA"
      },
      "execution_count": null,
      "outputs": []
    },
    {
      "cell_type": "markdown",
      "source": [
        "39. Find the minimum value in a set."
      ],
      "metadata": {
        "id": "OyER3e3ZYg5m"
      }
    },
    {
      "cell_type": "code",
      "source": [
        "set1 = {1, 2, 3, 4, 5}\n",
        "set2 = min(set1)\n",
        "print(set2)"
      ],
      "metadata": {
        "id": "mudiiF6YyYyF"
      },
      "execution_count": null,
      "outputs": []
    },
    {
      "cell_type": "markdown",
      "source": [
        "40. Create a set from user input."
      ],
      "metadata": {
        "id": "5ndpwhPLYg9O"
      }
    },
    {
      "cell_type": "code",
      "source": [],
      "metadata": {
        "id": "W0AUMdLAGWO7"
      },
      "execution_count": null,
      "outputs": []
    },
    {
      "cell_type": "markdown",
      "source": [
        "41. Check if the intersection of two sets is empty."
      ],
      "metadata": {
        "id": "OmFoRXeqYhBp"
      }
    },
    {
      "cell_type": "code",
      "source": [
        "set1 = {1, 2, 3, 4, 5}\n",
        "set2 = {4, 5, 6, 7, 8}\n",
        "print(set1.intersection(set2))"
      ],
      "metadata": {
        "id": "FcLnIG3myplQ"
      },
      "execution_count": null,
      "outputs": []
    },
    {
      "cell_type": "markdown",
      "source": [
        "42. Create a set of the first 5 Fibonacci numbers."
      ],
      "metadata": {
        "id": "fFUCJ0Q6YhFJ"
      }
    },
    {
      "cell_type": "code",
      "source": [
        "def generate_fibonacci(n):\n",
        "    fibonacci_set = set()\n",
        "    a, b = 0, 1\n",
        "    count = 0\n",
        "    while count < n:\n",
        "        fibonacci_set.add(a)\n",
        "        a, b = b, a + b\n",
        "        count += 1\n",
        "    return fibonacci_set\n",
        "generate_fibonacci(5)"
      ],
      "metadata": {
        "id": "F1T0ao4s2ScG"
      },
      "execution_count": null,
      "outputs": []
    },
    {
      "cell_type": "markdown",
      "source": [
        "43. Remove duplicates from a list using sets."
      ],
      "metadata": {
        "id": "s5q09E6PYhIu"
      }
    },
    {
      "cell_type": "code",
      "source": [
        "lis = [1, 2, 3, 4, 2, 3, 5, 6, 6]\n",
        "set1 = list(set(lis))\n",
        "print(set1)"
      ],
      "metadata": {
        "id": "4MGx99Bd2pW-"
      },
      "execution_count": null,
      "outputs": []
    },
    {
      "cell_type": "markdown",
      "source": [
        "44. Check if two sets have the same elements, regardless of their count."
      ],
      "metadata": {
        "id": "Mf3zbEqsYhMo"
      }
    },
    {
      "cell_type": "code",
      "source": [
        "set1 = {1,2, 3,4}\n",
        "set2 = {4, 3, 2,1,1}\n",
        "print(set1 == set2)"
      ],
      "metadata": {
        "id": "6Ktqcr0l3Vky"
      },
      "execution_count": null,
      "outputs": []
    },
    {
      "cell_type": "markdown",
      "source": [
        "45. Create a set of the first `n` powers of 2."
      ],
      "metadata": {
        "id": "YNOYEXFbYhQV"
      }
    },
    {
      "cell_type": "code",
      "source": [
        "power2 = set()\n",
        "for i in range(n):\n",
        "    power2.add(2 ** i)\n",
        "print(power2)"
      ],
      "metadata": {
        "id": "ycFgD1Po3bqo"
      },
      "execution_count": null,
      "outputs": []
    },
    {
      "cell_type": "markdown",
      "source": [
        "46. Find the common elements between a set and a list."
      ],
      "metadata": {
        "id": "wdazZQvRYhT1"
      }
    },
    {
      "cell_type": "code",
      "source": [
        "set1 = {1, 2, 3, 4, 5}\n",
        "lis1 = [4, 5, 6, 7, 8]\n",
        "element = set1.intersection(lis1)"
      ],
      "metadata": {
        "id": "LF2kJZfR3vj6"
      },
      "execution_count": null,
      "outputs": []
    },
    {
      "cell_type": "markdown",
      "source": [
        "47. Create a set of the first `n` triangular numbers."
      ],
      "metadata": {
        "id": "1FrkDl1aYhXL"
      }
    },
    {
      "cell_type": "code",
      "source": [
        "def trian_num(n):\n",
        "  triangular_set = set()\n",
        "  for i in range(1, n + 1):\n",
        "    triangular_set.add(int(0.5 * i * (i + 1)))\n",
        "  return triangular_set\n",
        "trian_num(10)"
      ],
      "metadata": {
        "id": "MPeJ4-2j4DOP"
      },
      "execution_count": null,
      "outputs": []
    },
    {
      "cell_type": "markdown",
      "source": [
        "48. Check if a set contains another set as a subset."
      ],
      "metadata": {
        "id": "F2-MLL5IYha3"
      }
    },
    {
      "cell_type": "code",
      "source": [
        "set1 = {1, 2, 3, 4, 5}\n",
        "set2 = {2, 3}\n",
        "print(set2.issubset(set1))"
      ],
      "metadata": {
        "id": "mOd_F-YX49UW"
      },
      "execution_count": null,
      "outputs": []
    },
    {
      "cell_type": "markdown",
      "source": [
        "49. Create a set of alternating 1s and 0s of length `n`."
      ],
      "metadata": {
        "id": "n81_4UFRYhen"
      }
    },
    {
      "cell_type": "code",
      "source": [
        "def zeros_ones(n):\n",
        "  return set(i % 2 for i in range(n))\n",
        "zeros_ones(3)"
      ],
      "metadata": {
        "id": "-UVgEdXD5-R5"
      },
      "execution_count": null,
      "outputs": []
    },
    {
      "cell_type": "markdown",
      "source": [
        "50. Merge multiple sets into one."
      ],
      "metadata": {
        "id": "mpmr_q4XYhiT"
      }
    },
    {
      "cell_type": "code",
      "source": [
        "set1 = {1, 2, 3}\n",
        "set2 = {3, 4, 5}\n",
        "set3 = {5, 6, 7}\n",
        "merged = set1.union(set2, set3)\n",
        "print(merged)"
      ],
      "metadata": {
        "id": "pcYQTGIJ5ioX"
      },
      "execution_count": null,
      "outputs": []
    }
  ]
}